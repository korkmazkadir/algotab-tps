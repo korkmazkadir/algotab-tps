{
 "cells": [
  {
   "cell_type": "markdown",
   "id": "7f3d1add",
   "metadata": {},
   "source": [
    "# Hello World"
   ]
  },
  {
   "cell_type": "code",
   "execution_count": 1,
   "id": "a044f45d",
   "metadata": {},
   "outputs": [
    {
     "data": {
      "application/javascript": [
       "IPython.notebook.set_autosave_interval(5000)"
      ]
     },
     "metadata": {},
     "output_type": "display_data"
    },
    {
     "name": "stdout",
     "output_type": "stream",
     "text": [
      "Autosaving every 5 seconds\n",
      "Use Chrome browser\n",
      "First, you should run this cell\n"
     ]
    }
   ],
   "source": [
    "# You can import bibTableau.py as described here\n",
    "from bibTableau import *\n",
    "\n",
    "#jupyter notebook autosave interval\n",
    "%autosave 5\n",
    "\n",
    "print(\"Use Chrome browser\")\n",
    "print(\"First, you should run this cell\")\n"
   ]
  },
  {
   "cell_type": "markdown",
   "id": "569f1227",
   "metadata": {},
   "source": [
    "# Excercise-1"
   ]
  },
  {
   "cell_type": "markdown",
   "id": "222780b6",
   "metadata": {},
   "source": [
    "Use the provided tool: https://interstices.info/les-algorithmes-de-tri/\n",
    "to answer the questions.\n",
    "\n",
    "\n"
   ]
  },
  {
   "cell_type": "markdown",
   "id": "b135f03b",
   "metadata": {},
   "source": [
    "# Exercice 1: Selection Sort"
   ]
  },
  {
   "cell_type": "code",
   "execution_count": null,
   "id": "1c33b1ba",
   "metadata": {},
   "outputs": [],
   "source": [
    "\n",
    "\n",
    "# t is a table\n",
    "# n length of the table\n",
    "def triSelection(t,n):\n",
    "    for i in range(1,n):\n",
    "        min=0\n",
    "        for j in range(i,n):\n",
    "            if (t[min])\n",
    "            \n",
    "\n",
    "    \n",
    "\n",
    "    \n",
    "\n",
    "#A simple input set\n",
    "t=[3,-2,9,9,21,13,-8,-2]\n",
    "print(\"Before sorting\\t:\", t)\n",
    "triSelection(t, 8)\n",
    "print(\"After sorting\\t:\", t)\n",
    "        \n",
    "        \n",
    "    \n",
    "    \n",
    "    \n",
    "    \n",
    "\n",
    "    \n",
    "    "
   ]
  },
  {
   "cell_type": "markdown",
   "id": "5c9cfe0c",
   "metadata": {},
   "source": [
    "# Exercice 2: Insertion Sort"
   ]
  },
  {
   "cell_type": "code",
   "execution_count": null,
   "id": "70c34ad9",
   "metadata": {},
   "outputs": [],
   "source": [
    "\n",
    "\n",
    "\n",
    "# t is a table\n",
    "# n length of the table\n",
    "def triInsertion (t, n):\n",
    "    # complete the function\n",
    "\n",
    "\n",
    "    \n",
    "\n",
    "        \n",
    "#A simple input set\n",
    "t=[3,-2,9,9,21,13,-8,-2]\n",
    "print(\"Before sorting\\t:\", t)\n",
    "triInsertion(t, 8)\n",
    "print(\"After sorting\\t:\", t)\n",
    "\n"
   ]
  },
  {
   "cell_type": "markdown",
   "id": "223761eb",
   "metadata": {},
   "source": [
    "# Exercice 3: testTris"
   ]
  },
  {
   "cell_type": "code",
   "execution_count": null,
   "id": "a2c4d1e1",
   "metadata": {},
   "outputs": [],
   "source": [
    "from bibTableau import *\n",
    "\n",
    "import time\n",
    "\n",
    "\n",
    "def tempsExecution (f, t, n): # Calcule, en millisecondes, le temps d'exécution de f(t, n)\n",
    "    debut = time.process_time()\n",
    "    f(t, n) # appel de la fonction passée en argument \n",
    "    fin = time.process_time()\n",
    "    return round((fin - debut)*1000)\n",
    "\n",
    "def cloner(t, n):\n",
    "    clone = creerTableau(n)\n",
    "    for i in range (n):\n",
    "        clone[i] = t[i]\n",
    "    return clone\n",
    "\n",
    "\n",
    "def affichagesAppelsTris(t,nbElem):\n",
    "        tClone = cloner(t, nbElem)\n",
    "        print(\"--->millisec pour triSelection: \", end = '') \n",
    "        print(tempsExecution(triSelection, t, nbElem))\n",
    "        print(\"--->millisec pour triInsertion: \", end = '')\n",
    "        print(tempsExecution(triInsertion, tClone, nbElem))    \n",
    "\n",
    "\n",
    "def testsTris(tailleMin, tailleMax):\n",
    "    nbElem = tailleMin\n",
    "    while(nbElem <=tailleMax):\n",
    "        ## test sur tableau aléatoire\n",
    "        t = creerTableauAleatoire(nbElem,-1000,1000) \n",
    "        print(\"Tableau aléatoire de taille\", nbElem)\n",
    "        affichagesAppelsTris(t,nbElem)\n",
    "        ## test sur tableau croissant (déjà trié)\n",
    "        t = creerTableauMonotone(nbElem,1,-1000, 1000)\n",
    "        print(\"Tableau trié croissant de taille\", nbElem)\n",
    "        affichagesAppelsTris(t,nbElem)\n",
    "        ## test sur tableau décroissant \n",
    "        t = creerTableauMonotone(nbElem,-1,-1000, 1000)\n",
    "        print(\"Tableau trié décroissant de taille\", nbElem)\n",
    "        affichagesAppelsTris(t,nbElem)\n",
    "        print()\n",
    "        nbElem = nbElem*10\n",
    "        \n",
    "        \n",
    "testsTris(10, 10000)\n"
   ]
  },
  {
   "cell_type": "code",
   "execution_count": null,
   "id": "ccb7230d",
   "metadata": {},
   "outputs": [],
   "source": []
  }
 ],
 "metadata": {
  "kernelspec": {
   "display_name": "Python 3",
   "language": "python",
   "name": "python3"
  },
  "language_info": {
   "codemirror_mode": {
    "name": "ipython",
    "version": 3
   },
   "file_extension": ".py",
   "mimetype": "text/x-python",
   "name": "python",
   "nbconvert_exporter": "python",
   "pygments_lexer": "ipython3",
   "version": "3.8.5"
  }
 },
 "nbformat": 4,
 "nbformat_minor": 5
}
