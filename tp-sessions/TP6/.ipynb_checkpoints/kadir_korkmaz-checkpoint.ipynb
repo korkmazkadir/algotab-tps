{
 "cells": [
  {
   "cell_type": "markdown",
   "id": "7f3d1add",
   "metadata": {},
   "source": [
    "# Hello World"
   ]
  },
  {
   "cell_type": "code",
   "execution_count": null,
   "id": "a044f45d",
   "metadata": {},
   "outputs": [],
   "source": [
    "# You can import bibTableau.py as described here\n",
    "from bibTableau import *\n",
    "\n",
    "#jupyter notebook autosave interval\n",
    "%autosave 5\n",
    "\n",
    "print(\"Use Chrome browser\")\n",
    "print(\"First, you should run this cell\")\n"
   ]
  },
  {
   "cell_type": "markdown",
   "id": "569f1227",
   "metadata": {},
   "source": [
    "# Excercise-1"
   ]
  },
  {
   "cell_type": "markdown",
   "id": "222780b6",
   "metadata": {},
   "source": [
    "Use the provided tool: https://interstices.info/les-algorithmes-de-tri/\n",
    "to answer the questions.\n",
    "\n",
    "\n"
   ]
  },
  {
   "cell_type": "markdown",
   "id": "b135f03b",
   "metadata": {},
   "source": [
    "# Exercice 1: Selection Sort"
   ]
  },
  {
   "cell_type": "code",
   "execution_count": 8,
   "id": "1c33b1ba",
   "metadata": {},
   "outputs": [
    {
     "name": "stdout",
     "output_type": "stream",
     "text": [
      "Before sorting\t: [3, -2, 9, 9, 21, 13, -8, -2]\n",
      "After sorting\t: [-8, -2, -2, 3, 9, 9, 13, 21]\n"
     ]
    }
   ],
   "source": [
    "\n",
    "\n",
    "# t is a table\n",
    "# startIndex in the table\n",
    "# n length of the table \n",
    "# return the index of the minumum element\n",
    "def findMin(t, startIndex, n):\n",
    "    minIndex=startIndex\n",
    "    for i in range(startIndex, n):\n",
    "        if t[i] < t[minIndex]:\n",
    "            minIndex=i\n",
    "    return minIndex\n",
    "\n",
    "\n",
    "# t is a table\n",
    "# i an index\n",
    "# j an index\n",
    "# replace replaces places of t[i] and t[j]\n",
    "def swap(t, i, j):\n",
    "    temp=t[i]\n",
    "    t[i]=t[j]\n",
    "    t[j]=temp\n",
    "    \n",
    "    \n",
    "# t is a table\n",
    "# n length of the table\n",
    "def triSelection(t,n):\n",
    "    for i in range(n):\n",
    "        minIndex=findMin(t, i, n)\n",
    "        if i != minIndex:\n",
    "            swap(t, i , minIndex)\n",
    "\n",
    "    \n",
    "\n",
    "#A simple input set\n",
    "t=[3,-2,9,9,21,13,-8,-2]\n",
    "print(\"Before sorting\\t:\", t)\n",
    "triSelection(t, 8)\n",
    "print(\"After sorting\\t:\", t)\n",
    "        \n",
    "        \n",
    "    \n",
    "    \n",
    "    \n",
    "    \n",
    "\n",
    "    \n",
    "    "
   ]
  },
  {
   "cell_type": "markdown",
   "id": "5c9cfe0c",
   "metadata": {},
   "source": [
    "# Exercice 2: Insertion Sort"
   ]
  },
  {
   "cell_type": "code",
   "execution_count": 7,
   "id": "70c34ad9",
   "metadata": {},
   "outputs": [
    {
     "name": "stdout",
     "output_type": "stream",
     "text": [
      "Before sorting\t: [3, -2, 9, 9, 21, 13, -8, -2]\n",
      "After sorting\t: [-8, -2, -2, 3, 9, 9, 13, 21]\n"
     ]
    }
   ],
   "source": [
    "\n",
    "\n",
    "# t is a table\n",
    "# n length of the table\n",
    "def triInsertion (t, n): # O(n^2)\n",
    "    for i in range(1, n): # les i precedents sont tries\n",
    "        x = t[i]\n",
    "        # on va inserer x dans le debut du tableau trie\n",
    "        j = i-1\n",
    "        while j >= 0 and t[j] > x:\n",
    "            t[j+1] = t[j]\n",
    "            j -= 1\n",
    "        t[j+1] = x\n",
    "    \n",
    "\n",
    "        \n",
    "#A simple input set\n",
    "t=[3,-2,9,9,21,13,-8,-2]\n",
    "print(\"Before sorting\\t:\", t)\n",
    "triInsertion(t, 8)\n",
    "print(\"After sorting\\t:\", t)\n",
    "\n"
   ]
  },
  {
   "cell_type": "markdown",
   "id": "223761eb",
   "metadata": {},
   "source": [
    "# Exercice 3: testTris"
   ]
  },
  {
   "cell_type": "code",
   "execution_count": 6,
   "id": "a2c4d1e1",
   "metadata": {},
   "outputs": [
    {
     "name": "stdout",
     "output_type": "stream",
     "text": [
      "Tableau aléatoire de taille 10\n",
      "--->millisec pour triSelection: 0\n",
      "--->millisec pour triInsertion: 0\n",
      "Tableau trié croissant de taille 10\n",
      "--->millisec pour triSelection: 0\n",
      "--->millisec pour triInsertion: 0\n",
      "Tableau trié décroissant de taille 10\n",
      "--->millisec pour triSelection: 0\n",
      "--->millisec pour triInsertion: 0\n",
      "\n",
      "Tableau aléatoire de taille 100\n",
      "--->millisec pour triSelection: 0\n",
      "--->millisec pour triInsertion: 0\n",
      "Tableau trié croissant de taille 100\n",
      "--->millisec pour triSelection: 0\n",
      "--->millisec pour triInsertion: 0\n",
      "Tableau trié décroissant de taille 100\n",
      "--->millisec pour triSelection: 1\n",
      "--->millisec pour triInsertion: 1\n",
      "\n",
      "Tableau aléatoire de taille 1000\n",
      "--->millisec pour triSelection: 55\n",
      "--->millisec pour triInsertion: 59\n",
      "Tableau trié croissant de taille 1000\n",
      "--->millisec pour triSelection: 39\n",
      "--->millisec pour triInsertion: 0\n",
      "Tableau trié décroissant de taille 1000\n",
      "--->millisec pour triSelection: 44\n",
      "--->millisec pour triInsertion: 90\n",
      "\n",
      "Tableau aléatoire de taille 10000\n",
      "--->millisec pour triSelection: 4516\n",
      "--->millisec pour triInsertion: 4661\n",
      "Tableau trié croissant de taille 10000\n",
      "--->millisec pour triSelection: 4260\n",
      "--->millisec pour triInsertion: 3\n",
      "Tableau trié décroissant de taille 10000\n",
      "--->millisec pour triSelection: 4348\n",
      "--->millisec pour triInsertion: 9529\n",
      "\n"
     ]
    }
   ],
   "source": [
    "from bibTableau import *\n",
    "\n",
    "import time\n",
    "\n",
    "\n",
    "def tempsExecution (f, t, n): # Calcule, en millisecondes, le temps d'exécution de f(t, n)\n",
    "    debut = time.process_time()\n",
    "    f(t, n) # appel de la fonction passée en argument \n",
    "    fin = time.process_time()\n",
    "    return round((fin - debut)*1000)\n",
    "\n",
    "def cloner(t, n):\n",
    "    clone = creerTableau(n)\n",
    "    for i in range (n):\n",
    "        clone[i] = t[i]\n",
    "    return clone\n",
    "\n",
    "\n",
    "def affichagesAppelsTris(t,nbElem):\n",
    "        tClone = cloner(t, nbElem)\n",
    "        print(\"--->millisec pour triSelection: \", end = '') \n",
    "        print(tempsExecution(triSelection, t, nbElem))\n",
    "        print(\"--->millisec pour triInsertion: \", end = '')\n",
    "        print(tempsExecution(triInsertion, tClone, nbElem))    \n",
    "\n",
    "\n",
    "def testsTris(tailleMin, tailleMax):\n",
    "    nbElem = tailleMin\n",
    "    while(nbElem <=tailleMax):\n",
    "        ## test sur tableau aléatoire\n",
    "        t = creerTableauAleatoire(nbElem,-1000,1000) \n",
    "        print(\"Tableau aléatoire de taille\", nbElem)\n",
    "        affichagesAppelsTris(t,nbElem)\n",
    "        ## test sur tableau croissant (déjà trié)\n",
    "        t = creerTableauMonotone(nbElem,1,-1000, 1000)\n",
    "        print(\"Tableau trié croissant de taille\", nbElem)\n",
    "        affichagesAppelsTris(t,nbElem)\n",
    "        ## test sur tableau décroissant \n",
    "        t = creerTableauMonotone(nbElem,-1,-1000, 1000)\n",
    "        print(\"Tableau trié décroissant de taille\", nbElem)\n",
    "        affichagesAppelsTris(t,nbElem)\n",
    "        print()\n",
    "        nbElem = nbElem*10\n",
    "        \n",
    "        \n",
    "testsTris(10, 10000)\n"
   ]
  },
  {
   "cell_type": "code",
   "execution_count": null,
   "id": "ccb7230d",
   "metadata": {},
   "outputs": [],
   "source": [
    "\n",
    "def echanger(t,i,j):\n",
    "  tmp = t[i]\n",
    "  t[i] = t[j]\n",
    "  t[j] = tmp    \n",
    "        \n",
    "\n",
    "def triBulle(t, n):\n",
    "    for i in range(n-1, 0, -1):\n",
    "        for j in  range(i):\n",
    "            if t[j] > t[j+1]:\n",
    "                echanger(t, j, j+1)\n",
    "\n",
    "\n",
    "\n",
    "#A simple input set\n",
    "t=[3,-2,9,9,21,13,-8,-2]\n",
    "print(\"Before sorting\\t:\", t)\n",
    "triBulle(t, 8)\n",
    "print(\"After sorting\\t:\", t)\n",
    "\n"
   ]
  }
 ],
 "metadata": {
  "kernelspec": {
   "display_name": "Python 3",
   "language": "python",
   "name": "python3"
  },
  "language_info": {
   "codemirror_mode": {
    "name": "ipython",
    "version": 3
   },
   "file_extension": ".py",
   "mimetype": "text/x-python",
   "name": "python",
   "nbconvert_exporter": "python",
   "pygments_lexer": "ipython3",
   "version": "3.8.5"
  }
 },
 "nbformat": 4,
 "nbformat_minor": 5
}
