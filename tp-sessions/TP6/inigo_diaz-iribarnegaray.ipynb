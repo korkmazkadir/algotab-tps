{
 "cells": [
  {
   "cell_type": "markdown",
   "id": "7f3d1add",
   "metadata": {},
   "source": [
    "# Hello World"
   ]
  },
  {
   "cell_type": "code",
   "execution_count": 30,
   "id": "a044f45d",
   "metadata": {},
   "outputs": [
    {
     "data": {
      "application/javascript": [
       "IPython.notebook.set_autosave_interval(5000)"
      ]
     },
     "metadata": {},
     "output_type": "display_data"
    },
    {
     "name": "stdout",
     "output_type": "stream",
     "text": [
      "Autosaving every 5 seconds\n",
      "Use Chrome browser\n",
      "First, you should run this cell\n"
     ]
    }
   ],
   "source": [
    "# You can import bibTableau.py as described here\n",
    "from bibTableau import *\n",
    "\n",
    "#jupyter notebook autosave interval\n",
    "%autosave 5\n",
    "\n",
    "print(\"Use Chrome browser\")\n",
    "print(\"First, you should run this cell\")\n"
   ]
  },
  {
   "cell_type": "markdown",
   "id": "569f1227",
   "metadata": {},
   "source": [
    "# Excercise-1"
   ]
  },
  {
   "cell_type": "markdown",
   "id": "222780b6",
   "metadata": {},
   "source": [
    "Use the provided tool: https://interstices.info/les-algorithmes-de-tri/\n",
    "to answer the questions.\n",
    "\n",
    "\n"
   ]
  },
  {
   "cell_type": "markdown",
   "id": "b135f03b",
   "metadata": {},
   "source": [
    "# Exercice 1: Selection Sort"
   ]
  },
  {
   "cell_type": "code",
   "execution_count": 27,
   "id": "1c33b1ba",
   "metadata": {},
   "outputs": [
    {
     "name": "stdout",
     "output_type": "stream",
     "text": [
      "Before sorting\t: [3, -2, 9, 9, 21, 13, -8, -2]\n",
      "After sorting\t: [-8, -2, -2, 3, 9, 9, 13, 21]\n",
      "Before sorting\t: []\n",
      "After sorting\t: []\n"
     ]
    }
   ],
   "source": [
    "\n",
    "\n",
    "# t is a table\n",
    "# n length of the table\n",
    "def triSelection(t,n):\n",
    "    # complete the function\n",
    "    for i in range(n-1):\n",
    "        min_index = i\n",
    "        min = t[min_index]\n",
    "        for j in range(i+1,n):\n",
    "            if t[j]<min:\n",
    "                min_index = j\n",
    "                min = t[min_index]\n",
    "        t[min_index] = t[i]\n",
    "        t[i] = min\n",
    "\n",
    "    \n",
    "\n",
    "    \n",
    "\n",
    "#A simple input set\n",
    "t=[3,-2,9,9,21,13,-8,-2]\n",
    "print(\"Before sorting\\t:\", t)\n",
    "triSelection(t, 8)\n",
    "print(\"After sorting\\t:\", t)\n",
    "t=[]\n",
    "print(\"Before sorting\\t:\", t)\n",
    "triSelection(t, 0)\n",
    "print(\"After sorting\\t:\", t)\n",
    "        \n",
    "        \n",
    "    \n",
    "    \n",
    "    \n",
    "    \n",
    "\n",
    "    \n",
    "    "
   ]
  },
  {
   "cell_type": "markdown",
   "id": "5c9cfe0c",
   "metadata": {},
   "source": [
    "# Exercice 2: Insertion Sort"
   ]
  },
  {
   "cell_type": "code",
   "execution_count": 24,
   "id": "70c34ad9",
   "metadata": {},
   "outputs": [
    {
     "name": "stdout",
     "output_type": "stream",
     "text": [
      "Before sorting\t: [3, -2, 9, 9, 21, 13, -8, -2]\n",
      "After sorting\t: [-8, -2, -2, 3, 9, 9, 13, 21]\n",
      "Before sorting\t: []\n",
      "After sorting\t: []\n"
     ]
    }
   ],
   "source": [
    "\n",
    "\n",
    "\n",
    "# t is a table\n",
    "# n length of the table\n",
    "def triInsertion (t, n):\n",
    "    # complete the function\n",
    "    for i in range(1,n):\n",
    "        temp = t[i]\n",
    "        j = i\n",
    "        while j>0 and temp<t[j-1]:\n",
    "            t[j] = t[j-1]\n",
    "            j -= 1\n",
    "        t[j] = temp\n",
    "    \n",
    "\n",
    "\n",
    "    \n",
    "\n",
    "        \n",
    "#A simple input set\n",
    "t=[3,-2,9,9,21,13,-8,-2]\n",
    "print(\"Before sorting\\t:\", t)\n",
    "triInsertion(t, 8)\n",
    "print(\"After sorting\\t:\", t)\n",
    "t=[]\n",
    "print(\"Before sorting\\t:\", t)\n",
    "triInsertion(t, 0)\n",
    "print(\"After sorting\\t:\", t)\n",
    "\n"
   ]
  },
  {
   "cell_type": "markdown",
   "id": "223761eb",
   "metadata": {},
   "source": [
    "# Exercice 3: testTris"
   ]
  },
  {
   "cell_type": "code",
   "execution_count": 31,
   "id": "a2c4d1e1",
   "metadata": {},
   "outputs": [
    {
     "name": "stdout",
     "output_type": "stream",
     "text": [
      "Tableau aléatoire de taille 10\n",
      "--->millisec pour triSelection: 0\n",
      "--->millisec pour triInsertion: 0\n",
      "Tableau trié croissant de taille 10\n",
      "--->millisec pour triSelection: 0\n",
      "--->millisec pour triInsertion: 0\n",
      "Tableau trié décroissant de taille 10\n",
      "--->millisec pour triSelection: 0\n",
      "--->millisec pour triInsertion: 0\n",
      "\n",
      "Tableau aléatoire de taille 100\n",
      "--->millisec pour triSelection: 0\n",
      "--->millisec pour triInsertion: 0\n",
      "Tableau trié croissant de taille 100\n",
      "--->millisec pour triSelection: 0\n",
      "--->millisec pour triInsertion: 0\n",
      "Tableau trié décroissant de taille 100\n",
      "--->millisec pour triSelection: 0\n",
      "--->millisec pour triInsertion: 1\n",
      "\n",
      "Tableau aléatoire de taille 1000\n",
      "--->millisec pour triSelection: 32\n",
      "--->millisec pour triInsertion: 49\n",
      "Tableau trié croissant de taille 1000\n",
      "--->millisec pour triSelection: 33\n",
      "--->millisec pour triInsertion: 0\n",
      "Tableau trié décroissant de taille 1000\n",
      "--->millisec pour triSelection: 44\n",
      "--->millisec pour triInsertion: 107\n",
      "\n",
      "Tableau aléatoire de taille 10000\n",
      "--->millisec pour triSelection: 3762\n",
      "--->millisec pour triInsertion: 5891\n",
      "Tableau trié croissant de taille 10000\n",
      "--->millisec pour triSelection: 3888\n",
      "--->millisec pour triInsertion: 2\n",
      "Tableau trié décroissant de taille 10000\n",
      "--->millisec pour triSelection: 4115\n",
      "--->millisec pour triInsertion: 11021\n",
      "\n"
     ]
    }
   ],
   "source": [
    "from bibTableau import *\n",
    "\n",
    "import time\n",
    "\n",
    "\n",
    "def tempsExecution (f, t, n): # Calcule, en millisecondes, le temps d'exécution de f(t, n)\n",
    "    debut = time.process_time()\n",
    "    f(t, n) # appel de la fonction passée en argument \n",
    "    fin = time.process_time()\n",
    "    return round((fin - debut)*1000)\n",
    "\n",
    "def cloner(t, n):\n",
    "    clone = creerTableau(n)\n",
    "    for i in range (n):\n",
    "        clone[i] = t[i]\n",
    "    return clone\n",
    "\n",
    "\n",
    "def affichagesAppelsTris(t,nbElem):\n",
    "        tClone = cloner(t, nbElem)\n",
    "        print(\"--->millisec pour triSelection: \", end = '') \n",
    "        print(tempsExecution(triSelection, t, nbElem))\n",
    "        print(\"--->millisec pour triInsertion: \", end = '')\n",
    "        print(tempsExecution(triInsertion, tClone, nbElem))    \n",
    "\n",
    "\n",
    "def testsTris(tailleMin, tailleMax):\n",
    "    nbElem = tailleMin\n",
    "    while(nbElem <=tailleMax):\n",
    "        ## test sur tableau aléatoire\n",
    "        t = creerTableauAleatoire(nbElem,-1000,1000) \n",
    "        print(\"Tableau aléatoire de taille\", nbElem)\n",
    "        affichagesAppelsTris(t,nbElem)\n",
    "        ## test sur tableau croissant (déjà trié)\n",
    "        t = creerTableauMonotone(nbElem,1,-1000, 1000)\n",
    "        print(\"Tableau trié croissant de taille\", nbElem)\n",
    "        affichagesAppelsTris(t,nbElem)\n",
    "        ## test sur tableau décroissant \n",
    "        t = creerTableauMonotone(nbElem,-1,-1000, 1000)\n",
    "        print(\"Tableau trié décroissant de taille\", nbElem)\n",
    "        affichagesAppelsTris(t,nbElem)\n",
    "        print()\n",
    "        nbElem = nbElem*10\n",
    "        \n",
    "        \n",
    "testsTris(10, 10000)\n"
   ]
  },
  {
   "cell_type": "code",
   "execution_count": 35,
   "id": "ccb7230d",
   "metadata": {},
   "outputs": [
    {
     "name": "stdout",
     "output_type": "stream",
     "text": [
      "Before sorting\t: [3, -2, 9, 9, 21, 13, -8, -2]\n",
      "After sorting\t: [-8, -2, -2, 3, 9, 9, 13, 21]\n",
      "Before sorting\t: []\n",
      "After sorting\t: []\n"
     ]
    }
   ],
   "source": [
    "def triBulle(t,n):\n",
    "    for i in range(n-1):\n",
    "        for j in range(i,n):\n",
    "            if t[j]>t[j+1]:\n",
    "                temp = t[j]\n",
    "                t[j] = t[j+1]\n",
    "                t[j+1] = temp\n",
    "\n",
    "#A simple input set\n",
    "t=[3,-2,9,9,21,13,-8,-2]\n",
    "print(\"Before sorting\\t:\", t)\n",
    "triInsertion(t, 8)\n",
    "print(\"After sorting\\t:\", t)\n",
    "t=[]\n",
    "print(\"Before sorting\\t:\", t)\n",
    "triInsertion(t, 0)\n",
    "print(\"After sorting\\t:\", t)"
   ]
  }
 ],
 "metadata": {
  "kernelspec": {
   "display_name": "Python 3",
   "language": "python",
   "name": "python3"
  },
  "language_info": {
   "codemirror_mode": {
    "name": "ipython",
    "version": 3
   },
   "file_extension": ".py",
   "mimetype": "text/x-python",
   "name": "python",
   "nbconvert_exporter": "python",
   "pygments_lexer": "ipython3",
   "version": "3.8.5"
  }
 },
 "nbformat": 4,
 "nbformat_minor": 5
}
