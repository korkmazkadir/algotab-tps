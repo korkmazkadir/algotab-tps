{
 "cells": [
  {
   "cell_type": "markdown",
   "id": "7f3d1add",
   "metadata": {},
   "source": [
    "# Hello World"
   ]
  },
  {
   "cell_type": "code",
   "execution_count": 1,
   "id": "a044f45d",
   "metadata": {},
   "outputs": [
    {
     "data": {
      "application/javascript": [
       "IPython.notebook.set_autosave_interval(5000)"
      ]
     },
     "metadata": {},
     "output_type": "display_data"
    },
    {
     "name": "stdout",
     "output_type": "stream",
     "text": [
      "Autosaving every 5 seconds\n",
      "Use Chrome browser\n",
      "First, you should run this cell\n"
     ]
    }
   ],
   "source": [
    "# You can import bibTableau.py as described here\n",
    "from bibTableau import *\n",
    "\n",
    "#jupyter notebook autosave interval\n",
    "%autosave 5\n",
    "\n",
    "print(\"Use Chrome browser\")\n",
    "print(\"First, you should run this cell\")\n"
   ]
  },
  {
   "cell_type": "markdown",
   "id": "569f1227",
   "metadata": {},
   "source": [
    "# Excercise-1"
   ]
  },
  {
   "cell_type": "markdown",
   "id": "222780b6",
   "metadata": {},
   "source": [
    "Use the provided tool: https://interstices.info/les-algorithmes-de-tri/\n",
    "to answer the questions.\n",
    "\n",
    "\n"
   ]
  },
  {
   "cell_type": "markdown",
   "id": "b135f03b",
   "metadata": {},
   "source": [
    "# Exercice 1: Selection Sort"
   ]
  },
  {
   "cell_type": "code",
   "execution_count": 3,
   "id": "1c33b1ba",
   "metadata": {},
   "outputs": [
    {
     "ename": "IndentationError",
     "evalue": "expected an indented block (<ipython-input-3-a63231b7cbd5>, line 14)",
     "output_type": "error",
     "traceback": [
      "\u001b[0;36m  File \u001b[0;32m\"<ipython-input-3-a63231b7cbd5>\"\u001b[0;36m, line \u001b[0;32m14\u001b[0m\n\u001b[0;31m    t=[3,-2,9,9,21,13,-8,-2]\u001b[0m\n\u001b[0m                            ^\u001b[0m\n\u001b[0;31mIndentationError\u001b[0m\u001b[0;31m:\u001b[0m expected an indented block\n"
     ]
    }
   ],
   "source": [
    "\n",
    "\n",
    "# t is a table\n",
    "# n length of the table\n",
    "def triSelection(t,n):\n",
    "    # complete the function\n",
    "    for i in range (n):\n",
    "        \n",
    "    \n",
    "\n",
    "    \n",
    "\n",
    "    \n",
    "\n",
    "#A simple input set\n",
    "t=[3,-2,9,9,21,13,-8,-2]\n",
    "print(\"Before sorting\\t:\", t)\n",
    "triSelection(t, 8)\n",
    "print(\"After sorting\\t:\", t)\n",
    "        \n",
    "        \n",
    "    \n",
    "    \n",
    "    \n",
    "    \n",
    "\n",
    "    \n",
    "    "
   ]
  },
  {
   "cell_type": "markdown",
   "id": "5c9cfe0c",
   "metadata": {},
   "source": [
    "# Exercice 2: Insertion Sort"
   ]
  },
  {
   "cell_type": "code",
   "execution_count": 4,
   "id": "70c34ad9",
   "metadata": {},
   "outputs": [
    {
     "name": "stdout",
     "output_type": "stream",
     "text": [
      "Before sorting\t: [3, -2, 9, 9, 21, 13, -8, -2]\n",
      "After sorting\t: [-8, -2, -2, 3, 9, 9, 13, 21]\n"
     ]
    }
   ],
   "source": [
    "\n",
    "\n",
    "\n",
    "# t is a table\n",
    "# n length of the table\n",
    "def triInsertion (t, n):\n",
    "    # complete the function\n",
    "    for i in range (1,n):\n",
    "        x=t[i]\n",
    "        j=i-1\n",
    "        while j>=0 and t[j]>x:\n",
    "            t[j+1]=t[j]\n",
    "            j=j-1\n",
    "        t[j+1]=x\n",
    "\n",
    "\n",
    "    \n",
    "\n",
    "        \n",
    "#A simple input set\n",
    "t=[3,-2,9,9,21,13,-8,-2]\n",
    "print(\"Before sorting\\t:\", t)\n",
    "triInsertion(t, 8)\n",
    "print(\"After sorting\\t:\", t)\n",
    "\n"
   ]
  },
  {
   "cell_type": "markdown",
   "id": "223761eb",
   "metadata": {},
   "source": [
    "# Exercice 3: testTris"
   ]
  },
  {
   "cell_type": "code",
   "execution_count": 5,
   "id": "a2c4d1e1",
   "metadata": {},
   "outputs": [
    {
     "name": "stdout",
     "output_type": "stream",
     "text": [
      "Tableau aléatoire de taille 10\n",
      "--->millisec pour triSelection: "
     ]
    },
    {
     "ename": "NameError",
     "evalue": "name 'triSelection' is not defined",
     "output_type": "error",
     "traceback": [
      "\u001b[0;31m---------------------------------------------------------------------------\u001b[0m",
      "\u001b[0;31mNameError\u001b[0m                                 Traceback (most recent call last)",
      "\u001b[0;32m<ipython-input-5-6c8da65a1dc5>\u001b[0m in \u001b[0;36m<module>\u001b[0;34m\u001b[0m\n\u001b[1;32m     44\u001b[0m \u001b[0;34m\u001b[0m\u001b[0m\n\u001b[1;32m     45\u001b[0m \u001b[0;34m\u001b[0m\u001b[0m\n\u001b[0;32m---> 46\u001b[0;31m \u001b[0mtestsTris\u001b[0m\u001b[0;34m(\u001b[0m\u001b[0;36m10\u001b[0m\u001b[0;34m,\u001b[0m \u001b[0;36m10000\u001b[0m\u001b[0;34m)\u001b[0m\u001b[0;34m\u001b[0m\u001b[0;34m\u001b[0m\u001b[0m\n\u001b[0m",
      "\u001b[0;32m<ipython-input-5-6c8da65a1dc5>\u001b[0m in \u001b[0;36mtestsTris\u001b[0;34m(tailleMin, tailleMax)\u001b[0m\n\u001b[1;32m     31\u001b[0m         \u001b[0mt\u001b[0m \u001b[0;34m=\u001b[0m \u001b[0mcreerTableauAleatoire\u001b[0m\u001b[0;34m(\u001b[0m\u001b[0mnbElem\u001b[0m\u001b[0;34m,\u001b[0m\u001b[0;34m-\u001b[0m\u001b[0;36m1000\u001b[0m\u001b[0;34m,\u001b[0m\u001b[0;36m1000\u001b[0m\u001b[0;34m)\u001b[0m\u001b[0;34m\u001b[0m\u001b[0;34m\u001b[0m\u001b[0m\n\u001b[1;32m     32\u001b[0m         \u001b[0mprint\u001b[0m\u001b[0;34m(\u001b[0m\u001b[0;34m\"Tableau aléatoire de taille\"\u001b[0m\u001b[0;34m,\u001b[0m \u001b[0mnbElem\u001b[0m\u001b[0;34m)\u001b[0m\u001b[0;34m\u001b[0m\u001b[0;34m\u001b[0m\u001b[0m\n\u001b[0;32m---> 33\u001b[0;31m         \u001b[0maffichagesAppelsTris\u001b[0m\u001b[0;34m(\u001b[0m\u001b[0mt\u001b[0m\u001b[0;34m,\u001b[0m\u001b[0mnbElem\u001b[0m\u001b[0;34m)\u001b[0m\u001b[0;34m\u001b[0m\u001b[0;34m\u001b[0m\u001b[0m\n\u001b[0m\u001b[1;32m     34\u001b[0m         \u001b[0;31m## test sur tableau croissant (déjà trié)\u001b[0m\u001b[0;34m\u001b[0m\u001b[0;34m\u001b[0m\u001b[0;34m\u001b[0m\u001b[0m\n\u001b[1;32m     35\u001b[0m         \u001b[0mt\u001b[0m \u001b[0;34m=\u001b[0m \u001b[0mcreerTableauMonotone\u001b[0m\u001b[0;34m(\u001b[0m\u001b[0mnbElem\u001b[0m\u001b[0;34m,\u001b[0m\u001b[0;36m1\u001b[0m\u001b[0;34m,\u001b[0m\u001b[0;34m-\u001b[0m\u001b[0;36m1000\u001b[0m\u001b[0;34m,\u001b[0m \u001b[0;36m1000\u001b[0m\u001b[0;34m)\u001b[0m\u001b[0;34m\u001b[0m\u001b[0;34m\u001b[0m\u001b[0m\n",
      "\u001b[0;32m<ipython-input-5-6c8da65a1dc5>\u001b[0m in \u001b[0;36maffichagesAppelsTris\u001b[0;34m(t, nbElem)\u001b[0m\n\u001b[1;32m     20\u001b[0m         \u001b[0mtClone\u001b[0m \u001b[0;34m=\u001b[0m \u001b[0mcloner\u001b[0m\u001b[0;34m(\u001b[0m\u001b[0mt\u001b[0m\u001b[0;34m,\u001b[0m \u001b[0mnbElem\u001b[0m\u001b[0;34m)\u001b[0m\u001b[0;34m\u001b[0m\u001b[0;34m\u001b[0m\u001b[0m\n\u001b[1;32m     21\u001b[0m         \u001b[0mprint\u001b[0m\u001b[0;34m(\u001b[0m\u001b[0;34m\"--->millisec pour triSelection: \"\u001b[0m\u001b[0;34m,\u001b[0m \u001b[0mend\u001b[0m \u001b[0;34m=\u001b[0m \u001b[0;34m''\u001b[0m\u001b[0;34m)\u001b[0m\u001b[0;34m\u001b[0m\u001b[0;34m\u001b[0m\u001b[0m\n\u001b[0;32m---> 22\u001b[0;31m         \u001b[0mprint\u001b[0m\u001b[0;34m(\u001b[0m\u001b[0mtempsExecution\u001b[0m\u001b[0;34m(\u001b[0m\u001b[0mtriSelection\u001b[0m\u001b[0;34m,\u001b[0m \u001b[0mt\u001b[0m\u001b[0;34m,\u001b[0m \u001b[0mnbElem\u001b[0m\u001b[0;34m)\u001b[0m\u001b[0;34m)\u001b[0m\u001b[0;34m\u001b[0m\u001b[0;34m\u001b[0m\u001b[0m\n\u001b[0m\u001b[1;32m     23\u001b[0m         \u001b[0mprint\u001b[0m\u001b[0;34m(\u001b[0m\u001b[0;34m\"--->millisec pour triInsertion: \"\u001b[0m\u001b[0;34m,\u001b[0m \u001b[0mend\u001b[0m \u001b[0;34m=\u001b[0m \u001b[0;34m''\u001b[0m\u001b[0;34m)\u001b[0m\u001b[0;34m\u001b[0m\u001b[0;34m\u001b[0m\u001b[0m\n\u001b[1;32m     24\u001b[0m         \u001b[0mprint\u001b[0m\u001b[0;34m(\u001b[0m\u001b[0mtempsExecution\u001b[0m\u001b[0;34m(\u001b[0m\u001b[0mtriInsertion\u001b[0m\u001b[0;34m,\u001b[0m \u001b[0mtClone\u001b[0m\u001b[0;34m,\u001b[0m \u001b[0mnbElem\u001b[0m\u001b[0;34m)\u001b[0m\u001b[0;34m)\u001b[0m\u001b[0;34m\u001b[0m\u001b[0;34m\u001b[0m\u001b[0m\n",
      "\u001b[0;31mNameError\u001b[0m: name 'triSelection' is not defined"
     ]
    }
   ],
   "source": [
    "from bibTableau import *\n",
    "\n",
    "import time\n",
    "\n",
    "\n",
    "def tempsExecution (f, t, n): # Calcule, en millisecondes, le temps d'exécution de f(t, n)\n",
    "    debut = time.process_time()\n",
    "    f(t, n) # appel de la fonction passée en argument \n",
    "    fin = time.process_time()\n",
    "    return round((fin - debut)*1000)\n",
    "\n",
    "def cloner(t, n):\n",
    "    clone = creerTableau(n)\n",
    "    for i in range (n):\n",
    "        clone[i] = t[i]\n",
    "    return clone\n",
    "\n",
    "\n",
    "def affichagesAppelsTris(t,nbElem):\n",
    "        tClone = cloner(t, nbElem)\n",
    "        print(\"--->millisec pour triSelection: \", end = '') \n",
    "        print(tempsExecution(triSelection, t, nbElem))\n",
    "        print(\"--->millisec pour triInsertion: \", end = '')\n",
    "        print(tempsExecution(triInsertion, tClone, nbElem))    \n",
    "\n",
    "\n",
    "def testsTris(tailleMin, tailleMax):\n",
    "    nbElem = tailleMin\n",
    "    while(nbElem <=tailleMax):\n",
    "        ## test sur tableau aléatoire\n",
    "        t = creerTableauAleatoire(nbElem,-1000,1000) \n",
    "        print(\"Tableau aléatoire de taille\", nbElem)\n",
    "        affichagesAppelsTris(t,nbElem)\n",
    "        ## test sur tableau croissant (déjà trié)\n",
    "        t = creerTableauMonotone(nbElem,1,-1000, 1000)\n",
    "        print(\"Tableau trié croissant de taille\", nbElem)\n",
    "        affichagesAppelsTris(t,nbElem)\n",
    "        ## test sur tableau décroissant \n",
    "        t = creerTableauMonotone(nbElem,-1,-1000, 1000)\n",
    "        print(\"Tableau trié décroissant de taille\", nbElem)\n",
    "        affichagesAppelsTris(t,nbElem)\n",
    "        print()\n",
    "        nbElem = nbElem*10\n",
    "        \n",
    "        \n",
    "testsTris(10, 10000)\n"
   ]
  },
  {
   "cell_type": "code",
   "execution_count": 8,
   "id": "ccb7230d",
   "metadata": {},
   "outputs": [
    {
     "name": "stdout",
     "output_type": "stream",
     "text": [
      "Before sorting\t: [3, -2, 9, 9, 21, 13, -8, -2]\n",
      "After sorting\t: [-8, -2, -2, 3, 9, 9, 13, 21]\n"
     ]
    }
   ],
   "source": [
    "def triBulle(t,n):\n",
    "    for i in range (n-1,0,-1):\n",
    "        for j in range (i):\n",
    "            if t[j]>t[j+1]:\n",
    "                temp=t[j]\n",
    "                t[j]=t[j+1]\n",
    "                t[j+1]=temp\n",
    "    \n",
    "#A simple input set\n",
    "t=[3,-2,9,9,21,13,-8,-2]\n",
    "print(\"Before sorting\\t:\", t)\n",
    "triBulle(t, 8)\n",
    "print(\"After sorting\\t:\", t)"
   ]
  },
  {
   "cell_type": "code",
   "execution_count": null,
   "id": "97e0b0b0",
   "metadata": {},
   "outputs": [],
   "source": []
  }
 ],
 "metadata": {
  "kernelspec": {
   "display_name": "Python 3",
   "language": "python",
   "name": "python3"
  },
  "language_info": {
   "codemirror_mode": {
    "name": "ipython",
    "version": 3
   },
   "file_extension": ".py",
   "mimetype": "text/x-python",
   "name": "python",
   "nbconvert_exporter": "python",
   "pygments_lexer": "ipython3",
   "version": "3.8.5"
  }
 },
 "nbformat": 4,
 "nbformat_minor": 5
}
