{
 "cells": [
  {
   "cell_type": "markdown",
   "id": "elegant-bahamas",
   "metadata": {},
   "source": [
    "# Hello World (Run this cell first)"
   ]
  },
  {
   "cell_type": "code",
   "execution_count": 86,
   "id": "renewable-material",
   "metadata": {},
   "outputs": [
    {
     "data": {
      "application/javascript": [
       "IPython.notebook.set_autosave_interval(5000)"
      ]
     },
     "metadata": {},
     "output_type": "display_data"
    },
    {
     "name": "stdout",
     "output_type": "stream",
     "text": [
      "Autosaving every 5 seconds\n",
      "Hello World\n",
      "Use Google Chrome as browser otherwise you might have issues!!!!\n"
     ]
    }
   ],
   "source": [
    "# imports from bibTableau\n",
    "from bibTableau import *\n",
    "\n",
    "#jupyter notebook autosave interval\n",
    "%autosave 5\n",
    "\n",
    "print(\"Hello World\")\n",
    "print(\"Use Google Chrome as browser otherwise you might have issues!!!!\")"
   ]
  },
  {
   "cell_type": "markdown",
   "id": "final-visit",
   "metadata": {},
   "source": [
    "# Exercice 1: appartient(x,t,n,d,f)"
   ]
  },
  {
   "cell_type": "code",
   "execution_count": 87,
   "id": "amazing-accessory",
   "metadata": {},
   "outputs": [],
   "source": [
    "def appartient(x,t,n,d,f):\n",
    "    assert 0<=d<=f<n\n",
    "    for i in range(d,f+1):\n",
    "        if t[i]==x:\n",
    "            return True\n",
    "    return False"
   ]
  },
  {
   "cell_type": "markdown",
   "id": "purple-dallas",
   "metadata": {},
   "source": [
    "# Exercice 2: doubler(t,n)"
   ]
  },
  {
   "cell_type": "code",
   "execution_count": 88,
   "id": "opening-location",
   "metadata": {},
   "outputs": [],
   "source": [
    "def doubler(t,n):\n",
    "    for i in range(n):\n",
    "        t[i] *= 2"
   ]
  },
  {
   "cell_type": "markdown",
   "id": "looking-namibia",
   "metadata": {},
   "source": [
    "# Exercice 3: cumuler(t,n)"
   ]
  },
  {
   "cell_type": "code",
   "execution_count": 89,
   "id": "forward-track",
   "metadata": {},
   "outputs": [
    {
     "name": "stdout",
     "output_type": "stream",
     "text": [
      "True\n"
     ]
    }
   ],
   "source": [
    "def cumuler(t,n):\n",
    "    s = 0\n",
    "    for i in range(n):\n",
    "        s += t[i]\n",
    "        t[i] = s\n",
    "\n",
    "L = [1, -3, 12, -183]\n",
    "cumuler(L,len(L))\n",
    "print(L==[1, -2, 10, -173])"
   ]
  },
  {
   "cell_type": "markdown",
   "id": "raised-integration",
   "metadata": {},
   "source": [
    "# Exercice 4: renverser(t,n)"
   ]
  },
  {
   "cell_type": "code",
   "execution_count": 90,
   "id": "binary-costume",
   "metadata": {},
   "outputs": [
    {
     "name": "stdout",
     "output_type": "stream",
     "text": [
      "True\n"
     ]
    }
   ],
   "source": [
    "def renverser(t,n):\n",
    "    for i in range(n//2):\n",
    "        t[i], t[n-1-i] = t[n-1-i], t[i]\n",
    "\n",
    "\n",
    "L1 = creerTableauAleatoire(10,-100,100)\n",
    "L2 = L1.copy()\n",
    "renverser(L1,len(L1))\n",
    "print(L1==L2[::-1])"
   ]
  },
  {
   "cell_type": "markdown",
   "id": "bored-selection",
   "metadata": {},
   "source": [
    "# Exercice 5: ouLogique(t1,t2,n)"
   ]
  },
  {
   "cell_type": "code",
   "execution_count": 91,
   "id": "material-pilot",
   "metadata": {},
   "outputs": [],
   "source": [
    "def ouLogique(t1,t2,n):\n",
    "    t3 = creerTableau(n)\n",
    "    for i in range(n):\n",
    "        t3[i] = t1[i] or t2[i]\n",
    "    return t3"
   ]
  },
  {
   "cell_type": "markdown",
   "id": "metropolitan-indicator",
   "metadata": {},
   "source": [
    "# Exercice 6.TD3-2: moyenne(t,n)"
   ]
  },
  {
   "cell_type": "code",
   "execution_count": 92,
   "id": "modified-addiction",
   "metadata": {},
   "outputs": [],
   "source": [
    "def moyenne(t, n):\n",
    "    assert len(t)>=1, \"Array must contain at least 1 element.\"\n",
    "    s = 0\n",
    "    for i in range(n):\n",
    "        s += t[i]\n",
    "    return s/n"
   ]
  },
  {
   "cell_type": "markdown",
   "id": "subsequent-equality",
   "metadata": {},
   "source": [
    "# Exercice 6.TD3-3: substituer(t,n,x,y)"
   ]
  },
  {
   "cell_type": "code",
   "execution_count": 93,
   "id": "greatest-housing",
   "metadata": {},
   "outputs": [
    {
     "name": "stdout",
     "output_type": "stream",
     "text": [
      "True\n"
     ]
    }
   ],
   "source": [
    "def substituer(t,n,x,y):\n",
    "    for i in range(n):\n",
    "        if t[i]==x:\n",
    "            t[i] = y\n",
    "\n",
    "L=[2,1,2,7,3,5,1]\n",
    "substituer(L,7,1,8)\n",
    "print(L==[2,8,2,7,3,5,8])"
   ]
  },
  {
   "cell_type": "markdown",
   "id": "dirty-isolation",
   "metadata": {},
   "source": [
    "# Exercice 6.TD3-4: recherche(t,n,x)"
   ]
  },
  {
   "cell_type": "code",
   "execution_count": 94,
   "id": "express-longitude",
   "metadata": {},
   "outputs": [],
   "source": [
    "def recherche(t,n,x):\n",
    "    for i in range(n):\n",
    "        if t[i]==x:\n",
    "            return i\n",
    "    return -1"
   ]
  },
  {
   "cell_type": "markdown",
   "id": "false-underwear",
   "metadata": {},
   "source": [
    "# Exercice 6 .TD3-5: indiceMaximum(t,n)"
   ]
  },
  {
   "cell_type": "code",
   "execution_count": 95,
   "id": "sticky-region",
   "metadata": {},
   "outputs": [],
   "source": [
    "def indiceMaximum(t,n):\n",
    "    assert len(t)>=1, \"Array must contain at least 1 element.\"\n",
    "    ind, m = 0, t[0]\n",
    "    for i in range(1,n):\n",
    "        if t[i]>m:\n",
    "            ind, m = i, t[i]\n",
    "    return ind"
   ]
  },
  {
   "cell_type": "markdown",
   "id": "satisfactory-transformation",
   "metadata": {},
   "source": [
    "# Exercice 6.TD3-6: complementaire(t,n)"
   ]
  },
  {
   "cell_type": "code",
   "execution_count": 96,
   "id": "opponent-reynolds",
   "metadata": {},
   "outputs": [],
   "source": [
    "def complementaire(t,n):\n",
    "    for i in range(n):\n",
    "        t[i] = not t[i]"
   ]
  },
  {
   "cell_type": "markdown",
   "id": "polyphonic-malaysia",
   "metadata": {},
   "source": [
    "# Exercice 7: fibonacciTableau(n)"
   ]
  },
  {
   "cell_type": "code",
   "execution_count": 97,
   "id": "flush-timeline",
   "metadata": {},
   "outputs": [
    {
     "name": "stdout",
     "output_type": "stream",
     "text": [
      "True\n"
     ]
    }
   ],
   "source": [
    "def fibonacciTableau(n):\n",
    "    t = creerTableau(n)\n",
    "    if n>=1:\n",
    "        t[0] = 1\n",
    "    if n>=2:\n",
    "        t[1] = 1\n",
    "    for i in range(2,n):\n",
    "        t[i] = t[i-1]+t[i-2]\n",
    "    return t\n",
    "\n",
    "print(fibonacciTableau(10)==[1, 1, 2, 3, 5, 8, 13, 21, 34, 55])"
   ]
  },
  {
   "cell_type": "markdown",
   "id": "engaged-dairy",
   "metadata": {},
   "source": [
    "# Exercice complémentaire-1: uniformite(n)"
   ]
  },
  {
   "cell_type": "code",
   "execution_count": 98,
   "id": "aquatic-object",
   "metadata": {},
   "outputs": [
    {
     "name": "stdout",
     "output_type": "stream",
     "text": [
      "1: ****\n",
      "2: *****\n",
      "3: *****\n",
      "4: ***\n",
      "5: *\n",
      "6: **\n"
     ]
    }
   ],
   "source": [
    "def lancerDe():\n",
    "    return int(random.uniform(1,7))\n",
    "\n",
    "def uniformite(n):\n",
    "    t = creerTableau(6,0)\n",
    "    for i in range(n):\n",
    "        t[lancerDe()-1] += 1\n",
    "    for i in range(6):\n",
    "        print(f\"{i+1}: {t[i]*'*'}\")\n",
    "\n",
    "uniformite(20)"
   ]
  },
  {
   "cell_type": "markdown",
   "id": "nominated-think",
   "metadata": {},
   "source": [
    "# Exercice complémentaire-2: estTrie(t,n)"
   ]
  },
  {
   "cell_type": "code",
   "execution_count": 99,
   "id": "textile-transport",
   "metadata": {},
   "outputs": [
    {
     "name": "stdout",
     "output_type": "stream",
     "text": [
      "True\n",
      "True\n",
      "True\n",
      "True\n"
     ]
    }
   ],
   "source": [
    "def estTrie(t,n):\n",
    "    # the direction>0 means increasing and direction<0 means decreasing\n",
    "    # we start considering it is monotonous\n",
    "    # we will update the direction until it is no longer 0, then it will stay that way\n",
    "    direction = 0\n",
    "    for i in range(1,n):\n",
    "        if (t[i]-t[i-1])*direction<0:\n",
    "            return False\n",
    "        if direction==0:\n",
    "            direction = t[i]-t[i-1]\n",
    "    return True\n",
    "\n",
    "L = [1,1,2,2,1,3]\n",
    "print(estTrie(L,len(L))==False)\n",
    "L = [1,1,2,2,4,9]\n",
    "print(estTrie(L,len(L))==True)\n",
    "L = [3, 1, 2, 2, 1, 1]\n",
    "print(estTrie(L,len(L))==False)\n",
    "L = [9, 4, 2, 2, 1, 1]\n",
    "print(estTrie(L,len(L))==True)"
   ]
  },
  {
   "cell_type": "code",
   "execution_count": null,
   "id": "suited-corpus",
   "metadata": {},
   "outputs": [],
   "source": []
  },
  {
   "cell_type": "code",
   "execution_count": null,
   "id": "minus-burlington",
   "metadata": {},
   "outputs": [],
   "source": []
  },
  {
   "cell_type": "code",
   "execution_count": null,
   "id": "photographic-shoulder",
   "metadata": {},
   "outputs": [],
   "source": []
  }
 ],
 "metadata": {
  "kernelspec": {
   "display_name": "Python 3",
   "language": "python",
   "name": "python3"
  },
  "language_info": {
   "codemirror_mode": {
    "name": "ipython",
    "version": 3
   },
   "file_extension": ".py",
   "mimetype": "text/x-python",
   "name": "python",
   "nbconvert_exporter": "python",
   "pygments_lexer": "ipython3",
   "version": "3.8.5"
  }
 },
 "nbformat": 4,
 "nbformat_minor": 5
}
