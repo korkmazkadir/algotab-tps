{
 "cells": [
  {
   "cell_type": "markdown",
   "id": "elegant-bahamas",
   "metadata": {},
   "source": [
    "# Hello World (Run this cell first)"
   ]
  },
  {
   "cell_type": "code",
   "execution_count": 1,
   "id": "renewable-material",
   "metadata": {},
   "outputs": [
    {
     "data": {
      "application/javascript": [
       "IPython.notebook.set_autosave_interval(5000)"
      ]
     },
     "metadata": {},
     "output_type": "display_data"
    },
    {
     "name": "stdout",
     "output_type": "stream",
     "text": [
      "Autosaving every 5 seconds\n",
      "Hello World\n",
      "Use Google Chrome as browser otherwise you might have issues!!!!\n"
     ]
    }
   ],
   "source": [
    "# imports from bibTableau\n",
    "from bibTableau import *\n",
    "\n",
    "#jupyter notebook autosave interval\n",
    "%autosave 5\n",
    "\n",
    "print(\"Hello World\")\n",
    "print(\"Use Google Chrome as browser otherwise you might have issues!!!!\")\n",
    "\n"
   ]
  },
  {
   "cell_type": "markdown",
   "id": "final-visit",
   "metadata": {},
   "source": [
    "# Exercice 1: appartient(x,t,n,d,f)"
   ]
  },
  {
   "cell_type": "code",
   "execution_count": 17,
   "id": "amazing-accessory",
   "metadata": {},
   "outputs": [
    {
     "data": {
      "text/plain": [
       "True"
      ]
     },
     "execution_count": 17,
     "metadata": {},
     "output_type": "execute_result"
    }
   ],
   "source": [
    "def appartient (x,t,n,d,f):\n",
    "    for i in range (d,f+1):\n",
    "        if t[i]==x:\n",
    "            return True\n",
    "    return False\n",
    "appartient(2,[1,2,5,7],6,1,3)"
   ]
  },
  {
   "cell_type": "markdown",
   "id": "purple-dallas",
   "metadata": {},
   "source": [
    "# Exercice 2: doubler(t,n)"
   ]
  },
  {
   "cell_type": "code",
   "execution_count": 2,
   "id": "opening-location",
   "metadata": {},
   "outputs": [
    {
     "name": "stdout",
     "output_type": "stream",
     "text": [
      "[-804, -380, -199, 156, 175, 179, 273, 379, 671, 939]\n",
      "[-1608, -760, -398, 312, 350, 358, 546, 758, 1342, 1878]\n"
     ]
    }
   ],
   "source": [
    "from bibTableau import *\n",
    "\n",
    "def doubler(t,n):\n",
    "    for i in range (0,n):\n",
    "        t[i]=t[i]*2\n",
    "        \n",
    "t=creerTableauMonotone(10)\n",
    "print(t)\n",
    "doubler(t,10)\n",
    "print(t)\n"
   ]
  },
  {
   "cell_type": "markdown",
   "id": "looking-namibia",
   "metadata": {},
   "source": [
    "# Exercice 3: cumuler(t,n)"
   ]
  },
  {
   "cell_type": "code",
   "execution_count": 8,
   "id": "forward-track",
   "metadata": {},
   "outputs": [
    {
     "name": "stdout",
     "output_type": "stream",
     "text": [
      "[1, 2, 3, 4, 5, 6]\n",
      "[1, 3, 6, 10, 15, 21]\n"
     ]
    }
   ],
   "source": [
    "def cumuler(t,n):\n",
    "    x = 0\n",
    "    for i in range (n):\n",
    "        t[i] = x + t[i]\n",
    "        x = t[i]\n",
    "    return t[i]\n",
    "\n",
    "t = [1,2,3,4,5,6]\n",
    "print (t)\n",
    "cumuler(t,6)\n",
    "print(t)\n"
   ]
  },
  {
   "cell_type": "markdown",
   "id": "raised-integration",
   "metadata": {},
   "source": [
    "# Exercice 4: renverser(t,n)"
   ]
  },
  {
   "cell_type": "code",
   "execution_count": 7,
   "id": "binary-costume",
   "metadata": {},
   "outputs": [
    {
     "name": "stdout",
     "output_type": "stream",
     "text": [
      "[1, 2, 3, 4, 5, 6]\n",
      "[6, 5, 4, 3, 2, 1]\n"
     ]
    }
   ],
   "source": [
    "def renverser(t,n):\n",
    "    for i in range (0,n//2):\n",
    "        elementI=t[i]\n",
    "        t[i]=t[(n-1)-i]\n",
    "        t[(n-1)-i] = elementI\n",
    "t = [1,2,3,4,5,6]   \n",
    "print (t)\n",
    "renverser(t,6)\n",
    "print(t)"
   ]
  },
  {
   "cell_type": "markdown",
   "id": "bored-selection",
   "metadata": {},
   "source": [
    "# Exercice 5: ouLogique(t1,t2,n)"
   ]
  },
  {
   "cell_type": "code",
   "execution_count": 10,
   "id": "material-pilot",
   "metadata": {},
   "outputs": [
    {
     "name": "stdout",
     "output_type": "stream",
     "text": [
      "[True, True, False, False] [True, False, False, False]\n",
      "[True, True, False, False]\n"
     ]
    }
   ],
   "source": [
    "def ouLogique (t1,t2,n):\n",
    "    s = creerTableau(n)\n",
    "    for i in range(0,n):\n",
    "        s[i] = t1[i] or t2[i]\n",
    "    return s\n",
    "\n",
    "t1 = [True , True, False, False]\n",
    "t2 = [True , False, False, False]\n",
    "print (t1 , t2)\n",
    "print(ouLogique(t1,t2,4))\n",
    "\n",
    "\n"
   ]
  },
  {
   "cell_type": "markdown",
   "id": "metropolitan-indicator",
   "metadata": {},
   "source": [
    "# Exercice 6.TD3-2: moyenne(t,n)"
   ]
  },
  {
   "cell_type": "code",
   "execution_count": 12,
   "id": "modified-addiction",
   "metadata": {},
   "outputs": [
    {
     "name": "stdout",
     "output_type": "stream",
     "text": [
      "3.0\n"
     ]
    }
   ],
   "source": [
    "def moyenne(t,n):\n",
    "    result = 0 \n",
    "    for i in range (0,n):\n",
    "        result = result + t[i]\n",
    "    return result/n\n",
    "\n",
    "t=[1,2,3,4,5]\n",
    "print(moyenne(t,5))\n"
   ]
  },
  {
   "cell_type": "markdown",
   "id": "subsequent-equality",
   "metadata": {},
   "source": [
    "# Exercice 6.TD3-3: substituer(t,n,x,y)"
   ]
  },
  {
   "cell_type": "code",
   "execution_count": 16,
   "id": "greatest-housing",
   "metadata": {},
   "outputs": [
    {
     "name": "stdout",
     "output_type": "stream",
     "text": [
      "[10, 2, 3, 10, 5, 6, 10, 8]\n"
     ]
    }
   ],
   "source": [
    "def substituer(t,n,x,y):\n",
    "    for i in range(n):\n",
    "        if(t[i]==x):\n",
    "            t[i]=y\n",
    "    return t\n",
    "            \n",
    "t=[4,2,3,4,5,6,4,8]\n",
    "print(substituer(t,8,4,10))\n",
    "\n",
    "\n",
    "\n",
    "\n"
   ]
  },
  {
   "cell_type": "markdown",
   "id": "dirty-isolation",
   "metadata": {},
   "source": [
    "# Exercice 6.TD3-4: recherche(t,n,x)"
   ]
  },
  {
   "cell_type": "code",
   "execution_count": null,
   "id": "express-longitude",
   "metadata": {},
   "outputs": [],
   "source": [
    "def rechercher(t,n,x):\n",
    "    for i in range (n):\n",
    "        if (t[i]==x):\n",
    "            return i\n",
    "    return -1\n",
    "            \n",
    "\n"
   ]
  },
  {
   "cell_type": "markdown",
   "id": "false-underwear",
   "metadata": {},
   "source": [
    "# Exercice 6 .TD3-5: indiceMaximum(t,n)"
   ]
  },
  {
   "cell_type": "code",
   "execution_count": 18,
   "id": "sticky-region",
   "metadata": {},
   "outputs": [
    {
     "name": "stdout",
     "output_type": "stream",
     "text": [
      "3\n"
     ]
    }
   ],
   "source": [
    "def indiceMaximum(t,n):\n",
    "    largest = t[0]\n",
    "    largest_index=0\n",
    "    for i in range(n):\n",
    "        if (t[i]>largest):\n",
    "            largest = t[i]\n",
    "            largest_index=i\n",
    "    return largest_index\n",
    "\n",
    "t = [1,4,8,9,2,7,3]\n",
    "print(indiceMaximum(t,7))\n",
    "\n",
    "\n",
    "\n",
    "\n"
   ]
  },
  {
   "cell_type": "markdown",
   "id": "satisfactory-transformation",
   "metadata": {},
   "source": [
    "# Exercice 6.TD3-6: complementaire(t,n)"
   ]
  },
  {
   "cell_type": "code",
   "execution_count": null,
   "id": "opponent-reynolds",
   "metadata": {},
   "outputs": [],
   "source": [
    "def complementire(t,n):\n",
    "    for i in range (n):\n",
    "        t[i]= not t[i]\n",
    "    \n",
    "\n"
   ]
  },
  {
   "cell_type": "markdown",
   "id": "polyphonic-malaysia",
   "metadata": {},
   "source": [
    "# Exercice 7: fibonacciTableau(n)"
   ]
  },
  {
   "cell_type": "code",
   "execution_count": null,
   "id": "flush-timeline",
   "metadata": {},
   "outputs": [],
   "source": [
    "\n",
    "\n",
    "\n",
    "\n",
    "\n",
    "\n",
    "\n",
    "\n"
   ]
  },
  {
   "cell_type": "markdown",
   "id": "engaged-dairy",
   "metadata": {},
   "source": [
    "# Exercice complémentaire-1: uniformite(n)"
   ]
  },
  {
   "cell_type": "code",
   "execution_count": 18,
   "id": "aquatic-object",
   "metadata": {},
   "outputs": [],
   "source": [
    "\n",
    "def lancerDe():\n",
    "    return int(random.uniform(1,7))\n",
    "\n",
    "\n",
    "\n",
    "\n",
    "\n"
   ]
  },
  {
   "cell_type": "markdown",
   "id": "nominated-think",
   "metadata": {},
   "source": [
    "# Exercice complémentaire-2: estTrie(t,n)"
   ]
  },
  {
   "cell_type": "code",
   "execution_count": null,
   "id": "textile-transport",
   "metadata": {},
   "outputs": [],
   "source": [
    "\n",
    "\n",
    "\n",
    "\n",
    "\n",
    "\n",
    "\n",
    "\n",
    "\n",
    "\n",
    "\n"
   ]
  }
 ],
 "metadata": {
  "kernelspec": {
   "display_name": "Python 3",
   "language": "python",
   "name": "python3"
  },
  "language_info": {
   "codemirror_mode": {
    "name": "ipython",
    "version": 3
   },
   "file_extension": ".py",
   "mimetype": "text/x-python",
   "name": "python",
   "nbconvert_exporter": "python",
   "pygments_lexer": "ipython3",
   "version": "3.8.5"
  }
 },
 "nbformat": 4,
 "nbformat_minor": 5
}
