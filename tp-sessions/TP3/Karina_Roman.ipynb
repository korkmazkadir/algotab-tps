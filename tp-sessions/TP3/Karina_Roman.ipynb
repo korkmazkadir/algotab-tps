{
 "cells": [
  {
   "cell_type": "markdown",
   "id": "elegant-bahamas",
   "metadata": {},
   "source": [
    "# Hello World (Run this cell first)"
   ]
  },
  {
   "cell_type": "code",
   "execution_count": 1,
   "id": "renewable-material",
   "metadata": {},
   "outputs": [
    {
     "data": {
      "application/javascript": [
       "IPython.notebook.set_autosave_interval(5000)"
      ]
     },
     "metadata": {},
     "output_type": "display_data"
    },
    {
     "name": "stdout",
     "output_type": "stream",
     "text": [
      "Autosaving every 5 seconds\n",
      "Hello World\n",
      "Use Google Chrome as browser otherwise you might have issues!!!!\n"
     ]
    }
   ],
   "source": [
    "# imports from bibTableau\n",
    "from bibTableau import *\n",
    "\n",
    "#jupyter notebook autosave interval\n",
    "%autosave 5\n",
    "\n",
    "print(\"Hello World\")\n",
    "print(\"Use Google Chrome as browser otherwise you might have issues!!!!\")\n",
    "\n"
   ]
  },
  {
   "cell_type": "markdown",
   "id": "final-visit",
   "metadata": {},
   "source": [
    "# Exercice 1: appartient(x,t,n,d,f)"
   ]
  },
  {
   "cell_type": "code",
   "execution_count": 5,
   "id": "amazing-accessory",
   "metadata": {},
   "outputs": [
    {
     "data": {
      "text/plain": [
       "True"
      ]
     },
     "execution_count": 5,
     "metadata": {},
     "output_type": "execute_result"
    }
   ],
   "source": [
    "def appartient(x,t,n,d,f):\n",
    "    for i in range (d,f+1):\n",
    "        if t[i]==x:\n",
    "            return True\n",
    "    return False\n",
    "\n",
    "appartient(4,[1,2,3,4,5,6],6,3,5)"
   ]
  },
  {
   "cell_type": "markdown",
   "id": "purple-dallas",
   "metadata": {},
   "source": [
    "# Exercice 2: doubler(t,n)"
   ]
  },
  {
   "cell_type": "code",
   "execution_count": 21,
   "id": "opening-location",
   "metadata": {},
   "outputs": [
    {
     "name": "stdout",
     "output_type": "stream",
     "text": [
      "[-833, -664, -622, -508, -460, 17, 86, 222, 524, 916]\n",
      "[-1666, -1328, -1244, -1016, -920, 34, 172, 444, 1048, 1832]\n"
     ]
    }
   ],
   "source": [
    "from bibTableau import *\n",
    "\n",
    "def doubler(t,n):\n",
    "    for i in range(n):\n",
    "        t[i]=t[i]*2\n",
    "\n",
    "        \n",
    "t = creerTableauMonotone(10)\n",
    "print(t)\n",
    "\n",
    "doubler(t,10)\n",
    "print(t)\n"
   ]
  },
  {
   "cell_type": "markdown",
   "id": "looking-namibia",
   "metadata": {},
   "source": [
    "# Exercice 3: cumuler(t,n)"
   ]
  },
  {
   "cell_type": "code",
   "execution_count": 22,
   "id": "forward-track",
   "metadata": {},
   "outputs": [
    {
     "name": "stdout",
     "output_type": "stream",
     "text": [
      "[-906, -831, -510, -434, -269, -170, 147, 194, 451, 951]\n",
      "[-906, -1737, -2247, -2681, -2950, -3120, -2973, -2779, -2328, -1377]\n"
     ]
    }
   ],
   "source": [
    "from bibTableau import *\n",
    "\n",
    "def cumuler(t,n):\n",
    "    for i in range(1,n):\n",
    "        t[i]=t[i-1]+t[i]\n",
    "\n",
    "\n",
    "t = creerTableauMonotone(10)\n",
    "print(t)\n",
    "\n",
    "cumuler(t,10)\n",
    "print(t)\n"
   ]
  },
  {
   "cell_type": "markdown",
   "id": "raised-integration",
   "metadata": {},
   "source": [
    "# Exercice 4: renverser(t,n)"
   ]
  },
  {
   "cell_type": "code",
   "execution_count": 37,
   "id": "binary-costume",
   "metadata": {},
   "outputs": [
    {
     "name": "stdout",
     "output_type": "stream",
     "text": [
      "[3, 5, 8, 9, 11, 12, 15]\n",
      "[15, 12, 11, 9, 8, 5, 3]\n"
     ]
    }
   ],
   "source": [
    "from bibTableau import *\n",
    "\n",
    "def renverser(t,n):\n",
    "    for i in range(0,n//2):\n",
    "        elemI=t[i]\n",
    "        t[i]=t[(n-1)-i]\n",
    "        t[(n-1)-i]=elemI\n",
    "\n",
    "\n",
    "\n",
    "t = [3,5,8,9,11,12,15]\n",
    "print(t)\n",
    "\n",
    "renverser(t,7)\n",
    "print(t)\n"
   ]
  },
  {
   "cell_type": "markdown",
   "id": "bored-selection",
   "metadata": {},
   "source": [
    "# Exercice 5: ouLogique(t1,t2,n)"
   ]
  },
  {
   "cell_type": "code",
   "execution_count": 41,
   "id": "material-pilot",
   "metadata": {},
   "outputs": [
    {
     "name": "stdout",
     "output_type": "stream",
     "text": [
      "[True, False, True, True]\n"
     ]
    }
   ],
   "source": [
    "def ouLogique(t1,t2,n):\n",
    "    t=creerTableau(n)\n",
    "    for i in range(n):\n",
    "        if(t1[i]==True or t2[i]==True):\n",
    "            t[i]=True\n",
    "        else:\n",
    "            t[i]=False\n",
    "    return t\n",
    "\n",
    "\n",
    "t1=[True,False,True,True]\n",
    "t2=[False,False,False,True]\n",
    "\n",
    "print(ouLogique(t1,t2,4))\n"
   ]
  },
  {
   "cell_type": "markdown",
   "id": "metropolitan-indicator",
   "metadata": {},
   "source": [
    "# Exercice 6.TD3-2: moyenne(t,n)"
   ]
  },
  {
   "cell_type": "code",
   "execution_count": 43,
   "id": "modified-addiction",
   "metadata": {},
   "outputs": [
    {
     "name": "stdout",
     "output_type": "stream",
     "text": [
      "[3, 5, 8, 9, 11, 12, 15]\n",
      "9.0\n"
     ]
    }
   ],
   "source": [
    "def moyenne(t,n):\n",
    "    result=0\n",
    "    for i in range(n):\n",
    "        result=result+t[i]\n",
    "    return result/n\n",
    "\n",
    "\n",
    "t = [3,5,8,9,11,12,15]\n",
    "print(t)\n",
    "\n",
    "print(moyenne(t,7))\n"
   ]
  },
  {
   "cell_type": "markdown",
   "id": "subsequent-equality",
   "metadata": {},
   "source": [
    "# Exercice 6.TD3-3: substituer(t,n,x,y)"
   ]
  },
  {
   "cell_type": "code",
   "execution_count": 52,
   "id": "greatest-housing",
   "metadata": {},
   "outputs": [
    {
     "name": "stdout",
     "output_type": "stream",
     "text": [
      "[3, 5, 8, 9, 11, 12, 15]\n",
      "[3, 5, 8, 9, 5, 12, 15]\n"
     ]
    }
   ],
   "source": [
    "def substituer(t,n,x,y):\n",
    "    for i in range(n):\n",
    "        if t[i]==x:\n",
    "            t[i]=y\n",
    "\n",
    "            \n",
    "t = [3,5,8,9,11,12,15]\n",
    "print(t)\n",
    "\n",
    "substituer(t,7,11,5)\n",
    "print(t)\n"
   ]
  },
  {
   "cell_type": "markdown",
   "id": "dirty-isolation",
   "metadata": {},
   "source": [
    "# Exercice 6.TD3-4: recherche(t,n,x)"
   ]
  },
  {
   "cell_type": "code",
   "execution_count": 56,
   "id": "express-longitude",
   "metadata": {},
   "outputs": [
    {
     "name": "stdout",
     "output_type": "stream",
     "text": [
      "[3, 5, 8, 9, 11, 12, 15]\n",
      "5\n"
     ]
    }
   ],
   "source": [
    "def recherche(t,n,x):\n",
    "    for i in range(n):\n",
    "        if t[i]==x:\n",
    "            return i+1\n",
    "    return -1\n",
    "\n",
    "\n",
    "t = [3,5,8,9,11,12,15]\n",
    "print(t)\n",
    "\n",
    "print(recherche(t,7,11))\n"
   ]
  },
  {
   "cell_type": "markdown",
   "id": "false-underwear",
   "metadata": {},
   "source": [
    "# Exercice 6 .TD3-5: indiceMaximum(t,n)"
   ]
  },
  {
   "cell_type": "code",
   "execution_count": 60,
   "id": "sticky-region",
   "metadata": {},
   "outputs": [
    {
     "name": "stdout",
     "output_type": "stream",
     "text": [
      "[3, 5, 8, 9, 11, 12, 15, 5, 4, 8]\n",
      "7\n"
     ]
    }
   ],
   "source": [
    "def indiceMaximum(t,n):\n",
    "    max=t[0]\n",
    "    indice=0\n",
    "    for i in range(1,n):\n",
    "        if (t[i]>max):\n",
    "            max=t[i]\n",
    "            indice=i+1\n",
    "    return indice\n",
    "\n",
    "\n",
    "t = [3,5,8,9,11,12,15,5,4,8]\n",
    "print(t)\n",
    "\n",
    "print(indiceMaximum(t,10))\n"
   ]
  },
  {
   "cell_type": "markdown",
   "id": "satisfactory-transformation",
   "metadata": {},
   "source": [
    "# Exercice 6.TD3-6: complementaire(t,n)"
   ]
  },
  {
   "cell_type": "code",
   "execution_count": 64,
   "id": "opponent-reynolds",
   "metadata": {},
   "outputs": [
    {
     "name": "stdout",
     "output_type": "stream",
     "text": [
      "[False, True, False, False]\n"
     ]
    }
   ],
   "source": [
    "def complementaire(t,n):\n",
    "    for i in range(n):\n",
    "        if(t[i]==False):\n",
    "            t[i]=True\n",
    "        else:\n",
    "            t[i]=False\n",
    "\n",
    "t=[True,False,True,True]\n",
    "\n",
    "complementaire(t,4)\n",
    "print(t)\n"
   ]
  },
  {
   "cell_type": "markdown",
   "id": "polyphonic-malaysia",
   "metadata": {},
   "source": [
    "# Exercice 7: fibonacciTableau(n)"
   ]
  },
  {
   "cell_type": "code",
   "execution_count": null,
   "id": "flush-timeline",
   "metadata": {},
   "outputs": [],
   "source": [
    "def fibonacciTableau(n):\n",
    "    \n",
    "\n",
    "\n",
    "\n",
    "\n",
    "\n",
    "\n",
    "\n"
   ]
  },
  {
   "cell_type": "markdown",
   "id": "engaged-dairy",
   "metadata": {},
   "source": [
    "# Exercice complémentaire-1: uniformite(n)"
   ]
  },
  {
   "cell_type": "code",
   "execution_count": 18,
   "id": "aquatic-object",
   "metadata": {},
   "outputs": [],
   "source": [
    "def lancerDe():\n",
    "    return int(random.uniform(1,7))\n",
    "\n",
    "\n",
    "\n",
    "\n",
    "\n"
   ]
  },
  {
   "cell_type": "markdown",
   "id": "nominated-think",
   "metadata": {},
   "source": [
    "# Exercice complémentaire-2: estTrie(t,n)"
   ]
  },
  {
   "cell_type": "code",
   "execution_count": null,
   "id": "textile-transport",
   "metadata": {},
   "outputs": [],
   "source": [
    "\n",
    "\n",
    "\n",
    "\n",
    "\n",
    "\n",
    "\n",
    "\n",
    "\n",
    "\n",
    "\n"
   ]
  }
 ],
 "metadata": {
  "kernelspec": {
   "display_name": "Python 3",
   "language": "python",
   "name": "python3"
  },
  "language_info": {
   "codemirror_mode": {
    "name": "ipython",
    "version": 3
   },
   "file_extension": ".py",
   "mimetype": "text/x-python",
   "name": "python",
   "nbconvert_exporter": "python",
   "pygments_lexer": "ipython3",
   "version": "3.8.5"
  }
 },
 "nbformat": 4,
 "nbformat_minor": 5
}
