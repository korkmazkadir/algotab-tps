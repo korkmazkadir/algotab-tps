{
 "cells": [
  {
   "cell_type": "markdown",
   "id": "elegant-bahamas",
   "metadata": {},
   "source": [
    "# Hello World (Run this cell first)"
   ]
  },
  {
   "cell_type": "code",
   "execution_count": 1,
   "id": "renewable-material",
   "metadata": {},
   "outputs": [
    {
     "data": {
      "application/javascript": [
       "IPython.notebook.set_autosave_interval(5000)"
      ]
     },
     "metadata": {},
     "output_type": "display_data"
    },
    {
     "name": "stdout",
     "output_type": "stream",
     "text": [
      "Autosaving every 5 seconds\n",
      "Hello World\n",
      "Use Google Chrome as browser otherwise you might have issues!!!!\n"
     ]
    }
   ],
   "source": [
    "# imports from bibTableau\n",
    "from bibTableau import *\n",
    "\n",
    "#jupyter notebook autosave interval\n",
    "%autosave 5\n",
    "\n",
    "print(\"Hello World\")\n",
    "print(\"Use Google Chrome as browser otherwise you might have issues!!!!\")\n",
    "\n"
   ]
  },
  {
   "cell_type": "markdown",
   "id": "final-visit",
   "metadata": {},
   "source": [
    "# Exercice 1: appartient(x,t,n,d,f)"
   ]
  },
  {
   "cell_type": "code",
   "execution_count": 49,
   "id": "amazing-accessory",
   "metadata": {},
   "outputs": [
    {
     "data": {
      "text/plain": [
       "True"
      ]
     },
     "execution_count": 49,
     "metadata": {},
     "output_type": "execute_result"
    }
   ],
   "source": [
    "def appartient(x,t,n,d,f):\n",
    "    for i in range(d, f+1):\n",
    "        if t[i] == x:\n",
    "            return True\n",
    "\n",
    "    return False\n",
    "\n",
    "appartient(5,[3,1,3,4,5,6,7],8,0,8)"
   ]
  },
  {
   "cell_type": "markdown",
   "id": "purple-dallas",
   "metadata": {},
   "source": [
    "# Exercice 2: doubler(t,n)"
   ]
  },
  {
   "cell_type": "code",
   "execution_count": 23,
   "id": "opening-location",
   "metadata": {},
   "outputs": [
    {
     "name": "stdout",
     "output_type": "stream",
     "text": [
      "[110, 8, 12, 16]\n"
     ]
    }
   ],
   "source": [
    "def doubler(t,n):\n",
    "    for i in range(0,n):\n",
    "        t[i]= 2*t[i]\n",
    "    return t \n",
    "\n",
    "print(doubler([2,4,6,8],4))"
   ]
  },
  {
   "cell_type": "markdown",
   "id": "looking-namibia",
   "metadata": {},
   "source": [
    "# Exercice 3: cumuler(t,n)"
   ]
  },
  {
   "cell_type": "code",
   "execution_count": 27,
   "id": "forward-track",
   "metadata": {},
   "outputs": [
    {
     "name": "stdout",
     "output_type": "stream",
     "text": [
      "[1, -2, 10, -173]\n"
     ]
    }
   ],
   "source": [
    "def cumuler(t,n):\n",
    "    prev=0\n",
    "    for i in range(0,n):\n",
    "        t[i]=t[i]+prev\n",
    "        prev = t[i]\n",
    "    \n",
    "t=[1, -3, 12, -183]\n",
    "cumuler(t,4)\n",
    "print(t)"
   ]
  },
  {
   "cell_type": "markdown",
   "id": "raised-integration",
   "metadata": {},
   "source": [
    "# Exercice 4: renverser(t,n)"
   ]
  },
  {
   "cell_type": "code",
   "execution_count": 28,
   "id": "binary-costume",
   "metadata": {},
   "outputs": [
    {
     "name": "stdout",
     "output_type": "stream",
     "text": [
      "[8, 6, 4, 2]\n"
     ]
    }
   ],
   "source": [
    "def renverser(t,n):\n",
    "    for i in range(n//2):\n",
    "        m = t[i]\n",
    "        t[i] = t[n-i-1]\n",
    "        t[n-i-1]=m\n",
    "        \n",
    "    \n",
    "t=[2,4,6,8]\n",
    "renverser(t,4)\n",
    "print(t)"
   ]
  },
  {
   "cell_type": "markdown",
   "id": "bored-selection",
   "metadata": {},
   "source": [
    "# Exercice 5: ouLogique(t1,t2,n)"
   ]
  },
  {
   "cell_type": "code",
   "execution_count": 44,
   "id": "material-pilot",
   "metadata": {},
   "outputs": [
    {
     "name": "stdout",
     "output_type": "stream",
     "text": [
      "[True, False, True, True]\n"
     ]
    }
   ],
   "source": [
    "def ouLogique(t1,t2,n):\n",
    "    result = creerTableau(n)\n",
    "    for i in range(0, n):\n",
    "        result[i] = t1[i] or t2[i]\n",
    "    return result\n",
    "\n",
    "\n",
    "\n",
    "t1=[ True , False , False , True]\n",
    "t2=[ True, False, True, False]\n",
    "\n",
    "print(ouLogique(t1,t2,4))\n",
    "\n"
   ]
  },
  {
   "cell_type": "markdown",
   "id": "metropolitan-indicator",
   "metadata": {},
   "source": [
    "# Exercice 6.TD3-2: moyenne(t,n)"
   ]
  },
  {
   "cell_type": "code",
   "execution_count": 41,
   "id": "modified-addiction",
   "metadata": {},
   "outputs": [
    {
     "name": "stdout",
     "output_type": "stream",
     "text": [
      "5.0\n"
     ]
    }
   ],
   "source": [
    "def moyenne(t,n):\n",
    "    moy=0\n",
    "    for i in range(0,n):\n",
    "        moy += t[i]\n",
    "    return (moy/len(t))\n",
    "\n",
    "t=[2,4,6,8]\n",
    "print(moyenne(t,4))"
   ]
  },
  {
   "cell_type": "markdown",
   "id": "subsequent-equality",
   "metadata": {},
   "source": [
    "# Exercice 6.TD3-3: substituer(t,n,x,y)"
   ]
  },
  {
   "cell_type": "code",
   "execution_count": 51,
   "id": "greatest-housing",
   "metadata": {},
   "outputs": [
    {
     "name": "stdout",
     "output_type": "stream",
     "text": [
      "[1, 2, 3, 3, 3, 3, -7, 5, 6]\n"
     ]
    }
   ],
   "source": [
    "def substituer(t,n,x,y):\n",
    "    for i in range(0, n):\n",
    "        if t[i] == x:\n",
    "            t[i] = y\n",
    "            \n",
    "    \n",
    "t = [1,2,3,3,3,3,4,5,6]\n",
    "substituer(t, 9, 4, -7)\n",
    "print(t)"
   ]
  },
  {
   "cell_type": "markdown",
   "id": "dirty-isolation",
   "metadata": {},
   "source": [
    "# Exercice 6.TD3-4: recherche(t,n,x)"
   ]
  },
  {
   "cell_type": "code",
   "execution_count": null,
   "id": "express-longitude",
   "metadata": {},
   "outputs": [],
   "source": [
    "def recherche(t,n,x):\n",
    "    for i in range(n):\n",
    "        if (t[i]== x):\n",
    "            return i\n",
    "    return -1\n",
    "\n"
   ]
  },
  {
   "cell_type": "markdown",
   "id": "false-underwear",
   "metadata": {},
   "source": [
    "# Exercice 6 .TD3-5: indiceMaximum(t,n)"
   ]
  },
  {
   "cell_type": "code",
   "execution_count": 45,
   "id": "sticky-region",
   "metadata": {},
   "outputs": [],
   "source": [
    "def indiceMax(t,n):\n",
    "    largest = t[0]\n",
    "    largestindex=0\n",
    "    for i in range(1,n):\n",
    "        if (t[i]>largest):\n",
    "            largest = t[i]\n",
    "            largestindex = i\n",
    "    return largestindex\n"
   ]
  },
  {
   "cell_type": "markdown",
   "id": "satisfactory-transformation",
   "metadata": {},
   "source": [
    "# Exercice 6.TD3-6: complementaire(t,n)"
   ]
  },
  {
   "cell_type": "code",
   "execution_count": 50,
   "id": "opponent-reynolds",
   "metadata": {},
   "outputs": [
    {
     "name": "stdout",
     "output_type": "stream",
     "text": [
      "[False, False, True, True]\n"
     ]
    }
   ],
   "source": [
    "def complementaire(t,n):\n",
    "    for i in range(n):\n",
    "        t[i]=not t[i]\n",
    "\n",
    "t=[True,True,False,False]\n",
    "complementaire(t,4)\n",
    "print(t)"
   ]
  },
  {
   "cell_type": "markdown",
   "id": "polyphonic-malaysia",
   "metadata": {},
   "source": [
    "# Exercice 7: fibonacciTableau(n)"
   ]
  },
  {
   "cell_type": "code",
   "execution_count": 56,
   "id": "flush-timeline",
   "metadata": {},
   "outputs": [
    {
     "ename": "IndexError",
     "evalue": "list index out of range",
     "output_type": "error",
     "traceback": [
      "\u001b[0;31m---------------------------------------------------------------------------\u001b[0m",
      "\u001b[0;31mIndexError\u001b[0m                                Traceback (most recent call last)",
      "\u001b[0;32m<ipython-input-56-0d00ef59c7b4>\u001b[0m in \u001b[0;36m<module>\u001b[0;34m\u001b[0m\n\u001b[1;32m      9\u001b[0m     \u001b[0;32mreturn\u001b[0m \u001b[0mF\u001b[0m\u001b[0;34m\u001b[0m\u001b[0;34m\u001b[0m\u001b[0m\n\u001b[1;32m     10\u001b[0m \u001b[0;34m\u001b[0m\u001b[0m\n\u001b[0;32m---> 11\u001b[0;31m \u001b[0mprint\u001b[0m\u001b[0;34m(\u001b[0m\u001b[0mfibonnaciTableau\u001b[0m\u001b[0;34m(\u001b[0m\u001b[0;36m5\u001b[0m\u001b[0;34m)\u001b[0m\u001b[0;34m)\u001b[0m\u001b[0;34m\u001b[0m\u001b[0;34m\u001b[0m\u001b[0m\n\u001b[0m",
      "\u001b[0;32m<ipython-input-56-0d00ef59c7b4>\u001b[0m in \u001b[0;36mfibonnaciTableau\u001b[0;34m(n)\u001b[0m\n\u001b[1;32m      4\u001b[0m     \u001b[0mF\u001b[0m\u001b[0;34m=\u001b[0m\u001b[0;34m[\u001b[0m\u001b[0;34m]\u001b[0m\u001b[0;34m\u001b[0m\u001b[0;34m\u001b[0m\u001b[0m\n\u001b[1;32m      5\u001b[0m     \u001b[0;32mfor\u001b[0m \u001b[0mi\u001b[0m \u001b[0;32min\u001b[0m \u001b[0mrange\u001b[0m\u001b[0;34m(\u001b[0m\u001b[0mn\u001b[0m\u001b[0;34m)\u001b[0m\u001b[0;34m:\u001b[0m\u001b[0;34m\u001b[0m\u001b[0;34m\u001b[0m\u001b[0m\n\u001b[0;32m----> 6\u001b[0;31m         \u001b[0mF\u001b[0m \u001b[0;34m+=\u001b[0m \u001b[0;34m[\u001b[0m\u001b[0mFpreeev\u001b[0m\u001b[0;34m[\u001b[0m\u001b[0mi\u001b[0m\u001b[0;34m]\u001b[0m\u001b[0;34m+\u001b[0m\u001b[0mFprev\u001b[0m\u001b[0;34m[\u001b[0m\u001b[0mi\u001b[0m\u001b[0;34m]\u001b[0m\u001b[0;34m]\u001b[0m\u001b[0;34m\u001b[0m\u001b[0;34m\u001b[0m\u001b[0m\n\u001b[0m\u001b[1;32m      7\u001b[0m         \u001b[0mFpreeev\u001b[0m\u001b[0;34m[\u001b[0m\u001b[0mi\u001b[0m\u001b[0;34m]\u001b[0m \u001b[0;34m=\u001b[0m \u001b[0mFprev\u001b[0m\u001b[0;34m[\u001b[0m\u001b[0mi\u001b[0m\u001b[0;34m]\u001b[0m\u001b[0;34m\u001b[0m\u001b[0;34m\u001b[0m\u001b[0m\n\u001b[1;32m      8\u001b[0m         \u001b[0mFprev\u001b[0m\u001b[0;34m[\u001b[0m\u001b[0mi\u001b[0m\u001b[0;34m]\u001b[0m \u001b[0;34m=\u001b[0m \u001b[0mF\u001b[0m\u001b[0;34m[\u001b[0m\u001b[0mi\u001b[0m\u001b[0;34m]\u001b[0m\u001b[0;34m\u001b[0m\u001b[0;34m\u001b[0m\u001b[0m\n",
      "\u001b[0;31mIndexError\u001b[0m: list index out of range"
     ]
    }
   ],
   "source": [
    "def fibonnaciTableau(n):\n",
    "    Fprev=[1]\n",
    "    Fpreeev=[1]\n",
    "    F=[]\n",
    "    for i in range(n):\n",
    "        F += [Fpreeev[i]+Fprev[i]]\n",
    "        Fpreeev[i] = Fprev[i]\n",
    "        Fprev[i] = F[i]        \n",
    "    return F\n",
    "        \n",
    "print(fibonnaciTableau(5))        \n"
   ]
  },
  {
   "cell_type": "markdown",
   "id": "engaged-dairy",
   "metadata": {},
   "source": [
    "# Exercice complémentaire-1: uniformite(n)"
   ]
  },
  {
   "cell_type": "code",
   "execution_count": 18,
   "id": "aquatic-object",
   "metadata": {},
   "outputs": [],
   "source": [
    "\n",
    "def lancerDe():\n",
    "    return int(random.uniform(1,7))\n",
    "\n",
    "\n",
    "\n",
    "\n",
    "\n"
   ]
  },
  {
   "cell_type": "markdown",
   "id": "nominated-think",
   "metadata": {},
   "source": [
    "# Exercice complémentaire-2: estTrie(t,n)"
   ]
  },
  {
   "cell_type": "code",
   "execution_count": null,
   "id": "textile-transport",
   "metadata": {},
   "outputs": [],
   "source": [
    "\n",
    "\n",
    "\n",
    "\n",
    "\n",
    "\n",
    "\n",
    "\n",
    "\n",
    "\n",
    "\n"
   ]
  }
 ],
 "metadata": {
  "kernelspec": {
   "display_name": "Python 3",
   "language": "python",
   "name": "python3"
  },
  "language_info": {
   "codemirror_mode": {
    "name": "ipython",
    "version": 3
   },
   "file_extension": ".py",
   "mimetype": "text/x-python",
   "name": "python",
   "nbconvert_exporter": "python",
   "pygments_lexer": "ipython3",
   "version": "3.8.5"
  }
 },
 "nbformat": 4,
 "nbformat_minor": 5
}
