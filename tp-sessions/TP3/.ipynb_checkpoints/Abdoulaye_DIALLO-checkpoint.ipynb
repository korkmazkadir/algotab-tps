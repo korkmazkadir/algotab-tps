{
 "cells": [
  {
   "cell_type": "markdown",
   "id": "elegant-bahamas",
   "metadata": {},
   "source": [
    "# Hello World (Run this cell first)"
   ]
  },
  {
   "cell_type": "code",
   "execution_count": 1,
   "id": "renewable-material",
   "metadata": {},
   "outputs": [
    {
     "data": {
      "application/javascript": [
       "IPython.notebook.set_autosave_interval(5000)"
      ]
     },
     "metadata": {},
     "output_type": "display_data"
    },
    {
     "name": "stdout",
     "output_type": "stream",
     "text": [
      "Autosaving every 5 seconds\n",
      "Hello World\n",
      "Use Google Chrome as browser otherwise you might have issues!!!!\n"
     ]
    }
   ],
   "source": [
    "# imports from bibTableau\n",
    "from bibTableau import *\n",
    "\n",
    "#jupyter notebook autosave interval\n",
    "%autosave 5\n",
    "\n",
    "print(\"Hello World\")\n",
    "print(\"Use Google Chrome as browser otherwise you might have issues!!!!\")\n",
    "\n"
   ]
  },
  {
   "cell_type": "markdown",
   "id": "final-visit",
   "metadata": {},
   "source": [
    "# Exercice 1: appartient(x,t,n,d,f)"
   ]
  },
  {
   "cell_type": "code",
   "execution_count": 5,
   "id": "amazing-accessory",
   "metadata": {},
   "outputs": [
    {
     "data": {
      "text/plain": [
       "False"
      ]
     },
     "execution_count": 5,
     "metadata": {},
     "output_type": "execute_result"
    }
   ],
   "source": [
    "def appartient(x,t,n,d,f):\n",
    "    for elm in range(d,f+1):\n",
    "        if t[elm] == x:\n",
    "            return True\n",
    "\n",
    "    return False\n",
    "#appartient(5,[2,4,8,4,5],5,1,3)\n",
    "\n",
    "\n",
    "\n",
    "\n",
    "\n",
    "\n"
   ]
  },
  {
   "cell_type": "markdown",
   "id": "purple-dallas",
   "metadata": {},
   "source": [
    "# Exercice 2: doubler(t,n)"
   ]
  },
  {
   "cell_type": "code",
   "execution_count": 6,
   "id": "opening-location",
   "metadata": {},
   "outputs": [
    {
     "name": "stdout",
     "output_type": "stream",
     "text": [
      "[2, 8, 12]\n"
     ]
    }
   ],
   "source": [
    "def doubler(t,n):\n",
    "    for elm in range(n):\n",
    "        t[elm] *= 2\n",
    "    return t\n",
    "\n",
    "print(doubler([1,4,6],3))\n",
    "        \n",
    "\n",
    "\n",
    "\n",
    "\n",
    "\n",
    "\n",
    "\n"
   ]
  },
  {
   "cell_type": "markdown",
   "id": "looking-namibia",
   "metadata": {},
   "source": [
    "# Exercice 3: cumuler(t,n)"
   ]
  },
  {
   "cell_type": "code",
   "execution_count": 10,
   "id": "forward-track",
   "metadata": {},
   "outputs": [
    {
     "name": "stdout",
     "output_type": "stream",
     "text": [
      "[2, 7, 10]\n"
     ]
    }
   ],
   "source": [
    "def cumuler(t,n):\n",
    "    st = 0 # sum element of array\n",
    "    for elm in range(n):\n",
    "        st += t[elm]\n",
    "        t[elm] = st \n",
    "    return t\n",
    "    \n",
    "\n",
    "print(cumuler([2,5,3],3))\n",
    "\n"
   ]
  },
  {
   "cell_type": "markdown",
   "id": "raised-integration",
   "metadata": {},
   "source": [
    "# Exercice 4: renverser(t,n)"
   ]
  },
  {
   "cell_type": "code",
   "execution_count": 22,
   "id": "binary-costume",
   "metadata": {},
   "outputs": [
    {
     "name": "stdout",
     "output_type": "stream",
     "text": [
      "[7, 4, 2]\n"
     ]
    }
   ],
   "source": [
    "def renverser(t,n):\n",
    "    for elm in range(n//2):\n",
    "        v = t[elm]\n",
    "        t[elm] = t[(n-1)-elm]\n",
    "        t[n-elm-1] = v\n",
    "    return t\n",
    "\n",
    "print(renverser([2,4,7],3))\n",
    "\n",
    "\n",
    "\n",
    "\n"
   ]
  },
  {
   "cell_type": "markdown",
   "id": "bored-selection",
   "metadata": {},
   "source": [
    "# Exercice 5: ouLogique(t1,t2,n)"
   ]
  },
  {
   "cell_type": "code",
   "execution_count": null,
   "id": "material-pilot",
   "metadata": {},
   "outputs": [],
   "source": [
    "#Let t1 and t2 be two arrays containing each, n boolean values . Write a function\n",
    "#ouLogique(t1,t2,n) which creates an array of size n where each element will be calculated by\n",
    "#performing the operation OR logic on the couple of elements of the same index of t1 and t2.\n",
    "#The function should return the created array.\n",
    "\n",
    "def ouLogique(t1,t2,n):\n",
    "    t3 = creerTableau(n)\n",
    "    for elm in range(n):\n",
    "        t3[elm] = t1[elm] or t2[elm]\n",
    "    return t3\n",
    "\n",
    "\n",
    "\n",
    "\n",
    "\n",
    "\n"
   ]
  },
  {
   "cell_type": "markdown",
   "id": "metropolitan-indicator",
   "metadata": {},
   "source": [
    "# Exercice 6.TD3-2: moyenne(t,n)"
   ]
  },
  {
   "cell_type": "code",
   "execution_count": 25,
   "id": "modified-addiction",
   "metadata": {},
   "outputs": [
    {
     "name": "stdout",
     "output_type": "stream",
     "text": [
      "2.0\n"
     ]
    }
   ],
   "source": [
    "#Write a function moyenne(t,n) which calculates the average of the values of n elements of the array t.\n",
    "\n",
    "def moyenne(t,n):\n",
    "    av = 0\n",
    "    st = 0\n",
    "    for elm in range(n):\n",
    "        st += t[elm]\n",
    "        av = st / n\n",
    "    return av\n",
    "\n",
    "print(moyenne([2,2,2,2],4))\n",
    "\n",
    "\n"
   ]
  },
  {
   "cell_type": "markdown",
   "id": "subsequent-equality",
   "metadata": {},
   "source": [
    "# Exercice 6.TD3-3: substituer(t,n,x,y)"
   ]
  },
  {
   "cell_type": "code",
   "execution_count": 28,
   "id": "greatest-housing",
   "metadata": {},
   "outputs": [
    {
     "name": "stdout",
     "output_type": "stream",
     "text": [
      "[0, 8, 0, 7, 3, 5, 8]\n"
     ]
    }
   ],
   "source": [
    "#Write a function substituer(t,n,x,y) which, given an array t (containing n\n",
    "#elements) and two values x and y, replaces in t all the occurences of x by y. For example\n",
    "#if t=[2,1,2,7,3,5,1] the function call substituer(t,7,1,8) modifies t and we would have\n",
    "#t=[2,8,2,7,3,5,8].\n",
    "def substituer(t,n,x,y):\n",
    "    for elm in range(n):\n",
    "        if t[elm] == x:\n",
    "            t[elm] = y\n",
    "    return t\n",
    "\n",
    "#t=[2,8,2,7,3,5,8]\n",
    "#print(substituer(t,7,2,0))\n",
    "\n"
   ]
  },
  {
   "cell_type": "markdown",
   "id": "dirty-isolation",
   "metadata": {},
   "source": [
    "# Exercice 6.TD3-4: recherche(t,n,x)"
   ]
  },
  {
   "cell_type": "code",
   "execution_count": 30,
   "id": "express-longitude",
   "metadata": {},
   "outputs": [
    {
     "name": "stdout",
     "output_type": "stream",
     "text": [
      "-1\n"
     ]
    }
   ],
   "source": [
    "# Write a function recherche(t,n,x) which, given an array t (containing n elements)\n",
    "#and a value x, returns the index of t of the first occurence of x and -1 if x is not present in the\n",
    "#n elements of t.\n",
    "def recherche(t,n,x):\n",
    "    for elm in range(n):\n",
    "        if t[elm] == x:\n",
    "            return elm\n",
    "    return -1\n",
    "\n",
    "#print(recherche([5,6,3,8],4,7))\n",
    "\n",
    "\n"
   ]
  },
  {
   "cell_type": "markdown",
   "id": "false-underwear",
   "metadata": {},
   "source": [
    "# Exercice 6 .TD3-5: indiceMaximum(t,n)"
   ]
  },
  {
   "cell_type": "code",
   "execution_count": 39,
   "id": "sticky-region",
   "metadata": {},
   "outputs": [
    {
     "name": "stdout",
     "output_type": "stream",
     "text": [
      "3\n"
     ]
    }
   ],
   "source": [
    "#Write a function indiceMaximum(t,n) which returns the index of the highest\n",
    "#element of the array t containing n elements. If multiple indices correspond to the highest element,\n",
    "#we return the least of these indices.\n",
    "def indiceMaximum(t,n):\n",
    "    maxi = t[0]\n",
    "    for elm in range(n):\n",
    "        if t[elm] >=maxi:\n",
    "            maxi = t[elm]\n",
    "    return elm\n",
    "\n",
    "#print(indiceMaximum([2,5,7,1],4))\n",
    "\n",
    "\n"
   ]
  },
  {
   "cell_type": "markdown",
   "id": "satisfactory-transformation",
   "metadata": {},
   "source": [
    "# Exercice 6.TD3-6: complementaire(t,n)"
   ]
  },
  {
   "cell_type": "code",
   "execution_count": null,
   "id": "opponent-reynolds",
   "metadata": {},
   "outputs": [],
   "source": [
    "#Write a function complementaire(t,n) which, given an array t containing n\n",
    "#boolean values, transforms the content of t replacing each element by its complementary (Note :\n",
    "#False is the complementary of True and vice versa).\n",
    "\n",
    "def complementaire(t,n):\n",
    "    for elm in range(n):\n",
    "        t[elm] = not t[elm]\n",
    "    return t\n",
    "\n",
    "\n",
    "\n",
    "\n",
    "\n",
    "\n"
   ]
  },
  {
   "cell_type": "markdown",
   "id": "polyphonic-malaysia",
   "metadata": {},
   "source": [
    "# Exercice 7: fibonacciTableau(n)"
   ]
  },
  {
   "cell_type": "code",
   "execution_count": 40,
   "id": "flush-timeline",
   "metadata": {},
   "outputs": [
    {
     "name": "stdout",
     "output_type": "stream",
     "text": [
      "[1, 1, 2, 3, 5, 8, 13, 21, 34, 55]\n"
     ]
    }
   ],
   "source": [
    "# Write a function fibonacciTableau(n) which creates and returns an array of size\n",
    "#n containing the n first numbers of the Fibonacci sequence (from F0 to Fn-1). Note : Fibonacci\n",
    "\n",
    "def fibonacciTableau(n):\n",
    "    t = creerTableau(n)\n",
    "    if n>=1:\n",
    "        t[0] = 1\n",
    "    if n>=2:\n",
    "        t[1] = 1\n",
    "    for elm in range(2,n):\n",
    "        t[elm] = t[elm-1]+t[elm-2]\n",
    "    return t\n",
    "\n",
    "print(fibonacciTableau(10))\n",
    "\n",
    "\n",
    "\n",
    "\n",
    "\n"
   ]
  },
  {
   "cell_type": "markdown",
   "id": "engaged-dairy",
   "metadata": {},
   "source": [
    "# Exercice complémentaire-1: uniformite(n)"
   ]
  },
  {
   "cell_type": "code",
   "execution_count": 18,
   "id": "aquatic-object",
   "metadata": {},
   "outputs": [],
   "source": [
    "#Write a function uniformite(n) which rolls a dice n times and\n",
    "#then displays a histogram representing the number of times each value from 1 to 6 has came out.\n",
    "#For instance, your function should show :\n",
    "\n",
    "def lancerDe():\n",
    "    return int(random.uniform(1,7))\n",
    "\n",
    "def uniformite(n):\n",
    "    t = creerTableau(6,0)\n",
    "    for i in range(n):\n",
    "        \n",
    "\n",
    "\n",
    "\n"
   ]
  },
  {
   "cell_type": "markdown",
   "id": "nominated-think",
   "metadata": {},
   "source": [
    "# Exercice complémentaire-2: estTrie(t,n)"
   ]
  },
  {
   "cell_type": "code",
   "execution_count": null,
   "id": "textile-transport",
   "metadata": {},
   "outputs": [],
   "source": [
    "\n",
    "\n",
    "\n",
    "\n",
    "\n",
    "\n",
    "\n",
    "\n",
    "\n",
    "\n",
    "\n"
   ]
  }
 ],
 "metadata": {
  "kernelspec": {
   "display_name": "Python 3",
   "language": "python",
   "name": "python3"
  },
  "language_info": {
   "codemirror_mode": {
    "name": "ipython",
    "version": 3
   },
   "file_extension": ".py",
   "mimetype": "text/x-python",
   "name": "python",
   "nbconvert_exporter": "python",
   "pygments_lexer": "ipython3",
   "version": "3.8.5"
  }
 },
 "nbformat": 4,
 "nbformat_minor": 5
}
