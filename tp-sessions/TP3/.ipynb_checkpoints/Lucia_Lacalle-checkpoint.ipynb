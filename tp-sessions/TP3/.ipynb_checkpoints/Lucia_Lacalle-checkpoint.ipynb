{
 "cells": [
  {
   "cell_type": "markdown",
   "id": "elegant-bahamas",
   "metadata": {},
   "source": [
    "# Hello World (Run this cell first)"
   ]
  },
  {
   "cell_type": "code",
   "execution_count": null,
   "id": "renewable-material",
   "metadata": {},
   "outputs": [],
   "source": [
    "# imports from bibTableau\n",
    "from bibTableau import *\n",
    "\n",
    "#jupyter notebook autosave interval\n",
    "%autosave 5\n",
    "\n",
    "print(\"Hello World\")\n",
    "print(\"Use Google Chrome as browser otherwise you might have issues!!!!\")\n",
    "\n"
   ]
  },
  {
   "cell_type": "markdown",
   "id": "final-visit",
   "metadata": {},
   "source": [
    "# Exercice 1: appartient(x,t,n,d,f)"
   ]
  },
  {
   "cell_type": "code",
   "execution_count": 4,
   "id": "amazing-accessory",
   "metadata": {},
   "outputs": [
    {
     "data": {
      "text/plain": [
       "True"
      ]
     },
     "execution_count": 4,
     "metadata": {},
     "output_type": "execute_result"
    }
   ],
   "source": [
    "def appartient(x,t,n,d,f):\n",
    "    for i in range(d, f+1):\n",
    "        if t[i] == x:\n",
    "            return True\n",
    "    return False\n",
    "\n",
    "\n",
    "appartient(2,[1,2,5,7],6,1,3)\n",
    "\n",
    "\n",
    "\n",
    "\n"
   ]
  },
  {
   "cell_type": "markdown",
   "id": "purple-dallas",
   "metadata": {},
   "source": [
    "# Exercice 2: doubler(t,n)"
   ]
  },
  {
   "cell_type": "code",
   "execution_count": 8,
   "id": "opening-location",
   "metadata": {},
   "outputs": [
    {
     "data": {
      "text/plain": [
       "[2, 4, 6, 8]"
      ]
     },
     "execution_count": 8,
     "metadata": {},
     "output_type": "execute_result"
    }
   ],
   "source": [
    "def doubler(t,n):\n",
    "    for i in range(n):\n",
    "        t[i]=t[i]*2\n",
    "    return t\n",
    "\n",
    "doubler([1,2,3,4], 4)\n",
    "\n",
    "\n",
    "\n",
    "\n",
    "\n",
    "\n",
    "\n"
   ]
  },
  {
   "cell_type": "markdown",
   "id": "looking-namibia",
   "metadata": {},
   "source": [
    "# Exercice 3: cumuler(t,n)"
   ]
  },
  {
   "cell_type": "code",
   "execution_count": 13,
   "id": "forward-track",
   "metadata": {},
   "outputs": [
    {
     "data": {
      "text/plain": [
       "[1, -2, 10, -173]"
      ]
     },
     "execution_count": 13,
     "metadata": {},
     "output_type": "execute_result"
    }
   ],
   "source": [
    "def cumuler(t,n):\n",
    "    for i in range(n):\n",
    "        if i!=0:\n",
    "            j=t[i-1]\n",
    "        if i==0:\n",
    "            j=0\n",
    "        t[i]= t[i]+j\n",
    "    return t\n",
    "\n",
    "\n",
    "cumuler([1,-3,12,-183], 4)\n",
    "\n",
    "\n",
    "\n",
    "\n",
    "\n"
   ]
  },
  {
   "cell_type": "markdown",
   "id": "raised-integration",
   "metadata": {},
   "source": [
    "# Exercice 4: renverser(t,n)"
   ]
  },
  {
   "cell_type": "code",
   "execution_count": 32,
   "id": "binary-costume",
   "metadata": {},
   "outputs": [
    {
     "data": {
      "text/plain": [
       "[-183, 12, -3, 1]"
      ]
     },
     "execution_count": 32,
     "metadata": {},
     "output_type": "execute_result"
    }
   ],
   "source": [
    "\n",
    "def renverser(t,n):\n",
    "    for i in range(0,n//2):\n",
    "        j=t[i]\n",
    "        t[i]=t[n-1-i]\n",
    "        t[n-1-i]=j\n",
    "    return t\n",
    "\n",
    "renverser([1, -3, 12, -183],4)\n",
    "\n",
    "\n",
    "\n",
    "\n"
   ]
  },
  {
   "cell_type": "markdown",
   "id": "bored-selection",
   "metadata": {},
   "source": [
    "# Exercice 5: ouLogique(t1,t2,n)"
   ]
  },
  {
   "cell_type": "code",
   "execution_count": 43,
   "id": "material-pilot",
   "metadata": {},
   "outputs": [
    {
     "data": {
      "text/plain": [
       "[True, False, True, True]"
      ]
     },
     "execution_count": 43,
     "metadata": {},
     "output_type": "execute_result"
    }
   ],
   "source": [
    "from bibTableau import*\n",
    "\n",
    "def outLogique(t1,t2,n):\n",
    "    t=  creerTableau(n)\n",
    "    for i in range(n):\n",
    "        t[i]= t1[i]or t2[i]\n",
    "    return t\n",
    "\n",
    "t1=[True,False,False,True]\n",
    "t2=[False,False,True,True]\n",
    "\n",
    "outLogique(t1,t2,4)\n",
    "\n",
    "\n",
    "\n",
    "\n",
    "\n"
   ]
  },
  {
   "cell_type": "markdown",
   "id": "metropolitan-indicator",
   "metadata": {},
   "source": [
    "# Exercice 6.TD3-2: moyenne(t,n)"
   ]
  },
  {
   "cell_type": "code",
   "execution_count": 46,
   "id": "modified-addiction",
   "metadata": {},
   "outputs": [
    {
     "data": {
      "text/plain": [
       "2.0"
      ]
     },
     "execution_count": 46,
     "metadata": {},
     "output_type": "execute_result"
    }
   ],
   "source": [
    "\n",
    "def moyenne(t,n):\n",
    "    s=0\n",
    "    for i in range(n):\n",
    "        s=s + t[i]\n",
    "    m=s/n\n",
    "    return m\n",
    "\n",
    "\n",
    "moyenne([1,2,3],3)\n",
    "\n",
    "\n",
    "\n"
   ]
  },
  {
   "cell_type": "markdown",
   "id": "subsequent-equality",
   "metadata": {},
   "source": [
    "# Exercice 6.TD3-3: substituer(t,n,x,y)"
   ]
  },
  {
   "cell_type": "code",
   "execution_count": 47,
   "id": "greatest-housing",
   "metadata": {},
   "outputs": [
    {
     "data": {
      "text/plain": [
       "[2, 8, 2, 7, 3, 5, 8]"
      ]
     },
     "execution_count": 47,
     "metadata": {},
     "output_type": "execute_result"
    }
   ],
   "source": [
    "\n",
    "def substituer(t,n,x,y):\n",
    "    for i in range(n):\n",
    "        if t[i]==x:\n",
    "            t[i]=y\n",
    "    return t\n",
    "\n",
    "t=[2,1,2,7,3,5,1] \n",
    "substituer(t,7,1,8)\n",
    "    \n",
    "\n",
    "\n",
    "\n",
    "\n",
    "\n"
   ]
  },
  {
   "cell_type": "markdown",
   "id": "dirty-isolation",
   "metadata": {},
   "source": [
    "# Exercice 6.TD3-4: recherche(t,n,x)"
   ]
  },
  {
   "cell_type": "code",
   "execution_count": 50,
   "id": "express-longitude",
   "metadata": {},
   "outputs": [
    {
     "data": {
      "text/plain": [
       "5"
      ]
     },
     "execution_count": 50,
     "metadata": {},
     "output_type": "execute_result"
    }
   ],
   "source": [
    "def recherche(t,n,x):\n",
    "    for i in range(n):\n",
    "        if t[i]==x:\n",
    "            return i\n",
    "    return -1\n",
    "\n",
    "t=[2,1,2,7,3,5,1] \n",
    "\n",
    "    \n",
    "recherche(t,7,5)\n",
    "\n",
    "\n",
    "\n",
    "\n",
    "\n",
    "\n"
   ]
  },
  {
   "cell_type": "markdown",
   "id": "false-underwear",
   "metadata": {},
   "source": [
    "# Exercice 6 .TD3-5: indiceMaximum(t,n)"
   ]
  },
  {
   "cell_type": "code",
   "execution_count": 51,
   "id": "sticky-region",
   "metadata": {},
   "outputs": [
    {
     "data": {
      "text/plain": [
       "3"
      ]
     },
     "execution_count": 51,
     "metadata": {},
     "output_type": "execute_result"
    }
   ],
   "source": [
    "def indiceMaximum(t,n):\n",
    "    s=0\n",
    "    for i in range(n):\n",
    "        if t[i]> t[s]:\n",
    "            s=i\n",
    "    return s \n",
    "\n",
    "t=[2,1,2,7,3,5,1] \n",
    "\n",
    "indiceMaximum(t,7)\n",
    "\n",
    "\n",
    "\n",
    "\n"
   ]
  },
  {
   "cell_type": "markdown",
   "id": "satisfactory-transformation",
   "metadata": {},
   "source": [
    "# Exercice 6.TD3-6: complementaire(t,n)"
   ]
  },
  {
   "cell_type": "code",
   "execution_count": null,
   "id": "opponent-reynolds",
   "metadata": {},
   "outputs": [],
   "source": [
    "\n",
    "\n",
    "\n",
    "\n",
    "\n",
    "\n",
    "\n"
   ]
  },
  {
   "cell_type": "markdown",
   "id": "polyphonic-malaysia",
   "metadata": {},
   "source": [
    "# Exercice 7: fibonacciTableau(n)"
   ]
  },
  {
   "cell_type": "code",
   "execution_count": null,
   "id": "flush-timeline",
   "metadata": {},
   "outputs": [],
   "source": [
    "\n",
    "\n",
    "\n",
    "\n",
    "\n",
    "\n",
    "\n",
    "\n"
   ]
  },
  {
   "cell_type": "markdown",
   "id": "engaged-dairy",
   "metadata": {},
   "source": [
    "# Exercice complémentaire-1: uniformite(n)"
   ]
  },
  {
   "cell_type": "code",
   "execution_count": 18,
   "id": "aquatic-object",
   "metadata": {},
   "outputs": [],
   "source": [
    "\n",
    "def lancerDe():\n",
    "    return int(random.uniform(1,7))\n",
    "\n",
    "\n",
    "\n",
    "\n",
    "\n"
   ]
  },
  {
   "cell_type": "markdown",
   "id": "nominated-think",
   "metadata": {},
   "source": [
    "# Exercice complémentaire-2: estTrie(t,n)"
   ]
  },
  {
   "cell_type": "code",
   "execution_count": null,
   "id": "textile-transport",
   "metadata": {},
   "outputs": [],
   "source": [
    "\n",
    "\n",
    "\n",
    "\n",
    "\n",
    "\n",
    "\n",
    "\n",
    "\n",
    "\n",
    "\n"
   ]
  }
 ],
 "metadata": {
  "kernelspec": {
   "display_name": "Python 3",
   "language": "python",
   "name": "python3"
  },
  "language_info": {
   "codemirror_mode": {
    "name": "ipython",
    "version": 3
   },
   "file_extension": ".py",
   "mimetype": "text/x-python",
   "name": "python",
   "nbconvert_exporter": "python",
   "pygments_lexer": "ipython3",
   "version": "3.8.5"
  }
 },
 "nbformat": 4,
 "nbformat_minor": 5
}
