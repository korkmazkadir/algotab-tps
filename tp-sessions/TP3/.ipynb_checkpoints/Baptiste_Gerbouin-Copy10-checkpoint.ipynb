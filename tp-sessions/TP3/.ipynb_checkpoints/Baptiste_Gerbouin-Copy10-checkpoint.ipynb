{
 "cells": [
  {
   "cell_type": "markdown",
   "id": "elegant-bahamas",
   "metadata": {},
   "source": [
    "# Hello World (Run this cell first)"
   ]
  },
  {
   "cell_type": "code",
   "execution_count": 1,
   "id": "renewable-material",
   "metadata": {},
   "outputs": [
    {
     "data": {
      "application/javascript": [
       "IPython.notebook.set_autosave_interval(5000)"
      ]
     },
     "metadata": {},
     "output_type": "display_data"
    },
    {
     "name": "stdout",
     "output_type": "stream",
     "text": [
      "Autosaving every 5 seconds\n",
      "Hello World\n",
      "Use Google Chrome as browser otherwise you might have issues!!!!\n"
     ]
    }
   ],
   "source": [
    "# imports from bibTableau\n",
    "from bibTableau import *\n",
    "\n",
    "#jupyter notebook autosave interval\n",
    "%autosave 5\n",
    "\n",
    "print(\"Hello World\")\n",
    "print(\"Use Google Chrome as browser otherwise you might have issues!!!!\")\n",
    "\n"
   ]
  },
  {
   "cell_type": "markdown",
   "id": "final-visit",
   "metadata": {},
   "source": [
    "# Exercice 1: appartient(x,t,n,d,f)"
   ]
  },
  {
   "cell_type": "code",
   "execution_count": 4,
   "id": "amazing-accessory",
   "metadata": {},
   "outputs": [
    {
     "data": {
      "text/plain": [
       "True"
      ]
     },
     "execution_count": 4,
     "metadata": {},
     "output_type": "execute_result"
    }
   ],
   "source": [
    "def appartient(x,t,n,d,f):\n",
    "    for i in range (d,f+1):\n",
    "        if t[i]==x:\n",
    "            return True \n",
    "    return False\n",
    "appartient(5,[1,2,3,4,5,6,7,8],8,2,8)\n",
    "\n",
    "\n",
    "\n",
    "\n",
    "\n",
    "\n",
    "\n"
   ]
  },
  {
   "cell_type": "markdown",
   "id": "purple-dallas",
   "metadata": {},
   "source": [
    "# Exercice 2: doubler(t,n)"
   ]
  },
  {
   "cell_type": "code",
   "execution_count": 11,
   "id": "opening-location",
   "metadata": {},
   "outputs": [
    {
     "data": {
      "text/plain": [
       "[4, 4, 4, 4]"
      ]
     },
     "execution_count": 11,
     "metadata": {},
     "output_type": "execute_result"
    }
   ],
   "source": [
    "def doubler(t,n):\n",
    "    for i in range(n):\n",
    "        t[i]=t[i]*2\n",
    "    return t\n",
    "\n",
    "doubler([2,2,2,2],4)\n",
    "\n",
    "\n",
    "\n",
    "\n",
    "\n",
    "\n",
    "\n"
   ]
  },
  {
   "cell_type": "markdown",
   "id": "looking-namibia",
   "metadata": {},
   "source": [
    "# Exercice 3: cumuler(t,n)"
   ]
  },
  {
   "cell_type": "code",
   "execution_count": 15,
   "id": "forward-track",
   "metadata": {},
   "outputs": [
    {
     "data": {
      "text/plain": [
       "[2, 4, 6]"
      ]
     },
     "execution_count": 15,
     "metadata": {},
     "output_type": "execute_result"
    }
   ],
   "source": [
    "def cumuler(t,n):\n",
    "    c=0\n",
    "    for i in range(n):\n",
    "        t[i]=t[i]+c\n",
    "        c=t[i]\n",
    "    return t\n",
    "cumuler([2,2,2],3)\n",
    "    \n",
    "\n",
    "\n",
    "\n",
    "\n",
    "\n",
    "\n",
    "\n"
   ]
  },
  {
   "cell_type": "markdown",
   "id": "raised-integration",
   "metadata": {},
   "source": [
    "# Exercice 4: renverser(t,n)"
   ]
  },
  {
   "cell_type": "code",
   "execution_count": 21,
   "id": "binary-costume",
   "metadata": {},
   "outputs": [
    {
     "data": {
      "text/plain": [
       "[2, 1]"
      ]
     },
     "execution_count": 21,
     "metadata": {},
     "output_type": "execute_result"
    }
   ],
   "source": [
    "def renverser(t,n):\n",
    "    for i in range(n//2):\n",
    "        x=t[i]\n",
    "        t[i]=t[n-1-i]\n",
    "        t[n-1-i]=x\n",
    "    return t\n",
    "renverser([1,2],2)\n",
    "\n",
    "\n",
    "\n",
    "\n",
    "\n",
    "\n",
    "\n"
   ]
  },
  {
   "cell_type": "markdown",
   "id": "bored-selection",
   "metadata": {},
   "source": [
    "# Exercice 5: ouLogique(t1,t2,n)"
   ]
  },
  {
   "cell_type": "code",
   "execution_count": 23,
   "id": "material-pilot",
   "metadata": {},
   "outputs": [
    {
     "data": {
      "text/plain": [
       "[True, False]"
      ]
     },
     "execution_count": 23,
     "metadata": {},
     "output_type": "execute_result"
    }
   ],
   "source": [
    "def ouLogique(t1,t2,n):\n",
    "    result=creerTableau(n)\n",
    "    for i in range(n):\n",
    "        result[i]=t1[i] or t2[i]\n",
    "    return result\n",
    "\n",
    "ouLogique([True,False],[True, False],2)\n",
    "\n",
    "\n",
    "\n",
    "\n",
    "\n",
    "\n",
    "\n",
    "\n"
   ]
  },
  {
   "cell_type": "markdown",
   "id": "metropolitan-indicator",
   "metadata": {},
   "source": [
    "# Exercice 6.TD3-2: moyenne(t,n)"
   ]
  },
  {
   "cell_type": "code",
   "execution_count": 24,
   "id": "modified-addiction",
   "metadata": {},
   "outputs": [
    {
     "data": {
      "text/plain": [
       "5.0"
      ]
     },
     "execution_count": 24,
     "metadata": {},
     "output_type": "execute_result"
    }
   ],
   "source": [
    "def moyenne(t,n):\n",
    "    m=0\n",
    "    for i in range (n):\n",
    "        m=t[i]+m\n",
    "    return m/n\n",
    "moyenne([5,5],2)\n",
    "\n",
    "\n",
    "\n",
    "\n",
    "\n",
    "\n",
    "\n"
   ]
  },
  {
   "cell_type": "markdown",
   "id": "subsequent-equality",
   "metadata": {},
   "source": [
    "# Exercice 6.TD3-3: substituer(t,n,x,y)"
   ]
  },
  {
   "cell_type": "code",
   "execution_count": 25,
   "id": "greatest-housing",
   "metadata": {},
   "outputs": [
    {
     "name": "stdout",
     "output_type": "stream",
     "text": [
      "[12, 5, 89, 4, 4, 6]\n"
     ]
    }
   ],
   "source": [
    "def substituer(t,n,x,y):\n",
    "    for i in range(n):\n",
    "        if t[i]==x:\n",
    "            t[i]=y\n",
    "    return t\n",
    "print(substituer([12,5,89,3,3,6], 6, 3, 4))\n",
    "\n",
    "\n",
    "\n",
    "\n",
    "\n",
    "\n"
   ]
  },
  {
   "cell_type": "markdown",
   "id": "dirty-isolation",
   "metadata": {},
   "source": [
    "# Exercice 6.TD3-4: recherche(t,n,x)"
   ]
  },
  {
   "cell_type": "code",
   "execution_count": 29,
   "id": "express-longitude",
   "metadata": {},
   "outputs": [
    {
     "data": {
      "text/plain": [
       "8"
      ]
     },
     "execution_count": 29,
     "metadata": {},
     "output_type": "execute_result"
    }
   ],
   "source": [
    "def recherche(t,n,x):\n",
    "    for i in range(n):\n",
    "        if t[i]==x:\n",
    "            return i+1\n",
    "    return -1\n",
    "recherche([1,2,3,4,5,6,7,8,9], 9, 8)\n",
    "\n",
    "\n",
    "\n",
    "\n",
    "\n",
    "\n"
   ]
  },
  {
   "cell_type": "markdown",
   "id": "false-underwear",
   "metadata": {},
   "source": [
    "# Exercice 6 .TD3-5: indiceMaximum(t,n)"
   ]
  },
  {
   "cell_type": "code",
   "execution_count": 32,
   "id": "sticky-region",
   "metadata": {},
   "outputs": [
    {
     "name": "stdout",
     "output_type": "stream",
     "text": [
      "2 2\n"
     ]
    }
   ],
   "source": [
    "def indiceMaximum(t,n):\n",
    "    c=0\n",
    "    for i in range(n):\n",
    "        if t[i]>t[c]:\n",
    "            c=i\n",
    "    return c\n",
    "print(indiceMaximum([1,2,3], 3,),2)\n",
    "\n",
    "\n",
    "\n",
    "\n",
    "\n",
    "\n"
   ]
  },
  {
   "cell_type": "markdown",
   "id": "satisfactory-transformation",
   "metadata": {},
   "source": [
    "# Exercice 6.TD3-6: complementaire(t,n)"
   ]
  },
  {
   "cell_type": "code",
   "execution_count": null,
   "id": "opponent-reynolds",
   "metadata": {},
   "outputs": [],
   "source": [
    "\n",
    "\n",
    "\n",
    "\n",
    "\n",
    "\n",
    "\n"
   ]
  },
  {
   "cell_type": "markdown",
   "id": "polyphonic-malaysia",
   "metadata": {},
   "source": [
    "# Exercice 7: fibonacciTableau(n)"
   ]
  },
  {
   "cell_type": "code",
   "execution_count": null,
   "id": "flush-timeline",
   "metadata": {},
   "outputs": [],
   "source": [
    "\n",
    "\n",
    "\n",
    "\n",
    "\n",
    "\n",
    "\n",
    "\n"
   ]
  },
  {
   "cell_type": "markdown",
   "id": "engaged-dairy",
   "metadata": {},
   "source": [
    "# Exercice complémentaire-1: uniformite(n)"
   ]
  },
  {
   "cell_type": "code",
   "execution_count": 18,
   "id": "aquatic-object",
   "metadata": {},
   "outputs": [],
   "source": [
    "\n",
    "def lancerDe():\n",
    "    return int(random.uniform(1,7))\n",
    "\n",
    "\n",
    "\n",
    "\n",
    "\n"
   ]
  },
  {
   "cell_type": "markdown",
   "id": "nominated-think",
   "metadata": {},
   "source": [
    "# Exercice complémentaire-2: estTrie(t,n)"
   ]
  },
  {
   "cell_type": "code",
   "execution_count": null,
   "id": "textile-transport",
   "metadata": {},
   "outputs": [],
   "source": [
    "\n",
    "\n",
    "\n",
    "\n",
    "\n",
    "\n",
    "\n",
    "\n",
    "\n",
    "\n",
    "\n"
   ]
  }
 ],
 "metadata": {
  "kernelspec": {
   "display_name": "Python 3",
   "language": "python",
   "name": "python3"
  },
  "language_info": {
   "codemirror_mode": {
    "name": "ipython",
    "version": 3
   },
   "file_extension": ".py",
   "mimetype": "text/x-python",
   "name": "python",
   "nbconvert_exporter": "python",
   "pygments_lexer": "ipython3",
   "version": "3.8.5"
  }
 },
 "nbformat": 4,
 "nbformat_minor": 5
}
