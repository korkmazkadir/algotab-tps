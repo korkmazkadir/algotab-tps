{
 "cells": [
  {
   "cell_type": "markdown",
   "id": "elegant-bahamas",
   "metadata": {},
   "source": [
    "# Hello World (Run this cell first)"
   ]
  },
  {
   "cell_type": "code",
   "execution_count": null,
   "id": "renewable-material",
   "metadata": {},
   "outputs": [],
   "source": [
    "# imports from bibTableau\n",
    "from bibTableau import *\n",
    "\n",
    "#jupyter notebook autosave interval\n",
    "%autosave 5\n",
    "\n",
    "print(\"Hello World\")\n",
    "print(\"Use Google Chrome as browser otherwise you might have issues!!!!\")\n",
    "\n"
   ]
  },
  {
   "cell_type": "markdown",
   "id": "final-visit",
   "metadata": {},
   "source": [
    "# Exercice 1: appartient(x,t,n,d,f)"
   ]
  },
  {
   "cell_type": "code",
   "execution_count": 3,
   "id": "amazing-accessory",
   "metadata": {},
   "outputs": [
    {
     "name": "stdout",
     "output_type": "stream",
     "text": [
      "False\n"
     ]
    }
   ],
   "source": [
    "def appartient(x,t,n,d,f):\n",
    "    for i in range(d, f+1):\n",
    "        if t[i]==x:\n",
    "            return True\n",
    "        return False\n",
    "    \n",
    "print(appartient(5,[1,2,3,4,5,6,7,8],8,0,8))\n"
   ]
  },
  {
   "cell_type": "markdown",
   "id": "purple-dallas",
   "metadata": {},
   "source": [
    "# Exercice 2: doubler(t,n)"
   ]
  },
  {
   "cell_type": "code",
   "execution_count": 5,
   "id": "opening-location",
   "metadata": {},
   "outputs": [
    {
     "name": "stdout",
     "output_type": "stream",
     "text": [
      "[2, 4, 6, 8]\n"
     ]
    }
   ],
   "source": [
    "def doubler(t,n):\n",
    "    for i in range(n):\n",
    "        t[i]=2*t[i]\n",
    "    return t\n",
    "\n",
    "\n",
    "print(doubler([1,2,3,4], 4))\n"
   ]
  },
  {
   "cell_type": "markdown",
   "id": "looking-namibia",
   "metadata": {},
   "source": [
    "# Exercice 3: cumuler(t,n)"
   ]
  },
  {
   "cell_type": "code",
   "execution_count": 7,
   "id": "forward-track",
   "metadata": {},
   "outputs": [
    {
     "name": "stdout",
     "output_type": "stream",
     "text": [
      "[1, 3, 6, 10]\n"
     ]
    }
   ],
   "source": [
    "def cumuler(t, n):\n",
    "    for i in range(1,n):\n",
    "        t[i]+=t[i-1]\n",
    "    return t\n",
    "\n",
    "print(cumuler([1,2,3,4], 4))\n"
   ]
  },
  {
   "cell_type": "markdown",
   "id": "raised-integration",
   "metadata": {},
   "source": [
    "# Exercice 4: renverser(t,n)"
   ]
  },
  {
   "cell_type": "code",
   "execution_count": 18,
   "id": "binary-costume",
   "metadata": {},
   "outputs": [
    {
     "name": "stdout",
     "output_type": "stream",
     "text": [
      "[5, 4, 3, 2, 1]\n"
     ]
    }
   ],
   "source": [
    "def renverser(t,n):\n",
    "    k=t\n",
    "    for i in range(n//2):\n",
    "        k[i], k[n-1-i] = k[n-1-i], k[i]\n",
    "    return k\n",
    "\n",
    "print(renverser([1,2,3,4,5],5))\n"
   ]
  },
  {
   "cell_type": "markdown",
   "id": "bored-selection",
   "metadata": {},
   "source": [
    "# Exercice 5: ouLogique(t1,t2,n)"
   ]
  },
  {
   "cell_type": "code",
   "execution_count": 20,
   "id": "material-pilot",
   "metadata": {},
   "outputs": [
    {
     "name": "stdout",
     "output_type": "stream",
     "text": [
      "[True, True, False]\n"
     ]
    }
   ],
   "source": [
    "def ouLogique(t1,t2,n):\n",
    "    t=[]\n",
    "    for i in range(n):\n",
    "        t+=[t1[i] or t2[i]]\n",
    "    return t\n",
    "\n",
    "print(ouLogique([True,True,False],[True,False,False],3))\n"
   ]
  },
  {
   "cell_type": "markdown",
   "id": "metropolitan-indicator",
   "metadata": {},
   "source": [
    "# Exercice 6.TD3-2: moyenne(t,n)"
   ]
  },
  {
   "cell_type": "code",
   "execution_count": 21,
   "id": "modified-addiction",
   "metadata": {},
   "outputs": [
    {
     "name": "stdout",
     "output_type": "stream",
     "text": [
      "5.2\n"
     ]
    }
   ],
   "source": [
    "def moyenne(t,n):\n",
    "    moy=0\n",
    "    for i in range(n):\n",
    "        moy+=t[i]\n",
    "    return moy/n\n",
    "\n",
    "print(moyenne([1,2,7,9,7],5))\n"
   ]
  },
  {
   "cell_type": "markdown",
   "id": "subsequent-equality",
   "metadata": {},
   "source": [
    "# Exercice 6.TD3-3: substituer(t,n,x,y)"
   ]
  },
  {
   "cell_type": "code",
   "execution_count": 22,
   "id": "greatest-housing",
   "metadata": {},
   "outputs": [
    {
     "name": "stdout",
     "output_type": "stream",
     "text": [
      "[12, 5, 89, 4, 4, 6]\n"
     ]
    }
   ],
   "source": [
    "def substituer(t,n,x,y):\n",
    "    for i in range(n):\n",
    "        if t[i]==x:\n",
    "            t[i]=y\n",
    "    return t\n",
    "\n",
    "print(substituer([12,5,89,3,3,6], 6, 3, 4))\n"
   ]
  },
  {
   "cell_type": "markdown",
   "id": "dirty-isolation",
   "metadata": {},
   "source": [
    "# Exercice 6.TD3-4: recherche(t,n,x)"
   ]
  },
  {
   "cell_type": "code",
   "execution_count": 23,
   "id": "express-longitude",
   "metadata": {},
   "outputs": [
    {
     "data": {
      "text/plain": [
       "1"
      ]
     },
     "execution_count": 23,
     "metadata": {},
     "output_type": "execute_result"
    }
   ],
   "source": [
    "def recherche(t,n,x):\n",
    "    for i in range (n):\n",
    "        c=0\n",
    "        if t[i]!=x:\n",
    "            c=c+1\n",
    "        return c\n",
    "    return -1\n",
    "\n",
    "recherche([1,2,3,4,5,6,7,8,9], 9, 8)\n"
   ]
  },
  {
   "cell_type": "markdown",
   "id": "false-underwear",
   "metadata": {},
   "source": [
    "# Exercice 6 .TD3-5: indiceMaximum(t,n)"
   ]
  },
  {
   "cell_type": "code",
   "execution_count": 24,
   "id": "sticky-region",
   "metadata": {},
   "outputs": [
    {
     "name": "stdout",
     "output_type": "stream",
     "text": [
      "4\n"
     ]
    }
   ],
   "source": [
    "def indiceMaximum(t,n):\n",
    "    iMax=0\n",
    "    for i in range(n):\n",
    "        if t[iMax]<t[i]:\n",
    "            iMax=i\n",
    "    return iMax\n",
    "\n",
    "print(indiceMaximum([1,8,6,4,10], 5))"
   ]
  },
  {
   "cell_type": "markdown",
   "id": "satisfactory-transformation",
   "metadata": {},
   "source": [
    "# Exercice 6.TD3-6: complementaire(t,n)"
   ]
  },
  {
   "cell_type": "code",
   "execution_count": null,
   "id": "opponent-reynolds",
   "metadata": {},
   "outputs": [],
   "source": [
    "def complementaire(t,n):\n",
    "    for i in range(n):\n",
    "        t[i] = not t[i]\n",
    "\n"
   ]
  },
  {
   "cell_type": "markdown",
   "id": "polyphonic-malaysia",
   "metadata": {},
   "source": [
    "# Exercice 7: fibonacciTableau(n)"
   ]
  },
  {
   "cell_type": "code",
   "execution_count": 30,
   "id": "flush-timeline",
   "metadata": {},
   "outputs": [],
   "source": [
    "def fibonacciTableau(n):\n",
    "    k = creerTableau(n)\n",
    "    k[0]=1\n",
    "    k[1]=1\n",
    "    for i in range(2,n):\n",
    "        k[i]=k[i-1]+k[i-2]\n",
    "    return k\n",
    "\n"
   ]
  },
  {
   "cell_type": "markdown",
   "id": "engaged-dairy",
   "metadata": {},
   "source": [
    "# Exercice complémentaire-1: uniformite(n)"
   ]
  },
  {
   "cell_type": "code",
   "execution_count": 18,
   "id": "aquatic-object",
   "metadata": {},
   "outputs": [],
   "source": [
    "\n",
    "def lancerDe():\n",
    "    return int(random.uniform(1,7))\n",
    "\n",
    "\n",
    "\n",
    "\n",
    "\n"
   ]
  },
  {
   "cell_type": "markdown",
   "id": "nominated-think",
   "metadata": {},
   "source": [
    "# Exercice complémentaire-2: estTrie(t,n)"
   ]
  },
  {
   "cell_type": "code",
   "execution_count": null,
   "id": "textile-transport",
   "metadata": {},
   "outputs": [],
   "source": [
    "\n",
    "\n",
    "\n",
    "\n",
    "\n",
    "\n",
    "\n",
    "\n",
    "\n",
    "\n",
    "\n"
   ]
  }
 ],
 "metadata": {
  "kernelspec": {
   "display_name": "Python 3",
   "language": "python",
   "name": "python3"
  },
  "language_info": {
   "codemirror_mode": {
    "name": "ipython",
    "version": 3
   },
   "file_extension": ".py",
   "mimetype": "text/x-python",
   "name": "python",
   "nbconvert_exporter": "python",
   "pygments_lexer": "ipython3",
   "version": "3.8.5"
  }
 },
 "nbformat": 4,
 "nbformat_minor": 5
}
