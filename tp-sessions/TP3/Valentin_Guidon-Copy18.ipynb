{
 "cells": [
  {
   "cell_type": "markdown",
   "id": "elegant-bahamas",
   "metadata": {},
   "source": [
    "# Hello World (Run this cell first)"
   ]
  },
  {
   "cell_type": "code",
   "execution_count": 1,
   "id": "renewable-material",
   "metadata": {},
   "outputs": [
    {
     "data": {
      "application/javascript": [
       "IPython.notebook.set_autosave_interval(5000)"
      ]
     },
     "metadata": {},
     "output_type": "display_data"
    },
    {
     "name": "stdout",
     "output_type": "stream",
     "text": [
      "Autosaving every 5 seconds\n",
      "Hello World\n",
      "Use Google Chrome as browser otherwise you might have issues!!!!\n"
     ]
    }
   ],
   "source": [
    "# imports from bibTableau\n",
    "from bibTableau import *\n",
    "\n",
    "#jupyter notebook autosave interval\n",
    "%autosave 5\n",
    "\n",
    "print(\"Hello World\")\n",
    "print(\"Use Google Chrome as browser otherwise you might have issues!!!!\")\n",
    "\n"
   ]
  },
  {
   "cell_type": "markdown",
   "id": "final-visit",
   "metadata": {},
   "source": [
    "# Exercice 1: appartient(x,t,n,d,f)"
   ]
  },
  {
   "cell_type": "code",
   "execution_count": null,
   "id": "amazing-accessory",
   "metadata": {},
   "outputs": [],
   "source": [
    "#Cette fonction renvoie True si le tableau t\n",
    "#contient la valeur x dans les cases d’indices compris entre d et f inclus (on supposera que 0 ≤ d ≤ f < n \n",
    "#où n est le nombre d’élements de t), et renvoie False sinon.\"\"\n",
    "\n",
    "def appartient(x,t,n,d,f):\n",
    "    for i in range(d,f+1):\n",
    "        if x==t[i]:\n",
    "            return True\n",
    "        return False \n"
   ]
  },
  {
   "cell_type": "markdown",
   "id": "purple-dallas",
   "metadata": {},
   "source": [
    "# Exercice 2: doubler(t,n)"
   ]
  },
  {
   "cell_type": "code",
   "execution_count": null,
   "id": "opening-location",
   "metadata": {},
   "outputs": [],
   "source": [
    "#– Écrire une fonction doubler(t,n) qui modifie le tableau t en multipliant par deux la valeur de chacun de ses n éléments.\n",
    "def doubler(t,n):\n",
    "    for i in range(n):\n",
    "        t[i]=t[i]*2\n",
    "\n"
   ]
  },
  {
   "cell_type": "markdown",
   "id": "looking-namibia",
   "metadata": {},
   "source": [
    "# Exercice 3: cumuler(t,n)"
   ]
  },
  {
   "cell_type": "code",
   "execution_count": null,
   "id": "forward-track",
   "metadata": {},
   "outputs": [],
   "source": [
    "#Écrire une fonction cumuler(t,n) qui modifie le tableau t, contenant n éléments,\n",
    "#en plaçant dans chacune de ses premières n cases la somme des valeurs des termes précédents\n",
    "#et du terme courant. \n",
    "#Par exemple, si avant l’appel t = [1, -3, 12, -183], après l’appel decumuler(t,4) on aura t = [1, -2, 10, -173].\n",
    "\n",
    "def cumuler(t,n):\n",
    "    m=0\n",
    "    for i in range(n):\n",
    "        t[i]=t[i]+m\n",
    "        m=t[i]\n",
    "    \n",
    "\n",
    "\n",
    "\n",
    "\n",
    "\n",
    "\n",
    "\n"
   ]
  },
  {
   "cell_type": "markdown",
   "id": "raised-integration",
   "metadata": {},
   "source": [
    "# Exercice 4: renverser(t,n)"
   ]
  },
  {
   "cell_type": "code",
   "execution_count": null,
   "id": "binary-costume",
   "metadata": {},
   "outputs": [],
   "source": [
    "#Écrire une fonction renverser(t,n) qui « renverse » la suite de n éléments du tableau t. \n",
    "#Par exemple, si avant l’appel t = [1, -3, 12, -183], après l’appel de renverser(t,4)\n",
    "#on aura t = [-183, 12, -3, 1]. La fonction ne doit pas utiliser un tableau supplémentaire.\n",
    "\n",
    "def renverser(t,n):\n",
    "    for i in range(n//2):\n",
    "        m = t[i]\n",
    "        t[i] = t[n-i-1]\n",
    "        t[n-i-1]=m\n",
    "        \n",
    "\n",
    "\n",
    "\n",
    "\n",
    "\n",
    "\n"
   ]
  },
  {
   "cell_type": "markdown",
   "id": "bored-selection",
   "metadata": {},
   "source": [
    "# Exercice 5: ouLogique(t1,t2,n)"
   ]
  },
  {
   "cell_type": "code",
   "execution_count": null,
   "id": "material-pilot",
   "metadata": {},
   "outputs": [],
   "source": [
    "#Soient t1 et t2 deux tableaux contenant chacun n valeurs booléennes. \n",
    "#Écrire une fonction ouLogique(t1,t2,n) qui crée un tableau de taille n dont chaque élément sera calculé en\n",
    "#appliquant l’opération ou logique au couple d’éléments de t1 et t2 de même indice. \n",
    "#La fonction renverra le tableau créé.\n",
    "\n",
    "def ouLogique(t1,t2,n):\n",
    "    t3 = []\n",
    "    for i in range(n):\n",
    "        if ((t1[i] or t2[i])==True):\n",
    "            t3.append(True)\n",
    "        if ((t1[i] or t2[i])==False):\n",
    "            t3.append(False)\n",
    "    return t3\n",
    "\n",
    "from bibTableau import *\n",
    "\n",
    "def ouLogiqueV2(t1,t2,n):\n",
    "    t3=creerTableau(n)\n",
    "    for i in range(n):\n",
    "        if((t1[i] or t2[i])==True):\n",
    "            t3[i]=True\n",
    "        else :\n",
    "            t3[i]=False     \n",
    "    return t3\n",
    "\n",
    "def ouLogiqueV3(t1,t2,n):\n",
    "    t3=creerTableau(n)\n",
    "    for i in range(n):\n",
    "        t3[i]= t1[i] or t2[i]\n",
    "    return t3\n"
   ]
  },
  {
   "cell_type": "markdown",
   "id": "metropolitan-indicator",
   "metadata": {},
   "source": [
    "# Exercice 6.TD3-2: moyenne(t,n)"
   ]
  },
  {
   "cell_type": "code",
   "execution_count": null,
   "id": "modified-addiction",
   "metadata": {},
   "outputs": [],
   "source": [
    "def moyenne (t,n):\n",
    "    somme = 0\n",
    "    for i in range(n):\n",
    "        somme += t[i]\n",
    "    return somme / n  # we can also return somme/len(t)\n",
    "\n",
    "\n",
    "\n"
   ]
  },
  {
   "cell_type": "markdown",
   "id": "subsequent-equality",
   "metadata": {},
   "source": [
    "# Exercice 6.TD3-3: substituer(t,n,x,y)"
   ]
  },
  {
   "cell_type": "code",
   "execution_count": null,
   "id": "greatest-housing",
   "metadata": {},
   "outputs": [],
   "source": [
    "def substituer (t, n, x, y): \n",
    "    for i in range(n):\n",
    "        if t[i] == x:\n",
    "            t[i] = y\n",
    "\n",
    "\n",
    "\n",
    "\n",
    "\n"
   ]
  },
  {
   "cell_type": "markdown",
   "id": "dirty-isolation",
   "metadata": {},
   "source": [
    "# Exercice 6.TD3-4: recherche(t,n,x)"
   ]
  },
  {
   "cell_type": "code",
   "execution_count": null,
   "id": "express-longitude",
   "metadata": {},
   "outputs": [],
   "source": [
    "def recherche(t,n,x):\n",
    "    for i in range(n):\n",
    "        if t[i] == x:\n",
    "            return i\n",
    "    return -1\n",
    "\n",
    "\n",
    "\n",
    "\n",
    "\n"
   ]
  },
  {
   "cell_type": "markdown",
   "id": "false-underwear",
   "metadata": {},
   "source": [
    "# Exercice 6 .TD3-5: indiceMaximum(t,n)"
   ]
  },
  {
   "cell_type": "code",
   "execution_count": null,
   "id": "sticky-region",
   "metadata": {},
   "outputs": [],
   "source": [
    "def indiceMaximumV1(t,n):\n",
    "    m=t[0]\n",
    "    for i in range(1, n):     #Dans un premier temps on cherche la plus grande valeur\n",
    "        if t[i] > m:\n",
    "            m=t[i]\n",
    "    for i in range(n):\n",
    "        if m==t[i]:\n",
    "            return i\n",
    "        \n",
    "def indiceMaximumV2(t,n):      #Puis on trouve son indice\n",
    "    imax = 0\n",
    "    for i in range(1, n):\n",
    "        if t[i] > t[imax]:\n",
    "            imax = i\n",
    "    return imax\n",
    "\n",
    "\n",
    "\n",
    "\n",
    "\n",
    "\n"
   ]
  },
  {
   "cell_type": "markdown",
   "id": "satisfactory-transformation",
   "metadata": {},
   "source": [
    "# Exercice 6.TD3-6: complementaire(t,n)"
   ]
  },
  {
   "cell_type": "code",
   "execution_count": null,
   "id": "opponent-reynolds",
   "metadata": {},
   "outputs": [],
   "source": [
    "def complementairev1(t,n):\n",
    "    for i in range(n):\n",
    "        if t[i] == True:\n",
    "            t[i]= False \n",
    "        else:\n",
    "            t[i]=True \n",
    "\n",
    "def complementairev2(t,n):\n",
    "    for i in range(n):\n",
    "        t[i]= not t[i]\n",
    "\n",
    "\n",
    "\n",
    "\n",
    "\n",
    "\n",
    "\n"
   ]
  },
  {
   "cell_type": "markdown",
   "id": "polyphonic-malaysia",
   "metadata": {},
   "source": [
    "# Exercice 7: fibonacciTableau(n)"
   ]
  },
  {
   "cell_type": "code",
   "execution_count": 14,
   "id": "flush-timeline",
   "metadata": {},
   "outputs": [
    {
     "data": {
      "text/plain": [
       "[1, 1, 2, 3, 5, 8, 13, 21, 34, 55]"
      ]
     },
     "execution_count": 14,
     "metadata": {},
     "output_type": "execute_result"
    }
   ],
   "source": [
    "#Écrire une fonction fibonacciTableau(n) qui crée et renvoie un tableau de taille\n",
    "#n contenant les n premiers nombres de la suite de Fibonacci (de F0 à Fn−1). Pour rappel, la suite\n",
    "#de Fibonacci est définie par :\n",
    "\n",
    "def fibonacciTableau(n):\n",
    "    t = creerTableau(n,1) \n",
    "    for i in range(2,n):\n",
    "        t[i] = t[i-1]+t[i-2]\n",
    "    return t\n",
    "\n",
    "fibonacciTableau(10)\n",
    "\n",
    "\n",
    "\n",
    "\n",
    "\n",
    "\n"
   ]
  },
  {
   "cell_type": "markdown",
   "id": "engaged-dairy",
   "metadata": {},
   "source": [
    "# Exercice complémentaire-1: uniformite(n)"
   ]
  },
  {
   "cell_type": "code",
   "execution_count": 17,
   "id": "aquatic-object",
   "metadata": {},
   "outputs": [
    {
     "name": "stdout",
     "output_type": "stream",
     "text": [
      "*\n",
      "*\n",
      "*\n",
      "*\n",
      "*\n",
      "*\n",
      "*\n",
      "*\n",
      "*\n",
      "*\n",
      "*\n",
      "*\n",
      "*\n",
      "*\n",
      "*\n",
      "*\n",
      "*\n"
     ]
    }
   ],
   "source": [
    "#Écrire une fonction uniformite(n) qui lance n fois un dé et\n",
    "# affiche ensuite un histogramme représentant le nombre de tirages de chaque valeur de 1 à 6\n",
    "from bibTableau import *\n",
    "\n",
    "def lancerDe(): \n",
    "    return int(random.uniform(1,7))\n",
    "\n",
    "def uniformite(n):\n",
    "    t = creerTableau(n,0)\n",
    "    for i in range(n): \n",
    "        m = lancerDe()\n",
    "        while m>0:\n",
    "            print(\"*\")\n",
    "            m=m-1\n",
    "\n",
    "uniformite(5)\n",
    "\n",
    "\n",
    "\n"
   ]
  },
  {
   "cell_type": "markdown",
   "id": "nominated-think",
   "metadata": {},
   "source": [
    "# Exercice complémentaire-2: estTrie(t,n)"
   ]
  },
  {
   "cell_type": "code",
   "execution_count": null,
   "id": "textile-transport",
   "metadata": {},
   "outputs": [],
   "source": [
    "\n",
    "\n",
    "\n",
    "\n",
    "\n",
    "\n",
    "\n",
    "\n",
    "\n",
    "\n",
    "\n"
   ]
  }
 ],
 "metadata": {
  "kernelspec": {
   "display_name": "Python 3",
   "language": "python",
   "name": "python3"
  },
  "language_info": {
   "codemirror_mode": {
    "name": "ipython",
    "version": 3
   },
   "file_extension": ".py",
   "mimetype": "text/x-python",
   "name": "python",
   "nbconvert_exporter": "python",
   "pygments_lexer": "ipython3",
   "version": "3.8.5"
  }
 },
 "nbformat": 4,
 "nbformat_minor": 5
}
