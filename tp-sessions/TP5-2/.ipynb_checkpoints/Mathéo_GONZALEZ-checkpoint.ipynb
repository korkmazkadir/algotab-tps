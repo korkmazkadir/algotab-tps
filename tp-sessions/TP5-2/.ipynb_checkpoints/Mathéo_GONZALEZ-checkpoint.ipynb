{
 "cells": [
  {
   "cell_type": "markdown",
   "id": "iraqi-bidding",
   "metadata": {},
   "source": [
    "# Hello World"
   ]
  },
  {
   "cell_type": "code",
   "execution_count": 3,
   "id": "boxed-aggregate",
   "metadata": {},
   "outputs": [
    {
     "data": {
      "application/javascript": [
       "IPython.notebook.set_autosave_interval(5000)"
      ]
     },
     "metadata": {},
     "output_type": "display_data"
    },
    {
     "name": "stdout",
     "output_type": "stream",
     "text": [
      "Autosaving every 5 seconds\n",
      "Use Chrome browser\n",
      "First, you should run this cell\n"
     ]
    }
   ],
   "source": [
    "# You can import bibTableau.py as described here\n",
    "from bibTableau import *\n",
    "\n",
    "#jupyter notebook autosave interval\n",
    "%autosave 5\n",
    "\n",
    "print(\"Use Chrome browser\")\n",
    "print(\"First, you should run this cell\")\n"
   ]
  },
  {
   "cell_type": "markdown",
   "id": "former-drive",
   "metadata": {},
   "source": [
    "# TP5-Exercice 2"
   ]
  },
  {
   "cell_type": "code",
   "execution_count": 11,
   "id": "engaged-category",
   "metadata": {},
   "outputs": [
    {
     "name": "stdout",
     "output_type": "stream",
     "text": [
      "0\n",
      "0\n",
      "16384\n"
     ]
    }
   ],
   "source": [
    "from bibTableau import *\n",
    "\n",
    "import time  \n",
    "\n",
    "##-----------------------------------------------------------\n",
    "## EXERCICE 2:\n",
    "\n",
    "\n",
    "#### Compléter ci-dessous supprimerOccurrences(t, n, elt)\n",
    "def supprimerOccurrences(t,n,x):\n",
    "    nbx=0\n",
    "    for i in range(n):\n",
    "            if t[i]==x:\n",
    "                nbx=nbx+1\n",
    "                for j in range (i,n-1):\n",
    "                    t[j]=t[j+1]\n",
    "    return(n-nbx)\n",
    "\n",
    "def tempsExecution (f, t, n, x): # Calcule, en millisecondes, le temps d'exécution de f(t, n, x)\n",
    "    time.perf_counter()\n",
    "    debut =  time.perf_counter()\n",
    "    f(t, n, x)\n",
    "    fin = time.perf_counter()\n",
    "    return round((fin - debut)*1000)\n",
    "\n",
    "\n",
    "def mystere(t,n,x): \n",
    "    continuer = True\n",
    "    while n>0 and continuer:\n",
    "        nbelem = supprimerPremiereOccurrence(t,n,x)\n",
    "        if nbelem == n :\n",
    "            continuer = False\n",
    "        else:\n",
    "         n = nbelem\n",
    "    return n\n",
    "\n",
    "def supprimerPremiereOccurrence(t, n, x): # O(n)\n",
    "    for i in range(n):\n",
    "        if t[i]==x:\n",
    "            return supprimer(t,n,i)\n",
    "    return n\n",
    "\n",
    "def supprimer (t, n, k): # O(n - k)\n",
    "   for i in range (k, n - 1):\n",
    "       t[i] = t[i + 1]\n",
    "   return n-1\n",
    "\n",
    "#### Ecrire ci-dessous les instructions permettant d'appliquer\n",
    "#### les consignes du TP5-2.2\n",
    "\n",
    "def cloner(t,n):\n",
    "    c = creerTableau(n)\n",
    "    for i in range(n):\n",
    "        c[i]=t[i]\n",
    "    return c\n",
    "\n",
    "n=100\n",
    "to=creerTableauAleatoire(n,-10,10)\n",
    "tc=cloner(to,n)\n",
    "print(tempsExecution(mystere,to,n,0))\n",
    "print(tempsExecution(supprimerOccurrences,tc,n,0))\n",
    "\n",
    "\n",
    "#### Compléter ci-dessous la fonction tailleMini(ms)\n",
    "def tailleMini(ms):\n",
    "    n = 1\n",
    "    t1 = creerTableauAleatoire(n,-10,10)\n",
    "    t2 = creerTableauAleatoire(n,-10,10)\n",
    "    while tempsExecution(mystere,t1,n,0)-tempsExecution(supprimerOccurrences,t2,n,0)<ms :\n",
    "        n=2*n\n",
    "        t1 = creerTableauAleatoire(n,-10,10)\n",
    "        t2 = creerTableauAleatoire(n,-10,10)\n",
    "    return(n)\n",
    "\n",
    "print(tailleMini(500))"
   ]
  },
  {
   "cell_type": "markdown",
   "id": "studied-folder",
   "metadata": {},
   "source": [
    "# TP4-Exercice 3.1"
   ]
  },
  {
   "cell_type": "code",
   "execution_count": null,
   "id": "amber-result",
   "metadata": {},
   "outputs": [],
   "source": [
    "\n",
    "def rotationAdroite(t, n):\n",
    "    \"\"\"Exercice 3-1\"\"\"\n",
    "\n",
    "    \n",
    "    \n",
    "def rotationADroiteDeK_V1(t, n, k):\n",
    "    \"\"\"Exercice 3-2(a)\"\"\"\n",
    "\n",
    "\n",
    "    \n",
    "\n",
    "def rotationADroiteDeK_V2(t, n, k):\n",
    "    \"\"\"Exercice 3-2(b)\"\"\"\n",
    "\n",
    "    \n",
    "    \n",
    "def testRotations():\n",
    "    print()\n",
    "    print()       \n",
    "    print(\"TESTS des fonctions: rotationAdroite, rotationADroiteDeK_V1, rotationADroiteDeK_V2\")\n",
    "    print(\"----------------------------------------------------------------------------------\")\n",
    "    print()\n",
    "\n",
    "\n",
    "\n",
    "    t = [0, 1, 2, 3, 4, 5, 6, None, None, None]\n",
    "\n",
    "    print(t, \"on effectue une rotation à droite de 1 case :\", sep = \"\\n\")\n",
    "    rotationAdroite(t, 7)\n",
    "    print(t)\n",
    "    print()\n",
    "\n",
    "    print(t, \"on effectue une rotation à droite de 3 cases V1 :\", sep = \"\\n\")\n",
    "    rotationADroiteDeK_V1(t, 7, 3)\n",
    "    print(t, \"on effectue une rotation à droite de 3 cases V2 :\", sep = \"\\n\")\n",
    "\n",
    "    rotationADroiteDeK_V2(t, 7, 3)\n",
    "    print(t, \"\\n\")\n",
    "    print(t, \"on effectue une rotation à droite de 9 cases V1 :\", sep = \"\\n\")\n",
    "    rotationADroiteDeK_V1(t, 7, 9)\n",
    "    print(t, \"on effectue une rotation à droite de 9 cases V2 :\", sep = \"\\n\")\n",
    "    rotationADroiteDeK_V2(t, 7, 9)\n",
    "    print(t)\n",
    "\n",
    "\n",
    "testRotations()\n",
    "\n",
    "    \n",
    "\n"
   ]
  },
  {
   "cell_type": "markdown",
   "id": "running-concentrate",
   "metadata": {},
   "source": [
    "# Exercice complémentaire 1"
   ]
  },
  {
   "cell_type": "code",
   "execution_count": null,
   "id": "alpha-service",
   "metadata": {},
   "outputs": [],
   "source": [
    "from bibTableau import *\n",
    "\n",
    "##---------------------------------------------------------\n",
    "## EXERCICE COMPLEMENTAIRE 1:\n",
    "\n",
    "\n",
    "#### Compléter ci-dessous la fonction ligneTrianglePascal(n)\n",
    "def ligneTrianglePascal(n):\n",
    "    \"\"\"Exercice Complémentaire (TP5)\"\"\"\n",
    "\n",
    "    \n",
    "\n",
    "def afficheLigne(t):\n",
    "    for i in range (len(t)):\n",
    "        print('%5d' % (t[i]) , end='')\n",
    "    print()\n",
    "\n",
    "def testPascal (n=10):\n",
    "    print(\" triangle de Pascal pour n =\", n)\n",
    "    for n in range(n + 1):\n",
    "        afficheLigne(ligneTrianglePascal(n))\n",
    "\n",
    "#testPascal()  ### décommenter pour appeler la fonction\n"
   ]
  },
  {
   "cell_type": "markdown",
   "id": "accurate-westminster",
   "metadata": {},
   "source": [
    "# DSI 1 - produitDesChiffres(n)"
   ]
  },
  {
   "cell_type": "code",
   "execution_count": null,
   "id": "lovely-adoption",
   "metadata": {},
   "outputs": [],
   "source": [
    "# Soit n un entier, on souhaite écrire une fonction produitDesChiffres(n) qui renvoie le produit des\n",
    "# chiffres composant le nombre n. Par exemple, produitDesChiffres(7123) renverra\n",
    "# 42 car 7 × 1 × 2 × 3 = 42.\n",
    "\n",
    "\n",
    "def  produitDesChiffres(n):\n",
    "    \n",
    "    \n",
    "\n",
    "    \n",
    "    \n",
    "# Aide : En python pour qu’une fonction renvoie un couple de valeurs (p, c) on utilise la syntaxe\n",
    "# return (p, c) Notez que cette syntaxe n’est pas valable en C.\n",
    "# Par exemple :\n",
    "# produitReduitDesChiffres(7123) renverra (8, 2), car produitDesChiffres(7123) renvoie\n",
    "# 42. Comme ce nombre ne s’écrit pas sur un seul chiffre, alors on rappelle\n",
    "# produitDesChiffres(42) pour finalement obtenir 8 et comme 8 s’écrit sur un chiffre, le\n",
    "# calcul se termine. Il aura été nécessaire d’effectuer 2 appels à la fonction produitDesChiffres,\n",
    "# c’est pourquoi le résultat renvoyé par produitReduitDesChiffres(7123) est bien (8, 2).\n",
    "    \n",
    "    \n",
    "    \n",
    "    \n",
    "def produitReduitDesChiffres(n):\n",
    "    \n",
    "\n",
    "\n",
    "\n",
    "\n",
    "    \n",
    "    \n",
    "    \n"
   ]
  }
 ],
 "metadata": {
  "kernelspec": {
   "display_name": "Python 3",
   "language": "python",
   "name": "python3"
  },
  "language_info": {
   "codemirror_mode": {
    "name": "ipython",
    "version": 3
   },
   "file_extension": ".py",
   "mimetype": "text/x-python",
   "name": "python",
   "nbconvert_exporter": "python",
   "pygments_lexer": "ipython3",
   "version": "3.8.5"
  }
 },
 "nbformat": 4,
 "nbformat_minor": 5
}
