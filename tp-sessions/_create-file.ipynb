{
 "cells": [
  {
   "cell_type": "code",
   "execution_count": 2,
   "id": "passive-universe",
   "metadata": {},
   "outputs": [
    {
     "data": {
      "application/vnd.jupyter.widget-view+json": {
       "model_id": "3883dff1a4e74bd1a79a00842df24540",
       "version_major": 2,
       "version_minor": 0
      },
      "text/plain": [
       "VBox(children=(Text(value='', description='Your first name: ', placeholder='first name'), Text(value='', descr…"
      ]
     },
     "metadata": {},
     "output_type": "display_data"
    }
   ],
   "source": [
    "import ipywidgets as widgets\n",
    "import shutil\n",
    "\n",
    "output = widgets.Output()\n",
    "\n",
    "txt_first_name = widgets.Text(\n",
    "    value='',\n",
    "    placeholder='first name',\n",
    "    description='Your first name: ',\n",
    "    disabled=False\n",
    ")\n",
    "\n",
    "txt_last_name = widgets.Text(\n",
    "    value='',\n",
    "    placeholder='last name',\n",
    "    description='Your last name: ',\n",
    "    disabled=False\n",
    ")\n",
    "\n",
    "btn_create = widgets.Button(\n",
    "    description='Create File',\n",
    "    disabled=False,\n",
    "    button_style='success', # 'success', 'info', 'warning', 'danger' or ''\n",
    "    tooltip='Create File',\n",
    "    icon='check'\n",
    ")\n",
    "\n",
    "\n",
    "def on_button_clicked(b):\n",
    "    \n",
    "    with output:\n",
    "        if(txt_file_name.value == \"\"):\n",
    "            print(\"enter your name properly!\")\n",
    "            return\n",
    "        user_file = shutil.copy(\"./template.ipynb\", txt_file_name.value + \".ipynb\")\n",
    "        print(\"Your file is \" + user_file)\n",
    "        \n",
    "\n",
    "btn_create.on_click(on_button_clicked)\n",
    "\n",
    "widgets.VBox([txt_first_name,txt_last_name, btn_create, output])\n"
   ]
  }
 ],
 "metadata": {
  "celltoolbar": "Tags",
  "kernelspec": {
   "display_name": "Python 3",
   "language": "python",
   "name": "python3"
  },
  "language_info": {
   "codemirror_mode": {
    "name": "ipython",
    "version": 3
   },
   "file_extension": ".py",
   "mimetype": "text/x-python",
   "name": "python",
   "nbconvert_exporter": "python",
   "pygments_lexer": "ipython3",
   "version": "3.7.3"
  },
  "widgets": {
   "application/vnd.jupyter.widget-state+json": {
    "state": {
     "0716f43caeb341309192154948a5510c": {
      "model_module": "@jupyter-widgets/base",
      "model_module_version": "1.2.0",
      "model_name": "LayoutModel",
      "state": {}
     },
     "18f4475026284ab9801ebaf7c4c1f1f8": {
      "model_module": "@jupyter-widgets/controls",
      "model_module_version": "1.5.0",
      "model_name": "DescriptionStyleModel",
      "state": {
       "description_width": ""
      }
     },
     "197f94de7d9849c9add34b58dc75cb60": {
      "model_module": "@jupyter-widgets/base",
      "model_module_version": "1.2.0",
      "model_name": "LayoutModel",
      "state": {}
     },
     "2bb707c375c6431daacfd5da905ffb4f": {
      "model_module": "@jupyter-widgets/controls",
      "model_module_version": "1.5.0",
      "model_name": "ButtonModel",
      "state": {
       "button_style": "success",
       "description": "Create File",
       "icon": "check",
       "layout": "IPY_MODEL_d542004deba6458db0bceaddf34d632a",
       "style": "IPY_MODEL_bc6e4f3589074faa97e0a4ca7f203457",
       "tooltip": "Create File"
      }
     },
     "7220b89e650941438fa94074e60246c6": {
      "model_module": "@jupyter-widgets/output",
      "model_module_version": "1.0.0",
      "model_name": "OutputModel",
      "state": {
       "layout": "IPY_MODEL_0716f43caeb341309192154948a5510c"
      }
     },
     "bc6e4f3589074faa97e0a4ca7f203457": {
      "model_module": "@jupyter-widgets/controls",
      "model_module_version": "1.5.0",
      "model_name": "ButtonStyleModel",
      "state": {}
     },
     "d4fa84d5936246f99d5553e876bba45b": {
      "model_module": "@jupyter-widgets/controls",
      "model_module_version": "1.5.0",
      "model_name": "VBoxModel",
      "state": {
       "children": [
        "IPY_MODEL_f58b218dd08545a6a115a213778f1acb",
        "IPY_MODEL_2bb707c375c6431daacfd5da905ffb4f",
        "IPY_MODEL_7220b89e650941438fa94074e60246c6"
       ],
       "layout": "IPY_MODEL_197f94de7d9849c9add34b58dc75cb60"
      }
     },
     "d542004deba6458db0bceaddf34d632a": {
      "model_module": "@jupyter-widgets/base",
      "model_module_version": "1.2.0",
      "model_name": "LayoutModel",
      "state": {}
     },
     "f58b218dd08545a6a115a213778f1acb": {
      "model_module": "@jupyter-widgets/controls",
      "model_module_version": "1.5.0",
      "model_name": "TextModel",
      "state": {
       "description": "Your Name:",
       "layout": "IPY_MODEL_ff6340619d9b4ba69460e200d674caaf",
       "placeholder": "name_surname",
       "style": "IPY_MODEL_18f4475026284ab9801ebaf7c4c1f1f8"
      }
     },
     "ff6340619d9b4ba69460e200d674caaf": {
      "model_module": "@jupyter-widgets/base",
      "model_module_version": "1.2.0",
      "model_name": "LayoutModel",
      "state": {}
     }
    },
    "version_major": 2,
    "version_minor": 0
   }
  }
 },
 "nbformat": 4,
 "nbformat_minor": 5
}
