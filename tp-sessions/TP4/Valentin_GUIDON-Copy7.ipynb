{
 "cells": [
  {
   "cell_type": "markdown",
   "id": "sealed-purple",
   "metadata": {},
   "source": [
    "# Hello World"
   ]
  },
  {
   "cell_type": "code",
   "execution_count": 15,
   "id": "boolean-science",
   "metadata": {},
   "outputs": [
    {
     "data": {
      "application/javascript": [
       "IPython.notebook.set_autosave_interval(5000)"
      ]
     },
     "metadata": {},
     "output_type": "display_data"
    },
    {
     "name": "stdout",
     "output_type": "stream",
     "text": [
      "Autosaving every 5 seconds\n",
      "Use Chrome browser\n",
      "First, you should run this cell\n"
     ]
    }
   ],
   "source": [
    "\n",
    "# You can import bibTableau.py as described here\n",
    "from bibTableau import *\n",
    "\n",
    "#jupyter notebook autosave interval\n",
    "%autosave 5\n",
    "\n",
    "print(\"Use Chrome browser\")\n",
    "print(\"First, you should run this cell\")\n"
   ]
  },
  {
   "cell_type": "markdown",
   "id": "detected-vessel",
   "metadata": {},
   "source": [
    "# Exercice 1"
   ]
  },
  {
   "cell_type": "markdown",
   "id": "settled-maple",
   "metadata": {},
   "source": [
    "## Exercice 1.1: inserer (t, n, e, k)"
   ]
  },
  {
   "cell_type": "code",
   "execution_count": 16,
   "id": "comprehensive-course",
   "metadata": {},
   "outputs": [],
   "source": [
    "def inserer(t, n, elt, k):  \n",
    "    if k>=n:\n",
    "        k=n\n",
    "    for i in range(k+1,n+1):\n",
    "        a = t[i]\n",
    "        t[i] = elt\n",
    "        elt =a\n",
    "        \n",
    "t = [5,4,3,12,0,4,7,2,None,None]\n",
    "inserer(t,8,6,4)\n",
    "\n"
   ]
  },
  {
   "cell_type": "markdown",
   "id": "greek-fiber",
   "metadata": {},
   "source": [
    "## Exercice 1.2: supprimer (t, n, k)"
   ]
  },
  {
   "cell_type": "code",
   "execution_count": 37,
   "id": "tender-brook",
   "metadata": {
    "scrolled": true
   },
   "outputs": [
    {
     "name": "stdout",
     "output_type": "stream",
     "text": [
      "(9, [5, 4, 3, 0, 4, 7, 2, None, None, None])\n"
     ]
    }
   ],
   "source": [
    "def supprimer(t, n, k):\n",
    "    for i in range(k,n-1):\n",
    "        t[i]=t[i+1]\n",
    "    return n-1,t\n",
    "\n",
    "t = [5,4,3,12,0,4,7,2,None,None]\n",
    "print(supprimer(t, 10, 3))\n",
    "\n",
    "\n",
    "\n"
   ]
  },
  {
   "cell_type": "markdown",
   "id": "primary-selling",
   "metadata": {},
   "source": [
    "## Exercice 1.3: supprimerPremiereOccurrence(t, n, x)"
   ]
  },
  {
   "cell_type": "code",
   "execution_count": null,
   "id": "progressive-thursday",
   "metadata": {},
   "outputs": [],
   "source": [
    "def supprimer(t, n, k):\n",
    "    for i in range(k,n-1):\n",
    "        t[i]=t[i+1]\n",
    "    return n-1\n",
    "\n",
    "def supprimerPremiereOccurrence(t, n, elt):\n",
    "    for i in range(n):\n",
    "        if t[i]==elt:\n",
    "            supprimer(t, n,i)\n",
    "            return n"
   ]
  },
  {
   "cell_type": "markdown",
   "id": "reported-publication",
   "metadata": {},
   "source": [
    "## Exercice 1.4: insererOrdonne(t, n, e)"
   ]
  },
  {
   "cell_type": "code",
   "execution_count": 24,
   "id": "latter-devon",
   "metadata": {},
   "outputs": [
    {
     "name": "stdout",
     "output_type": "stream",
     "text": [
      "[2, 4, 5, 7, 10, 15, 20, 25, None, None]\n"
     ]
    }
   ],
   "source": [
    "def inserer(t, n, elt, k):\n",
    "    a=t[0]                               \n",
    "    for i in range(k+1,n+1):\n",
    "        a = t[i]\n",
    "        t[i] = elt\n",
    "        elt =a\n",
    "\n",
    "\n",
    "\n",
    "def insererOrdonne(t, n, elt):\n",
    "    for i in range(1,n):\n",
    "        if t[i-1]<=elt<=t[i+1]:\n",
    "            inserer(t, n, elt, i)\n",
    "            return t\n",
    "        \n",
    "t =[2,4,7,10,15,20,25,None,None,None]\n",
    "print(insererOrdonne(t,7,5))\n",
    "\n"
   ]
  },
  {
   "cell_type": "markdown",
   "id": "given-serve",
   "metadata": {},
   "source": [
    "# Exercice 2: estCroissant(t, n)"
   ]
  },
  {
   "cell_type": "code",
   "execution_count": 17,
   "id": "ancient-explorer",
   "metadata": {},
   "outputs": [
    {
     "data": {
      "text/plain": [
       "False"
      ]
     },
     "execution_count": 17,
     "metadata": {},
     "output_type": "execute_result"
    }
   ],
   "source": [
    "def estCroissant(t,n): \n",
    "    for i in range(1,n):\n",
    "        if t[i]>t[i+1]:\n",
    "            return False\n",
    "    return True\n",
    "\n",
    "t = [0,1,6,3,4,5,6]\n",
    "estCroissant(t, 7)\n"
   ]
  },
  {
   "cell_type": "markdown",
   "id": "proved-closure",
   "metadata": {},
   "source": [
    "# Exercice 3"
   ]
  },
  {
   "cell_type": "markdown",
   "id": "standard-maldives",
   "metadata": {},
   "source": [
    "## Exercice 3.1:  rotationAdroite(t, n)"
   ]
  },
  {
   "cell_type": "code",
   "execution_count": 31,
   "id": "miniature-comparative",
   "metadata": {},
   "outputs": [
    {
     "name": "stdout",
     "output_type": "stream",
     "text": [
      "[6, 0, 1, 2, 3, 4, 5, None, None, None]\n"
     ]
    }
   ],
   "source": [
    "def rotationAdroite(t, n):\n",
    "    if n>1:\n",
    "        a = t[n-1]\n",
    "        for i in range(n-1,0,-1):\n",
    "            t[i]=t[i-1]\n",
    "        t[0] = a\n",
    "        return t\n",
    "t = [0,1,2,3,4,5,6,None,None,None]\n",
    "print(rotationAdroite(t,7))\n",
    "\n",
    "\n",
    "\n",
    "\n",
    "\n",
    "\n"
   ]
  },
  {
   "cell_type": "markdown",
   "id": "juvenile-satisfaction",
   "metadata": {},
   "source": [
    "## Exercice 3.2: rotationADroiteDeK(t,n,k)"
   ]
  },
  {
   "cell_type": "code",
   "execution_count": 39,
   "id": "satisfactory-china",
   "metadata": {},
   "outputs": [
    {
     "name": "stdout",
     "output_type": "stream",
     "text": [
      "[4, 5, 1, 2, 3, 6, 7, None, None, None]\n",
      "[2, 3, 4, 5, 1, 6, 7, None, None, None]\n"
     ]
    }
   ],
   "source": [
    "def rotationAdroite(t, n):\n",
    "    if n>1:\n",
    "        a = t[n-1]\n",
    "        for i in range(n-1,0,-1):\n",
    "            t[i]=t[i-1]\n",
    "        t[0] = a\n",
    "\n",
    "\n",
    "def rotationADroiteDeK_V1(t, n, k):\n",
    "    for i in range(k):\n",
    "        rotationAdroite(t, n)\n",
    "    return t\n",
    "        \n",
    "from bibTableau import *\n",
    "\n",
    "def rotationADroiteDeK_V2(t, n, k):\n",
    "    a=creerTableau(n)\n",
    "    for i in range(k):\n",
    "        a[i]= t[n-k+i]\n",
    "    for i in range(n-k):\n",
    "        a[i+k]= t[i]\n",
    "    for i in range(n):\n",
    "        t[i]= a[i]\n",
    "    return t\n",
    "t = [1,2,3,4,5,6,7,None,None,None]  \n",
    "\n",
    "def affichage():\n",
    "    print(rotationADroiteDeK_V1(t, 5, 2))\n",
    "    print(rotationADroiteDeK_V2(t, 5, 2))\n",
    "\n",
    "affichage()\n",
    "\n",
    "\n",
    "\n",
    "\n"
   ]
  },
  {
   "cell_type": "markdown",
   "id": "empirical-terminology",
   "metadata": {},
   "source": [
    "# Exercice complémentaire 1:"
   ]
  },
  {
   "cell_type": "code",
   "execution_count": null,
   "id": "manual-baseball",
   "metadata": {},
   "outputs": [],
   "source": [
    "\n",
    "\n",
    "\n",
    "\n",
    "\n",
    "\n",
    "\n",
    "\n"
   ]
  },
  {
   "cell_type": "markdown",
   "id": "annual-glenn",
   "metadata": {},
   "source": [
    "# Exercice complémentaire 2:"
   ]
  },
  {
   "cell_type": "code",
   "execution_count": null,
   "id": "demographic-tattoo",
   "metadata": {},
   "outputs": [],
   "source": [
    "\n",
    "\n",
    "\n",
    "\n",
    "\n",
    "\n",
    "\n",
    "\n"
   ]
  }
 ],
 "metadata": {
  "kernelspec": {
   "display_name": "Python 3",
   "language": "python",
   "name": "python3"
  },
  "language_info": {
   "codemirror_mode": {
    "name": "ipython",
    "version": 3
   },
   "file_extension": ".py",
   "mimetype": "text/x-python",
   "name": "python",
   "nbconvert_exporter": "python",
   "pygments_lexer": "ipython3",
   "version": "3.8.5"
  }
 },
 "nbformat": 4,
 "nbformat_minor": 5
}
