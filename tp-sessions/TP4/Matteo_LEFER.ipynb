{
 "cells": [
  {
   "cell_type": "markdown",
   "id": "sealed-purple",
   "metadata": {},
   "source": [
    "# Hello World"
   ]
  },
  {
   "cell_type": "code",
   "execution_count": 2,
   "id": "boolean-science",
   "metadata": {},
   "outputs": [
    {
     "data": {
      "application/javascript": [
       "IPython.notebook.set_autosave_interval(5000)"
      ]
     },
     "metadata": {},
     "output_type": "display_data"
    },
    {
     "name": "stdout",
     "output_type": "stream",
     "text": [
      "Autosaving every 5 seconds\n",
      "Use Chrome browser\n",
      "First, you should run this cell\n"
     ]
    }
   ],
   "source": [
    "\n",
    "# You can import bibTableau.py as described here\n",
    "from bibTableau import *\n",
    "\n",
    "#jupyter notebook autosave interval\n",
    "%autosave 5\n",
    "\n",
    "print(\"Use Chrome browser\")\n",
    "print(\"First, you should run this cell\")\n"
   ]
  },
  {
   "cell_type": "markdown",
   "id": "detected-vessel",
   "metadata": {},
   "source": [
    "# Exercice 1"
   ]
  },
  {
   "cell_type": "markdown",
   "id": "settled-maple",
   "metadata": {},
   "source": [
    "## Exercice 1.1: inserer (t, n, e, k)"
   ]
  },
  {
   "cell_type": "code",
   "execution_count": 1,
   "id": "comprehensive-course",
   "metadata": {},
   "outputs": [
    {
     "ename": "SyntaxError",
     "evalue": "unexpected EOF while parsing (<ipython-input-1-95c986e3a4e7>, line 9)",
     "output_type": "error",
     "traceback": [
      "\u001b[0;36m  File \u001b[0;32m\"<ipython-input-1-95c986e3a4e7>\"\u001b[0;36m, line \u001b[0;32m9\u001b[0m\n\u001b[0;31m    \u001b[0m\n\u001b[0m    ^\u001b[0m\n\u001b[0;31mSyntaxError\u001b[0m\u001b[0;31m:\u001b[0m unexpected EOF while parsing\n"
     ]
    }
   ],
   "source": [
    "def inserer(t, n, e, k):\n",
    "    if k>=n:\n",
    "        k = n\n",
    "    for i in range(k, n+1):\n",
    "        aux = t[i]\n",
    "        t[i] = e\n",
    "        e = aux\n",
    "    return n+1\n",
    "\n",
    "\n",
    "\n",
    "\n"
   ]
  },
  {
   "cell_type": "markdown",
   "id": "greek-fiber",
   "metadata": {},
   "source": [
    "## Exercice 1.2: supprimer (t, n, k)"
   ]
  },
  {
   "cell_type": "code",
   "execution_count": 12,
   "id": "tender-brook",
   "metadata": {},
   "outputs": [
    {
     "name": "stdout",
     "output_type": "stream",
     "text": [
      "[1, 2, 3, 5, 5]\n"
     ]
    }
   ],
   "source": [
    "def supprimer(t, n, k):\n",
    "    for i in range(k, n):\n",
    "        t[i] = t[i+1]\n",
    "    return n-1\n",
    "\n",
    "\n",
    "t = [1, 2, 3, 4, 5]\n",
    "supprimer(t, 4, 3)\n",
    "print(t)\n",
    "\n",
    "\n"
   ]
  },
  {
   "cell_type": "markdown",
   "id": "primary-selling",
   "metadata": {},
   "source": [
    "## Exercice 1.3: supprimerPremiereOccurrence(t, n, x)"
   ]
  },
  {
   "cell_type": "code",
   "execution_count": null,
   "id": "progressive-thursday",
   "metadata": {},
   "outputs": [],
   "source": [
    "def supprimerPremiereOccurrence(t, n, x):\n",
    "    for i in t:\n",
    "        if t[i] = x:\n",
    "            for i in range(k, n):\n",
    "                t[i] = t[i+1]\n",
    "            return n-1\n",
    "        else:\n",
    "            return n\n",
    "\n"
   ]
  },
  {
   "cell_type": "markdown",
   "id": "reported-publication",
   "metadata": {},
   "source": [
    "## Exercice 1.4: insererOrdonne(t, n, e)"
   ]
  },
  {
   "cell_type": "code",
   "execution_count": 15,
   "id": "latter-devon",
   "metadata": {},
   "outputs": [
    {
     "name": "stdout",
     "output_type": "stream",
     "text": [
      "[1, 2, 3, 3, 4]\n"
     ]
    }
   ],
   "source": [
    "def insererOrdonne(t, n, e):\n",
    "    for i in t:\n",
    "        if e >= t[i] and e <= t[i+1]:\n",
    "            k = i + 1\n",
    "            for j in range(k, n+1):\n",
    "                aux = t[j]\n",
    "                t[j] = e\n",
    "                e = aux\n",
    "            return n+1\n",
    "        if e < t[0]:\n",
    "            k = i + 1\n",
    "            for j in range(k, n+1):\n",
    "                aux = t[j]\n",
    "                t[j] = e\n",
    "                e = aux\n",
    "            return n+1\n",
    "        if e > t[n]:\n",
    "            t = t + [e]\n",
    "            return n+1\n",
    "        \n",
    "\n",
    "\n",
    "t = [1, 2, 3, 4, 5]\n",
    "insererOrdonne(t, 4, 3)\n",
    "print(t)\n",
    "\n"
   ]
  },
  {
   "cell_type": "markdown",
   "id": "given-serve",
   "metadata": {},
   "source": [
    "# Exercice 2: estCroissant(t, n)"
   ]
  },
  {
   "cell_type": "code",
   "execution_count": 22,
   "id": "ancient-explorer",
   "metadata": {},
   "outputs": [
    {
     "data": {
      "text/plain": [
       "False"
      ]
     },
     "execution_count": 22,
     "metadata": {},
     "output_type": "execute_result"
    }
   ],
   "source": [
    "def estCroissant(t, n):\n",
    "    cpt = 0\n",
    "    for i in range(n):\n",
    "        if t[i] < t[i+1]:\n",
    "            cpt += 1\n",
    "        else:\n",
    "            return False\n",
    "    if cpt == n:\n",
    "        return True\n",
    "    \n",
    "    \n",
    "t = [1, 4, 3, 4, 5]\n",
    "estCroissant(t, 5)\n",
    "\n",
    "\n",
    "\n"
   ]
  },
  {
   "cell_type": "markdown",
   "id": "proved-closure",
   "metadata": {},
   "source": [
    "# Exercice 3"
   ]
  },
  {
   "cell_type": "markdown",
   "id": "standard-maldives",
   "metadata": {},
   "source": [
    "## Exercice 3.1:  rotationAdroite(t, n)"
   ]
  },
  {
   "cell_type": "code",
   "execution_count": 32,
   "id": "miniature-comparative",
   "metadata": {},
   "outputs": [
    {
     "name": "stdout",
     "output_type": "stream",
     "text": [
      "[5, 1, 4, 3, 4, None, None]\n"
     ]
    }
   ],
   "source": [
    "def rotationAdroite(t, n):\n",
    "    for i in range(n, 0, -1):\n",
    "        t[i] = t[i-1]\n",
    "    t[0] = t[n]\n",
    "    t[n] = None\n",
    "    return n+1\n",
    "    \n",
    "\n",
    "t = [1, 4, 3, 4, 5, None, None]\n",
    "rotationAdroite(t, 5)\n",
    "print(t)\n",
    "\n",
    "\n",
    "\n",
    "\n"
   ]
  },
  {
   "cell_type": "markdown",
   "id": "juvenile-satisfaction",
   "metadata": {},
   "source": [
    "## Exercice 3.2: rotationADroiteDeK(t,n,k)"
   ]
  },
  {
   "cell_type": "code",
   "execution_count": 34,
   "id": "satisfactory-china",
   "metadata": {},
   "outputs": [
    {
     "name": "stdout",
     "output_type": "stream",
     "text": [
      "[3, 4, 5, 1, 4, None, None]\n"
     ]
    }
   ],
   "source": [
    "def rotationAdroiteDeK(t, n, k):\n",
    "    for i in range(k):\n",
    "        for i in range(n, 0, -1):\n",
    "            t[i] = t[i-1]\n",
    "        t[0] = t[n]\n",
    "        t[n] = None\n",
    "    return n+1\n",
    "    \n",
    "\n",
    "t = [1, 4, 3, 4, 5, None, None]\n",
    "rotationAdroiteDeK(t, 5, 3)\n",
    "print(t)\n",
    "\n",
    "\n"
   ]
  },
  {
   "cell_type": "markdown",
   "id": "empirical-terminology",
   "metadata": {},
   "source": [
    "# Exercice complémentaire 1:"
   ]
  },
  {
   "cell_type": "code",
   "execution_count": null,
   "id": "manual-baseball",
   "metadata": {},
   "outputs": [],
   "source": [
    "\n",
    "\n",
    "\n",
    "\n",
    "\n",
    "\n",
    "\n",
    "\n"
   ]
  },
  {
   "cell_type": "markdown",
   "id": "annual-glenn",
   "metadata": {},
   "source": [
    "# Exercice complémentaire 2:"
   ]
  },
  {
   "cell_type": "code",
   "execution_count": null,
   "id": "demographic-tattoo",
   "metadata": {},
   "outputs": [],
   "source": [
    "\n",
    "\n",
    "\n",
    "\n",
    "\n",
    "\n",
    "\n",
    "\n"
   ]
  }
 ],
 "metadata": {
  "kernelspec": {
   "display_name": "Python 3",
   "language": "python",
   "name": "python3"
  },
  "language_info": {
   "codemirror_mode": {
    "name": "ipython",
    "version": 3
   },
   "file_extension": ".py",
   "mimetype": "text/x-python",
   "name": "python",
   "nbconvert_exporter": "python",
   "pygments_lexer": "ipython3",
   "version": "3.8.5"
  }
 },
 "nbformat": 4,
 "nbformat_minor": 5
}
