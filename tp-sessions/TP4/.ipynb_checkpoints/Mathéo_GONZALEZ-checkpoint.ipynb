{
 "cells": [
  {
   "cell_type": "markdown",
   "id": "sealed-purple",
   "metadata": {},
   "source": [
    "# Hello World"
   ]
  },
  {
   "cell_type": "code",
   "execution_count": null,
   "id": "boolean-science",
   "metadata": {},
   "outputs": [],
   "source": [
    "\n",
    "# You can import bibTableau.py as described here\n",
    "from bibTableau import *\n",
    "\n",
    "#jupyter notebook autosave interval\n",
    "%autosave 5\n",
    "\n",
    "print(\"Use Chrome browser\")\n",
    "print(\"First, you should run this cell\")\n"
   ]
  },
  {
   "cell_type": "markdown",
   "id": "detected-vessel",
   "metadata": {},
   "source": [
    "# Exercice 1"
   ]
  },
  {
   "cell_type": "markdown",
   "id": "settled-maple",
   "metadata": {},
   "source": [
    "## Exercice 1.1: inserer (t, n, e, k)"
   ]
  },
  {
   "cell_type": "code",
   "execution_count": 4,
   "id": "comprehensive-course",
   "metadata": {},
   "outputs": [
    {
     "name": "stdout",
     "output_type": "stream",
     "text": [
      "[5, 4, 3, 12, 0, 4, 7, 2, None, None]\n",
      "9\n",
      "[5, 4, 3, 12, 6, 0, 4, 7, 2, None]\n"
     ]
    }
   ],
   "source": [
    "def inserer(t, n, e, k):\n",
    "    if k>n:\n",
    "        k=n\n",
    "    for i in range(n,k,-1):\n",
    "        t[i]=t[i-1]\n",
    "    t[k]=e\n",
    "    return n+1\n",
    "\n",
    "\n",
    "t=[5,4,3,12,0,4,7,2,None,None]\n",
    "print(t)\n",
    "print(inserer(t,8,6,4))\n",
    "print(t)\n"
   ]
  },
  {
   "cell_type": "markdown",
   "id": "greek-fiber",
   "metadata": {},
   "source": [
    "## Exercice 1.2: supprimer (t, n, k)"
   ]
  },
  {
   "cell_type": "code",
   "execution_count": 9,
   "id": "tender-brook",
   "metadata": {},
   "outputs": [
    {
     "name": "stdout",
     "output_type": "stream",
     "text": [
      "[5, 4, 3, 12, 0, 4, 7, 2, None, None]\n",
      "7\n",
      "[5, 4, 3, 12, 0, 4, 2, None, None, None]\n"
     ]
    }
   ],
   "source": [
    "def supprimer(t,n,k):\n",
    "    for i in range(k,n-1):\n",
    "        t[i]=t[i+1]\n",
    "    t[n-1]=None\n",
    "    return n-1\n",
    "\n",
    "\n",
    "t=[5,4,3,12,0,4,7,2,None,None]\n",
    "print(t)\n",
    "print(supprimer(t,8,6))\n",
    "print(t)\n"
   ]
  },
  {
   "cell_type": "markdown",
   "id": "primary-selling",
   "metadata": {},
   "source": [
    "## Exercice 1.3: supprimerPremiereOccurrence(t, n, x)"
   ]
  },
  {
   "cell_type": "code",
   "execution_count": 11,
   "id": "progressive-thursday",
   "metadata": {},
   "outputs": [
    {
     "name": "stdout",
     "output_type": "stream",
     "text": [
      "[5, 4, 3, 12, 0, 4, 7, 2, None, None]\n",
      "7\n",
      "[5, 3, 12, 0, 4, 7, 2, None, None, None]\n"
     ]
    }
   ],
   "source": [
    "def supprimerPremiereOccurence(t,n,x):\n",
    "    for i in range(n):\n",
    "        if t[i]==x:\n",
    "            return supprimer(t,n,i)\n",
    "    return n\n",
    "\n",
    "\n",
    "t=[5,4,3,12,0,4,7,2,None,None]\n",
    "print(t)\n",
    "print(supprimerPremiereOccurence(t,8,4))\n",
    "print(t)\n"
   ]
  },
  {
   "cell_type": "markdown",
   "id": "reported-publication",
   "metadata": {},
   "source": [
    "## Exercice 1.4: insererOrdonne(t, n, e)"
   ]
  },
  {
   "cell_type": "code",
   "execution_count": 12,
   "id": "latter-devon",
   "metadata": {},
   "outputs": [
    {
     "name": "stdout",
     "output_type": "stream",
     "text": [
      "[2, 4, 7, 10, 15, 20, 25, None, None, None]\n",
      "8\n",
      "[2, 4, 5, 7, 10, 15, 20, 25, None, None]\n"
     ]
    }
   ],
   "source": [
    "def insererOrdonne(t,n,e):\n",
    "    i = n\n",
    "    while i>0 and t[i-1]>e:\n",
    "        t[i]=t[i-1]\n",
    "        i=i-1\n",
    "    t[i]=e\n",
    "    return n+1\n",
    "\n",
    "t =[2,4,7,10,15,20,25,None,None,None]\n",
    "print(t)\n",
    "print(insererOrdonne(t,7,5))\n",
    "print(t)\n",
    "\n"
   ]
  },
  {
   "cell_type": "markdown",
   "id": "given-serve",
   "metadata": {},
   "source": [
    "# Exercice 2: estCroissant(t, n)"
   ]
  },
  {
   "cell_type": "code",
   "execution_count": 15,
   "id": "ancient-explorer",
   "metadata": {},
   "outputs": [
    {
     "name": "stdout",
     "output_type": "stream",
     "text": [
      "True\n",
      "False\n"
     ]
    }
   ],
   "source": [
    "def estCroissant(t,n):\n",
    "    for i in range(n-1):\n",
    "        if t[i]>t[i+1]:\n",
    "            return False\n",
    "    return True\n",
    "\n",
    "t=[0,1,3,3,4,6,8]\n",
    "f=[0,3,5,1,9,2,1]\n",
    "print(estCroissant(t,7))\n",
    "print(estCroissant(f,7))\n",
    "\n"
   ]
  },
  {
   "cell_type": "markdown",
   "id": "proved-closure",
   "metadata": {},
   "source": [
    "# Exercice 3"
   ]
  },
  {
   "cell_type": "markdown",
   "id": "standard-maldives",
   "metadata": {},
   "source": [
    "## Exercice 3.1:  rotationAdroite(t, n)"
   ]
  },
  {
   "cell_type": "code",
   "execution_count": 22,
   "id": "miniature-comparative",
   "metadata": {},
   "outputs": [
    {
     "name": "stdout",
     "output_type": "stream",
     "text": [
      "None\n",
      "[6, 0, 1, 2, 3, 4, 5, None, None, None]\n"
     ]
    }
   ],
   "source": [
    "def rotationAdroite(t,n):\n",
    "    if n<2 :\n",
    "        return\n",
    "    x=t[n-1]\n",
    "    for i in range(n-1,0,-1):\n",
    "        t[i]=t[i-1]\n",
    "    t[0]=x\n",
    "\n",
    "\n",
    "t = [0,1,2,3,4,5,6,None,None,None] \n",
    "print(rotationAdroite(t,7))\n",
    "print(t)\n",
    "\n",
    "\n"
   ]
  },
  {
   "cell_type": "markdown",
   "id": "juvenile-satisfaction",
   "metadata": {},
   "source": [
    "## Exercice 3.2: rotationADroiteDeK(t,n,k)"
   ]
  },
  {
   "cell_type": "code",
   "execution_count": null,
   "id": "satisfactory-china",
   "metadata": {},
   "outputs": [],
   "source": [
    "\n",
    "# You should write two version of it as described.\n",
    "# rotationADroiteDeK_V1(t,n,k) <-- uses rotationAdroite\n",
    "\n",
    "def rotationADroiteDeK(t,n,k):\n",
    "    if n>1:\n",
    "        k=k%n\n",
    "        for i in range(k):\n",
    "            rotationAdroite(t,n)\n",
    "            \n",
    "t=[0,1,2,3,4,5,6,None,None,None]\n",
    "rotationADroiteDeK(t,7,3)\n",
    "print(t)\n",
    "    \n",
    "    \n",
    "# rotationADroiteDeK_V2(t,n,k) <-- uses an array\n",
    "\n",
    "\n",
    "    \n",
    "\n",
    "\n"
   ]
  },
  {
   "cell_type": "markdown",
   "id": "empirical-terminology",
   "metadata": {},
   "source": [
    "# Exercice complémentaire 1:"
   ]
  },
  {
   "cell_type": "code",
   "execution_count": null,
   "id": "manual-baseball",
   "metadata": {},
   "outputs": [],
   "source": [
    "\n",
    "\n",
    "\n",
    "\n",
    "\n",
    "\n",
    "\n",
    "\n"
   ]
  },
  {
   "cell_type": "markdown",
   "id": "annual-glenn",
   "metadata": {},
   "source": [
    "# Exercice complémentaire 2:"
   ]
  },
  {
   "cell_type": "code",
   "execution_count": null,
   "id": "demographic-tattoo",
   "metadata": {},
   "outputs": [],
   "source": [
    "\n",
    "\n",
    "\n",
    "\n",
    "\n",
    "\n",
    "\n",
    "\n"
   ]
  }
 ],
 "metadata": {
  "kernelspec": {
   "display_name": "Python 3",
   "language": "python",
   "name": "python3"
  },
  "language_info": {
   "codemirror_mode": {
    "name": "ipython",
    "version": 3
   },
   "file_extension": ".py",
   "mimetype": "text/x-python",
   "name": "python",
   "nbconvert_exporter": "python",
   "pygments_lexer": "ipython3",
   "version": "3.8.5"
  }
 },
 "nbformat": 4,
 "nbformat_minor": 5
}
