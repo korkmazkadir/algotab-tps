{
 "cells": [
  {
   "cell_type": "markdown",
   "id": "sealed-purple",
   "metadata": {},
   "source": [
    "# Hello World"
   ]
  },
  {
   "cell_type": "code",
   "execution_count": 1,
   "id": "boolean-science",
   "metadata": {},
   "outputs": [
    {
     "data": {
      "application/javascript": [
       "IPython.notebook.set_autosave_interval(5000)"
      ]
     },
     "metadata": {},
     "output_type": "display_data"
    },
    {
     "name": "stdout",
     "output_type": "stream",
     "text": [
      "Autosaving every 5 seconds\n",
      "Use Chrome browser\n",
      "First, you should run this cell\n"
     ]
    }
   ],
   "source": [
    "\n",
    "# You can import bibTableau.py as described here\n",
    "from bibTableau import *\n",
    "\n",
    "#jupyter notebook autosave interval\n",
    "%autosave 5\n",
    "\n",
    "print(\"Use Chrome browser\")\n",
    "print(\"First, you should run this cell\")\n"
   ]
  },
  {
   "cell_type": "markdown",
   "id": "detected-vessel",
   "metadata": {},
   "source": [
    "# Exercice 1"
   ]
  },
  {
   "cell_type": "markdown",
   "id": "settled-maple",
   "metadata": {},
   "source": [
    "## Exercice 1.1: inserer (t, n, e, k)"
   ]
  },
  {
   "cell_type": "code",
   "execution_count": 4,
   "id": "comprehensive-course",
   "metadata": {},
   "outputs": [
    {
     "name": "stdout",
     "output_type": "stream",
     "text": [
      "[5, 4, 3, 12, 6, 0, 4, 7, 2, None]\n",
      "9\n"
     ]
    }
   ],
   "source": [
    "\n",
    "## Exercice 1-1\n",
    "## On suppose: n<len(t) et k>=0\n",
    "def inserer (t, n, e, k): # O(n - k)\n",
    "    \n",
    "    if k >= n:\n",
    "        k = n\n",
    "    \n",
    "    for i in range(n,k,-1):\n",
    "        t[i] = t[i-1]\n",
    "    \n",
    "    t[k] = e\n",
    "    return n+1\n",
    "\n",
    "t = [5,4,3,12,0,4,7,2,None,None]\n",
    "n = inserer(t,8,6,4)\n",
    "\n",
    "#[5,4,3,12,6,0,4,7,2,None]\n",
    "\n",
    "print(t)\n",
    "print(n)\n",
    "\n"
   ]
  },
  {
   "cell_type": "markdown",
   "id": "greek-fiber",
   "metadata": {},
   "source": [
    "## Exercice 1.2: supprimer (t, n, k)"
   ]
  },
  {
   "cell_type": "code",
   "execution_count": 8,
   "id": "tender-brook",
   "metadata": {},
   "outputs": [
    {
     "name": "stdout",
     "output_type": "stream",
     "text": [
      "[5, 4, 3, 12, 0, 4, 2, 2, None, None]\n",
      "7\n"
     ]
    }
   ],
   "source": [
    "\n",
    "\n",
    "## Exercice 1-2\n",
    "##  On suppose : 0<=k<n  \n",
    "def supprimer (t, n, k): # O(n - k)\n",
    "   for i in range (k, n - 1):\n",
    "       t[i] = t[i + 1]\n",
    "   return n-1\n",
    "\n",
    "\n",
    "t = [5,4,3,12,0,4,7,2,None,None]\n",
    "n = supprimer(t,8,6)\n",
    "\n",
    "print(t)\n",
    "print(n)\n",
    "\n",
    "\n",
    "\n",
    "\n"
   ]
  },
  {
   "cell_type": "markdown",
   "id": "primary-selling",
   "metadata": {},
   "source": [
    "## Exercice 1.3: supprimerPremiereOccurrence(t, n, x)"
   ]
  },
  {
   "cell_type": "code",
   "execution_count": 9,
   "id": "progressive-thursday",
   "metadata": {},
   "outputs": [
    {
     "name": "stdout",
     "output_type": "stream",
     "text": [
      "[5, 3, 12, 0, 4, 7, 2, 2, None, None]\n",
      "7\n"
     ]
    }
   ],
   "source": [
    "\n",
    "\n",
    "def supprimerPremiereOccurrence(t, n, x): # O(n)\n",
    "    for i in range(n):\n",
    "        if t[i]==x:\n",
    "            return supprimer(t,n,i)\n",
    "    return n\n",
    "\n",
    "\n",
    "\n",
    "\n",
    "t = [5,4,3,12,0,4,7,2,None,None]\n",
    "n = supprimerPremiereOccurrence(t,8,4)\n",
    "\n",
    "print(t)\n",
    "print(n)\n",
    "\n"
   ]
  },
  {
   "cell_type": "markdown",
   "id": "reported-publication",
   "metadata": {},
   "source": [
    "## Exercice 1.4: insererOrdonne(t, n, e)"
   ]
  },
  {
   "cell_type": "code",
   "execution_count": 12,
   "id": "latter-devon",
   "metadata": {},
   "outputs": [
    {
     "name": "stdout",
     "output_type": "stream",
     "text": [
      "[2, 4, 5, 7, 10, 15, 20, 25, None, None]\n",
      "8\n"
     ]
    }
   ],
   "source": [
    "\n",
    "\n",
    "\n",
    "## Exercice 1-4\n",
    "def insererOrdonne(t, n, e): # O(n) \n",
    "    i = n\n",
    "    while i > 0 and t[i-1] > e: ## evaluation paresseuse !\n",
    "        t[i] = t[i-1]\n",
    "        i = i-1\n",
    "    t[i] = e\n",
    "    return n+1\n",
    "\n",
    "\n",
    "\n",
    "\n",
    "\n",
    "t =[2,4,7,10,15,20,25,None,None,None]\n",
    "n=insererOrdonne(t,7,5)\n",
    "\n",
    "print(t)\n",
    "print(n)\n",
    "\n",
    "\n",
    "\n",
    "\n",
    "\n",
    "\n"
   ]
  },
  {
   "cell_type": "markdown",
   "id": "given-serve",
   "metadata": {},
   "source": [
    "# Exercice 2: estCroissant(t, n)"
   ]
  },
  {
   "cell_type": "code",
   "execution_count": 19,
   "id": "ancient-explorer",
   "metadata": {},
   "outputs": [
    {
     "name": "stdout",
     "output_type": "stream",
     "text": [
      "True\n"
     ]
    }
   ],
   "source": [
    "\n",
    "\n",
    "def estCroissant(t,n): ## O(n)\n",
    "  for i in range(1,n):\n",
    "    if t[i-1]>t[i]:\n",
    "      return False\n",
    "  return True\n",
    "\n",
    "\n",
    "t =[1,4,7,10,15,20,25,None,None,None]\n",
    "print(estCroissant(t,7))\n",
    "\n",
    "\n"
   ]
  },
  {
   "cell_type": "markdown",
   "id": "proved-closure",
   "metadata": {},
   "source": [
    "# Exercice 3"
   ]
  },
  {
   "cell_type": "markdown",
   "id": "standard-maldives",
   "metadata": {},
   "source": [
    "## Exercice 3.1:  rotationAdroite(t, n)"
   ]
  },
  {
   "cell_type": "code",
   "execution_count": 21,
   "id": "miniature-comparative",
   "metadata": {},
   "outputs": [
    {
     "name": "stdout",
     "output_type": "stream",
     "text": [
      "[3, 1, 2]\n"
     ]
    }
   ],
   "source": [
    "\n",
    "\n",
    "## Exercice 3.1\n",
    "def rotationAdroite(t,n): ## O(n)\n",
    "  if n>1:\n",
    "    aux = t[n-1]\n",
    "    for i in range(n-1,0,-1):\n",
    "      t[i]=t[i-1]\n",
    "    t[0] = aux\n",
    "\n",
    "\n",
    "\n",
    "    \n",
    "    \n",
    "t = [1,2,3]\n",
    "rotationAdroite(t,3)\n",
    "print(t)\n",
    "\n",
    "\n",
    "\n"
   ]
  },
  {
   "cell_type": "markdown",
   "id": "juvenile-satisfaction",
   "metadata": {},
   "source": [
    "## Exercice 3.2: rotationADroiteDeK(t,n,k)"
   ]
  },
  {
   "cell_type": "code",
   "execution_count": 22,
   "id": "satisfactory-china",
   "metadata": {},
   "outputs": [
    {
     "name": "stdout",
     "output_type": "stream",
     "text": [
      "Result of V1:  [20, 25, 2, 4, 7, 10, 15]\n"
     ]
    }
   ],
   "source": [
    "\n",
    "# You should write two version of it as described.\n",
    "# rotationADroiteDeK_V1(t,n,k) <-- uses rotationAdroite\n",
    "\n",
    "\n",
    "\n",
    "def rotationADroiteDeK_V1(t,n,k): ## O(k*n) en temps, O(1) en espace\n",
    "  if n>1:\n",
    "    k = k%n \n",
    "    for i in range(k):\n",
    "      rotationAdroite(t,n)\n",
    "\n",
    "t =[2,4,7,10,15,20,25]\n",
    "rotationADroiteDeK_V1(t,7,2)\n",
    "print(\"Result of V1: \",  t)\n",
    "\n",
    "\n",
    "# rotationADroiteDeK_V2(t,n,k) <-- uses an array\n",
    "\n",
    "def rotationADroiteDeK_V2(t,n,k):\n",
    "  \n",
    "  if n<=1:\n",
    "    # No need to rotate with 0 or 1 elements. \n",
    "    return\n",
    "\n",
    "  # For n, rotating 1 and rotatin n+1 is same!\n",
    "  # So we should use modulo to learn the real k\n",
    "  k=k%n\n",
    "\n",
    "  if k == 0:\n",
    "    # No need to rotate\n",
    "    return \n",
    "\n",
    "\n",
    "  tAux = creerTableau(n) \n",
    "\n",
    "  for i in range(k):\n",
    "    tAux[i] = t[n-k+i]\n",
    "  for i in range(n-k):\n",
    "    tAux[i+k] = t[i]\n",
    "  \n",
    "  # Copies the result of rotation back to the original array\n",
    "  for i in range(n):\n",
    "      t[i] = tAux[i]\n",
    "\n",
    "\n",
    "t =[2,4,7,10,15,20,25]\n",
    "rotationADroiteDeK_V2(t,7,2)\n",
    "print(\"Result of V2_2: \", t)\n",
    "\n",
    "\n",
    "\n",
    "\n",
    "\n"
   ]
  },
  {
   "cell_type": "markdown",
   "id": "empirical-terminology",
   "metadata": {},
   "source": [
    "# Exercice complémentaire 1:"
   ]
  },
  {
   "cell_type": "code",
   "execution_count": null,
   "id": "manual-baseball",
   "metadata": {},
   "outputs": [],
   "source": [
    "\n",
    "\n",
    "\n",
    "\n",
    "\n",
    "\n",
    "\n",
    "\n"
   ]
  },
  {
   "cell_type": "markdown",
   "id": "annual-glenn",
   "metadata": {},
   "source": [
    "# Exercice complémentaire 2:"
   ]
  },
  {
   "cell_type": "code",
   "execution_count": null,
   "id": "demographic-tattoo",
   "metadata": {},
   "outputs": [],
   "source": [
    "\n",
    "\n",
    "\n",
    "\n",
    "\n",
    "\n",
    "\n",
    "\n"
   ]
  }
 ],
 "metadata": {
  "kernelspec": {
   "display_name": "Python 3",
   "language": "python",
   "name": "python3"
  },
  "language_info": {
   "codemirror_mode": {
    "name": "ipython",
    "version": 3
   },
   "file_extension": ".py",
   "mimetype": "text/x-python",
   "name": "python",
   "nbconvert_exporter": "python",
   "pygments_lexer": "ipython3",
   "version": "3.8.5"
  }
 },
 "nbformat": 4,
 "nbformat_minor": 5
}
