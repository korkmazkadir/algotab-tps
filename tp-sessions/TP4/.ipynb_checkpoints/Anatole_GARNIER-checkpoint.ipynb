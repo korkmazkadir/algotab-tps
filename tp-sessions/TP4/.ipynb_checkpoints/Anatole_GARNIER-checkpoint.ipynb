{
 "cells": [
  {
   "cell_type": "markdown",
   "id": "sealed-purple",
   "metadata": {},
   "source": [
    "# Hello World"
   ]
  },
  {
   "cell_type": "code",
   "execution_count": 1,
   "id": "boolean-science",
   "metadata": {},
   "outputs": [
    {
     "data": {
      "application/javascript": [
       "IPython.notebook.set_autosave_interval(5000)"
      ]
     },
     "metadata": {},
     "output_type": "display_data"
    },
    {
     "name": "stdout",
     "output_type": "stream",
     "text": [
      "Autosaving every 5 seconds\n",
      "Use Chrome browser\n",
      "First, you should run this cell\n"
     ]
    }
   ],
   "source": [
    "\n",
    "# You can import bibTableau.py as described here\n",
    "from bibTableau import *\n",
    "\n",
    "#jupyter notebook autosave interval\n",
    "%autosave 5\n",
    "\n",
    "print(\"Use Chrome browser\")\n",
    "print(\"First, you should run this cell\")\n"
   ]
  },
  {
   "cell_type": "markdown",
   "id": "detected-vessel",
   "metadata": {},
   "source": [
    "# Exercice 1"
   ]
  },
  {
   "cell_type": "markdown",
   "id": "settled-maple",
   "metadata": {},
   "source": [
    "## Exercice 1.1: inserer (t, n, e, k)"
   ]
  },
  {
   "cell_type": "code",
   "execution_count": null,
   "id": "comprehensive-course",
   "metadata": {},
   "outputs": [],
   "source": [
    "def inserer(t,n,e,k):\n",
    "    for i in range(k,n):\n",
    "        aux = t[i]\n",
    "        t[i] = e \n",
    "        elt = aux\n",
    "    return n+1\n",
    "\n",
    "def inserer2(t,n,e,k):\n",
    "    \n",
    "    if k>n:\n",
    "        k=n\n",
    "    \n",
    "    for i in range(n,k,-1):\n",
    "        t[i] = t[i-1]\n",
    "        \n",
    "    t[k] = e\n",
    "    return n+1\n",
    "    \n",
    "    "
   ]
  },
  {
   "cell_type": "markdown",
   "id": "greek-fiber",
   "metadata": {},
   "source": [
    "## Exercice 1.2: supprimer (t, n, k)"
   ]
  },
  {
   "cell_type": "code",
   "execution_count": null,
   "id": "tender-brook",
   "metadata": {},
   "outputs": [],
   "source": [
    "def supprimer(t,n,k):\n",
    "    for i in range(k,n+1):\n",
    "        t[i] = t[i+1]\n",
    "    return n-1"
   ]
  },
  {
   "cell_type": "markdown",
   "id": "primary-selling",
   "metadata": {},
   "source": [
    "## Exercice 1.3: supprimerPremiereOccurrence(t, n, x)"
   ]
  },
  {
   "cell_type": "code",
   "execution_count": null,
   "id": "progressive-thursday",
   "metadata": {},
   "outputs": [],
   "source": [
    "def supprimerPremiereOccurence(t,n,x):\n",
    "    for i in range(n): \n",
    "        if (t[i]==x):\n",
    "            return supprimer(t,n,i)\n"
   ]
  },
  {
   "cell_type": "markdown",
   "id": "reported-publication",
   "metadata": {},
   "source": [
    "## Exercice 1.4: insererOrdonne(t, n, e)"
   ]
  },
  {
   "cell_type": "code",
   "execution_count": null,
   "id": "latter-devon",
   "metadata": {},
   "outputs": [],
   "source": [
    "def insererOrdonne(t, n, e):\n",
    "    \n",
    "    i=n\n",
    "    while i>0 and t[i-1]>e:\n",
    "        t[i] = t[i-1]\n",
    "        i=i-1    \n",
    "    t[i] = e\n",
    "    return n+1\n",
    "    "
   ]
  },
  {
   "cell_type": "markdown",
   "id": "given-serve",
   "metadata": {},
   "source": [
    "# Exercice 2: estCroissant(t, n)"
   ]
  },
  {
   "cell_type": "code",
   "execution_count": 9,
   "id": "ancient-explorer",
   "metadata": {},
   "outputs": [
    {
     "data": {
      "text/plain": [
       "True"
      ]
     },
     "execution_count": 9,
     "metadata": {},
     "output_type": "execute_result"
    }
   ],
   "source": [
    "def estCroissant(t, n):\n",
    "    for i in range(0,n):\n",
    "        if t[i]>t[i+1]:\n",
    "            return False\n",
    "        return True\n",
    "\n",
    "t=[1,3,2,5]\n",
    "n=4\n",
    "estCroissant(t, n)\n",
    "\n"
   ]
  },
  {
   "cell_type": "markdown",
   "id": "proved-closure",
   "metadata": {},
   "source": [
    "# Exercice 3"
   ]
  },
  {
   "cell_type": "markdown",
   "id": "standard-maldives",
   "metadata": {},
   "source": [
    "## Exercice 3.1:  rotationAdroite(t, n)"
   ]
  },
  {
   "cell_type": "code",
   "execution_count": null,
   "id": "miniature-comparative",
   "metadata": {},
   "outputs": [],
   "source": [
    "def rotationAdroite(t, n):\n",
    "    if n>1:\n",
    "        aux = t[n-1]\n",
    "        for i in range(n-1,0,-1):\n",
    "            t[i]=t[i-11]\n",
    "        t[0]=aux\n",
    "    \n",
    "\n",
    "\n",
    "\n",
    "\n",
    "\n",
    "\n",
    "\n"
   ]
  },
  {
   "cell_type": "markdown",
   "id": "juvenile-satisfaction",
   "metadata": {},
   "source": [
    "## Exercice 3.2: rotationADroiteDeK(t,n,k)"
   ]
  },
  {
   "cell_type": "code",
   "execution_count": null,
   "id": "satisfactory-china",
   "metadata": {},
   "outputs": [],
   "source": [
    "def rotationADroiteDeK(t,n,k):\n",
    "# You should write two version of it as described.\n",
    "# rotationADroiteDeK_V1(t,n,k) <-- uses rotationAdroite\n",
    "# rotationADroiteDeK_V2(t,n,k) <-- uses an array\n",
    "    ifn>1:\n",
    "        k=k%n\n",
    "        for i in range(k):\n",
    "            rotationAdroite(t,n)\n",
    "            \n",
    "    if k ==0:\n",
    "        return\n",
    "    \n",
    "    taux = creerTableau(n)\n",
    "    \n",
    "    for i in range(k):\n",
    "        taux[i]= taux[n-k+i]\n",
    "    for i in range(n-k):\n",
    "        taux[i+k]=t[i]\n",
    "    \n",
    "    for i in range(n):\n",
    "        t[i]=taux[i]\n",
    "\n",
    "\n",
    "\n"
   ]
  },
  {
   "cell_type": "markdown",
   "id": "empirical-terminology",
   "metadata": {},
   "source": [
    "# Exercice complémentaire 1:"
   ]
  },
  {
   "cell_type": "code",
   "execution_count": null,
   "id": "manual-baseball",
   "metadata": {},
   "outputs": [],
   "source": [
    "\n",
    "\n",
    "\n",
    "\n",
    "\n",
    "\n",
    "\n",
    "\n"
   ]
  },
  {
   "cell_type": "markdown",
   "id": "annual-glenn",
   "metadata": {},
   "source": [
    "# Exercice complémentaire 2:"
   ]
  },
  {
   "cell_type": "code",
   "execution_count": null,
   "id": "demographic-tattoo",
   "metadata": {},
   "outputs": [],
   "source": [
    "\n",
    "\n",
    "\n",
    "\n",
    "\n",
    "\n",
    "\n",
    "\n"
   ]
  }
 ],
 "metadata": {
  "kernelspec": {
   "display_name": "Python 3",
   "language": "python",
   "name": "python3"
  },
  "language_info": {
   "codemirror_mode": {
    "name": "ipython",
    "version": 3
   },
   "file_extension": ".py",
   "mimetype": "text/x-python",
   "name": "python",
   "nbconvert_exporter": "python",
   "pygments_lexer": "ipython3",
   "version": "3.8.5"
  }
 },
 "nbformat": 4,
 "nbformat_minor": 5
}
