{
 "cells": [
  {
   "cell_type": "markdown",
   "id": "sealed-purple",
   "metadata": {},
   "source": [
    "# Hello World"
   ]
  },
  {
   "cell_type": "code",
   "execution_count": null,
   "id": "boolean-science",
   "metadata": {},
   "outputs": [],
   "source": [
    "\n",
    "# You can import bibTableau.py as described here\n",
    "from bibTableau import *\n",
    "\n",
    "#jupyter notebook autosave interval\n",
    "%autosave 5\n",
    "\n",
    "print(\"Use Chrome browser\")\n",
    "print(\"First, you should run this cell\")\n"
   ]
  },
  {
   "cell_type": "markdown",
   "id": "detected-vessel",
   "metadata": {},
   "source": [
    "# Exercice 1"
   ]
  },
  {
   "cell_type": "markdown",
   "id": "settled-maple",
   "metadata": {},
   "source": [
    "## Exercice 1.1: inserer (t, n, e, k)"
   ]
  },
  {
   "cell_type": "code",
   "execution_count": 7,
   "id": "comprehensive-course",
   "metadata": {},
   "outputs": [
    {
     "data": {
      "text/plain": [
       "[5, 4, 3, 12, 6, 0, 4, 7, 2, None]"
      ]
     },
     "execution_count": 7,
     "metadata": {},
     "output_type": "execute_result"
    }
   ],
   "source": [
    "\n",
    "def inserer(t,n,e,k):\n",
    "    if k>n:\n",
    "        k=n\n",
    "    for i in range (n,k,-1):\n",
    "        t[i]=t[i-1]\n",
    "    t[k]=e\n",
    "    return n+1\n",
    "\n",
    "t = [5,4,3,12,0,4,7,2,None,None]\n",
    "inserer(t,8,6,4)\n",
    "\n",
    "\n",
    "\n",
    "\n"
   ]
  },
  {
   "cell_type": "markdown",
   "id": "greek-fiber",
   "metadata": {},
   "source": [
    "## Exercice 1.2: supprimer (t, n, k)"
   ]
  },
  {
   "cell_type": "code",
   "execution_count": 18,
   "id": "tender-brook",
   "metadata": {},
   "outputs": [
    {
     "data": {
      "text/plain": [
       "[5, 4, 3, 12, 4, 7, 2, 2, None, None]"
      ]
     },
     "execution_count": 18,
     "metadata": {},
     "output_type": "execute_result"
    }
   ],
   "source": [
    "\n",
    "\n",
    "\n",
    "def supprimer(t,n,k):\n",
    "    for i in range (k,n-1):\n",
    "        t[i]=t[i+1]\n",
    "    return n-1\n",
    "\n",
    "t = [5,4,3,12,0,4,7,2,None,None]\n",
    "supprimer(t,8,4)\n",
    "\n",
    "\n",
    "\n",
    "\n",
    "\n"
   ]
  },
  {
   "cell_type": "markdown",
   "id": "primary-selling",
   "metadata": {},
   "source": [
    "## Exercice 1.3: supprimerPremiereOccurrence(t, n, x)"
   ]
  },
  {
   "cell_type": "code",
   "execution_count": 30,
   "id": "progressive-thursday",
   "metadata": {},
   "outputs": [
    {
     "data": {
      "text/plain": [
       "[5, 3, 12, 0, 4, 7, 2, 2, None, None]"
      ]
     },
     "execution_count": 30,
     "metadata": {},
     "output_type": "execute_result"
    }
   ],
   "source": [
    "\n",
    "\n",
    "def supprimerPremiereOccurrence(t,n,x):\n",
    "    for i in range (n):\n",
    "        if t[i]==x:\n",
    "            return supprimer(t,n,i)\n",
    "    return n\n",
    "        \n",
    "        \n",
    "t = [5,4,3,12,0,4,7,2,None,None]\n",
    "supprimerPremiereOccurrence(t,8,4)\n",
    "\n",
    "\n",
    "\n"
   ]
  },
  {
   "cell_type": "markdown",
   "id": "reported-publication",
   "metadata": {},
   "source": [
    "## Exercice 1.4: insererOrdonne(t, n, e)"
   ]
  },
  {
   "cell_type": "code",
   "execution_count": 34,
   "id": "latter-devon",
   "metadata": {},
   "outputs": [
    {
     "data": {
      "text/plain": [
       "8"
      ]
     },
     "execution_count": 34,
     "metadata": {},
     "output_type": "execute_result"
    }
   ],
   "source": [
    "\n",
    "def insererOrdonne(t,n,e):\n",
    "    i=n\n",
    "    while i>0 and t[i-1]>e:\n",
    "        t[i]=t[i-1]\n",
    "        i=i-1\n",
    "    t[i]=e\n",
    "    return n+1\n",
    "\n",
    "t =[2,4,7,10,15,20,25,None,None,None]\n",
    "insererOrdonne(t,7,4)\n"
   ]
  },
  {
   "cell_type": "markdown",
   "id": "given-serve",
   "metadata": {},
   "source": [
    "# Exercice 2: estCroissant(t, n)"
   ]
  },
  {
   "cell_type": "code",
   "execution_count": 37,
   "id": "ancient-explorer",
   "metadata": {},
   "outputs": [],
   "source": [
    "\n",
    "\n",
    "def estCroissant(t,n):\n",
    "    for i in range(n):\n",
    "        if t[i]>t[i+1]:\n",
    "            return False\n",
    "    return True\n",
    "\n",
    "\n",
    "\n"
   ]
  },
  {
   "cell_type": "markdown",
   "id": "proved-closure",
   "metadata": {},
   "source": [
    "# Exercice 3"
   ]
  },
  {
   "cell_type": "markdown",
   "id": "standard-maldives",
   "metadata": {},
   "source": [
    "## Exercice 3.1:  rotationAdroite(t, n)"
   ]
  },
  {
   "cell_type": "code",
   "execution_count": 50,
   "id": "miniature-comparative",
   "metadata": {},
   "outputs": [
    {
     "data": {
      "text/plain": [
       "[6, 0, 1, 2, 3, 4, 5, None, None, None]"
      ]
     },
     "execution_count": 50,
     "metadata": {},
     "output_type": "execute_result"
    }
   ],
   "source": [
    "\n",
    "def rotationAdroite(t,n):\n",
    "    if n>=2:\n",
    "        a=t[n-1]\n",
    "        for i in range (n-1,0,-1):\n",
    "            t[i]=t[i-1]\n",
    "        t[0]=a\n",
    "    return t\n",
    "\n",
    "t = [0,1,2,3,4,5,6,None,None,None]\n",
    "rotationAdroite(t,7)\n",
    "\n",
    "\n",
    "\n",
    "\n",
    "\n",
    "\n"
   ]
  },
  {
   "cell_type": "markdown",
   "id": "juvenile-satisfaction",
   "metadata": {},
   "source": [
    "## Exercice 3.2: rotationADroiteDeK(t,n,k)"
   ]
  },
  {
   "cell_type": "code",
   "execution_count": 68,
   "id": "satisfactory-china",
   "metadata": {},
   "outputs": [
    {
     "data": {
      "text/plain": [
       "[0, 1, 2, 0, 1, 2, 6, None, None, None]"
      ]
     },
     "execution_count": 68,
     "metadata": {},
     "output_type": "execute_result"
    }
   ],
   "source": [
    "\n",
    "# You should write two version of it as described.\n",
    "# rotationADroiteDeK_V1(t,n,k) <-- uses rotationAdroite\n",
    "# rotationADroiteDeK_V2(t,n,k) <-- uses an array\n",
    "\n",
    "def rotationADroiteDeK(t,n,k):\n",
    "    if n>=2:\n",
    "        k=k%n\n",
    "        for i in range (k):\n",
    "            m=rotationAdroite(t,n)\n",
    "    return m\n",
    "\n",
    "\n",
    "t = [0,1,2,3,4,5,6,None,None,None]\n",
    "rotationADroiteDeK2(t,7,3)\n"
   ]
  },
  {
   "cell_type": "markdown",
   "id": "empirical-terminology",
   "metadata": {},
   "source": [
    "# Exercice complémentaire 1:"
   ]
  },
  {
   "cell_type": "code",
   "execution_count": null,
   "id": "manual-baseball",
   "metadata": {},
   "outputs": [],
   "source": [
    "\n",
    "\n",
    "\n",
    "\n",
    "\n",
    "\n",
    "\n",
    "\n"
   ]
  },
  {
   "cell_type": "markdown",
   "id": "annual-glenn",
   "metadata": {},
   "source": [
    "# Exercice complémentaire 2:"
   ]
  },
  {
   "cell_type": "code",
   "execution_count": null,
   "id": "demographic-tattoo",
   "metadata": {},
   "outputs": [],
   "source": [
    "\n",
    "\n",
    "\n",
    "\n",
    "\n",
    "\n",
    "\n",
    "\n"
   ]
  }
 ],
 "metadata": {
  "kernelspec": {
   "display_name": "Python 3",
   "language": "python",
   "name": "python3"
  },
  "language_info": {
   "codemirror_mode": {
    "name": "ipython",
    "version": 3
   },
   "file_extension": ".py",
   "mimetype": "text/x-python",
   "name": "python",
   "nbconvert_exporter": "python",
   "pygments_lexer": "ipython3",
   "version": "3.8.5"
  }
 },
 "nbformat": 4,
 "nbformat_minor": 5
}
