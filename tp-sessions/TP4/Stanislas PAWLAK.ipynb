{
 "cells": [
  {
   "cell_type": "markdown",
   "id": "sealed-purple",
   "metadata": {},
   "source": [
    "# Hello World"
   ]
  },
  {
   "cell_type": "code",
   "execution_count": null,
   "id": "boolean-science",
   "metadata": {},
   "outputs": [],
   "source": [
    "\n",
    "# You can import bibTableau.py as described here\n",
    "from bibTableau import *\n",
    "\n",
    "#jupyter notebook autosave interval\n",
    "%autosave 5\n",
    "\n",
    "print(\"Use Chrome browser\")\n",
    "print(\"First, you should run this cell\")\n"
   ]
  },
  {
   "cell_type": "markdown",
   "id": "detected-vessel",
   "metadata": {},
   "source": [
    "# Exercice 1"
   ]
  },
  {
   "cell_type": "markdown",
   "id": "settled-maple",
   "metadata": {},
   "source": [
    "## Exercice 1.1: inserer (t, n, e, k)"
   ]
  },
  {
   "cell_type": "code",
   "execution_count": null,
   "id": "comprehensive-course",
   "metadata": {},
   "outputs": [],
   "source": [
    "def nbElement(t):\n",
    "    nb=0\n",
    "    for i in range (len(t)):\n",
    "        if t[i]!= None:\n",
    "            nb=nb+1\n",
    "    return nb\n",
    "\n",
    "def inserer(t,n,elt,k):\n",
    "    if \n",
    "    for i in range(0,n+1-k):\n",
    "        t[n-i]=t[n-1-i]\n",
    "    t[k]=elt\n",
    "    return nbElement(t)\n",
    "\n",
    "\n",
    "\n",
    "\n",
    "\n",
    "\n",
    "\n"
   ]
  },
  {
   "cell_type": "markdown",
   "id": "greek-fiber",
   "metadata": {},
   "source": [
    "## Exercice 1.2: supprimer (t, n, k)"
   ]
  },
  {
   "cell_type": "code",
   "execution_count": null,
   "id": "tender-brook",
   "metadata": {},
   "outputs": [],
   "source": [
    "def supprimer(t, n, k):\n",
    "    for i in range(k,n-1):\n",
    "        t[i]=t[i+1]\n",
    "    return nbElement(t)\n",
    "\n",
    "\n",
    "\n",
    "\n",
    "\n",
    "\n",
    "\n"
   ]
  },
  {
   "cell_type": "markdown",
   "id": "primary-selling",
   "metadata": {},
   "source": [
    "## Exercice 1.3: supprimerPremiereOccurrence(t, n, x)"
   ]
  },
  {
   "cell_type": "code",
   "execution_count": null,
   "id": "progressive-thursday",
   "metadata": {},
   "outputs": [],
   "source": [
    "def supprimerPremiereOccurrence(t, n, elt):\n",
    "    for i in range(n):\n",
    "        if t[i]==elt:\n",
    "            return supprimer(t, n, i)\n",
    "    return nbElement(t)\n",
    "\n",
    "\n",
    "\n",
    "\n",
    "\n",
    "\n",
    "\n"
   ]
  },
  {
   "cell_type": "markdown",
   "id": "reported-publication",
   "metadata": {},
   "source": [
    "## Exercice 1.4: insererOrdonne(t, n, e)"
   ]
  },
  {
   "cell_type": "code",
   "execution_count": null,
   "id": "latter-devon",
   "metadata": {},
   "outputs": [],
   "source": [
    "def insererOrdonne(t, n, elt):\n",
    "    for i in range (n):\n",
    "        if t[i]>elt:\n",
    "            inserer(t, n, elt, i)\n",
    "            return nbElement(t)\n",
    "\n",
    "\n",
    "\n",
    "\n",
    "\n",
    "\n",
    "\n"
   ]
  },
  {
   "cell_type": "markdown",
   "id": "given-serve",
   "metadata": {},
   "source": [
    "# Exercice 2: estCroissant(t, n)"
   ]
  },
  {
   "cell_type": "code",
   "execution_count": null,
   "id": "ancient-explorer",
   "metadata": {},
   "outputs": [],
   "source": [
    "\n",
    "def estCroissant(t, n):\n",
    "    for i in range(n-1):\n",
    "        if t[i]>t[i+1]:\n",
    "            return False\n",
    "    return True\n",
    "\n",
    "\n",
    "\n",
    "\n",
    "\n"
   ]
  },
  {
   "cell_type": "markdown",
   "id": "proved-closure",
   "metadata": {},
   "source": [
    "# Exercice 3"
   ]
  },
  {
   "cell_type": "markdown",
   "id": "standard-maldives",
   "metadata": {},
   "source": [
    "## Exercice 3.1:  rotationAdroite(t, n)"
   ]
  },
  {
   "cell_type": "code",
   "execution_count": null,
   "id": "miniature-comparative",
   "metadata": {},
   "outputs": [],
   "source": [
    "def rotationAdroite(t, n):\n",
    "    a=t[n-1]\n",
    "    for i in range(0,n+1):\n",
    "        t[n-i]=t[n-1-i]\n",
    "    t[0]=a\n",
    "    t[n]=None\n",
    "    return t\n",
    "\n",
    "\n",
    "\n",
    "\n",
    "\n",
    "\n",
    "\n",
    "\n"
   ]
  },
  {
   "cell_type": "markdown",
   "id": "juvenile-satisfaction",
   "metadata": {},
   "source": [
    "## Exercice 3.2: rotationADroiteDeK(t,n,k)"
   ]
  },
  {
   "cell_type": "code",
   "execution_count": null,
   "id": "satisfactory-china",
   "metadata": {},
   "outputs": [],
   "source": [
    "def rotationADroiteDeK_V1(t, n, k):\n",
    "    for i in range(k):\n",
    "        rotationAdroite(t, n)\n",
    "    return t\n",
    "\n",
    "def rotationADroiteDeK_V2(t, n, k)  :\n",
    "    while k>n:\n",
    "        k=k%n\n",
    "    t2=[0]*n\n",
    "    for i in range(n-k):\n",
    "        t2[i]=t[i+k]\n",
    "    for i in range (k):\n",
    "        t2[n-k+i]=t[i]\n",
    "    print(t2)\n",
    "\n",
    "\n"
   ]
  },
  {
   "cell_type": "markdown",
   "id": "empirical-terminology",
   "metadata": {},
   "source": [
    "# Exercice complémentaire 1:"
   ]
  },
  {
   "cell_type": "code",
   "execution_count": null,
   "id": "manual-baseball",
   "metadata": {},
   "outputs": [],
   "source": [
    "\n",
    "\n",
    "\n",
    "\n",
    "\n",
    "\n",
    "\n",
    "\n"
   ]
  },
  {
   "cell_type": "markdown",
   "id": "annual-glenn",
   "metadata": {},
   "source": [
    "# Exercice complémentaire 2:"
   ]
  },
  {
   "cell_type": "code",
   "execution_count": null,
   "id": "demographic-tattoo",
   "metadata": {},
   "outputs": [],
   "source": [
    "\n",
    "\n",
    "\n",
    "\n",
    "\n",
    "\n",
    "\n",
    "\n"
   ]
  }
 ],
 "metadata": {
  "kernelspec": {
   "display_name": "Python 3",
   "language": "python",
   "name": "python3"
  },
  "language_info": {
   "codemirror_mode": {
    "name": "ipython",
    "version": 3
   },
   "file_extension": ".py",
   "mimetype": "text/x-python",
   "name": "python",
   "nbconvert_exporter": "python",
   "pygments_lexer": "ipython3",
   "version": "3.8.5"
  }
 },
 "nbformat": 4,
 "nbformat_minor": 5
}
