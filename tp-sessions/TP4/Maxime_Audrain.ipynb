{
 "cells": [
  {
   "cell_type": "markdown",
   "id": "sealed-purple",
   "metadata": {},
   "source": [
    "# Hello World"
   ]
  },
  {
   "cell_type": "code",
   "execution_count": 1,
   "id": "boolean-science",
   "metadata": {},
   "outputs": [
    {
     "data": {
      "application/javascript": [
       "IPython.notebook.set_autosave_interval(5000)"
      ]
     },
     "metadata": {},
     "output_type": "display_data"
    },
    {
     "name": "stdout",
     "output_type": "stream",
     "text": [
      "Autosaving every 5 seconds\n",
      "Use Chrome browser\n",
      "First, you should run this cell\n"
     ]
    }
   ],
   "source": [
    "\n",
    "# You can import bibTableau.py as described here\n",
    "from bibTableau import *\n",
    "\n",
    "#jupyter notebook autosave interval\n",
    "%autosave 5\n",
    "\n",
    "print(\"Use Chrome browser\")\n",
    "print(\"First, you should run this cell\")\n"
   ]
  },
  {
   "cell_type": "markdown",
   "id": "detected-vessel",
   "metadata": {},
   "source": [
    "# Exercice 1"
   ]
  },
  {
   "cell_type": "markdown",
   "id": "settled-maple",
   "metadata": {},
   "source": [
    "## Exercice 1.1: inserer (t, n, e, k)"
   ]
  },
  {
   "cell_type": "code",
   "execution_count": 7,
   "id": "comprehensive-course",
   "metadata": {},
   "outputs": [
    {
     "name": "stdout",
     "output_type": "stream",
     "text": [
      "[5, 8, 4, 3, 7, 1, 7, 0, None]\n"
     ]
    }
   ],
   "source": [
    "def inserer(t,n,e,k):\n",
    "    if k >= n:\n",
    "        t[n] = e\n",
    "    else:\n",
    "        for i in range(k,n+1):\n",
    "            c = t[i]\n",
    "            t[i] = e\n",
    "            e = c\n",
    "    return n+1\n",
    "\n",
    "t = [5,8,4,3,7,1,7,None,None]\n",
    "inserer(t,7,0,8)\n",
    "print(t)\n",
    "        \n",
    "\n",
    "\n",
    "\n",
    "\n",
    "\n",
    "\n"
   ]
  },
  {
   "cell_type": "markdown",
   "id": "greek-fiber",
   "metadata": {},
   "source": [
    "## Exercice 1.2: supprimer (t, n, k)"
   ]
  },
  {
   "cell_type": "code",
   "execution_count": 11,
   "id": "tender-brook",
   "metadata": {},
   "outputs": [
    {
     "name": "stdout",
     "output_type": "stream",
     "text": [
      "[8, 4, 3, 7, 1, 7, None, None, None]\n"
     ]
    }
   ],
   "source": [
    "def supprimer(t,n,k):\n",
    "    for i in range(k,n-1):\n",
    "         t[i] = t[i+1]\n",
    "    t[n-1] = None\n",
    "    return n-1\n",
    "\n",
    "t = [5,8,4,3,7,1,7,None,None]\n",
    "supprimer(t,7,0)\n",
    "print(t)"
   ]
  },
  {
   "cell_type": "markdown",
   "id": "primary-selling",
   "metadata": {},
   "source": [
    "## Exercice 1.3: supprimerPremiereOccurrence(t, n, x)"
   ]
  },
  {
   "cell_type": "code",
   "execution_count": 22,
   "id": "progressive-thursday",
   "metadata": {},
   "outputs": [
    {
     "name": "stdout",
     "output_type": "stream",
     "text": [
      "[5, 8, 4, 3, 1, 7, None, None, None]\n",
      "6\n"
     ]
    }
   ],
   "source": [
    "def supprimerPremiereOccurrence(t, n, x):\n",
    "    for j in range(n):\n",
    "        if (t[j] == x):\n",
    "            supprimer(t,n,j)\n",
    "            return n-1\n",
    "    return n\n",
    "\n",
    "t = [5,8,4,3,7,1,7,None,None]\n",
    "a = supprimerPremiereOccurrence(t,7,7)\n",
    "print(t)\n",
    "print(a)\n",
    "\n",
    "\n",
    "\n",
    "\n",
    "\n",
    "\n"
   ]
  },
  {
   "cell_type": "markdown",
   "id": "reported-publication",
   "metadata": {},
   "source": [
    "## Exercice 1.4: insererOrdonne(t, n, e)"
   ]
  },
  {
   "cell_type": "code",
   "execution_count": 29,
   "id": "latter-devon",
   "metadata": {},
   "outputs": [
    {
     "name": "stdout",
     "output_type": "stream",
     "text": [
      "[2, 5, 7, 8, 12, 25, 26, None]\n"
     ]
    }
   ],
   "source": [
    "def insererOrdonne(t,n,e):\n",
    "        j = 0\n",
    "        while t[j]!= None and e > t[j]:\n",
    "            j +=1\n",
    "        inserer(t,n,e,j)\n",
    "        return n+1\n",
    "    \n",
    "t = [2,5,7,8,12,25,None,None]\n",
    "insererOrdonne(t,6,26)\n",
    "print(t)\n",
    "\n",
    "\n",
    "\n",
    "\n",
    "\n",
    "\n"
   ]
  },
  {
   "cell_type": "markdown",
   "id": "given-serve",
   "metadata": {},
   "source": [
    "# Exercice 2: estCroissant(t, n)"
   ]
  },
  {
   "cell_type": "code",
   "execution_count": 32,
   "id": "ancient-explorer",
   "metadata": {},
   "outputs": [
    {
     "data": {
      "text/plain": [
       "True"
      ]
     },
     "execution_count": 32,
     "metadata": {},
     "output_type": "execute_result"
    }
   ],
   "source": [
    "def estCroissant(t,n):\n",
    "    c = t[0]\n",
    "    for i in range(1,n):\n",
    "        if t[i] < c:\n",
    "            return False\n",
    "        c = t[i]\n",
    "    return True\n",
    "\n",
    "t = [2,5,7,8,12,25,None,None]\n",
    "estCroissant(t,6)\n",
    "\n",
    "\n",
    "\n",
    "\n",
    "\n"
   ]
  },
  {
   "cell_type": "markdown",
   "id": "proved-closure",
   "metadata": {},
   "source": [
    "# Exercice 3"
   ]
  },
  {
   "cell_type": "markdown",
   "id": "standard-maldives",
   "metadata": {},
   "source": [
    "## Exercice 3.1:  rotationAdroite(t, n)"
   ]
  },
  {
   "cell_type": "code",
   "execution_count": 35,
   "id": "miniature-comparative",
   "metadata": {},
   "outputs": [
    {
     "data": {
      "text/plain": [
       "[7, 5, 8, 4, 3, 7, 1, None, None]"
      ]
     },
     "execution_count": 35,
     "metadata": {},
     "output_type": "execute_result"
    }
   ],
   "source": [
    "def rotationAdroite(t,n):\n",
    "    c = t[n-1]\n",
    "    for i in range(n-1,0,-1):\n",
    "        t[i] = t[i-1]\n",
    "    t[0] = c\n",
    "    return t\n",
    "        \n",
    "t = [5,8,4,3,7,1,7,None,None]\n",
    "rotationAdroite(t,7)\n",
    "\n",
    "\n",
    "\n",
    "\n",
    "\n"
   ]
  },
  {
   "cell_type": "markdown",
   "id": "juvenile-satisfaction",
   "metadata": {},
   "source": [
    "## Exercice 3.2: rotationADroiteDeK(t,n,k)"
   ]
  },
  {
   "cell_type": "code",
   "execution_count": null,
   "id": "satisfactory-china",
   "metadata": {},
   "outputs": [],
   "source": [
    "def rotationADroiteDeK_V1(t,n,k):\n",
    "    for j in range(k):\n",
    "        rotationAdroite(t,n)\n",
    "    return t\n",
    "\n",
    "def rotationADroiteDeK_V2(t,n,k):\n",
    "    for j in range(n):\n",
    "        \n",
    "\n",
    "\n"
   ]
  },
  {
   "cell_type": "markdown",
   "id": "empirical-terminology",
   "metadata": {},
   "source": [
    "# Exercice complémentaire 1:"
   ]
  },
  {
   "cell_type": "code",
   "execution_count": null,
   "id": "manual-baseball",
   "metadata": {},
   "outputs": [],
   "source": [
    "\n",
    "\n",
    "\n",
    "\n",
    "\n",
    "\n",
    "\n",
    "\n"
   ]
  },
  {
   "cell_type": "markdown",
   "id": "annual-glenn",
   "metadata": {},
   "source": [
    "# Exercice complémentaire 2:"
   ]
  },
  {
   "cell_type": "code",
   "execution_count": null,
   "id": "demographic-tattoo",
   "metadata": {},
   "outputs": [],
   "source": [
    "\n",
    "\n",
    "\n",
    "\n",
    "\n",
    "\n",
    "\n",
    "\n"
   ]
  }
 ],
 "metadata": {
  "kernelspec": {
   "display_name": "Python 3",
   "language": "python",
   "name": "python3"
  },
  "language_info": {
   "codemirror_mode": {
    "name": "ipython",
    "version": 3
   },
   "file_extension": ".py",
   "mimetype": "text/x-python",
   "name": "python",
   "nbconvert_exporter": "python",
   "pygments_lexer": "ipython3",
   "version": "3.8.5"
  }
 },
 "nbformat": 4,
 "nbformat_minor": 5
}
