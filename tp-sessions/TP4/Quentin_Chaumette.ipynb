{
 "cells": [
  {
   "cell_type": "markdown",
   "id": "sealed-purple",
   "metadata": {},
   "source": [
    "# Hello World"
   ]
  },
  {
   "cell_type": "code",
   "execution_count": 1,
   "id": "boolean-science",
   "metadata": {},
   "outputs": [
    {
     "data": {
      "application/javascript": [
       "IPython.notebook.set_autosave_interval(5000)"
      ]
     },
     "metadata": {},
     "output_type": "display_data"
    },
    {
     "name": "stdout",
     "output_type": "stream",
     "text": [
      "Autosaving every 5 seconds\n",
      "Use Chrome browser\n",
      "First, you should run this cell\n"
     ]
    }
   ],
   "source": [
    "\n",
    "# You can import bibTableau.py as described here\n",
    "from bibTableau import *\n",
    "\n",
    "#jupyter notebook autosave interval\n",
    "%autosave 5\n",
    "\n",
    "print(\"Use Chrome browser\")\n",
    "print(\"First, you should run this cell\")\n"
   ]
  },
  {
   "cell_type": "markdown",
   "id": "detected-vessel",
   "metadata": {},
   "source": [
    "# Exercice 1"
   ]
  },
  {
   "cell_type": "markdown",
   "id": "settled-maple",
   "metadata": {},
   "source": [
    "## Exercice 1.1: inserer (t, n, e, k)"
   ]
  },
  {
   "cell_type": "code",
   "execution_count": null,
   "id": "comprehensive-course",
   "metadata": {},
   "outputs": [],
   "source": [
    "\n",
    "\n",
    "def inserer(t, n, e, k):\n",
    "    if (k>n):\n",
    "        k=n\n",
    "    for i in range(k,n,-1):\n",
    "        t[i]=t[i-1]\n",
    "        \n",
    "    t[k]=e\n",
    "    return n+1\n",
    "\n",
    "\n",
    "\n",
    "\n",
    "\n"
   ]
  },
  {
   "cell_type": "markdown",
   "id": "greek-fiber",
   "metadata": {},
   "source": [
    "## Exercice 1.2: supprimer (t, n, k)"
   ]
  },
  {
   "cell_type": "code",
   "execution_count": 15,
   "id": "tender-brook",
   "metadata": {},
   "outputs": [
    {
     "name": "stdout",
     "output_type": "stream",
     "text": [
      "[1, 2, 4, None, None, None]\n"
     ]
    }
   ],
   "source": [
    "\n",
    "\n",
    "def supprimer(t,n,k):\n",
    "    for i in range (k,n+1):\n",
    "        t[i]=t[i+1]\n",
    "    return n-1\n",
    "\n",
    "t=[1,2,3,4,None,None]\n",
    "n=4\n",
    "k=2\n",
    "supprimer(t,n,k)\n",
    "print(t)\n",
    "\n",
    "\n",
    "\n"
   ]
  },
  {
   "cell_type": "markdown",
   "id": "primary-selling",
   "metadata": {},
   "source": [
    "## Exercice 1.3: supprimerPremiereOccurrence(t, n, x)"
   ]
  },
  {
   "cell_type": "code",
   "execution_count": 16,
   "id": "progressive-thursday",
   "metadata": {},
   "outputs": [
    {
     "name": "stdout",
     "output_type": "stream",
     "text": [
      "[1, 3, 4, 2, None, None, None]\n"
     ]
    }
   ],
   "source": [
    "\n",
    "def supprimerPremiereOccurrence(t,n,x):\n",
    "    for i in range (n):\n",
    "        if t[i]==x:\n",
    "            return supprimer(t,n,i)\n",
    "\n",
    "\n",
    "\n",
    "t=[1,2,3,4,2,None,None]\n",
    "n=5\n",
    "x=2\n",
    "supprimerPremiereOccurrence(t,n,x)\n",
    "print(t)\n",
    "\n"
   ]
  },
  {
   "cell_type": "markdown",
   "id": "reported-publication",
   "metadata": {},
   "source": [
    "## Exercice 1.4: insererOrdonne(t, n, e)"
   ]
  },
  {
   "cell_type": "code",
   "execution_count": 20,
   "id": "latter-devon",
   "metadata": {},
   "outputs": [
    {
     "name": "stdout",
     "output_type": "stream",
     "text": [
      "5\n",
      "[1, 2, 3, 4, 7, None]\n"
     ]
    }
   ],
   "source": [
    "def insererOrdonne(t, n, e):\n",
    "    i=n\n",
    "    while i>0 and t[i-1] > e:\n",
    "        for i in range(0,n):\n",
    "            t[i]=t[i-1]\n",
    "            i=i-1\n",
    "    t[i]=e\n",
    "    return n+1\n",
    "    \n",
    "    \n",
    "t=[1,2,3,4,None,None]\n",
    "n=4\n",
    "e=7\n",
    "print(insererOrdonne(t,n,e))\n",
    "print(t)\n",
    "\n",
    "\n",
    "\n",
    "\n",
    "\n",
    "\n"
   ]
  },
  {
   "cell_type": "markdown",
   "id": "given-serve",
   "metadata": {},
   "source": [
    "# Exercice 2: estCroissant(t, n)"
   ]
  },
  {
   "cell_type": "code",
   "execution_count": 22,
   "id": "ancient-explorer",
   "metadata": {},
   "outputs": [
    {
     "name": "stdout",
     "output_type": "stream",
     "text": [
      "False\n"
     ]
    }
   ],
   "source": [
    "def estCroissant(t,n):\n",
    "    for i in range(n-1):\n",
    "        if t[i]>t[i+1]:\n",
    "            return False\n",
    "    return True\n",
    "\n",
    "\n",
    "t=[100,2,4,6]\n",
    "n=4\n",
    "print(estCroissant(t,n))\n",
    "\n",
    "\n",
    "\n"
   ]
  },
  {
   "cell_type": "markdown",
   "id": "proved-closure",
   "metadata": {},
   "source": [
    "# Exercice 3"
   ]
  },
  {
   "cell_type": "markdown",
   "id": "standard-maldives",
   "metadata": {},
   "source": [
    "## Exercice 3.1:  rotationAdroite(t, n)"
   ]
  },
  {
   "cell_type": "code",
   "execution_count": 44,
   "id": "miniature-comparative",
   "metadata": {},
   "outputs": [
    {
     "name": "stdout",
     "output_type": "stream",
     "text": [
      "[0, 1, 2, 3, 4, 5, 6, None, None, None]\n",
      "[6, 0, 1, 2, 3, 4, 5, None, None, None]\n"
     ]
    }
   ],
   "source": [
    "def rotationAdroite(t, n):\n",
    "    if n<2:\n",
    "        return\n",
    "    if n>1:\n",
    "        aux=t[n-1]\n",
    "    for i in range (n-1,0,-1):\n",
    "        t[i]=t[i-1]\n",
    "    t[0]=aux\n",
    "            \n",
    "t=[0,1,2,3,4,5,6,None,None,None]\n",
    "n=7\n",
    "print(t)\n",
    "rotationAdroite(t,n)\n",
    "print(t)\n",
    "\n",
    "\n",
    "\n",
    "\n",
    "\n",
    "\n",
    "\n"
   ]
  },
  {
   "cell_type": "markdown",
   "id": "juvenile-satisfaction",
   "metadata": {},
   "source": [
    "## Exercice 3.2: rotationADroiteDeK(t,n,k)"
   ]
  },
  {
   "cell_type": "code",
   "execution_count": 45,
   "id": "satisfactory-china",
   "metadata": {},
   "outputs": [
    {
     "name": "stdout",
     "output_type": "stream",
     "text": [
      "[0, 1, 2, 3, 4, 5, 6, None, None, None]\n",
      "[4, 5, 6, 0, 1, 2, 3, None, None, None]\n"
     ]
    }
   ],
   "source": [
    "def rotationADroiteDeK_V1(t, n,k):\n",
    "    if n>1:\n",
    "        k=k%n\n",
    "    for j in range(k):\n",
    "        rotationAdroite(t,n)\n",
    "    \n",
    "t=[0,1,2,3,4,5,6,None,None,None]\n",
    "n=7\n",
    "print(t)\n",
    "rotationADroiteDeK(t,n,3)\n",
    "print(t)\n",
    "    \n",
    "    \n",
    "    \n",
    "# You should write two version of it as described.\n",
    "# rotationADroiteDeK_V1(t,n,k) <-- uses rotationAdroite\n",
    "# rotationADroiteDeK_V2(t,n,k) <-- uses an array\n",
    "def rotationADroiteDeK_V2(t, n, k):\n",
    "    \n",
    "    if n<=1:\n",
    "        return\n",
    "    k=k%n\n",
    "\n",
    "\n",
    "\n",
    "\n"
   ]
  },
  {
   "cell_type": "markdown",
   "id": "empirical-terminology",
   "metadata": {},
   "source": [
    "# Exercice complémentaire 1:"
   ]
  },
  {
   "cell_type": "code",
   "execution_count": null,
   "id": "manual-baseball",
   "metadata": {},
   "outputs": [],
   "source": [
    "\n",
    "\n",
    "\n",
    "\n",
    "\n",
    "\n",
    "\n",
    "\n"
   ]
  },
  {
   "cell_type": "markdown",
   "id": "annual-glenn",
   "metadata": {},
   "source": [
    "# Exercice complémentaire 2:"
   ]
  },
  {
   "cell_type": "code",
   "execution_count": null,
   "id": "demographic-tattoo",
   "metadata": {},
   "outputs": [],
   "source": [
    "\n",
    "\n",
    "\n",
    "\n",
    "\n",
    "\n",
    "\n",
    "\n"
   ]
  }
 ],
 "metadata": {
  "kernelspec": {
   "display_name": "Python 3",
   "language": "python",
   "name": "python3"
  },
  "language_info": {
   "codemirror_mode": {
    "name": "ipython",
    "version": 3
   },
   "file_extension": ".py",
   "mimetype": "text/x-python",
   "name": "python",
   "nbconvert_exporter": "python",
   "pygments_lexer": "ipython3",
   "version": "3.8.5"
  }
 },
 "nbformat": 4,
 "nbformat_minor": 5
}
