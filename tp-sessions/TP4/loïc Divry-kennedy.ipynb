{
 "cells": [
  {
   "cell_type": "markdown",
   "id": "sealed-purple",
   "metadata": {},
   "source": [
    "# Hello World"
   ]
  },
  {
   "cell_type": "code",
   "execution_count": 2,
   "id": "boolean-science",
   "metadata": {},
   "outputs": [
    {
     "data": {
      "application/javascript": [
       "IPython.notebook.set_autosave_interval(5000)"
      ]
     },
     "metadata": {},
     "output_type": "display_data"
    },
    {
     "name": "stdout",
     "output_type": "stream",
     "text": [
      "Autosaving every 5 seconds\n",
      "Use Chrome browser\n",
      "First, you should run this cell\n"
     ]
    }
   ],
   "source": [
    "\n",
    "# You can import bibTableau.py as described here\n",
    "from bibTableau import *\n",
    "\n",
    "#jupyter notebook autosave interval\n",
    "%autosave 5\n",
    "\n",
    "print(\"Use Chrome browser\")\n",
    "print(\"First, you should run this cell\")\n"
   ]
  },
  {
   "cell_type": "markdown",
   "id": "detected-vessel",
   "metadata": {},
   "source": [
    "# Exercice 1"
   ]
  },
  {
   "cell_type": "markdown",
   "id": "settled-maple",
   "metadata": {},
   "source": [
    "## Exercice 1.1: inserer (t, n, e, k)"
   ]
  },
  {
   "cell_type": "code",
   "execution_count": 21,
   "id": "comprehensive-course",
   "metadata": {},
   "outputs": [
    {
     "name": "stdout",
     "output_type": "stream",
     "text": [
      "[5, 4, 3, 12, 6, 0, 4, 7, 2, None]\n"
     ]
    }
   ],
   "source": [
    "def inserer(t,n,e,k):\n",
    "    for i in range(k,n+1):\n",
    "        u=t[i]\n",
    "        t[i]=e\n",
    "        e=u\n",
    "    return n+1\n",
    "\n",
    "t=[5,4,3,12,0,4,7,2,None,None]\n",
    "inserer(t,8,6,4)\n",
    "print(t)\n",
    "\n",
    "\n",
    "\n",
    "\n",
    "\n"
   ]
  },
  {
   "cell_type": "markdown",
   "id": "greek-fiber",
   "metadata": {},
   "source": [
    "## Exercice 1.2: supprimer (t, n, k)"
   ]
  },
  {
   "cell_type": "code",
   "execution_count": 14,
   "id": "tender-brook",
   "metadata": {},
   "outputs": [
    {
     "name": "stdout",
     "output_type": "stream",
     "text": [
      "[5, 4, 3, 12, 0, 4, 7, 2, None, None]\n",
      "7\n",
      "[5, 4, 3, 0, 4, 7, 2, None, None, None]\n"
     ]
    }
   ],
   "source": [
    "def supprimer(t,n,k):\n",
    "    for i in range(k,n+1):\n",
    "        t[i]=t[i+1]\n",
    "    return n-1\n",
    "t = [5,4,3,12,0,4,7,2,None,None]\n",
    "\n",
    "print(t)\n",
    "print(supprimer(t,8,3))\n",
    "print(t)\n",
    "\n",
    "\n",
    "\n",
    "\n",
    "\n",
    "\n"
   ]
  },
  {
   "cell_type": "markdown",
   "id": "primary-selling",
   "metadata": {},
   "source": [
    "## Exercice 1.3: supprimerPremiereOccurrence(t, n, x)"
   ]
  },
  {
   "cell_type": "code",
   "execution_count": 16,
   "id": "progressive-thursday",
   "metadata": {},
   "outputs": [
    {
     "name": "stdout",
     "output_type": "stream",
     "text": [
      "[5, 4, 3, 12, 0, 4, 7, 2, None, None]\n",
      "7\n",
      "[5, 4, 12, 0, 4, 7, 2, None, None, None]\n"
     ]
    }
   ],
   "source": [
    "def supprimer_premier_occurence(t,n,elt):\n",
    "    for i in range(n):\n",
    "        if t[i]==elt:\n",
    "            return supprimer(t,n,i)\n",
    "    return n\n",
    "t = [5,4,3,12,0,4,7,2,None,None]\n",
    "print(t)\n",
    "print(supprimer_premier_occurence(t,8,3))\n",
    "print(t)\n",
    "\n",
    "\n",
    "\n",
    "\n",
    "\n",
    "\n",
    "\n"
   ]
  },
  {
   "cell_type": "markdown",
   "id": "reported-publication",
   "metadata": {},
   "source": [
    "## Exercice 1.4: insererOrdonne(t, n, e)"
   ]
  },
  {
   "cell_type": "code",
   "execution_count": 27,
   "id": "latter-devon",
   "metadata": {},
   "outputs": [
    {
     "name": "stdout",
     "output_type": "stream",
     "text": [
      "[2, 4, 7, 10, 15, 20, 21, 25, None, None]\n"
     ]
    }
   ],
   "source": [
    "def insererOrdonne(t,n,e):\n",
    "    for i in range(n):\n",
    "        if t[i]<=e<=t[i+1]:\n",
    "            return inserer(t,n,e,i+1)\n",
    "    return n+1\n",
    "t =[2,4,7,10,15,20,25,None,None,None]\n",
    "insererOrdonne(t,7,21)\n",
    "print(t)\n",
    "\n",
    "\n",
    "\n",
    "\n",
    "\n"
   ]
  },
  {
   "cell_type": "markdown",
   "id": "given-serve",
   "metadata": {},
   "source": [
    "# Exercice 2: estCroissant(t, n)"
   ]
  },
  {
   "cell_type": "code",
   "execution_count": null,
   "id": "ancient-explorer",
   "metadata": {},
   "outputs": [],
   "source": [
    "\n",
    "def estCroissant(t,n):\n",
    "    for i in range(n):\n",
    "        if t[i]>t[i+1]:\n",
    "            return False\n",
    "    return True\n",
    "\n",
    "\n",
    "\n",
    "\n",
    "\n"
   ]
  },
  {
   "cell_type": "markdown",
   "id": "proved-closure",
   "metadata": {},
   "source": [
    "# Exercice 3"
   ]
  },
  {
   "cell_type": "markdown",
   "id": "standard-maldives",
   "metadata": {},
   "source": [
    "## Exercice 3.1:  rotationAdroite(t, n)"
   ]
  },
  {
   "cell_type": "code",
   "execution_count": 37,
   "id": "miniature-comparative",
   "metadata": {},
   "outputs": [
    {
     "name": "stdout",
     "output_type": "stream",
     "text": [
      "[6, 0, 1, 2, 3, 4, 5, None, None, None]\n"
     ]
    }
   ],
   "source": [
    "def rotationAdroite(t,n):\n",
    "    e=t[n-1]\n",
    "    for i in range(n):\n",
    "        u=t[i]\n",
    "        t[i]=e\n",
    "        e=u\n",
    "t = [0,1,2,3,4,5,6,None,None,None]\n",
    "rotationAdroite(t,7)\n",
    "print(t)\n",
    "\n",
    "\n",
    "\n",
    "\n",
    "\n",
    "\n",
    "\n"
   ]
  },
  {
   "cell_type": "markdown",
   "id": "juvenile-satisfaction",
   "metadata": {},
   "source": [
    "## Exercice 3.2: rotationADroiteDeK(t,n,k)"
   ]
  },
  {
   "cell_type": "code",
   "execution_count": 38,
   "id": "satisfactory-china",
   "metadata": {},
   "outputs": [
    {
     "name": "stdout",
     "output_type": "stream",
     "text": [
      "[3, 4, 5, 6, 0, 1, 2, None, None, None]\n"
     ]
    }
   ],
   "source": [
    "\n",
    "# You should write two version of it as described.\n",
    "# rotationADroiteDeK_V1(t,n,k) <-- uses rotationAdroite\n",
    "# rotationADroiteDeK_V2(t,n,k) <-- uses an array\n",
    "def rotationADroiteDeK_v1(t,n,k):\n",
    "    for i in range(k):\n",
    "        rotationAdroite(t,n)\n",
    "t = [0,1,2,3,4,5,6,None,None,None]\n",
    "rotationADroiteDeK_v1(t,7,4)\n",
    "print(t)\n",
    "\n",
    "def rotationADroiteDeK_v2(t,n,k):\n",
    "    f=creerTableau(k+1)\n",
    "    e=t[n-k]\n",
    "    for i in range(n):\n",
    "        f[i]=t[i]\n",
    "        t[i]=e\n",
    "        e=t[i+k]\n",
    "    \n",
    "\n"
   ]
  },
  {
   "cell_type": "markdown",
   "id": "empirical-terminology",
   "metadata": {},
   "source": [
    "# Exercice complémentaire 1:"
   ]
  },
  {
   "cell_type": "code",
   "execution_count": null,
   "id": "manual-baseball",
   "metadata": {},
   "outputs": [],
   "source": [
    "\n",
    "\n",
    "\n",
    "\n",
    "\n",
    "\n",
    "\n",
    "\n"
   ]
  },
  {
   "cell_type": "markdown",
   "id": "annual-glenn",
   "metadata": {},
   "source": [
    "# Exercice complémentaire 2:"
   ]
  },
  {
   "cell_type": "code",
   "execution_count": null,
   "id": "demographic-tattoo",
   "metadata": {},
   "outputs": [],
   "source": [
    "\n",
    "\n",
    "\n",
    "\n",
    "\n",
    "\n",
    "\n",
    "\n"
   ]
  }
 ],
 "metadata": {
  "kernelspec": {
   "display_name": "Python 3",
   "language": "python",
   "name": "python3"
  },
  "language_info": {
   "codemirror_mode": {
    "name": "ipython",
    "version": 3
   },
   "file_extension": ".py",
   "mimetype": "text/x-python",
   "name": "python",
   "nbconvert_exporter": "python",
   "pygments_lexer": "ipython3",
   "version": "3.8.5"
  }
 },
 "nbformat": 4,
 "nbformat_minor": 5
}
