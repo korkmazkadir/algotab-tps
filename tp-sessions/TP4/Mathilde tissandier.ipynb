{
 "cells": [
  {
   "cell_type": "markdown",
   "id": "sealed-purple",
   "metadata": {},
   "source": [
    "# Hello World"
   ]
  },
  {
   "cell_type": "code",
   "execution_count": null,
   "id": "boolean-science",
   "metadata": {},
   "outputs": [],
   "source": [
    "\n",
    "# You can import bibTableau.py as described here\n",
    "from bibTableau import *\n",
    "\n",
    "#jupyter notebook autosave interval\n",
    "%autosave 5\n",
    "\n",
    "print(\"Use Chrome browser\")\n",
    "print(\"First, you should run this cell\")\n"
   ]
  },
  {
   "cell_type": "markdown",
   "id": "detected-vessel",
   "metadata": {},
   "source": [
    "# Exercice 1"
   ]
  },
  {
   "cell_type": "markdown",
   "id": "settled-maple",
   "metadata": {},
   "source": [
    "## Exercice 1.1: inserer (t, n, e, k)"
   ]
  },
  {
   "cell_type": "code",
   "execution_count": 11,
   "id": "comprehensive-course",
   "metadata": {
    "scrolled": true
   },
   "outputs": [
    {
     "name": "stdout",
     "output_type": "stream",
     "text": [
      "[1, 2, 3, 4, 5, 6, 7, 8, 9, 10, 11, 12, 13, 14, 15, 16, 17, 18, 19, 20, None, None, None]\n",
      "[1, 2, 3, 4, 5, 6, 6, 7, 8, 9, 10, 11, 12, 13, 14, 15, 16, 17, 18, 19, 20, None, None]\n"
     ]
    }
   ],
   "source": [
    "def inserer(t,n,elt,k):\n",
    "    for i in range(k,n+1):\n",
    "        aux = t[i]\n",
    "        t[i] = elt\n",
    "        elt = aux\n",
    "    return n+1\n",
    "\n",
    "t=[1,2,3,4,5,6,7,8,9,10,11,12,13,14,15,16,17,18,19,20,None,None,None]   \n",
    "print(t)     \n",
    "inserer(t,22,6,5)\n",
    "print(t)\n",
    "\n"
   ]
  },
  {
   "cell_type": "markdown",
   "id": "greek-fiber",
   "metadata": {},
   "source": [
    "## Exercice 1.2: supprimer (t, n, k)"
   ]
  },
  {
   "cell_type": "code",
   "execution_count": 3,
   "id": "tender-brook",
   "metadata": {},
   "outputs": [
    {
     "name": "stdout",
     "output_type": "stream",
     "text": [
      "[1, 2, 3, 4, 5, 6, 7, 8, 9, None, None, None]\n",
      "[1, 2, 3, 4, 5, 6, 8, 9, None, None, None, None]\n"
     ]
    }
   ],
   "source": [
    "def supprimer(t,n,k):\n",
    "    for i in range (k,n+1):\n",
    "        t[i]=t[i+1]\n",
    "    return n-1\n",
    "\n",
    "t=[1, 2, 3, 4, 5, 6, 7, 8, 9, None, None, None]\n",
    "print(t)\n",
    "supprimer(t, 10, 6)\n",
    "print(t)\n",
    "\n"
   ]
  },
  {
   "cell_type": "markdown",
   "id": "primary-selling",
   "metadata": {},
   "source": [
    "## Exercice 1.3: supprimerPremiereOccurrence(t, n, x)"
   ]
  },
  {
   "cell_type": "code",
   "execution_count": 31,
   "id": "progressive-thursday",
   "metadata": {},
   "outputs": [
    {
     "name": "stdout",
     "output_type": "stream",
     "text": [
      "[1, 2, 3, 4, 5, 6, 7, 8, 9, 10, 11, 12, 13, 14, 15, 16, 17, 18, 19, 20]\n",
      "[1, 2, 3, 4, 6, 6, 7, 8, 9, 10, 11, 12, 13, 14, 15, 16, 17, 18, 19, 20]\n"
     ]
    }
   ],
   "source": [
    "def supprimerPremiereOccurence(t, n, x):\n",
    "    for i in range (n+1):\n",
    "        if (t[i]==x):\n",
    "            t[i]=t[i+1]\n",
    "    return n-1\n",
    "\n",
    "t=[1,2,3,4,5,6,7,8,9,10,11,12,13,14,15,16,17,18,19,20]\n",
    "print(t)\n",
    "supprimerPremiereOccurence(t, 10, 5)\n",
    "print(t)\n"
   ]
  },
  {
   "cell_type": "markdown",
   "id": "reported-publication",
   "metadata": {},
   "source": [
    "## Exercice 1.4: insererOrdonne(t, n, e)"
   ]
  },
  {
   "cell_type": "code",
   "execution_count": 41,
   "id": "latter-devon",
   "metadata": {},
   "outputs": [
    {
     "name": "stdout",
     "output_type": "stream",
     "text": [
      "[2, 4, 7, 10, 15, 20, 25, None, None, None]\n",
      "[2, 4, 5, 7, 10, 15, 20, 25, None, None]\n"
     ]
    }
   ],
   "source": [
    "def insererOrdonne(t, n, e):\n",
    "    i=n\n",
    "    while i>0 and t[i-1]>e:\n",
    "        t[i]=t[i-1]\n",
    "        i=i-1\n",
    "    t[i]=e\n",
    "    return n+1\n",
    "    \n",
    "\n",
    "t =[2,4,7,10,15,20,25,None,None,None]\n",
    "print(t)\n",
    "insererOrdonne(t,7,5)\n",
    "print(t)\n",
    "            \n",
    "        \n",
    "\n",
    "\n"
   ]
  },
  {
   "cell_type": "markdown",
   "id": "given-serve",
   "metadata": {},
   "source": [
    "# Exercice 2: estCroissant(t, n)"
   ]
  },
  {
   "cell_type": "code",
   "execution_count": 59,
   "id": "ancient-explorer",
   "metadata": {},
   "outputs": [
    {
     "name": "stdout",
     "output_type": "stream",
     "text": [
      "[1, 2, 3, 4, 5, 6, 7, 8, 9, 10, 11, 12, 13, 14, 15, 16, 17, 18, 19]\n"
     ]
    },
    {
     "data": {
      "text/plain": [
       "True"
      ]
     },
     "execution_count": 59,
     "metadata": {},
     "output_type": "execute_result"
    }
   ],
   "source": [
    "def estcroissant(t, n):\n",
    "    for i in range(n):\n",
    "        while t[i]<t[i+1]:\n",
    "            i=i+1\n",
    "            return True\n",
    "    return False\n",
    "\n",
    "t=[1,2,3,4,5,6,7,8,9,10,11,12,13,14,15,16,17,18,19]\n",
    "print(t)\n",
    "estcroissant(t, 18)\n",
    "\n",
    "\n",
    "\n",
    "\n",
    "\n",
    "\n",
    "\n",
    "\n"
   ]
  },
  {
   "cell_type": "markdown",
   "id": "proved-closure",
   "metadata": {},
   "source": [
    "# Exercice 3"
   ]
  },
  {
   "cell_type": "markdown",
   "id": "standard-maldives",
   "metadata": {},
   "source": [
    "## Exercice 3.1:  rotationAdroite(t, n)"
   ]
  },
  {
   "cell_type": "code",
   "execution_count": 82,
   "id": "miniature-comparative",
   "metadata": {},
   "outputs": [],
   "source": [
    "def rotationAdroite(t,n):\n",
    "    if n>1:\n",
    "        aux=t[n-1]\n",
    "        for i in range(n-1,0,-1):\n",
    "            t[i]=t[i-1]\n",
    "        t[0]=aux\n",
    "    \n",
    "   \n",
    "\n"
   ]
  },
  {
   "cell_type": "markdown",
   "id": "juvenile-satisfaction",
   "metadata": {},
   "source": [
    "## Exercice 3.2: rotationADroiteDeK(t,n,k)"
   ]
  },
  {
   "cell_type": "code",
   "execution_count": null,
   "id": "satisfactory-china",
   "metadata": {},
   "outputs": [],
   "source": [
    "\n",
    "# You should write two version of it as described.\n",
    "# rotationADroiteDeK_V1(t,n,k) <-- uses rotationAdroite\n",
    "# rotationADroiteDeK_V2(t,n,k) <-- uses an array\n",
    "\n",
    "def rotationADroiteDeK_V1(t,n,k):\n",
    "    if n>1:\n",
    "        k=k%n\n",
    "        for i in range(k):\n",
    "            rotationAdroite(t,n)\n",
    "\n",
    "            \n",
    "\n",
    "    \n",
    "\n",
    "\n",
    "\n"
   ]
  },
  {
   "cell_type": "markdown",
   "id": "empirical-terminology",
   "metadata": {},
   "source": [
    "# Exercice complémentaire 1:"
   ]
  },
  {
   "cell_type": "code",
   "execution_count": null,
   "id": "manual-baseball",
   "metadata": {},
   "outputs": [],
   "source": [
    "\n",
    "\n",
    "\n",
    "\n",
    "\n",
    "\n",
    "\n",
    "\n"
   ]
  },
  {
   "cell_type": "markdown",
   "id": "annual-glenn",
   "metadata": {},
   "source": [
    "# Exercice complémentaire 2:"
   ]
  },
  {
   "cell_type": "code",
   "execution_count": null,
   "id": "demographic-tattoo",
   "metadata": {},
   "outputs": [],
   "source": [
    "\n",
    "\n",
    "\n",
    "\n",
    "\n",
    "\n",
    "\n",
    "\n"
   ]
  }
 ],
 "metadata": {
  "kernelspec": {
   "display_name": "Python 3",
   "language": "python",
   "name": "python3"
  },
  "language_info": {
   "codemirror_mode": {
    "name": "ipython",
    "version": 3
   },
   "file_extension": ".py",
   "mimetype": "text/x-python",
   "name": "python",
   "nbconvert_exporter": "python",
   "pygments_lexer": "ipython3",
   "version": "3.8.5"
  }
 },
 "nbformat": 4,
 "nbformat_minor": 5
}
