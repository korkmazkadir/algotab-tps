{
 "cells": [
  {
   "cell_type": "markdown",
   "id": "e4724f73",
   "metadata": {},
   "source": [
    "# Hello World"
   ]
  },
  {
   "cell_type": "code",
   "execution_count": 12,
   "id": "98ecab51",
   "metadata": {},
   "outputs": [
    {
     "data": {
      "application/javascript": [
       "IPython.notebook.set_autosave_interval(5000)"
      ]
     },
     "metadata": {},
     "output_type": "display_data"
    },
    {
     "name": "stdout",
     "output_type": "stream",
     "text": [
      "Autosaving every 5 seconds\n",
      "Use Chrome browser\n",
      "First, you should run this cell\n"
     ]
    }
   ],
   "source": [
    "# You can import bibTableau.py as described here\n",
    "from bibTableau import *\n",
    "\n",
    "#jupyter notebook autosave interval\n",
    "%autosave 5\n",
    "\n",
    "print(\"Use Chrome browser\")\n",
    "print(\"First, you should run this cell\")"
   ]
  },
  {
   "cell_type": "markdown",
   "id": "7910305b",
   "metadata": {},
   "source": [
    "# Sortition Algorithms Explained Visually"
   ]
  },
  {
   "cell_type": "markdown",
   "id": "bc336eb9",
   "metadata": {},
   "source": [
    "Use the provided tool: https://interstices.info/les-algorithmes-de-tri/ to understand following algorithms"
   ]
  },
  {
   "cell_type": "markdown",
   "id": "aa57f4c9",
   "metadata": {},
   "source": [
    "# TP6: Selection Sort"
   ]
  },
  {
   "cell_type": "code",
   "execution_count": 13,
   "id": "a9c3e3f7",
   "metadata": {},
   "outputs": [
    {
     "name": "stdout",
     "output_type": "stream",
     "text": [
      "Before sorting\t: [3, -2, 9, 9, 21, 13, -8, -2]\n",
      "After sorting\t: [-8, -2, -2, 3, 9, 9, 13, 21]\n"
     ]
    }
   ],
   "source": [
    "# t is a table\n",
    "# n length of the table\n",
    "\n",
    "def minimum(t,n,i):\n",
    "    Min = t[i]\n",
    "    Min_index = i\n",
    "    for j in range(i+1,n):\n",
    "        if t[j] < Min:\n",
    "            Min = t[j]\n",
    "            Min_index = j\n",
    "    return Min_index\n",
    "\n",
    "def swap(t,i,j):\n",
    "    c = t[i]\n",
    "    t[i] = t[j]\n",
    "    t[j] = c\n",
    "    return t\n",
    "\n",
    "def triSelection(t,n):\n",
    "    for i in range(n):\n",
    "        swap(t,i,minimum(t,n,i))\n",
    "    return t\n",
    "# implement selection sort\n",
    "\n",
    "\n",
    "#A simple input set\n",
    "t=[3,-2,9,9,21,13,-8,-2]\n",
    "print(\"Before sorting\\t:\", t)\n",
    "triSelection(t, 8)\n",
    "print(\"After sorting\\t:\", t)\n",
    "    \n",
    "    "
   ]
  },
  {
   "cell_type": "markdown",
   "id": "07482055",
   "metadata": {},
   "source": [
    "# TP6: Insertion Sort:"
   ]
  },
  {
   "cell_type": "code",
   "execution_count": 14,
   "id": "239de47a",
   "metadata": {},
   "outputs": [
    {
     "name": "stdout",
     "output_type": "stream",
     "text": [
      "Before sorting\t: [3, -2, 9, 9, 21, 13, -8, -2]\n",
      "After sorting\t: [-8, -2, -2, 3, 9, 9, 13, 21]\n"
     ]
    }
   ],
   "source": [
    "# t is a table\n",
    "# n length of the table\n",
    "\n",
    "def inserer(t,n,x):\n",
    "    i = 0\n",
    "    while t[i] < x and i < n:\n",
    "        i += 1\n",
    "    for j in range(n,i-1,-1):\n",
    "        t[j] = t[j-1]\n",
    "    t[i] = x\n",
    "    return t\n",
    "\n",
    "def triInsertion(t,n):\n",
    "    for i in range(1,n):\n",
    "        inserer(t,i,t[i])\n",
    "    return t\n",
    "# implement insertion sort\n",
    "    \n",
    "\n",
    "#A simple input set\n",
    "t=[3,-2,9,9,21,13,-8,-2]\n",
    "print(\"Before sorting\\t:\", t)\n",
    "triInsertion(t, 8)\n",
    "print(\"After sorting\\t:\", t)\n",
    "    \n",
    "    "
   ]
  },
  {
   "cell_type": "markdown",
   "id": "2469d222",
   "metadata": {},
   "source": [
    "# Exercice 1 – Expérimentation"
   ]
  },
  {
   "cell_type": "markdown",
   "id": "5a5a57b0",
   "metadata": {},
   "source": [
    "Use the provided tool: https://interstices.info/les-algorithmes-de-tri/ to do experiments."
   ]
  },
  {
   "cell_type": "markdown",
   "id": "cdf3ae7e",
   "metadata": {},
   "source": [
    "# Exercice 2 – Recherche dichotomique dans un tableau d’entiers"
   ]
  },
  {
   "cell_type": "code",
   "execution_count": 15,
   "id": "385ca132",
   "metadata": {
    "scrolled": true
   },
   "outputs": [
    {
     "name": "stdout",
     "output_type": "stream",
     "text": [
      "Before sorting\t: [27, 28, 42, 12, 48, 25, 63, 35, 36, 90, 40, 19, 75, 50, 64, 39, 20, 22, 95, 49, 7, 90, 8, 4, 74, 54, 81, 28, 40, 32, 86, 53]\n",
      "After sorting\t: [4, 7, 8, 12, 19, 20, 22, 25, 27, 28, 28, 32, 35, 36, 39, 40, 40, 42, 48, 49, 50, 53, 54, 63, 64, 74, 75, 81, 86, 90, 90, 95]\n",
      "Valeure médiane :  40\n",
      "Valeure médiane :  63\n",
      "Valeure médiane :  81\n",
      "Valeure médiane :  90\n",
      "Valeure médiane :  90\n",
      "-1\n"
     ]
    }
   ],
   "source": [
    "# -*- coding:utf-8 -*-\n",
    "from bibTableau import *\n",
    "import time\n",
    "\n",
    "\n",
    "\n",
    "def tempsExecution(f, t, n, s): # Calcule, en millisecondes, le temps d'exécution de f(t, n, s)\n",
    "    debut =  time.process_time()\n",
    "    f(t, n, s)\n",
    "    fin = time.process_time()\n",
    "    return round((fin - debut)*1000)\n",
    "\n",
    "\n",
    "# création d'un tableau des mots du français\n",
    "# liste initiale sur http://www.pallier.org/ressources/dicofr/dicofr.html\n",
    "\n",
    "idf = open(\"dictionnaireSansAccents.txt\",'r')\n",
    "t_mots = idf.readlines()\n",
    "idf.close()\n",
    "nb_mots = len(t_mots)\n",
    "for i in range(nb_mots):\n",
    "    t_mots[i] = t_mots[i][0:len(t_mots[i])-1]\n",
    "\n",
    "# tableau servant à tester l'algorithme de tri et celui de recherche dichotomique \n",
    "tab = [27, 28, 42, 12, 48, 25, 63, 35, 36, 90, 40, 19, 75, 50, 64, 39, 20, 22, 95, 49, 7, 90, 8, 4, 74, 54, 81, 28, 40, 32, 86, 53]\n",
    "    \n",
    "#-----------------  écrire à la suite votre code  -----------------------------\n",
    "\n",
    "#######     Exercice 2     #######\n",
    "\n",
    "# fonction de recherche dichotomique avec trace:\n",
    "\n",
    "def rechercheDichotomiqueAvecTrace(t,n,x):\n",
    "    ind_max = n-1\n",
    "    ind_min = 0\n",
    "    while ind_max != ind_min:\n",
    "        ind_m = (ind_max+ind_min)//2\n",
    "        m = t[ind_m]\n",
    "        print(\"Valeure médiane : \",m)\n",
    "        if x == m:\n",
    "            return ind_m\n",
    "        elif x < m:\n",
    "            ind_max = ind_m-1\n",
    "        else:\n",
    "            ind_min = ind_m+1  \n",
    "    if x == t[ind_max]:\n",
    "        return ind_max\n",
    "    return -1\n",
    "\n",
    "\n",
    "    \n",
    "# fonction de tri:\n",
    "# You can use any of the sortition function we have implemented in this TP.\n",
    "def inserer(t,n,x):\n",
    "    i = 0\n",
    "    while t[i] < x and i < n:\n",
    "        i += 1\n",
    "    for j in range(n,i-1,-1):\n",
    "        t[j] = t[j-1]\n",
    "    t[i] = x\n",
    "    return t\n",
    "\n",
    "def triInsertion(t,n):\n",
    "    for i in range(1,n):\n",
    "        inserer(t,i,t[i])\n",
    "    return t\n",
    "\n",
    "\n",
    "# appel de la fonction de tri sur le tableau tab donné ci-dessus:\n",
    "print(\"Before sorting\\t:\", tab)\n",
    "triInsertion(tab, 32)\n",
    "print(\"After sorting\\t:\", tab)\n",
    "\n",
    "\n",
    "# appels de la fonction de recherche dichotomique avec trace sur le tableau trié:\n",
    "print(rechercheDichotomiqueAvecTrace(tab,32,93))\n"
   ]
  },
  {
   "cell_type": "markdown",
   "id": "2bf8b9aa",
   "metadata": {},
   "source": [
    "# Exercice 3"
   ]
  },
  {
   "cell_type": "code",
   "execution_count": 23,
   "id": "87f0bca4",
   "metadata": {},
   "outputs": [
    {
     "name": "stdout",
     "output_type": "stream",
     "text": [
      "Le dictionnaire contient 196746 mots.\n",
      "True\n",
      "Recherche balayage:\n",
      "196740\n",
      "Temps recherche 'zymotique' : 11 ms\n",
      "-1\n",
      "Temps recherche 'zymotique' : 14 ms\n",
      "Recherche dichotomique:\n",
      "196740\n",
      "Temps recherche 'zymotique' : 0 ms\n",
      "-1\n",
      "Temps recherche 'zymotique' : 0 ms\n"
     ]
    }
   ],
   "source": [
    "\n",
    "# How many words does the dictionary contain?\n",
    "\n",
    "print(\"Le dictionnaire contient\",len(t_mots),\"mots.\")\n",
    "\n",
    "# Check that the array of t_mots character strings is sorted in alphabetical order.\n",
    "\n",
    "def isAlphabetical(t,n):\n",
    "    for i in range(1,n):\n",
    "        if t[i] < t[i-1]:\n",
    "            return False\n",
    "    return True\n",
    "\n",
    "print(isAlphabetical(t_mots,len(t_mots)))\n",
    "\n",
    "\n",
    "# Write a rechercheBalayage(t, n, ch) function which returns the index in the array t of\n",
    "# the string ch if it is found there and -1 otherwise. In this first version of the\n",
    "# search for a character string, we go through the whole table sequentially. Your code\n",
    "# would it be different if we were dealing with an array of integers?\n",
    "\n",
    "def rechercheBalayage(t, n, ch):\n",
    "    for i in range(n):\n",
    "        if ch == t[i]:\n",
    "            return i\n",
    "    return -1\n",
    "\n",
    "\n",
    "# Is zymotique a dictionary word used? And yaourth? How long\n",
    "# takes the rechercheBalayage function to search for each of these words in the array t_mots?\n",
    "print(\"Recherche balayage:\")\n",
    "print(rechercheBalayage(t_mots,len(t_mots),\"zymotique\"))\n",
    "print(\"Temps recherche 'zymotique' :\",tempsExecution(rechercheBalayage,t_mots,len(t_mots),\"zymotique\"),\"ms\")\n",
    "print(rechercheBalayage(t_mots,len(t_mots),\"yaourth\"))\n",
    "print(\"Temps recherche 'zymotique' :\",tempsExecution(rechercheBalayage,t_mots,len(t_mots),\"yaourth\"),\"ms\")\n",
    "\n",
    "\n",
    "# Write a rechercheDichotomique(t, n, ch) which returns the index in the array\n",
    "# t of the string ch if it is found there and -1 otherwise. As the name suggests this \n",
    "# function implements the dichotomous search algorithm.\n",
    "\n",
    "def rechercheDichotomique(t, n, ch):\n",
    "    ind_max = n-1\n",
    "    ind_min = 0\n",
    "    while ind_max != ind_min:\n",
    "        ind_m = (ind_max+ind_min)//2\n",
    "        m = t[ind_m]\n",
    "        if ch == m:\n",
    "            return ind_m\n",
    "        elif ch < m:\n",
    "            ind_max = ind_m-1\n",
    "        else:\n",
    "            ind_min = ind_m+1  \n",
    "    if ch == t[ind_max]:\n",
    "        return ind_max\n",
    "    return -1\n",
    "\n",
    "\n",
    "# Check that the rechercheDichotomique function gives the expected results on the words\n",
    "# zymotique and yaourth. How long does it take to search for each of these words in\n",
    "# the array t_mots?\n",
    "print(\"Recherche dichotomique:\")\n",
    "print(rechercheDichotomique(t_mots,len(t_mots),\"zymotique\"))\n",
    "print(\"Temps recherche 'zymotique' :\",tempsExecution(rechercheDichotomique,t_mots,len(t_mots),\"zymotique\"),\"ms\")\n",
    "print(rechercheDichotomique(t_mots,len(t_mots),\"yaourth\"))\n",
    "print(\"Temps recherche 'zymotique' :\",tempsExecution(rechercheDichotomique,t_mots,len(t_mots),\"yaourth\"),\"ms\")\n",
    "\n",
    "\n",
    "\n"
   ]
  },
  {
   "cell_type": "markdown",
   "id": "17ce74cf",
   "metadata": {},
   "source": [
    "# Exercice complémentaire 1"
   ]
  },
  {
   "cell_type": "code",
   "execution_count": null,
   "id": "5b29707e",
   "metadata": {},
   "outputs": [],
   "source": [
    "\n",
    "\n",
    "\n",
    "\n",
    "\n",
    "\n"
   ]
  }
 ],
 "metadata": {
  "kernelspec": {
   "display_name": "Python 3",
   "language": "python",
   "name": "python3"
  },
  "language_info": {
   "codemirror_mode": {
    "name": "ipython",
    "version": 3
   },
   "file_extension": ".py",
   "mimetype": "text/x-python",
   "name": "python",
   "nbconvert_exporter": "python",
   "pygments_lexer": "ipython3",
   "version": "3.8.5"
  }
 },
 "nbformat": 4,
 "nbformat_minor": 5
}
