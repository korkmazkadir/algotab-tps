{
 "cells": [
  {
   "cell_type": "markdown",
   "id": "e4724f73",
   "metadata": {},
   "source": [
    "# Hello World"
   ]
  },
  {
   "cell_type": "code",
   "execution_count": 1,
   "id": "98ecab51",
   "metadata": {},
   "outputs": [
    {
     "data": {
      "application/javascript": [
       "IPython.notebook.set_autosave_interval(5000)"
      ]
     },
     "metadata": {},
     "output_type": "display_data"
    },
    {
     "name": "stdout",
     "output_type": "stream",
     "text": [
      "Autosaving every 5 seconds\n",
      "Use Chrome browser\n",
      "First, you should run this cell\n"
     ]
    }
   ],
   "source": [
    "# You can import bibTableau.py as described here\n",
    "from bibTableau import *\n",
    "\n",
    "#jupyter notebook autosave interval\n",
    "%autosave 5\n",
    "\n",
    "print(\"Use Chrome browser\")\n",
    "print(\"First, you should run this cell\")"
   ]
  },
  {
   "cell_type": "markdown",
   "id": "7910305b",
   "metadata": {},
   "source": [
    "# Sortition Algorithms Explained Visually"
   ]
  },
  {
   "cell_type": "markdown",
   "id": "bc336eb9",
   "metadata": {},
   "source": [
    "Use the provided tool: https://interstices.info/les-algorithmes-de-tri/ to understand following algorithms"
   ]
  },
  {
   "cell_type": "markdown",
   "id": "aa57f4c9",
   "metadata": {},
   "source": [
    "# TP6: Selection Sort"
   ]
  },
  {
   "cell_type": "code",
   "execution_count": 4,
   "id": "a9c3e3f7",
   "metadata": {},
   "outputs": [
    {
     "name": "stdout",
     "output_type": "stream",
     "text": [
      "Before sorting\t: [3, -2, 9, 9, 21, 13, -8, -2]\n",
      "After sorting\t: [-8, -2, -2, 3, 9, 9, 13, 21]\n"
     ]
    }
   ],
   "source": [
    "# t is a table\n",
    "# n length of the table\n",
    "def indiceminimum(t, début, n):\n",
    "    i_min=début\n",
    "    for i in range(i_min,n):\n",
    "        if t[i]<t[i_min]:\n",
    "            i_min=i\n",
    "    return i_min\n",
    "\n",
    "def echange(t,a,b):\n",
    "    stockage=t[b]\n",
    "    t[b]=t[a]\n",
    "    t[a]=stockage\n",
    "    \n",
    "def triSelection(t,n):\n",
    "    for i in range (n):\n",
    "        i_min=indiceminimum(t, i, n)\n",
    "        if i != i_min:\n",
    "            echange(t,i,i_min)\n",
    "            \n",
    "t=[3,-2,9,9,21,13,-8,-2]\n",
    "triSelection(t,8)\n",
    "#A simple input set\n",
    "t=[3,-2,9,9,21,13,-8,-2]\n",
    "print(\"Before sorting\\t:\", t)\n",
    "triSelection(t, 8)\n",
    "print(\"After sorting\\t:\", t)\n",
    "    \n",
    "    "
   ]
  },
  {
   "cell_type": "markdown",
   "id": "07482055",
   "metadata": {},
   "source": [
    "# TP6: Insertion Sort:"
   ]
  },
  {
   "cell_type": "code",
   "execution_count": 9,
   "id": "239de47a",
   "metadata": {},
   "outputs": [
    {
     "name": "stdout",
     "output_type": "stream",
     "text": [
      "Before sorting\t: [3, -2, 9, 9, 21, 13, -8, -2]\n",
      "After sorting\t: [-8, -2, -2, 3, 9, 9, 13, 21]\n"
     ]
    }
   ],
   "source": [
    "def triInsertion1(t, n):\n",
    "    for i in range(n-1):\n",
    "        imin=i\n",
    "        for j in range(i,n):\n",
    "            if t[j]<t[imin]:\n",
    "                imin=j\n",
    "        t[imin],t[i]= t[i],t[imin]\n",
    "        \n",
    "t=[1,2,0,5,9,10]\n",
    "\n",
    "def triInsertion2(t, n):\n",
    "    for i in range(1,n):\n",
    "        e=t[i]\n",
    "        j=i-1\n",
    "        while (j>=0 and t[j]>e):\n",
    "            t[j+1]=t[j]\n",
    "            j=j-1\n",
    "            t[j+1]=e\n",
    "\n",
    "t=[5,3,9,5,1,2]\n",
    "triInsertion1(t, 6)\n",
    "\n",
    "#A simple input set\n",
    "t=[3,-2,9,9,21,13,-8,-2]\n",
    "print(\"Before sorting\\t:\", t)\n",
    "triSelection(t, 8)\n",
    "print(\"After sorting\\t:\", t)\n",
    "    \n",
    "    "
   ]
  },
  {
   "cell_type": "markdown",
   "id": "2469d222",
   "metadata": {},
   "source": [
    "# Exercice 1 – Expérimentation"
   ]
  },
  {
   "cell_type": "markdown",
   "id": "5a5a57b0",
   "metadata": {},
   "source": [
    "Use the provided tool: https://interstices.info/les-algorithmes-de-tri/ to do experiments."
   ]
  },
  {
   "cell_type": "markdown",
   "id": "cdf3ae7e",
   "metadata": {},
   "source": [
    "# Exercice 2 – Recherche dichotomique dans un tableau d’entiers"
   ]
  },
  {
   "cell_type": "code",
   "execution_count": 15,
   "id": "385ca132",
   "metadata": {},
   "outputs": [
    {
     "name": "stdout",
     "output_type": "stream",
     "text": [
      "De 0 à 31 ==> la médianne vaut: 15\n",
      "De 16 à 31 ==> la médianne vaut: 23\n",
      "De 24 à 31 ==> la médianne vaut: 27\n",
      "De 28 à 31 ==> la médianne vaut: 29\n"
     ]
    },
    {
     "data": {
      "text/plain": [
       "29"
      ]
     },
     "execution_count": 15,
     "metadata": {},
     "output_type": "execute_result"
    }
   ],
   "source": [
    "# -*- coding:utf-8 -*-\n",
    "from bibTableau import *\n",
    "import time\n",
    "\n",
    "\n",
    "\n",
    "\n",
    "def tempsExecution(f, t, n, s): # Calcule, en millisecondes, le temps d'exécution de f(t, n, s)\n",
    "    debut =  time.process_time()\n",
    "    f(t, n, s)\n",
    "    fin = time.process_time()\n",
    "    return round((fin - debut)*1000)\n",
    "\n",
    "\n",
    "# création d'un tableau des mots du français\n",
    "# liste initiale sur http://www.pallier.org/ressources/dicofr/dicofr.html\n",
    "\n",
    "idf = open(\"dictionnaireSansAccents.txt\",'r')\n",
    "t_mots = idf.readlines()\n",
    "idf.close()\n",
    "nb_mots = len(t_mots)\n",
    "for i in range(nb_mots):\n",
    "    t_mots[i] = t_mots[i][0:len(t_mots[i])-1]\n",
    "\n",
    "# tableau servant à tester l'algorithme de tri et celui de recherche dichotomique \n",
    "tab = [27, 28, 42, 12, 48, 25, 63, 35, 36, 90, 40, 19, 75, 50, 64, 39, 20, 22, 95, 49, 7, 90, 8, 4, 74, 54, 81, 28, 40, 32, 86, 53]\n",
    "    \n",
    "#-----------------  écrire à la suite votre code  -----------------------------\n",
    "\n",
    "#######     Exercice 2     #######\n",
    "\n",
    "def indiceminimum(t, début, n):\n",
    "    i_min=début\n",
    "    for i in range(i_min,n):\n",
    "        if t[i]<t[i_min]:\n",
    "            i_min=i\n",
    "    return i_min\n",
    "\n",
    "def echange(t,a,b):\n",
    "    stockage=t[b]\n",
    "    t[b]=t[a]\n",
    "    t[a]=stockage\n",
    "    \n",
    "def triSelection(t,n):\n",
    "    for i in range (n):\n",
    "        i_min=indiceminimum(t, i, n)\n",
    "        if i != i_min:\n",
    "            echange(t,i,i_min)\n",
    "\n",
    "def rechercheDichotomique(t,n,x):\n",
    "    debut =0\n",
    "    fin=n-1\n",
    "    while debut <= fin: \n",
    "        milieu = (debut + fin)//2\n",
    "        print(\"De %d à %d ==> la médianne vaut: %d\" %(debut, fin, milieu))\n",
    "        if t[milieu] == x: \n",
    "            return milieu\n",
    "        elif t[milieu] < x:              \n",
    "            debut = milieu + 1\n",
    " \n",
    "        else:                         \n",
    "            fin = milieu - 1\n",
    "    return -1                            \n",
    "\n",
    "t=[5,6,7,8,9,10,11,12,19,20]\n",
    "triSelection(tab,32)\n",
    "rechercheDichotomique(tab,32,90)\n",
    "\n",
    "\n",
    "    \n",
    "# fonction de tri:\n",
    "# You can use any of the sortition function we have implemented in this TP.\n",
    "\n",
    "\n",
    "\n",
    "# appel de la fonction de tri sur le tableau tab donné ci-dessus:\n",
    "\n",
    "\n",
    "\n",
    "# appels de la fonction de recherche dichotomique avec trace sur le tableau trié:\n",
    "\n"
   ]
  },
  {
   "cell_type": "markdown",
   "id": "2bf8b9aa",
   "metadata": {},
   "source": [
    "# Exercice 3"
   ]
  },
  {
   "cell_type": "code",
   "execution_count": 11,
   "id": "87f0bca4",
   "metadata": {},
   "outputs": [],
   "source": [
    "# -*- coding:utf-8 -*-\n",
    "from bibTableau import *\n",
    "import time\n",
    "\n",
    "idf = open(\"dictionnaireSansAccents.txt\",'r')\n",
    "t_mots = idf.readlines()\n",
    "idf.close()\n",
    "nb_mots = len(t_mots)\n",
    "for i in range(nb_mots):\n",
    "    t_mots[i] = t_mots[i][0:len(t_mots[i])-1]\n",
    "# How many words does the dictionary contain?\n",
    "\n",
    "\n",
    "\n",
    "# Check that the array of t_mots character strings is sorted in alphabetical order.\n",
    "\n",
    "\n",
    "# Write a rechercheBalayage(t, n, ch) function which returns the index in the array t of\n",
    "# the string ch if it is found there and -1 otherwise. In this first version of the\n",
    "# search for a character string, we go through the whole table sequentially. Your code\n",
    "# would it be different if we were dealing with an array of integers?\n",
    "\n",
    "def rechercheBalayage(t, n, ch):\n",
    "    # write the function\n",
    "    return -1\n",
    "\n",
    "\n",
    "# Is zymotique a dictionary word used? And yaourth? How long\n",
    "# takes the rechercheBalayage function to search for each of these words in the array t_mots?\n",
    "\n",
    "\n",
    "\n",
    "# Write a rechercheDichotomique(t, n, ch) which returns the index in the array\n",
    "# t of the string ch if it is found there and -1 otherwise. As the name suggests this \n",
    "# function implements the dichotomous search algorithm.\n",
    "\n",
    "def rechercheDichotomique(t, n, ch):\n",
    "    # write the function\n",
    "    return -1\n",
    "\n",
    "\n",
    "# Check that the rechercheDichotomique function gives the expected results on the words\n",
    "# zymotique and yaourth. How long does it take to search for each of these words in\n",
    "# the array t_mots?\n",
    "\n",
    "\n",
    "\n",
    "\n"
   ]
  },
  {
   "cell_type": "markdown",
   "id": "17ce74cf",
   "metadata": {},
   "source": [
    "# Exercice complémentaire 1"
   ]
  },
  {
   "cell_type": "code",
   "execution_count": null,
   "id": "5b29707e",
   "metadata": {},
   "outputs": [],
   "source": [
    "\n",
    "\n",
    "\n",
    "\n",
    "\n",
    "\n"
   ]
  }
 ],
 "metadata": {
  "kernelspec": {
   "display_name": "Python 3",
   "language": "python",
   "name": "python3"
  },
  "language_info": {
   "codemirror_mode": {
    "name": "ipython",
    "version": 3
   },
   "file_extension": ".py",
   "mimetype": "text/x-python",
   "name": "python",
   "nbconvert_exporter": "python",
   "pygments_lexer": "ipython3",
   "version": "3.8.5"
  }
 },
 "nbformat": 4,
 "nbformat_minor": 5
}
