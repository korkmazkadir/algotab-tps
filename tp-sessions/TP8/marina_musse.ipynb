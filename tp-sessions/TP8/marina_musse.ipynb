{
 "cells": [
  {
   "cell_type": "markdown",
   "id": "b8ac3942",
   "metadata": {},
   "source": [
    "# Hello World"
   ]
  },
  {
   "cell_type": "code",
   "execution_count": 1,
   "id": "f27ca5b5",
   "metadata": {},
   "outputs": [
    {
     "data": {
      "application/javascript": [
       "IPython.notebook.set_autosave_interval(5000)"
      ]
     },
     "metadata": {},
     "output_type": "display_data"
    },
    {
     "name": "stdout",
     "output_type": "stream",
     "text": [
      "Autosaving every 5 seconds\n",
      "Use Chrome browser\n",
      "First, you should run this cell\n"
     ]
    }
   ],
   "source": [
    "# You can import bibTableau.py as described here\n",
    "from bibTableau import *\n",
    "\n",
    "#jupyter notebook autosave interval\n",
    "%autosave 5\n",
    "\n",
    "print(\"Use Chrome browser\")\n",
    "print(\"First, you should run this cell\")\n",
    "\n",
    "#http://pythontutor.com/"
   ]
  },
  {
   "cell_type": "markdown",
   "id": "909bec85",
   "metadata": {},
   "source": [
    "# Exercice 1"
   ]
  },
  {
   "cell_type": "code",
   "execution_count": 4,
   "id": "6a14be03",
   "metadata": {
    "scrolled": false
   },
   "outputs": [
    {
     "name": "stdout",
     "output_type": "stream",
     "text": [
      "5 factorial is 120\n"
     ]
    }
   ],
   "source": [
    "\n",
    "# Test the function using the provided tool\n",
    "# https://services.emi.u-bordeaux.fr/pythontutor/visualize-initinfo.html\n",
    "def factorielleRecursive(n):\n",
    "    if(n==0):\n",
    "        return 1\n",
    "    else:\n",
    "        return n*factorielleRecursive(n-1)\n",
    "\n",
    "print(\"5 factorial is %d\"%(factorielleRecursive(5)))\n"
   ]
  },
  {
   "cell_type": "markdown",
   "id": "f475bfc2",
   "metadata": {},
   "source": [
    "# Exercice 2"
   ]
  },
  {
   "cell_type": "code",
   "execution_count": 12,
   "id": "6d3c5d6a",
   "metadata": {
    "scrolled": true
   },
   "outputs": [
    {
     "name": "stdout",
     "output_type": "stream",
     "text": [
      "The sum is 24\n",
      "True\n",
      "True\n",
      "False\n"
     ]
    }
   ],
   "source": [
    "\n",
    "\n",
    "def sommeEltRec(t, n):\n",
    "    if n==1:\n",
    "        return t[0]\n",
    "    return t[n-1]+sommeEltRec(t, n-1)\n",
    "    \n",
    "\n",
    "# simple test\n",
    "t1=[3,4,5,3,4,5] \n",
    "sum=sommeEltRec(t1, len(t1))\n",
    "print(\"The sum is %d\"%(sum))\n",
    "\n",
    "    \n",
    "def estPalindromeSectionRec(t, i, j):\n",
    "    if(i>j):\n",
    "        return True\n",
    "    return (t[i]==t[j]) and estPalindromeSectionRec(t, i+1, j-1)\n",
    "\n",
    "# write the function provided in TD  \n",
    "def estPalindromeTab(t, n):\n",
    "    return estPalindromeSectionRec(t,0,n-1)\n",
    "\n",
    "\n",
    "# simple test\n",
    "t2=[1,2,3,4,5,4,3,2,1]\n",
    "t3=[1,2,3,0,0,3,2,1]\n",
    "t4=[1,2,3,6,7,3,2,1]\n",
    "\n",
    "\n",
    "print(estPalindromeTab(t2,len(t2)))\n",
    "print(estPalindromeTab(t3,len(t3)))\n",
    "print(estPalindromeTab(t4,len(t4)))\n",
    "\n",
    "    "
   ]
  },
  {
   "cell_type": "markdown",
   "id": "2ec7f023",
   "metadata": {},
   "source": [
    "# Exercice 3"
   ]
  },
  {
   "cell_type": "code",
   "execution_count": 14,
   "id": "aa3110c8",
   "metadata": {},
   "outputs": [
    {
     "name": "stdout",
     "output_type": "stream",
     "text": [
      "False\n",
      "False\n",
      "True\n"
     ]
    }
   ],
   "source": [
    "\n",
    "def estStrictCroissantRec(t,n):\n",
    "    if(n==1):\n",
    "        return True\n",
    "    return (t[n-1]>t[n-2]) and estStrictCroissantRec(t,n-1) and (n>0)\n",
    "\n",
    "t6=[1,2,3,4,5,4,3,2,1]\n",
    "t7=[1,2,3,4,5,7,8,9,0]\n",
    "t8=[1,2,3,4,5,7,8,9,10]\n",
    "\n",
    "print(estStrictCroissantRec(t6,len(t6)))\n",
    "print(estStrictCroissantRec(t7,len(t7)))\n",
    "print(estStrictCroissantRec(t8,len(t8)))\n",
    "    "
   ]
  },
  {
   "cell_type": "markdown",
   "id": "e4342d79",
   "metadata": {},
   "source": [
    "# Exercice 4"
   ]
  },
  {
   "cell_type": "code",
   "execution_count": 16,
   "id": "4354561d",
   "metadata": {},
   "outputs": [
    {
     "ename": "TypeError",
     "evalue": "renverser() takes 2 positional arguments but 3 were given",
     "output_type": "error",
     "traceback": [
      "\u001b[0;31m---------------------------------------------------------------------------\u001b[0m",
      "\u001b[0;31mTypeError\u001b[0m                                 Traceback (most recent call last)",
      "\u001b[0;32m<ipython-input-16-0de6ee4cc700>\u001b[0m in \u001b[0;36m<module>\u001b[0;34m\u001b[0m\n\u001b[1;32m      9\u001b[0m \u001b[0;34m\u001b[0m\u001b[0m\n\u001b[1;32m     10\u001b[0m \u001b[0mt9\u001b[0m\u001b[0;34m=\u001b[0m\u001b[0;34m[\u001b[0m\u001b[0;36m1\u001b[0m\u001b[0;34m,\u001b[0m\u001b[0;36m2\u001b[0m\u001b[0;34m,\u001b[0m\u001b[0;36m3\u001b[0m\u001b[0;34m,\u001b[0m\u001b[0;36m4\u001b[0m\u001b[0;34m,\u001b[0m\u001b[0;36m5\u001b[0m\u001b[0;34m,\u001b[0m\u001b[0;36m6\u001b[0m\u001b[0;34m,\u001b[0m\u001b[0;36m7\u001b[0m\u001b[0;34m,\u001b[0m\u001b[0;36m8\u001b[0m\u001b[0;34m,\u001b[0m\u001b[0;36m9\u001b[0m\u001b[0;34m,\u001b[0m\u001b[0;36m10\u001b[0m\u001b[0;34m]\u001b[0m\u001b[0;34m\u001b[0m\u001b[0;34m\u001b[0m\u001b[0m\n\u001b[0;32m---> 11\u001b[0;31m \u001b[0mprint\u001b[0m\u001b[0;34m(\u001b[0m\u001b[0mrenverser\u001b[0m\u001b[0;34m(\u001b[0m\u001b[0mt9\u001b[0m\u001b[0;34m,\u001b[0m\u001b[0mlen\u001b[0m\u001b[0;34m(\u001b[0m\u001b[0mt9\u001b[0m\u001b[0;34m)\u001b[0m\u001b[0;34m)\u001b[0m\u001b[0;34m)\u001b[0m\u001b[0;34m\u001b[0m\u001b[0;34m\u001b[0m\u001b[0m\n\u001b[0m\u001b[1;32m     12\u001b[0m \u001b[0;34m\u001b[0m\u001b[0m\n",
      "\u001b[0;32m<ipython-input-16-0de6ee4cc700>\u001b[0m in \u001b[0;36mrenverser\u001b[0;34m(t, n)\u001b[0m\n\u001b[1;32m      6\u001b[0m \u001b[0;34m\u001b[0m\u001b[0m\n\u001b[1;32m      7\u001b[0m \u001b[0;32mdef\u001b[0m \u001b[0mrenverser\u001b[0m\u001b[0;34m(\u001b[0m\u001b[0mt\u001b[0m\u001b[0;34m,\u001b[0m\u001b[0mn\u001b[0m\u001b[0;34m)\u001b[0m\u001b[0;34m:\u001b[0m\u001b[0;34m\u001b[0m\u001b[0;34m\u001b[0m\u001b[0m\n\u001b[0;32m----> 8\u001b[0;31m     \u001b[0;32mreturn\u001b[0m \u001b[0mrenverserSec\u001b[0m\u001b[0;34m(\u001b[0m\u001b[0mt\u001b[0m\u001b[0;34m,\u001b[0m\u001b[0;36m0\u001b[0m\u001b[0;34m,\u001b[0m \u001b[0mn\u001b[0m\u001b[0;34m-\u001b[0m\u001b[0;36m1\u001b[0m\u001b[0;34m)\u001b[0m\u001b[0;34m\u001b[0m\u001b[0;34m\u001b[0m\u001b[0m\n\u001b[0m\u001b[1;32m      9\u001b[0m \u001b[0;34m\u001b[0m\u001b[0m\n\u001b[1;32m     10\u001b[0m \u001b[0mt9\u001b[0m\u001b[0;34m=\u001b[0m\u001b[0;34m[\u001b[0m\u001b[0;36m1\u001b[0m\u001b[0;34m,\u001b[0m\u001b[0;36m2\u001b[0m\u001b[0;34m,\u001b[0m\u001b[0;36m3\u001b[0m\u001b[0;34m,\u001b[0m\u001b[0;36m4\u001b[0m\u001b[0;34m,\u001b[0m\u001b[0;36m5\u001b[0m\u001b[0;34m,\u001b[0m\u001b[0;36m6\u001b[0m\u001b[0;34m,\u001b[0m\u001b[0;36m7\u001b[0m\u001b[0;34m,\u001b[0m\u001b[0;36m8\u001b[0m\u001b[0;34m,\u001b[0m\u001b[0;36m9\u001b[0m\u001b[0;34m,\u001b[0m\u001b[0;36m10\u001b[0m\u001b[0;34m]\u001b[0m\u001b[0;34m\u001b[0m\u001b[0;34m\u001b[0m\u001b[0m\n",
      "\u001b[0;32m<ipython-input-16-0de6ee4cc700>\u001b[0m in \u001b[0;36mrenverserSec\u001b[0;34m(t, i, j)\u001b[0m\n\u001b[1;32m      3\u001b[0m         \u001b[0;32mreturn\u001b[0m \u001b[0;32mFalse\u001b[0m\u001b[0;34m\u001b[0m\u001b[0;34m\u001b[0m\u001b[0m\n\u001b[1;32m      4\u001b[0m     \u001b[0mt\u001b[0m\u001b[0;34m[\u001b[0m\u001b[0mi\u001b[0m\u001b[0;34m]\u001b[0m\u001b[0;34m,\u001b[0m\u001b[0mt\u001b[0m\u001b[0;34m[\u001b[0m\u001b[0mj\u001b[0m\u001b[0;34m]\u001b[0m\u001b[0;34m=\u001b[0m\u001b[0mt\u001b[0m\u001b[0;34m[\u001b[0m\u001b[0mj\u001b[0m\u001b[0;34m]\u001b[0m\u001b[0;34m,\u001b[0m\u001b[0mt\u001b[0m\u001b[0;34m[\u001b[0m\u001b[0mi\u001b[0m\u001b[0;34m]\u001b[0m\u001b[0;34m\u001b[0m\u001b[0;34m\u001b[0m\u001b[0m\n\u001b[0;32m----> 5\u001b[0;31m     \u001b[0;32mreturn\u001b[0m \u001b[0mrenverser\u001b[0m\u001b[0;34m(\u001b[0m\u001b[0mt\u001b[0m\u001b[0;34m,\u001b[0m\u001b[0mi\u001b[0m\u001b[0;34m+\u001b[0m\u001b[0;36m1\u001b[0m\u001b[0;34m,\u001b[0m \u001b[0mj\u001b[0m\u001b[0;34m-\u001b[0m\u001b[0;36m1\u001b[0m\u001b[0;34m)\u001b[0m\u001b[0;34m\u001b[0m\u001b[0;34m\u001b[0m\u001b[0m\n\u001b[0m\u001b[1;32m      6\u001b[0m \u001b[0;34m\u001b[0m\u001b[0m\n\u001b[1;32m      7\u001b[0m \u001b[0;32mdef\u001b[0m \u001b[0mrenverser\u001b[0m\u001b[0;34m(\u001b[0m\u001b[0mt\u001b[0m\u001b[0;34m,\u001b[0m\u001b[0mn\u001b[0m\u001b[0;34m)\u001b[0m\u001b[0;34m:\u001b[0m\u001b[0;34m\u001b[0m\u001b[0;34m\u001b[0m\u001b[0m\n",
      "\u001b[0;31mTypeError\u001b[0m: renverser() takes 2 positional arguments but 3 were given"
     ]
    }
   ],
   "source": [
    "def renverserSec(t,i,j):\n",
    "    if i>=j:\n",
    "        return False\n",
    "    t[i],t[j]=t[j],t[i]\n",
    "    return renverser(t,i+1, j-1)\n",
    "\n",
    "def renverser(t,n):\n",
    "    return renverserSec(t,0, n-1)\n",
    "\n",
    "t9=[1,2,3,4,5,6,7,8,9,10]\n",
    "print(renverser(t9,len(t9)))\n",
    "\n"
   ]
  },
  {
   "cell_type": "markdown",
   "id": "d96cad1f",
   "metadata": {},
   "source": [
    "# Exercice 5"
   ]
  },
  {
   "cell_type": "code",
   "execution_count": null,
   "id": "e872ee3a",
   "metadata": {},
   "outputs": [],
   "source": [
    "\n",
    "\n",
    "def positionRec(t,debut,fin,x):\n",
    "    # implement recursive binary search\n",
    "\n",
    "\n",
    "def position(t,n,x):\n",
    "    # implements binary search\n",
    "    # this use the positionRec function\n",
    "\n",
    "\n",
    "# Table to test the result\n",
    "# do not forget sorting!!!!\n",
    "tab = [27, 28, 42, 12, 48, 25, 63, 35, 36, 90, 40, 19, 75, 50, 64, 39, 20, 22, 95, 49, 7, 90, 8, 4, 74, 54, 81, 28, 40, 32, 86, 53]\n",
    "   \n",
    "\n",
    "    \n",
    "    \n",
    "    "
   ]
  }
 ],
 "metadata": {
  "kernelspec": {
   "display_name": "Python 3",
   "language": "python",
   "name": "python3"
  },
  "language_info": {
   "codemirror_mode": {
    "name": "ipython",
    "version": 3
   },
   "file_extension": ".py",
   "mimetype": "text/x-python",
   "name": "python",
   "nbconvert_exporter": "python",
   "pygments_lexer": "ipython3",
   "version": "3.8.5"
  }
 },
 "nbformat": 4,
 "nbformat_minor": 5
}
