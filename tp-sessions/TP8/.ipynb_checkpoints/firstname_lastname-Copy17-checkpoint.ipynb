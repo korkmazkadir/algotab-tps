{
 "cells": [
  {
   "cell_type": "markdown",
   "id": "b8ac3942",
   "metadata": {},
   "source": [
    "# Hello World"
   ]
  },
  {
   "cell_type": "code",
   "execution_count": null,
   "id": "f27ca5b5",
   "metadata": {},
   "outputs": [],
   "source": [
    "# You can import bibTableau.py as described here\n",
    "from bibTableau import *\n",
    "\n",
    "#jupyter notebook autosave interval\n",
    "%autosave 5\n",
    "\n",
    "print(\"Use Chrome browser\")\n",
    "print(\"First, you should run this cell\")\n",
    "\n",
    "#http://pythontutor.com/"
   ]
  },
  {
   "cell_type": "markdown",
   "id": "909bec85",
   "metadata": {},
   "source": [
    "# Exercice 1"
   ]
  },
  {
   "cell_type": "code",
   "execution_count": null,
   "id": "6a14be03",
   "metadata": {},
   "outputs": [],
   "source": [
    "\n",
    "# Test the function using the provided tool\n",
    "# https://services.emi.u-bordeaux.fr/pythontutor/visualize-initinfo.html\n",
    "def factorielleRecursive(n):\n",
    "    # Write the function provided in TD\n",
    "    return 0\n",
    "\n",
    "print(\"5 factorial is %d\"%(factorielleRecursive(5)))\n"
   ]
  },
  {
   "cell_type": "markdown",
   "id": "f475bfc2",
   "metadata": {},
   "source": [
    "# Exercice 2"
   ]
  },
  {
   "cell_type": "code",
   "execution_count": null,
   "id": "6d3c5d6a",
   "metadata": {},
   "outputs": [],
   "source": [
    "\n",
    "\n",
    "def sommeEltRec(t, n):\n",
    "    # Write the function\n",
    "    return 0\n",
    "    \n",
    "\n",
    "# simple test\n",
    "t1=[3,4,5,3,4,5] \n",
    "sum=sommeEltRec(t1, len(t1))\n",
    "print(\"The sum is %d\"%(sum))\n",
    "\n",
    "    \n",
    "    \n",
    "# write the function provided in TD  \n",
    "def estPalindromeTab(t, n):\n",
    "    # Write the function\n",
    "    return False\n",
    "\n",
    "\n",
    "# simple test\n",
    "t2=[1,2,3,4,5,4,3,2,1]\n",
    "t3=[1,2,3,0,0,3,2,1]\n",
    "t4=[1,2,3,6,7,3,2,1]\n",
    "\n",
    "\n",
    "print(estPalindromeTab(t2,len(t2)))\n",
    "print(estPalindromeTab(t3,len(t3)))\n",
    "print(estPalindromeTab(t4,len(t4)))\n",
    "\n",
    "    "
   ]
  },
  {
   "cell_type": "markdown",
   "id": "2ec7f023",
   "metadata": {},
   "source": [
    "# Exercice 3"
   ]
  },
  {
   "cell_type": "code",
   "execution_count": null,
   "id": "aa3110c8",
   "metadata": {},
   "outputs": [],
   "source": [
    "\n",
    "def estStrictCroissantRec(t,n):\n",
    "    # Write the function\n",
    "    return False\n",
    "\n",
    "\n",
    "t6=[1,2,3,4,5,4,3,2,1]\n",
    "t7=[1,2,3,4,5,7,8,9,0]\n",
    "t8=[1,2,3,4,5,7,8,9,10]\n",
    "\n",
    "print(estStrictCroissantRec(t6,len(t6)))\n",
    "print(estStrictCroissantRec(t7,len(t7)))\n",
    "print(estStrictCroissantRec(t8,len(t8)))\n",
    "    "
   ]
  },
  {
   "cell_type": "markdown",
   "id": "e4342d79",
   "metadata": {},
   "source": [
    "# Exercice 4"
   ]
  },
  {
   "cell_type": "code",
   "execution_count": null,
   "id": "4354561d",
   "metadata": {},
   "outputs": [],
   "source": [
    "\n",
    "def renverser(t,n):\n",
    "    # Write the function\n",
    "\n",
    "t9=[1,2,3,4,5,6,7,8,9,10]\n",
    "print(renverser(t9,len(t9)))\n",
    "\n"
   ]
  },
  {
   "cell_type": "markdown",
   "id": "d96cad1f",
   "metadata": {},
   "source": [
    "# Exercice 5"
   ]
  },
  {
   "cell_type": "code",
   "execution_count": null,
   "id": "e872ee3a",
   "metadata": {},
   "outputs": [],
   "source": [
    "\n",
    "\n",
    "def positionRec(t,debut,fin,x):\n",
    "    # implement recursive binary search\n",
    "\n",
    "\n",
    "def position(t,n,x):\n",
    "    # implements binary search\n",
    "    # this use the positionRec function\n",
    "\n",
    "\n",
    "# Table to test the result\n",
    "# do not forget sorting!!!!\n",
    "tab = [27, 28, 42, 12, 48, 25, 63, 35, 36, 90, 40, 19, 75, 50, 64, 39, 20, 22, 95, 49, 7, 90, 8, 4, 74, 54, 81, 28, 40, 32, 86, 53]\n",
    "   \n",
    "\n",
    "    \n",
    "    \n",
    "    "
   ]
  }
 ],
 "metadata": {
  "kernelspec": {
   "display_name": "Python 3",
   "language": "python",
   "name": "python3"
  },
  "language_info": {
   "codemirror_mode": {
    "name": "ipython",
    "version": 3
   },
   "file_extension": ".py",
   "mimetype": "text/x-python",
   "name": "python",
   "nbconvert_exporter": "python",
   "pygments_lexer": "ipython3",
   "version": "3.8.5"
  }
 },
 "nbformat": 4,
 "nbformat_minor": 5
}
