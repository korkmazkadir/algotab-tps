{
 "cells": [
  {
   "cell_type": "markdown",
   "id": "b8ac3942",
   "metadata": {},
   "source": [
    "# Hello World"
   ]
  },
  {
   "cell_type": "code",
   "execution_count": 2,
   "id": "f27ca5b5",
   "metadata": {},
   "outputs": [
    {
     "data": {
      "application/javascript": [
       "IPython.notebook.set_autosave_interval(5000)"
      ]
     },
     "metadata": {},
     "output_type": "display_data"
    },
    {
     "name": "stdout",
     "output_type": "stream",
     "text": [
      "Autosaving every 5 seconds\n",
      "Use Chrome browser\n",
      "First, you should run this cell\n"
     ]
    }
   ],
   "source": [
    "# You can import bibTableau.py as described here\n",
    "from bibTableau import *\n",
    "\n",
    "#jupyter notebook autosave interval\n",
    "%autosave 5\n",
    "\n",
    "print(\"Use Chrome browser\")\n",
    "print(\"First, you should run this cell\")\n",
    "\n",
    "#http://pythontutor.com/"
   ]
  },
  {
   "cell_type": "markdown",
   "id": "909bec85",
   "metadata": {},
   "source": [
    "# Exercice 1"
   ]
  },
  {
   "cell_type": "code",
   "execution_count": 5,
   "id": "6a14be03",
   "metadata": {},
   "outputs": [
    {
     "name": "stdout",
     "output_type": "stream",
     "text": [
      "5 factorial is 120\n"
     ]
    }
   ],
   "source": [
    "\n",
    "# Test the function using the provided tool\n",
    "# https://services.emi.u-bordeaux.fr/pythontutor/visualize-initinfo.html\n",
    "def factorielleRecursive(n):\n",
    "    if(n==0):\n",
    "        return 1\n",
    "    return n*factorielleRecursive(n-1)\n",
    "\n",
    "print(\"5 factorial is %d\"%(factorielleRecursive(5)))\n"
   ]
  },
  {
   "cell_type": "markdown",
   "id": "f475bfc2",
   "metadata": {},
   "source": [
    "# Exercice 2"
   ]
  },
  {
   "cell_type": "code",
   "execution_count": 9,
   "id": "6d3c5d6a",
   "metadata": {},
   "outputs": [
    {
     "name": "stdout",
     "output_type": "stream",
     "text": [
      "The sum is 24\n",
      "True\n",
      "True\n",
      "False\n"
     ]
    }
   ],
   "source": [
    "\n",
    "\n",
    "def sommeEltRec(t, n):\n",
    "    if n==1:\n",
    "        return t[0]\n",
    "    return t[n-1]+sommeEltRec(t,n-1)\n",
    "    \n",
    "\n",
    "# simple test\n",
    "t1=[3,4,5,3,4,5] \n",
    "sum=sommeEltRec(t1, len(t1))\n",
    "print(\"The sum is %d\"%(sum))\n",
    "\n",
    "def estPalindromeseg(t,i,j):\n",
    "    if (i-j>=0):\n",
    "        return True\n",
    "    return (t[i]==t[j])and(estPalindromeseg(t,i+1,j-1))\n",
    "    \n",
    "# write the function provided in TD  \n",
    "def estPalindromeTab(t, n):\n",
    "    return estPalindromeseg(t,0,n-1)\n",
    "\n",
    "\n",
    "# simple test\n",
    "t2=[1,2,3,4,5,4,3,2,1]\n",
    "t3=[1,2,3,0,0,3,2,1]\n",
    "t4=[1,2,3,6,7,3,2,1]\n",
    "\n",
    "\n",
    "print(estPalindromeTab(t2,len(t2)))\n",
    "print(estPalindromeTab(t3,len(t3)))\n",
    "print(estPalindromeTab(t4,len(t4)))\n",
    "\n",
    "    "
   ]
  },
  {
   "cell_type": "markdown",
   "id": "2ec7f023",
   "metadata": {},
   "source": [
    "# Exercice 3"
   ]
  },
  {
   "cell_type": "code",
   "execution_count": 12,
   "id": "aa3110c8",
   "metadata": {},
   "outputs": [
    {
     "name": "stdout",
     "output_type": "stream",
     "text": [
      "False\n",
      "False\n",
      "True\n"
     ]
    }
   ],
   "source": [
    "\n",
    "def estStrictCroissantRec(t,n):\n",
    "    if n==1:\n",
    "        return True\n",
    "    return ((t[n-1]>=t[n-2])and(estStrictCroissantRec(t,n-1)))\n",
    "\n",
    "\n",
    "t6=[1,2,3,4,5,4,3,2,1]\n",
    "t7=[1,2,3,4,5,7,8,9,0]\n",
    "t8=[1,2,3,4,5,7,8,9,10]\n",
    "\n",
    "print(estStrictCroissantRec(t6,len(t6)))\n",
    "print(estStrictCroissantRec(t7,len(t7)))\n",
    "print(estStrictCroissantRec(t8,len(t8)))\n",
    "    "
   ]
  },
  {
   "cell_type": "markdown",
   "id": "e4342d79",
   "metadata": {},
   "source": [
    "# Exercice 4"
   ]
  },
  {
   "cell_type": "code",
   "execution_count": 16,
   "id": "4354561d",
   "metadata": {},
   "outputs": [
    {
     "name": "stdout",
     "output_type": "stream",
     "text": [
      "[10, 9, 8, 7, 6, 5, 4, 3, 2, 1]\n"
     ]
    }
   ],
   "source": [
    "def swap(t, i, j):\n",
    "    temp=t[i]\n",
    "    t[i]=t[j]\n",
    "    t[j]=temp\n",
    "    \n",
    "def reverse_w_index(t,i,j):\n",
    "    if i>=j:\n",
    "        return\n",
    "    else:\n",
    "        swap(t,i,j)\n",
    "        reverse_w_index(t,i+1,j-1)\n",
    "\n",
    "def renverser(t,n):\n",
    "    reverse_w_index(t,0,n-1)\n",
    "    return t\n",
    "    \n",
    "\n",
    "t9=[1,2,3,4,5,6,7,8,9,10]\n",
    "print(renverser(t9,len(t9)))\n",
    "\n"
   ]
  },
  {
   "cell_type": "markdown",
   "id": "d96cad1f",
   "metadata": {},
   "source": [
    "# Exercice 5"
   ]
  },
  {
   "cell_type": "code",
   "execution_count": 25,
   "id": "e872ee3a",
   "metadata": {},
   "outputs": [
    {
     "ename": "RecursionError",
     "evalue": "maximum recursion depth exceeded in comparison",
     "output_type": "error",
     "traceback": [
      "\u001b[0;31m---------------------------------------------------------------------------\u001b[0m",
      "\u001b[0;31mRecursionError\u001b[0m                            Traceback (most recent call last)",
      "\u001b[0;32m<ipython-input-25-ddb8802f571b>\u001b[0m in \u001b[0;36m<module>\u001b[0;34m\u001b[0m\n\u001b[1;32m     31\u001b[0m \u001b[0mtab\u001b[0m \u001b[0;34m=\u001b[0m \u001b[0;34m[\u001b[0m\u001b[0;36m27\u001b[0m\u001b[0;34m,\u001b[0m \u001b[0;36m28\u001b[0m\u001b[0;34m,\u001b[0m \u001b[0;36m42\u001b[0m\u001b[0;34m,\u001b[0m \u001b[0;36m12\u001b[0m\u001b[0;34m,\u001b[0m \u001b[0;36m48\u001b[0m\u001b[0;34m,\u001b[0m \u001b[0;36m25\u001b[0m\u001b[0;34m,\u001b[0m \u001b[0;36m63\u001b[0m\u001b[0;34m,\u001b[0m \u001b[0;36m35\u001b[0m\u001b[0;34m,\u001b[0m \u001b[0;36m36\u001b[0m\u001b[0;34m,\u001b[0m \u001b[0;36m90\u001b[0m\u001b[0;34m,\u001b[0m \u001b[0;36m40\u001b[0m\u001b[0;34m,\u001b[0m \u001b[0;36m19\u001b[0m\u001b[0;34m,\u001b[0m \u001b[0;36m75\u001b[0m\u001b[0;34m,\u001b[0m \u001b[0;36m50\u001b[0m\u001b[0;34m,\u001b[0m \u001b[0;36m64\u001b[0m\u001b[0;34m,\u001b[0m \u001b[0;36m39\u001b[0m\u001b[0;34m,\u001b[0m \u001b[0;36m20\u001b[0m\u001b[0;34m,\u001b[0m \u001b[0;36m22\u001b[0m\u001b[0;34m,\u001b[0m \u001b[0;36m95\u001b[0m\u001b[0;34m,\u001b[0m \u001b[0;36m49\u001b[0m\u001b[0;34m,\u001b[0m \u001b[0;36m7\u001b[0m\u001b[0;34m,\u001b[0m \u001b[0;36m90\u001b[0m\u001b[0;34m,\u001b[0m \u001b[0;36m8\u001b[0m\u001b[0;34m,\u001b[0m \u001b[0;36m4\u001b[0m\u001b[0;34m,\u001b[0m \u001b[0;36m74\u001b[0m\u001b[0;34m,\u001b[0m \u001b[0;36m54\u001b[0m\u001b[0;34m,\u001b[0m \u001b[0;36m81\u001b[0m\u001b[0;34m,\u001b[0m \u001b[0;36m28\u001b[0m\u001b[0;34m,\u001b[0m \u001b[0;36m40\u001b[0m\u001b[0;34m,\u001b[0m \u001b[0;36m32\u001b[0m\u001b[0;34m,\u001b[0m \u001b[0;36m86\u001b[0m\u001b[0;34m,\u001b[0m \u001b[0;36m53\u001b[0m\u001b[0;34m]\u001b[0m\u001b[0;34m\u001b[0m\u001b[0;34m\u001b[0m\u001b[0m\n\u001b[1;32m     32\u001b[0m \u001b[0mtriInsertion\u001b[0m\u001b[0;34m(\u001b[0m\u001b[0mtab\u001b[0m\u001b[0;34m,\u001b[0m\u001b[0mlen\u001b[0m\u001b[0;34m(\u001b[0m\u001b[0mtab\u001b[0m\u001b[0;34m)\u001b[0m\u001b[0;34m)\u001b[0m\u001b[0;34m\u001b[0m\u001b[0;34m\u001b[0m\u001b[0m\n\u001b[0;32m---> 33\u001b[0;31m \u001b[0mprint\u001b[0m\u001b[0;34m(\u001b[0m\u001b[0mpositionRec\u001b[0m\u001b[0;34m(\u001b[0m\u001b[0mtab\u001b[0m\u001b[0;34m,\u001b[0m\u001b[0;36m0\u001b[0m\u001b[0;34m,\u001b[0m\u001b[0;36m5\u001b[0m\u001b[0;34m,\u001b[0m\u001b[0;36m25\u001b[0m\u001b[0;34m)\u001b[0m\u001b[0;34m)\u001b[0m\u001b[0;34m\u001b[0m\u001b[0;34m\u001b[0m\u001b[0m\n\u001b[0m\u001b[1;32m     34\u001b[0m \u001b[0;34m\u001b[0m\u001b[0m\n\u001b[1;32m     35\u001b[0m \u001b[0;34m\u001b[0m\u001b[0m\n",
      "\u001b[0;32m<ipython-input-25-ddb8802f571b>\u001b[0m in \u001b[0;36mpositionRec\u001b[0;34m(t, debut, fin, x)\u001b[0m\n\u001b[1;32m     19\u001b[0m         \u001b[0mfin\u001b[0m\u001b[0;34m=\u001b[0m\u001b[0mn\u001b[0m\u001b[0;34m\u001b[0m\u001b[0;34m\u001b[0m\u001b[0m\n\u001b[1;32m     20\u001b[0m         \u001b[0mprint\u001b[0m\u001b[0;34m(\u001b[0m\u001b[0mn\u001b[0m\u001b[0;34m)\u001b[0m\u001b[0;34m\u001b[0m\u001b[0;34m\u001b[0m\u001b[0m\n\u001b[0;32m---> 21\u001b[0;31m     \u001b[0;32mreturn\u001b[0m \u001b[0mpositionRec\u001b[0m\u001b[0;34m(\u001b[0m\u001b[0mt\u001b[0m\u001b[0;34m,\u001b[0m\u001b[0mdebut\u001b[0m\u001b[0;34m,\u001b[0m\u001b[0mfin\u001b[0m\u001b[0;34m,\u001b[0m\u001b[0mx\u001b[0m\u001b[0;34m)\u001b[0m\u001b[0;34m\u001b[0m\u001b[0;34m\u001b[0m\u001b[0m\n\u001b[0m\u001b[1;32m     22\u001b[0m \u001b[0;34m\u001b[0m\u001b[0m\n\u001b[1;32m     23\u001b[0m \u001b[0;34m\u001b[0m\u001b[0m\n",
      "... last 1 frames repeated, from the frame below ...\n",
      "\u001b[0;32m<ipython-input-25-ddb8802f571b>\u001b[0m in \u001b[0;36mpositionRec\u001b[0;34m(t, debut, fin, x)\u001b[0m\n\u001b[1;32m     19\u001b[0m         \u001b[0mfin\u001b[0m\u001b[0;34m=\u001b[0m\u001b[0mn\u001b[0m\u001b[0;34m\u001b[0m\u001b[0;34m\u001b[0m\u001b[0m\n\u001b[1;32m     20\u001b[0m         \u001b[0mprint\u001b[0m\u001b[0;34m(\u001b[0m\u001b[0mn\u001b[0m\u001b[0;34m)\u001b[0m\u001b[0;34m\u001b[0m\u001b[0;34m\u001b[0m\u001b[0m\n\u001b[0;32m---> 21\u001b[0;31m     \u001b[0;32mreturn\u001b[0m \u001b[0mpositionRec\u001b[0m\u001b[0;34m(\u001b[0m\u001b[0mt\u001b[0m\u001b[0;34m,\u001b[0m\u001b[0mdebut\u001b[0m\u001b[0;34m,\u001b[0m\u001b[0mfin\u001b[0m\u001b[0;34m,\u001b[0m\u001b[0mx\u001b[0m\u001b[0;34m)\u001b[0m\u001b[0;34m\u001b[0m\u001b[0;34m\u001b[0m\u001b[0m\n\u001b[0m\u001b[1;32m     22\u001b[0m \u001b[0;34m\u001b[0m\u001b[0m\n\u001b[1;32m     23\u001b[0m \u001b[0;34m\u001b[0m\u001b[0m\n",
      "\u001b[0;31mRecursionError\u001b[0m: maximum recursion depth exceeded in comparison"
     ]
    }
   ],
   "source": [
    "def triInsertion(t,n):\n",
    "    for i in range(1,n):\n",
    "        e=t[i]\n",
    "        j=i-1\n",
    "        while((j>=0)and(e<t[j])):\n",
    "              t[j+1]=t[j]\n",
    "              j=j-1\n",
    "        t[j+1]=e\n",
    "\n",
    "def positionRec(t,debut,fin,x):\n",
    "    if((debut-fin)>=0):\n",
    "        return -1\n",
    "    n=(debut+fin)//2\n",
    "    if(t[n]==x):\n",
    "        return n\n",
    "    if(t[n]<x):\n",
    "        debut=n\n",
    "    else:\n",
    "        fin=n\n",
    "        print(n)\n",
    "    return positionRec(t,debut,fin,x)\n",
    "\n",
    "\n",
    "def position(t,n,x):\n",
    "    # implements binary search\n",
    "    # this use the positionRec function\n",
    "    return\n",
    "\n",
    "# Table to test the result\n",
    "# do not forget sorting!!!!\n",
    "tab = [27, 28, 42, 12, 48, 25, 63, 35, 36, 90, 40, 19, 75, 50, 64, 39, 20, 22, 95, 49, 7, 90, 8, 4, 74, 54, 81, 28, 40, 32, 86, 53]\n",
    "triInsertion(tab,len(tab))\n",
    "print(positionRec(tab,0,5,25))\n",
    "\n",
    "    \n",
    "    \n",
    "    "
   ]
  },
  {
   "cell_type": "code",
   "execution_count": null,
   "id": "f1e081fb",
   "metadata": {},
   "outputs": [],
   "source": []
  }
 ],
 "metadata": {
  "kernelspec": {
   "display_name": "Python 3",
   "language": "python",
   "name": "python3"
  },
  "language_info": {
   "codemirror_mode": {
    "name": "ipython",
    "version": 3
   },
   "file_extension": ".py",
   "mimetype": "text/x-python",
   "name": "python",
   "nbconvert_exporter": "python",
   "pygments_lexer": "ipython3",
   "version": "3.8.5"
  }
 },
 "nbformat": 4,
 "nbformat_minor": 5
}
