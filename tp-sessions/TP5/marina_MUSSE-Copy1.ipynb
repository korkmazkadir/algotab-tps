{
 "cells": [
  {
   "cell_type": "markdown",
   "id": "mature-picnic",
   "metadata": {},
   "source": [
    "# Hello World"
   ]
  },
  {
   "cell_type": "code",
   "execution_count": 1,
   "id": "superb-samba",
   "metadata": {},
   "outputs": [
    {
     "data": {
      "application/javascript": [
       "IPython.notebook.set_autosave_interval(5000)"
      ]
     },
     "metadata": {},
     "output_type": "display_data"
    },
    {
     "name": "stdout",
     "output_type": "stream",
     "text": [
      "Autosaving every 5 seconds\n",
      "Use Chrome browser\n",
      "First, you should run this cell\n"
     ]
    }
   ],
   "source": [
    "# You can import bibTableau.py as described here\n",
    "from bibTableau import *\n",
    "\n",
    "#jupyter notebook autosave interval\n",
    "%autosave 5\n",
    "\n",
    "print(\"Use Chrome browser\")\n",
    "print(\"First, you should run this cell\")\n"
   ]
  },
  {
   "cell_type": "markdown",
   "id": "rental-mexican",
   "metadata": {},
   "source": [
    "# Exercice 1"
   ]
  },
  {
   "cell_type": "code",
   "execution_count": 3,
   "id": "elegant-directory",
   "metadata": {},
   "outputs": [
    {
     "name": "stdout",
     "output_type": "stream",
     "text": [
      "t1 =  [-83, -62, -59, -58, -55, 28, 82, 97, None, None, None, None, None] \n",
      "t2 =  [-75, -57, -51, 3, 6]\n"
     ]
    },
    {
     "ename": "IndexError",
     "evalue": "list index out of range",
     "output_type": "error",
     "traceback": [
      "\u001b[0;31m---------------------------------------------------------------------------\u001b[0m",
      "\u001b[0;31mIndexError\u001b[0m                                Traceback (most recent call last)",
      "\u001b[0;32m<ipython-input-3-5e49fd178073>\u001b[0m in \u001b[0;36m<module>\u001b[0;34m\u001b[0m\n\u001b[1;32m     37\u001b[0m \u001b[0;34m\u001b[0m\u001b[0m\n\u001b[1;32m     38\u001b[0m \u001b[0;31m#### Appel de testInserer:\u001b[0m\u001b[0;34m\u001b[0m\u001b[0;34m\u001b[0m\u001b[0;34m\u001b[0m\u001b[0m\n\u001b[0;32m---> 39\u001b[0;31m \u001b[0mtestInserer\u001b[0m\u001b[0;34m(\u001b[0m\u001b[0;34m)\u001b[0m\u001b[0;34m\u001b[0m\u001b[0;34m\u001b[0m\u001b[0m\n\u001b[0m",
      "\u001b[0;32m<ipython-input-3-5e49fd178073>\u001b[0m in \u001b[0;36mtestInserer\u001b[0;34m(n)\u001b[0m\n\u001b[1;32m     32\u001b[0m             \u001b[0mt1\u001b[0m\u001b[0;34m[\u001b[0m\u001b[0mi\u001b[0m\u001b[0;34m]\u001b[0m \u001b[0;34m=\u001b[0m \u001b[0mt\u001b[0m\u001b[0;34m[\u001b[0m\u001b[0mi\u001b[0m\u001b[0;34m]\u001b[0m\u001b[0;34m\u001b[0m\u001b[0;34m\u001b[0m\u001b[0m\n\u001b[1;32m     33\u001b[0m         \u001b[0mprint\u001b[0m \u001b[0;34m(\u001b[0m\u001b[0;34m\"t1 = \"\u001b[0m\u001b[0;34m,\u001b[0m \u001b[0mt1\u001b[0m\u001b[0;34m,\u001b[0m \u001b[0;34m\"\\nt2 = \"\u001b[0m\u001b[0;34m,\u001b[0m \u001b[0mt2\u001b[0m\u001b[0;34m)\u001b[0m\u001b[0;34m\u001b[0m\u001b[0;34m\u001b[0m\u001b[0m\n\u001b[0;32m---> 34\u001b[0;31m         \u001b[0minsererTableauTrieDansTableauTrie\u001b[0m\u001b[0;34m(\u001b[0m\u001b[0mt1\u001b[0m\u001b[0;34m,\u001b[0m \u001b[0mn1\u001b[0m\u001b[0;34m,\u001b[0m \u001b[0mt2\u001b[0m\u001b[0;34m,\u001b[0m \u001b[0mn2\u001b[0m\u001b[0;34m)\u001b[0m\u001b[0;34m\u001b[0m\u001b[0;34m\u001b[0m\u001b[0m\n\u001b[0m\u001b[1;32m     35\u001b[0m         \u001b[0mprint\u001b[0m \u001b[0;34m(\u001b[0m\u001b[0;34m\"Apres insertion de t2 dans t1 :\"\u001b[0m\u001b[0;34m,\u001b[0m \u001b[0mt1\u001b[0m\u001b[0;34m)\u001b[0m\u001b[0;34m\u001b[0m\u001b[0;34m\u001b[0m\u001b[0m\n\u001b[1;32m     36\u001b[0m         \u001b[0mprint\u001b[0m\u001b[0;34m(\u001b[0m\u001b[0;34m)\u001b[0m\u001b[0;34m\u001b[0m\u001b[0;34m\u001b[0m\u001b[0m\n",
      "\u001b[0;32m<ipython-input-3-5e49fd178073>\u001b[0m in \u001b[0;36minsererTableauTrieDansTableauTrie\u001b[0;34m(t, nt, s, ns)\u001b[0m\n\u001b[1;32m     15\u001b[0m         \u001b[0;32mif\u001b[0m \u001b[0mnt\u001b[0m\u001b[0;34m>\u001b[0m\u001b[0mns\u001b[0m\u001b[0;34m:\u001b[0m\u001b[0;34m\u001b[0m\u001b[0;34m\u001b[0m\u001b[0m\n\u001b[1;32m     16\u001b[0m             \u001b[0;32mwhile\u001b[0m \u001b[0mt\u001b[0m\u001b[0;34m[\u001b[0m\u001b[0mi\u001b[0m\u001b[0;34m]\u001b[0m\u001b[0;34m==\u001b[0m\u001b[0;32mNone\u001b[0m\u001b[0;34m:\u001b[0m\u001b[0;34m\u001b[0m\u001b[0;34m\u001b[0m\u001b[0m\n\u001b[0;32m---> 17\u001b[0;31m                 \u001b[0;32mwhile\u001b[0m \u001b[0ms\u001b[0m\u001b[0;34m[\u001b[0m\u001b[0mj\u001b[0m\u001b[0;34m]\u001b[0m\u001b[0;34m!=\u001b[0m\u001b[0;32mNone\u001b[0m\u001b[0;34m:\u001b[0m\u001b[0;34m\u001b[0m\u001b[0;34m\u001b[0m\u001b[0m\n\u001b[0m\u001b[1;32m     18\u001b[0m                     \u001b[0mt\u001b[0m\u001b[0;34m[\u001b[0m\u001b[0mi\u001b[0m\u001b[0;34m]\u001b[0m\u001b[0;34m=\u001b[0m\u001b[0ms\u001b[0m\u001b[0;34m[\u001b[0m\u001b[0mj\u001b[0m\u001b[0;34m]\u001b[0m\u001b[0;34m\u001b[0m\u001b[0;34m\u001b[0m\u001b[0m\n\u001b[1;32m     19\u001b[0m                     \u001b[0mj\u001b[0m\u001b[0;34m=\u001b[0m\u001b[0mj\u001b[0m\u001b[0;34m+\u001b[0m\u001b[0;36m1\u001b[0m\u001b[0;34m\u001b[0m\u001b[0;34m\u001b[0m\u001b[0m\n",
      "\u001b[0;31mIndexError\u001b[0m: list index out of range"
     ]
    }
   ],
   "source": [
    "from bibTableau import *\n",
    "\n",
    "\n",
    "#### Dans ce fichier nous proposons des fonctions de \"test\" qui\n",
    "#### réalisent quelques appels aux fonctions que vous devez écrire.\n",
    "#### Vous devez analyser le résultat des fonctions \"test\" pour savoir \n",
    "#### si vos fonctions donnent le résultat attendu lors de ces appels ####\n",
    "\n",
    "##-----------------------------------------------------------\n",
    "## EXERCICE 1 :\n",
    "#### Compléter ci-dessous insererTableauTrieDansTableauTrie(t,nt,s,ns)####\n",
    "def insererTableauTrieDansTableauTrie(t,nt,s,ns):\n",
    "    j=0\n",
    "    for i in range(nt+1):\n",
    "        if nt>ns: \n",
    "            while t[i]==None:\n",
    "                while s[j]!=None:\n",
    "                    t[i]=s[j]\n",
    "                    j=j+1\n",
    "    return nt+ns\n",
    "    \n",
    "####testInserer contient des appels à insererTableauTrieDansTableauTrie(t1, n1, t2, n2)#####\n",
    "def testInserer (n = 3):\n",
    "    for i in range(n):\n",
    "        n1 = random.randint(0, 10)\n",
    "        t = creerTableauMonotone(n1, borneInf=-100, borneSup=100)\n",
    "        n2 = random.randint(0, 10)\n",
    "        t2 = creerTableauMonotone(n2, borneInf=-100, borneSup=100)\n",
    "        n = n1+n2\n",
    "        t1 = creerTableau(n)\n",
    "        for i in range (n1):\n",
    "            t1[i] = t[i]\n",
    "        print (\"t1 = \", t1, \"\\nt2 = \", t2)\n",
    "        insererTableauTrieDansTableauTrie(t1, n1, t2, n2)\n",
    "        print (\"Apres insertion de t2 dans t1 :\", t1)\n",
    "        print()\n",
    "\n",
    "#### Appel de testInserer:\n",
    "testInserer()"
   ]
  },
  {
   "cell_type": "markdown",
   "id": "unlikely-feeling",
   "metadata": {},
   "source": [
    "# Exercice 2"
   ]
  },
  {
   "cell_type": "code",
   "execution_count": 7,
   "id": "dynamic-safety",
   "metadata": {},
   "outputs": [],
   "source": [
    "from bibTableau import *\n",
    "\n",
    "import time  \n",
    "\n",
    "##-----------------------------------------------------------\n",
    "## EXERCICE 2:\n",
    "\n",
    "\n",
    "#### Compléter ci-dessous supprimerOccurrences(t, n, elt)\n",
    "def supprimerOccurrences(t,n,x):\n",
    "    \n",
    "    \n",
    "    \n",
    "    \n",
    "\n",
    "def tempsExecution (f, t, n, x): # Calcule, en millisecondes, le temps d'exécution de f(t, n, x)\n",
    "    debut =  time.clock()\n",
    "    f(t, n, x)\n",
    "    fin = time.clock()\n",
    "    return round((fin - debut)*1000)\n",
    "\n",
    "\n",
    "def mystere(t,n,x): \n",
    "    continuer = True\n",
    "    while n>0 and continuer:\n",
    "        nbelem = supprimerPremiereOccurrence(t,n,x)\n",
    "        if nbelem == n :\n",
    "            continuer = False\n",
    "        else:\n",
    "         n = nbelem\n",
    "    return n\n",
    "\n",
    "def supprimerPremiereOccurrence(t, n, x): # O(n)\n",
    "    for i in range(n):\n",
    "        if t[i]==x:\n",
    "            return supprimer(t,n,i)\n",
    "    return n\n",
    "\n",
    "def supprimer (t, n, k): # O(n - k)\n",
    "   for i in range (k, n - 1):\n",
    "       t[i] = t[i + 1]\n",
    "   return n-1\n",
    "\n",
    "#### Ecrire ci-dessous les instructions permettant d'appliquer\n",
    "#### les consignes du TP5-2.2\n",
    "\n",
    "\n",
    "\n",
    "\n",
    "#### Compléter ci-dessous la fonction tailleMini(ms)\n",
    "def tailleMini(ms):\n",
    "    \"\"\"Exercice 2 (TP5-2.3)\"\"\"\n",
    "\n",
    "\n",
    "\n",
    "\n",
    "    \n",
    "    \n"
   ]
  },
  {
   "cell_type": "markdown",
   "id": "iraqi-carolina",
   "metadata": {},
   "source": [
    "# Exercice complémentaire 1"
   ]
  },
  {
   "cell_type": "code",
   "execution_count": 3,
   "id": "associate-minister",
   "metadata": {},
   "outputs": [],
   "source": [
    "from bibTableau import *\n",
    "\n",
    "##---------------------------------------------------------\n",
    "## EXERCICE COMPLEMENTAIRE 1:\n",
    "\n",
    "\n",
    "#### Compléter ci-dessous la fonction ligneTrianglePascal(n)\n",
    "def ligneTrianglePascal(n):\n",
    "    \"\"\"Exercice Complémentaire (TP5)\"\"\"\n",
    "\n",
    "    \n",
    "\n",
    "def afficheLigne(t):\n",
    "    for i in range (len(t)):\n",
    "        print('%5d' % (t[i]) , end='')\n",
    "    print()\n",
    "\n",
    "def testPascal (n=10):\n",
    "    print(\" triangle de Pascal pour n =\", n)\n",
    "    for n in range(n + 1):\n",
    "        afficheLigne(ligneTrianglePascal(n))\n",
    "\n",
    "#testPascal()  ### décommenter pour appeler la fonction\n",
    "\n"
   ]
  },
  {
   "cell_type": "code",
   "execution_count": null,
   "id": "unlike-miniature",
   "metadata": {},
   "outputs": [],
   "source": []
  }
 ],
 "metadata": {
  "kernelspec": {
   "display_name": "Python 3",
   "language": "python",
   "name": "python3"
  },
  "language_info": {
   "codemirror_mode": {
    "name": "ipython",
    "version": 3
   },
   "file_extension": ".py",
   "mimetype": "text/x-python",
   "name": "python",
   "nbconvert_exporter": "python",
   "pygments_lexer": "ipython3",
   "version": "3.8.5"
  }
 },
 "nbformat": 4,
 "nbformat_minor": 5
}
