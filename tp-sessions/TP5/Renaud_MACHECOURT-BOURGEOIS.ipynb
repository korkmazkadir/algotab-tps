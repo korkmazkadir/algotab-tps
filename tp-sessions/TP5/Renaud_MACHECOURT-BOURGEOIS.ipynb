{
 "cells": [
  {
   "cell_type": "markdown",
   "id": "mature-picnic",
   "metadata": {},
   "source": [
    "# Hello World"
   ]
  },
  {
   "cell_type": "code",
   "execution_count": 1,
   "id": "superb-samba",
   "metadata": {},
   "outputs": [
    {
     "data": {
      "application/javascript": [
       "IPython.notebook.set_autosave_interval(5000)"
      ]
     },
     "metadata": {},
     "output_type": "display_data"
    },
    {
     "name": "stdout",
     "output_type": "stream",
     "text": [
      "Autosaving every 5 seconds\n",
      "Use Chrome browser\n",
      "First, you should run this cell\n"
     ]
    }
   ],
   "source": [
    "# You can import bibTableau.py as described here\n",
    "from bibTableau import *\n",
    "\n",
    "#jupyter notebook autosave interval\n",
    "%autosave 5\n",
    "\n",
    "print(\"Use Chrome browser\")\n",
    "print(\"First, you should run this cell\")\n"
   ]
  },
  {
   "cell_type": "markdown",
   "id": "rental-mexican",
   "metadata": {},
   "source": [
    "# Exercice 1"
   ]
  },
  {
   "cell_type": "code",
   "execution_count": 25,
   "id": "elegant-directory",
   "metadata": {},
   "outputs": [
    {
     "name": "stdout",
     "output_type": "stream",
     "text": [
      "t1 =  [-86, -22, -9, -3, 28, 77, 90, None, None, None, None, None, None] \n",
      "t2 =  [-61, -19, -18, 54, 73, 75]\n",
      "Apres insertion de t2 dans t1 : [-86, -61, -22, -19, -18, -9, -3, 28, 54, 73, 75, 77, 90]\n",
      "\n",
      "t1 =  [-100, -72, -30, -19, 7, 80, None, None, None, None, None, None, None, None, None] \n",
      "t2 =  [-92, -74, -43, -38, -13, 15, 18, 35, 91]\n",
      "Apres insertion de t2 dans t1 : [-100, -92, -74, -72, -43, -38, -30, -19, -13, 7, 15, 18, 35, 80, 91]\n",
      "\n",
      "t1 =  [-97, -76, -39, -31, -29, -2, 43, 68, 95, None, None, None, None, None, None, None, None, None] \n",
      "t2 =  [-66, -37, 22, 22, 51, 51, 53, 79, 92]\n",
      "Apres insertion de t2 dans t1 : [-97, -76, -66, -39, -37, -31, -29, -2, 22, 22, 43, 51, 51, 53, 68, 79, 92, 95]\n",
      "\n"
     ]
    }
   ],
   "source": [
    "from bibTableau import *\n",
    "\n",
    "\n",
    "#### Dans ce fichier nous proposons des fonctions de \"test\" qui\n",
    "#### réalisent quelques appels aux fonctions que vous devez écrire.\n",
    "#### Vous devez analyser le résultat des fonctions \"test\" pour savoir \n",
    "#### si vos fonctions donnent le résultat attendu lors de ces appels ####\n",
    "\n",
    "##-----------------------------------------------------------\n",
    "## EXERCICE 1 :\n",
    "\n",
    "#### Compléter ci-dessous insererTableauTrieDansTableauTrie(t,nt,s,ns)####\n",
    "def insererTableauTrieDansTableauTrie(t1,n1,t2,n2):\n",
    "    \"\"\"Exercice 1 (TP5-1)\"\"\"\n",
    "    i = n1 + n2-1\n",
    "    j = n1-1\n",
    "    k = n2-1\n",
    "    while i >= 0 and j >= 0 and k >= 0:\n",
    "        if t1[j] > t2[k]:\n",
    "            t1[i] = t1[j]\n",
    "            j -= 1\n",
    "        else:\n",
    "            t1[i] = t2[k]\n",
    "            k -= 1\n",
    "        i -= 1\n",
    "    return n1+n2\n",
    "    \n",
    "####testInserer contient des appels à insererTableauTrieDansTableauTrie(t1, n1, t2, n2)#####\n",
    "def testInserer (n = 3):\n",
    "    for i in range(n):\n",
    "        n1 = random.randint(0, 10)\n",
    "        t = creerTableauMonotone(n1, borneInf=-100, borneSup=100)\n",
    "        n2 = random.randint(0, 10)\n",
    "        t2 = creerTableauMonotone(n2, borneInf=-100, borneSup=100)\n",
    "        n = n1+n2\n",
    "        t1 = creerTableau(n)\n",
    "        for i in range (n1):\n",
    "            t1[i] = t[i]\n",
    "        print (\"t1 = \", t1, \"\\nt2 = \", t2)\n",
    "        insererTableauTrieDansTableauTrie(t1, n1, t2, n2)\n",
    "        print (\"Apres insertion de t2 dans t1 :\", t1)\n",
    "        print()\n",
    "\n",
    "#### Appel de testInserer:\n",
    "testInserer()"
   ]
  },
  {
   "cell_type": "markdown",
   "id": "unlikely-feeling",
   "metadata": {},
   "source": [
    "# Exercice 2"
   ]
  },
  {
   "cell_type": "code",
   "execution_count": 29,
   "id": "dynamic-safety",
   "metadata": {},
   "outputs": [],
   "source": [
    "from bibTableau import *\n",
    "\n",
    "import time  \n",
    "\n",
    "##-----------------------------------------------------------\n",
    "## EXERCICE 2:\n",
    "\n",
    "\n",
    "#### Compléter ci-dessous supprimerOccurrences(t, n, elt)\n",
    "def supprimerOccurrences(t,n,x):\n",
    "    \"\"\"Exercice 2 (TP5-2.1)\"\"\"\n",
    "    j = 0\n",
    "    for i in range(n):\n",
    "        if t[i] != x:\n",
    "            t[j] = t[i]\n",
    "            j += 1\n",
    "    return j\n",
    "\n",
    "def tempsExecution (f, t, n, x): # Calcule, en millisecondes, le temps d'exécution de f(t, n, x)\n",
    "    debut =  time.clock()\n",
    "    f(t, n, x)\n",
    "    fin = time.clock()\n",
    "    return round((fin - debut)*1000)\n",
    "\n",
    "\n",
    "def mystere(t,n,x): \n",
    "    continuer = True\n",
    "    while n>0 and continuer:\n",
    "        nbelem = supprimerPremiereOccurrence(t,n,x)\n",
    "        if nbelem == n :\n",
    "            continuer = False\n",
    "        else:\n",
    "         n = nbelem\n",
    "    return n\n",
    "\n",
    "def supprimerPremiereOccurrence(t, n, x): # O(n)\n",
    "    for i in range(n):\n",
    "        if t[i]==x:\n",
    "            return supprimer(t,n,i)\n",
    "    return n\n",
    "\n",
    "def supprimer (t, n, k): # O(n - k)\n",
    "   for i in range (k, n - 1):\n",
    "       t[i] = t[i + 1]\n",
    "   return n-1\n",
    "\n",
    "#### Ecrire ci-dessous les instructions permettant d'appliquer\n",
    "#### les consignes du TP5-2.2\n",
    "\n",
    "\n",
    "\n",
    "\n",
    "#### Compléter ci-dessous la fonction tailleMini(ms)\n",
    "def tailleMini(ms):\n",
    "    \"\"\"Exercice 2 (TP5-2.3)\"\"\"\n",
    "\n",
    "\n",
    "\n",
    "\n",
    "    \n",
    "    \n"
   ]
  },
  {
   "cell_type": "markdown",
   "id": "iraqi-carolina",
   "metadata": {},
   "source": [
    "# Exercice complémentaire 1"
   ]
  },
  {
   "cell_type": "code",
   "execution_count": 3,
   "id": "associate-minister",
   "metadata": {},
   "outputs": [],
   "source": [
    "from bibTableau import *\n",
    "\n",
    "##---------------------------------------------------------\n",
    "## EXERCICE COMPLEMENTAIRE 1:\n",
    "\n",
    "\n",
    "#### Compléter ci-dessous la fonction ligneTrianglePascal(n)\n",
    "def ligneTrianglePascal(n):\n",
    "    \"\"\"Exercice Complémentaire (TP5)\"\"\"\n",
    "\n",
    "    \n",
    "\n",
    "def afficheLigne(t):\n",
    "    for i in range (len(t)):\n",
    "        print('%5d' % (t[i]) , end='')\n",
    "    print()\n",
    "\n",
    "def testPascal (n=10):\n",
    "    print(\" triangle de Pascal pour n =\", n)\n",
    "    for n in range(n + 1):\n",
    "        afficheLigne(ligneTrianglePascal(n))\n",
    "\n",
    "#testPascal()  ### décommenter pour appeler la fonction\n",
    "\n"
   ]
  },
  {
   "cell_type": "code",
   "execution_count": null,
   "id": "unlike-miniature",
   "metadata": {},
   "outputs": [],
   "source": []
  }
 ],
 "metadata": {
  "kernelspec": {
   "display_name": "Python 3",
   "language": "python",
   "name": "python3"
  },
  "language_info": {
   "codemirror_mode": {
    "name": "ipython",
    "version": 3
   },
   "file_extension": ".py",
   "mimetype": "text/x-python",
   "name": "python",
   "nbconvert_exporter": "python",
   "pygments_lexer": "ipython3",
   "version": "3.8.5"
  }
 },
 "nbformat": 4,
 "nbformat_minor": 5
}
