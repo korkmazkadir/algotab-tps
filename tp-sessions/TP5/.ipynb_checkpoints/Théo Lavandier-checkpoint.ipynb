{
 "cells": [
  {
   "cell_type": "markdown",
   "id": "mature-picnic",
   "metadata": {},
   "source": [
    "# Hello World"
   ]
  },
  {
   "cell_type": "code",
   "execution_count": 1,
   "id": "superb-samba",
   "metadata": {},
   "outputs": [
    {
     "data": {
      "application/javascript": [
       "IPython.notebook.set_autosave_interval(5000)"
      ]
     },
     "metadata": {},
     "output_type": "display_data"
    },
    {
     "name": "stdout",
     "output_type": "stream",
     "text": [
      "Autosaving every 5 seconds\n",
      "Use Chrome browser\n",
      "First, you should run this cell\n"
     ]
    }
   ],
   "source": [
    "# You can import bibTableau.py as described here\n",
    "from bibTableau import *\n",
    "\n",
    "#jupyter notebook autosave interval\n",
    "%autosave 5\n",
    "\n",
    "print(\"Use Chrome browser\")\n",
    "print(\"First, you should run this cell\")\n"
   ]
  },
  {
   "cell_type": "markdown",
   "id": "rental-mexican",
   "metadata": {},
   "source": [
    "# Exercice 1"
   ]
  },
  {
   "cell_type": "code",
   "execution_count": 4,
   "id": "elegant-directory",
   "metadata": {},
   "outputs": [
    {
     "name": "stdout",
     "output_type": "stream",
     "text": [
      "t1 =  [-44, -40, -14, -12, -2, 23, 27, 27, 61, 88, None, None, None, None, None, None, None] \n",
      "t2 =  [-88, -85, -76, -67, -36, 1, 13]\n",
      "Apres insertion de t2 dans t1 : [-88, -85, -76, -67, -44, -40, -36, -14, -12, -2, 1, 13, 23, 27, 27, 61, 88]\n",
      "\n",
      "t1 =  [-57, -41, None, None, None, None, None, None] \n",
      "t2 =  [-56, -23, -11, -6, 62, 98]\n",
      "Apres insertion de t2 dans t1 : [-57, -56, -41, -23, -11, -6, 62, 98]\n",
      "\n",
      "t1 =  [-78, -59, -50, -22, 12, 20, 35, 66, 91, None, None] \n",
      "t2 =  [-92, -4]\n",
      "Apres insertion de t2 dans t1 : [-92, -78, -59, -50, -22, -4, 12, 20, 35, 66, 91]\n",
      "\n"
     ]
    }
   ],
   "source": [
    "from bibTableau import *\n",
    "\n",
    "\n",
    "#### Dans ce fichier nous proposons des fonctions de \"test\" qui\n",
    "#### réalisent quelques appels aux fonctions que vous devez écrire.\n",
    "#### Vous devez analyser le résultat des fonctions \"test\" pour savoir \n",
    "#### si vos fonctions donnent le résultat attendu lors de ces appels ####\n",
    "\n",
    "##-----------------------------------------------------------\n",
    "## EXERCICE 1 :\n",
    "\n",
    "#### Compléter ci-dessous insererTableauTrieDansTableauTrie(t,nt,s,ns)####\n",
    "def insererTableauTrieDansTableauTrie(t,nt,s,ns):\n",
    "    i = nt - 1 # i : indice de lecture dans t\n",
    "    j = ns - 1 # j : indice de lecture dans s\n",
    "    w = nt+ns-1 # w : indice d'ecriture dans t\n",
    "    while i >= 0  and j >=0:\n",
    "        if t[i] > s[j] :\n",
    "            t[w] = t[i]\n",
    "            i -= 1\n",
    "        else:\n",
    "            t[w] = s[j]\n",
    "            j -= 1\n",
    "        w=w-1\n",
    "    while j >= 0:\n",
    "        t[j] = s[j]\n",
    "        j -= 1\n",
    "    \n",
    "    \n",
    "####testInserer contient des appels à insererTableauTrieDansTableauTrie(t1, n1, t2, n2)#####\n",
    "def testInserer (n = 3):\n",
    "    for i in range(n):\n",
    "        n1 = random.randint(0, 10)\n",
    "        t = creerTableauMonotone(n1, borneInf=-100, borneSup=100)\n",
    "        n2 = random.randint(0, 10)\n",
    "        t2 = creerTableauMonotone(n2, borneInf=-100, borneSup=100)\n",
    "        n = n1+n2\n",
    "        t1 = creerTableau(n)\n",
    "        for i in range (n1):\n",
    "            t1[i] = t[i]\n",
    "        print (\"t1 = \", t1, \"\\nt2 = \", t2)\n",
    "        insererTableauTrieDansTableauTrie(t1, n1, t2, n2)\n",
    "        print (\"Apres insertion de t2 dans t1 :\", t1)\n",
    "        print()\n",
    "\n",
    "#### Appel de testInserer:\n",
    "testInserer()"
   ]
  },
  {
   "cell_type": "markdown",
   "id": "unlikely-feeling",
   "metadata": {},
   "source": [
    "# Exercice 2"
   ]
  },
  {
   "cell_type": "code",
   "execution_count": null,
   "id": "dynamic-safety",
   "metadata": {},
   "outputs": [
    {
     "name": "stdout",
     "output_type": "stream",
     "text": [
      "nombre d'elements:   100, mystere: 0.060ms, supprimerOccurrences: 0.000ms\n",
      "nombre d'elements:  1000, mystere: 1.540ms, supprimerOccurrences: 0.150ms\n",
      "nombre d'elements: 10000, mystere: 96.990ms, supprimerOccurrences: 2.000ms\n"
     ]
    }
   ],
   "source": [
    "from bibTableau import *\n",
    "\n",
    "import time  \n",
    "\n",
    "##-----------------------------------------------------------\n",
    "## EXERCICE 2:\n",
    "\n",
    "\n",
    "#### Compléter ci-dessous supprimerOccurrences(t, n, elt)\n",
    "def supprimerOccurrences(t,n,x):\n",
    "    \"\"\"Exercice 2 (TP5-2.1)\"\"\"\n",
    "    i = 0\n",
    "    s = 0\n",
    "    while i<n:\n",
    "        if t[i]==x:\n",
    "            s += 1\n",
    "        else:\n",
    "            t[i-s] = t[i]\n",
    "        i += 1\n",
    "    return n-s\n",
    "\n",
    "    \n",
    "    \n",
    "    \n",
    "\n",
    "def tempsExecution (f, t, n, x): # Calcule, en millisecondes, le temps d'exécution de f(t, n, x)\n",
    "    debut =  time.time()\n",
    "    f(t, n, x)\n",
    "    fin = time.time()\n",
    "    return round((fin - debut)*1000)\n",
    "\n",
    "\n",
    "def mystere(t,n,x): \n",
    "    continuer = True\n",
    "    while n>0 and continuer:\n",
    "        nbelem = supprimerPremiereOccurrence(t,n,x)\n",
    "        if nbelem == n :\n",
    "            continuer = False\n",
    "        else:\n",
    "         n = nbelem\n",
    "    return n\n",
    "\n",
    "def supprimerPremiereOccurrence(t, n, x): # O(n)\n",
    "    for i in range(n):\n",
    "        if t[i]==x:\n",
    "            return supprimer(t,n,i)\n",
    "    return n\n",
    "\n",
    "def supprimer (t, n, k): # O(n - k)\n",
    "   for i in range (k, n - 1):\n",
    "       t[i] = t[i + 1]\n",
    "   return n-1\n",
    "\n",
    "#### Ecrire ci-dessous les instructions permettant d'appliquer\n",
    "#### les consignes du TP5-2.2\n",
    "for n in (100,1000,10000):\n",
    "    a_time = 0\n",
    "    b_time = 0\n",
    "    for i in range(100):\n",
    "        a = creerTableauAleatoire(n)\n",
    "        b = a.copy()\n",
    "        a_time += tempsExecution(mystere,a,n,0)\n",
    "        b_time += tempsExecution(supprimerOccurrences,b,n,0)\n",
    "    print(f\"nombre d'elements: {n:>5}, mystere: {a_time/100:>5.3f}ms, supprimerOccurrences: {b_time/100:>5.3f}ms\")\n",
    "\n",
    "\n",
    "\n",
    "\n",
    "#### Compléter ci-dessous la fonction tailleMini(ms)\n",
    "def tailleMini(ms):\n",
    "    \"\"\"Exercice 2 (TP5-2.3)\"\"\"\n",
    "    n = 1\n",
    "    a_time, b_time = 0, 0\n",
    "    while not a_time-b_time>ms:\n",
    "        a = creerTableauAleatoire(n)\n",
    "        b = a.copy()\n",
    "        a_time = tempsExecution(mystere,a,n,0)\n",
    "        b_time = tempsExecution(supprimerOccurrences,b,n,0)\n",
    "        n *= 2\n",
    "    return n/2\n",
    "\n",
    "\n",
    "\n",
    "tailleMini(30000)\n",
    "    \n",
    "    \n",
    "    \n"
   ]
  },
  {
   "cell_type": "markdown",
   "id": "iraqi-carolina",
   "metadata": {},
   "source": [
    "# Exercice complémentaire 1"
   ]
  },
  {
   "cell_type": "code",
   "execution_count": 3,
   "id": "associate-minister",
   "metadata": {},
   "outputs": [],
   "source": [
    "from bibTableau import *\n",
    "\n",
    "##---------------------------------------------------------\n",
    "## EXERCICE COMPLEMENTAIRE 1:\n",
    "\n",
    "\n",
    "#### Compléter ci-dessous la fonction ligneTrianglePascal(n)\n",
    "def ligneTrianglePascal(n):\n",
    "    \"\"\"Exercice Complémentaire (TP5)\"\"\"\n",
    "\n",
    "    \n",
    "\n",
    "def afficheLigne(t):\n",
    "    for i in range (len(t)):\n",
    "        print('%5d' % (t[i]) , end='')\n",
    "    print()\n",
    "\n",
    "def testPascal (n=10):\n",
    "    print(\" triangle de Pascal pour n =\", n)\n",
    "    for n in range(n + 1):\n",
    "        afficheLigne(ligneTrianglePascal(n))\n",
    "\n",
    "#testPascal()  ### décommenter pour appeler la fonction\n",
    "\n"
   ]
  },
  {
   "cell_type": "code",
   "execution_count": null,
   "id": "unlike-miniature",
   "metadata": {},
   "outputs": [],
   "source": []
  }
 ],
 "metadata": {
  "kernelspec": {
   "display_name": "Python 3",
   "language": "python",
   "name": "python3"
  },
  "language_info": {
   "codemirror_mode": {
    "name": "ipython",
    "version": 3
   },
   "file_extension": ".py",
   "mimetype": "text/x-python",
   "name": "python",
   "nbconvert_exporter": "python",
   "pygments_lexer": "ipython3",
   "version": "3.8.5"
  }
 },
 "nbformat": 4,
 "nbformat_minor": 5
}
