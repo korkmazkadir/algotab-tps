{
 "cells": [
  {
   "cell_type": "markdown",
   "id": "mature-picnic",
   "metadata": {},
   "source": [
    "# Hello World"
   ]
  },
  {
   "cell_type": "code",
   "execution_count": 2,
   "id": "superb-samba",
   "metadata": {},
   "outputs": [
    {
     "data": {
      "application/javascript": [
       "IPython.notebook.set_autosave_interval(5000)"
      ]
     },
     "metadata": {},
     "output_type": "display_data"
    },
    {
     "name": "stdout",
     "output_type": "stream",
     "text": [
      "Autosaving every 5 seconds\n",
      "Use Chrome browser\n",
      "First, you should run this cell\n"
     ]
    }
   ],
   "source": [
    "# You can import bibTableau.py as described here\n",
    "from bibTableau import *\n",
    "\n",
    "#jupyter notebook autosave interval\n",
    "%autosave 5\n",
    "\n",
    "print(\"Use Chrome browser\")\n",
    "print(\"First, you should run this cell\")\n"
   ]
  },
  {
   "cell_type": "markdown",
   "id": "rental-mexican",
   "metadata": {},
   "source": [
    "# Exercice 1"
   ]
  },
  {
   "cell_type": "code",
   "execution_count": 4,
   "id": "elegant-directory",
   "metadata": {},
   "outputs": [
    {
     "name": "stdout",
     "output_type": "stream",
     "text": [
      "t1 =  [-34, 13, 32, 61, 78, 83, 96, None, None, None] \n",
      "t2 =  [-72, -59, -4]\n",
      "Apres insertion de t2 dans t1 : [-72, -59, -34, -4, 13, 32, 61, 78, 83, 96]\n",
      "\n",
      "t1 =  [-89, -31, None, None, None, None, None, None, None, None] \n",
      "t2 =  [-85, -61, -37, -35, -22, -4, 93, 97]\n",
      "Apres insertion de t2 dans t1 : [-89, -85, -61, -37, -35, -31, -22, -4, 93, 97]\n",
      "\n",
      "t1 =  [-99, -82, -77, 29, 38, 39, 44, 69, 82, None, None, None, None, None, None, None, None] \n",
      "t2 =  [-99, -40, -26, -25, 0, 34, 46, 93]\n",
      "Apres insertion de t2 dans t1 : [-99, -99, -82, -77, -40, -26, -25, 0, 29, 34, 38, 39, 44, 46, 69, 82, 93]\n",
      "\n"
     ]
    }
   ],
   "source": [
    "from bibTableau import *\n",
    "\n",
    "\n",
    "#### Dans ce fichier nous proposons des fonctions de \"test\" qui\n",
    "#### réalisent quelques appels aux fonctions que vous devez écrire.\n",
    "#### Vous devez analyser le résultat des fonctions \"test\" pour savoir \n",
    "#### si vos fonctions donnent le résultat attendu lors de ces appels ####\n",
    "\n",
    "##-----------------------------------------------------------\n",
    "## EXERCICE 1 :\n",
    "\n",
    "#### Compléter ci-dessous insererTableauTrieDansTableauTrie(t,nt,s,ns)####\n",
    "def insererTableauTrieDansTableauTrie(t,nt,s,ns):\n",
    "    \"\"\"Exercice 1 (TP5-1)\"\"\"\n",
    "    i = nt - 1 # i : indice de lecture dans t\n",
    "    j = ns - 1 # j : indice de lecture dans s\n",
    "    w = nt+ns-1 # w : indice d'ecriture dans t\n",
    "    while i >= 0  and j >=0:\n",
    "        if t[i] > s[j] :\n",
    "            t[w] = t[i]\n",
    "            i -= 1\n",
    "        else:\n",
    "            t[w] = s[j]\n",
    "            j -= 1\n",
    "        w=w-1\n",
    "        \n",
    "    while j >= 0:\n",
    "        t[j] = s[j]\n",
    "        j -= 1\n",
    "\n",
    "\n",
    "    \n",
    "    \n",
    "####testInserer contient des appels à insererTableauTrieDansTableauTrie(t1, n1, t2, n2)#####\n",
    "def testInserer (n = 3):\n",
    "    for i in range(n):\n",
    "        n1 = random.randint(0, 10)\n",
    "        t = creerTableauMonotone(n1, borneInf=-100, borneSup=100)\n",
    "        n2 = random.randint(0, 10)\n",
    "        t2 = creerTableauMonotone(n2, borneInf=-100, borneSup=100)\n",
    "        n = n1+n2\n",
    "        t1 = creerTableau(n)\n",
    "        for i in range (n1):\n",
    "            t1[i] = t[i]\n",
    "        print (\"t1 = \", t1, \"\\nt2 = \", t2)\n",
    "        insererTableauTrieDansTableauTrie(t1, n1, t2, n2)\n",
    "        print (\"Apres insertion de t2 dans t1 :\", t1)\n",
    "        print()\n",
    "\n",
    "#### Appel de testInserer:\n",
    "testInserer()"
   ]
  },
  {
   "cell_type": "markdown",
   "id": "unlikely-feeling",
   "metadata": {},
   "source": [
    "# Exercice 2"
   ]
  },
  {
   "cell_type": "code",
   "execution_count": 5,
   "id": "dynamic-safety",
   "metadata": {},
   "outputs": [
    {
     "ename": "NameError",
     "evalue": "name 't' is not defined",
     "output_type": "error",
     "traceback": [
      "\u001b[0;31m---------------------------------------------------------------------------\u001b[0m",
      "\u001b[0;31mNameError\u001b[0m                                 Traceback (most recent call last)",
      "\u001b[0;32m<ipython-input-5-96969be76078>\u001b[0m in \u001b[0;36m<module>\u001b[0;34m\u001b[0m\n\u001b[1;32m     20\u001b[0m \u001b[0mt1\u001b[0m\u001b[0;34m=\u001b[0m\u001b[0;34m[\u001b[0m\u001b[0;36m2\u001b[0m\u001b[0;34m,\u001b[0m \u001b[0;36m2\u001b[0m\u001b[0;34m,\u001b[0m \u001b[0;36m2\u001b[0m\u001b[0;34m,\u001b[0m \u001b[0;36m3\u001b[0m\u001b[0;34m,\u001b[0m \u001b[0;36m4\u001b[0m\u001b[0;34m]\u001b[0m\u001b[0;34m\u001b[0m\u001b[0;34m\u001b[0m\u001b[0m\n\u001b[1;32m     21\u001b[0m \u001b[0;34m\u001b[0m\u001b[0m\n\u001b[0;32m---> 22\u001b[0;31m \u001b[0msize\u001b[0m\u001b[0;34m=\u001b[0m\u001b[0msupprimerOccurrences\u001b[0m\u001b[0;34m(\u001b[0m\u001b[0mt\u001b[0m\u001b[0;34m,\u001b[0m\u001b[0;36m5\u001b[0m\u001b[0;34m,\u001b[0m\u001b[0;36m2\u001b[0m\u001b[0;34m)\u001b[0m\u001b[0;34m\u001b[0m\u001b[0;34m\u001b[0m\u001b[0m\n\u001b[0m\u001b[1;32m     23\u001b[0m \u001b[0;34m\u001b[0m\u001b[0m\n\u001b[1;32m     24\u001b[0m \u001b[0mprint\u001b[0m\u001b[0;34m(\u001b[0m\u001b[0mt1\u001b[0m\u001b[0;34m)\u001b[0m\u001b[0;34m\u001b[0m\u001b[0;34m\u001b[0m\u001b[0m\n",
      "\u001b[0;31mNameError\u001b[0m: name 't' is not defined"
     ]
    }
   ],
   "source": [
    "from bibTableau import *\n",
    "\n",
    "import time  \n",
    "\n",
    "##-----------------------------------------------------------\n",
    "## EXERCICE 2:\n",
    "\n",
    "\n",
    "#### Compléter ci-dessous supprimerOccurrences(t, n, elt)\n",
    "def supprimerOccurrences(t,n,x):\n",
    "    \"\"\"Exercice 2 (TP5-2.1)\"\"\"\n",
    "    j=0 \n",
    "    for i in range(n): \n",
    "        if t[i] != elt:\n",
    "            t[j] = t[i]\n",
    "            j += 1\n",
    "    return j\n",
    "\n",
    "\n",
    "t1=[2, 2, 2, 3, 4]\n",
    "\n",
    "size=supprimerOccurrences(t1,5,2)\n",
    "\n",
    "print(t1)\n",
    "print(size)\n",
    "    \n",
    "    \n",
    "\n",
    "def tempsExecution (f, t, n, x): # Calcule, en millisecondes, le temps d'exécution de f(t, n, x)\n",
    "    debut =  time.clock()\n",
    "    f(t, n, x)\n",
    "    fin = time.clock()\n",
    "    return round((fin - debut)*1000)\n",
    "\n",
    "\n",
    "def mystere(t,n,x): \n",
    "    continuer = True\n",
    "    while n>0 and continuer:\n",
    "        nbelem = supprimerPremiereOccurrence(t,n,x)\n",
    "        if nbelem == n :\n",
    "            continuer = False\n",
    "        else:\n",
    "         n = nbelem\n",
    "    return n\n",
    "\n",
    "def supprimerPremiereOccurrence(t, n, x): # O(n)\n",
    "    for i in range(n):\n",
    "        if t[i]==x:\n",
    "            return supprimer(t,n,i)\n",
    "    return n\n",
    "\n",
    "def supprimer (t, n, k): # O(n - k)\n",
    "   for i in range (k, n - 1):\n",
    "       t[i] = t[i + 1]\n",
    "   return n-1\n",
    "\n",
    "#### Ecrire ci-dessous les instructions permettant d'appliquer\n",
    "#### les consignes du TP5-2.2\n",
    "\n",
    "\n",
    "\n",
    "\n",
    "#### Compléter ci-dessous la fonction tailleMini(ms)\n",
    "def tailleMini(ms):\n",
    "    \"\"\"Exercice 2 (TP5-2.3)\"\"\"\n",
    "\n",
    "\n",
    "\n",
    "\n",
    "    \n",
    "    \n"
   ]
  },
  {
   "cell_type": "markdown",
   "id": "iraqi-carolina",
   "metadata": {},
   "source": [
    "# Exercice complémentaire 1"
   ]
  },
  {
   "cell_type": "code",
   "execution_count": 3,
   "id": "associate-minister",
   "metadata": {},
   "outputs": [],
   "source": [
    "from bibTableau import *\n",
    "\n",
    "##---------------------------------------------------------\n",
    "## EXERCICE COMPLEMENTAIRE 1:\n",
    "\n",
    "\n",
    "#### Compléter ci-dessous la fonction ligneTrianglePascal(n)\n",
    "def ligneTrianglePascal(n):\n",
    "    \"\"\"Exercice Complémentaire (TP5)\"\"\"\n",
    "\n",
    "    \n",
    "\n",
    "def afficheLigne(t):\n",
    "    for i in range (len(t)):\n",
    "        print('%5d' % (t[i]) , end='')\n",
    "    print()\n",
    "\n",
    "def testPascal (n=10):\n",
    "    print(\" triangle de Pascal pour n =\", n)\n",
    "    for n in range(n + 1):\n",
    "        afficheLigne(ligneTrianglePascal(n))\n",
    "\n",
    "#testPascal()  ### décommenter pour appeler la fonction\n",
    "\n"
   ]
  },
  {
   "cell_type": "code",
   "execution_count": null,
   "id": "unlike-miniature",
   "metadata": {},
   "outputs": [],
   "source": []
  }
 ],
 "metadata": {
  "kernelspec": {
   "display_name": "Python 3",
   "language": "python",
   "name": "python3"
  },
  "language_info": {
   "codemirror_mode": {
    "name": "ipython",
    "version": 3
   },
   "file_extension": ".py",
   "mimetype": "text/x-python",
   "name": "python",
   "nbconvert_exporter": "python",
   "pygments_lexer": "ipython3",
   "version": "3.8.5"
  }
 },
 "nbformat": 4,
 "nbformat_minor": 5
}
