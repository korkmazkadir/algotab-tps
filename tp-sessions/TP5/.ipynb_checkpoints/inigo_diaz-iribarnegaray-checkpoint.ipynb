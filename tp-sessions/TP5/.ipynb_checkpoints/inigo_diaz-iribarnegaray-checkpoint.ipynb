{
 "cells": [
  {
   "cell_type": "markdown",
   "id": "mature-picnic",
   "metadata": {},
   "source": [
    "# Hello World"
   ]
  },
  {
   "cell_type": "code",
   "execution_count": 1,
   "id": "superb-samba",
   "metadata": {},
   "outputs": [
    {
     "data": {
      "application/javascript": [
       "IPython.notebook.set_autosave_interval(5000)"
      ]
     },
     "metadata": {},
     "output_type": "display_data"
    },
    {
     "name": "stdout",
     "output_type": "stream",
     "text": [
      "Autosaving every 5 seconds\n",
      "Use Chrome browser\n",
      "First, you should run this cell\n"
     ]
    }
   ],
   "source": [
    "# You can import bibTableau.py as described here\n",
    "from bibTableau import *\n",
    "\n",
    "#jupyter notebook autosave interval\n",
    "%autosave 5\n",
    "\n",
    "print(\"Use Chrome browser\")\n",
    "print(\"First, you should run this cell\")\n"
   ]
  },
  {
   "cell_type": "markdown",
   "id": "rental-mexican",
   "metadata": {},
   "source": [
    "# Exercice 1"
   ]
  },
  {
   "cell_type": "code",
   "execution_count": 15,
   "id": "elegant-directory",
   "metadata": {},
   "outputs": [
    {
     "name": "stdout",
     "output_type": "stream",
     "text": [
      "t1 =  [-31, -31, -26, -5, 2, 6, 64, 71, 86, 100, None, None, None, None, None] \n",
      "t2 =  [-85, -82, -76, -11, 62]\n",
      "Apres insertion de t2 dans t1 : [-85, -82, -76, -31, -31, -26, -11, -5, 2, 6, 62, 64, 71, 86, 100]\n",
      "Sorted\n",
      "\n",
      "t1 =  [None, None, None, None, None, None, None] \n",
      "t2 =  [-59, 4, 25, 27, 27, 59, 66]\n",
      "Apres insertion de t2 dans t1 : [-59, 4, 25, 27, 27, 59, 66]\n",
      "Sorted\n",
      "\n",
      "t1 =  [-74, -66, -50, -36, 25, 63, 81, None, None, None, None, None] \n",
      "t2 =  [-86, -81, -44, 25, 86]\n",
      "Apres insertion de t2 dans t1 : [-86, -81, -74, -66, -50, -44, -36, 25, 25, 63, 81, 86]\n",
      "Sorted\n",
      "\n"
     ]
    }
   ],
   "source": [
    "from bibTableau import *\n",
    "\n",
    "\n",
    "#### Dans ce fichier nous proposons des fonctions de \"test\" qui\n",
    "#### réalisent quelques appels aux fonctions que vous devez écrire.\n",
    "#### Vous devez analyser le résultat des fonctions \"test\" pour savoir \n",
    "#### si vos fonctions donnent le résultat attendu lors de ces appels ####\n",
    "\n",
    "##-----------------------------------------------------------\n",
    "## EXERCICE 1 :\n",
    "\n",
    "#### Compléter ci-dessous insererTableauTrieDansTableauTrie(t,nt,s,ns)####\n",
    "def insererTableauTrieDansTableauTrie(t,nt,s,ns):\n",
    "    \"\"\"Exercice 1 (TP5-1)\"\"\"\n",
    "    i = nt+ns-1\n",
    "    j = nt-1\n",
    "    k = ns-1\n",
    "    while i>=0 and k>=0:\n",
    "        if j>=0 and t[j]>s[k]:\n",
    "            t[i] = t[j]\n",
    "            j -= 1\n",
    "        else:\n",
    "            t[i] = s[k]\n",
    "            k -= 1\n",
    "        i -= 1\n",
    "    return nt+ns\n",
    "\n",
    "\n",
    "\n",
    "    \n",
    "    \n",
    "####testInserer contient des appels à insererTableauTrieDansTableauTrie(t1, n1, t2, n2)#####\n",
    "def testInserer (n = 3):\n",
    "    for i in range(n):\n",
    "        n1 = random.randint(0, 10)\n",
    "        t = creerTableauMonotone(n1, borneInf=-100, borneSup=100)\n",
    "        n2 = random.randint(0, 10)\n",
    "        t2 = creerTableauMonotone(n2, borneInf=-100, borneSup=100)\n",
    "        n = n1+n2\n",
    "        t1 = creerTableau(n)\n",
    "        for i in range (n1):\n",
    "            t1[i] = t[i]\n",
    "        print (\"t1 = \", t1, \"\\nt2 = \", t2)\n",
    "        insererTableauTrieDansTableauTrie(t1, n1, t2, n2)\n",
    "        print (\"Apres insertion de t2 dans t1 :\", t1)\n",
    "        if sorted(t1)==t1:print(\"Sorted\")\n",
    "        print()\n",
    "\n",
    "#### Appel de testInserer:\n",
    "testInserer()"
   ]
  },
  {
   "cell_type": "markdown",
   "id": "unlikely-feeling",
   "metadata": {},
   "source": [
    "# Exercice 2"
   ]
  },
  {
   "cell_type": "code",
   "execution_count": null,
   "id": "dynamic-safety",
   "metadata": {},
   "outputs": [
    {
     "name": "stdout",
     "output_type": "stream",
     "text": [
      "nombre d'elements:   100, mystere: 0.018ms, supprimerOccurrences: 0.008ms\n",
      "nombre d'elements:  1000, mystere: 1.103ms, supprimerOccurrences: 0.097ms\n"
     ]
    },
    {
     "ename": "KeyboardInterrupt",
     "evalue": "",
     "output_type": "error",
     "traceback": [
      "\u001b[0;31m---------------------------------------------------------------------------\u001b[0m",
      "\u001b[0;31mKeyboardInterrupt\u001b[0m                         Traceback (most recent call last)",
      "\u001b[0;32m<ipython-input-26-870b9de346a9>\u001b[0m in \u001b[0;36m<module>\u001b[0;34m\u001b[0m\n\u001b[1;32m     61\u001b[0m         \u001b[0ma\u001b[0m \u001b[0;34m=\u001b[0m \u001b[0mcreerTableauAleatoire\u001b[0m\u001b[0;34m(\u001b[0m\u001b[0mn\u001b[0m\u001b[0;34m)\u001b[0m\u001b[0;34m\u001b[0m\u001b[0;34m\u001b[0m\u001b[0m\n\u001b[1;32m     62\u001b[0m         \u001b[0mb\u001b[0m \u001b[0;34m=\u001b[0m \u001b[0ma\u001b[0m\u001b[0;34m.\u001b[0m\u001b[0mcopy\u001b[0m\u001b[0;34m(\u001b[0m\u001b[0;34m)\u001b[0m\u001b[0;34m\u001b[0m\u001b[0;34m\u001b[0m\u001b[0m\n\u001b[0;32m---> 63\u001b[0;31m         \u001b[0ma_time\u001b[0m \u001b[0;34m+=\u001b[0m \u001b[0mtempsExecution\u001b[0m\u001b[0;34m(\u001b[0m\u001b[0mmystere\u001b[0m\u001b[0;34m,\u001b[0m\u001b[0ma\u001b[0m\u001b[0;34m,\u001b[0m\u001b[0mn\u001b[0m\u001b[0;34m,\u001b[0m\u001b[0;36m0\u001b[0m\u001b[0;34m)\u001b[0m\u001b[0;34m\u001b[0m\u001b[0;34m\u001b[0m\u001b[0m\n\u001b[0m\u001b[1;32m     64\u001b[0m         \u001b[0mb_time\u001b[0m \u001b[0;34m+=\u001b[0m \u001b[0mtempsExecution\u001b[0m\u001b[0;34m(\u001b[0m\u001b[0msupprimerOccurrences\u001b[0m\u001b[0;34m,\u001b[0m\u001b[0mb\u001b[0m\u001b[0;34m,\u001b[0m\u001b[0mn\u001b[0m\u001b[0;34m,\u001b[0m\u001b[0;36m0\u001b[0m\u001b[0;34m)\u001b[0m\u001b[0;34m\u001b[0m\u001b[0;34m\u001b[0m\u001b[0m\n\u001b[1;32m     65\u001b[0m     \u001b[0mprint\u001b[0m\u001b[0;34m(\u001b[0m\u001b[0;34mf\"nombre d'elements: {n:>5}, mystere: {a_time/1000:>5}ms, supprimerOccurrences: {b_time/1000:>5}ms\"\u001b[0m\u001b[0;34m)\u001b[0m\u001b[0;34m\u001b[0m\u001b[0;34m\u001b[0m\u001b[0m\n",
      "\u001b[0;32m<ipython-input-26-870b9de346a9>\u001b[0m in \u001b[0;36mtempsExecution\u001b[0;34m(f, t, n, x)\u001b[0m\n\u001b[1;32m     26\u001b[0m \u001b[0;32mdef\u001b[0m \u001b[0mtempsExecution\u001b[0m \u001b[0;34m(\u001b[0m\u001b[0mf\u001b[0m\u001b[0;34m,\u001b[0m \u001b[0mt\u001b[0m\u001b[0;34m,\u001b[0m \u001b[0mn\u001b[0m\u001b[0;34m,\u001b[0m \u001b[0mx\u001b[0m\u001b[0;34m)\u001b[0m\u001b[0;34m:\u001b[0m \u001b[0;31m# Calcule, en millisecondes, le temps d'exécution de f(t, n, x)\u001b[0m\u001b[0;34m\u001b[0m\u001b[0;34m\u001b[0m\u001b[0m\n\u001b[1;32m     27\u001b[0m     \u001b[0mdebut\u001b[0m \u001b[0;34m=\u001b[0m  \u001b[0mtime\u001b[0m\u001b[0;34m.\u001b[0m\u001b[0mtime\u001b[0m\u001b[0;34m(\u001b[0m\u001b[0;34m)\u001b[0m\u001b[0;34m\u001b[0m\u001b[0;34m\u001b[0m\u001b[0m\n\u001b[0;32m---> 28\u001b[0;31m     \u001b[0mf\u001b[0m\u001b[0;34m(\u001b[0m\u001b[0mt\u001b[0m\u001b[0;34m,\u001b[0m \u001b[0mn\u001b[0m\u001b[0;34m,\u001b[0m \u001b[0mx\u001b[0m\u001b[0;34m)\u001b[0m\u001b[0;34m\u001b[0m\u001b[0;34m\u001b[0m\u001b[0m\n\u001b[0m\u001b[1;32m     29\u001b[0m     \u001b[0mfin\u001b[0m \u001b[0;34m=\u001b[0m \u001b[0mtime\u001b[0m\u001b[0;34m.\u001b[0m\u001b[0mtime\u001b[0m\u001b[0;34m(\u001b[0m\u001b[0;34m)\u001b[0m\u001b[0;34m\u001b[0m\u001b[0;34m\u001b[0m\u001b[0m\n\u001b[1;32m     30\u001b[0m     \u001b[0;32mreturn\u001b[0m \u001b[0mround\u001b[0m\u001b[0;34m(\u001b[0m\u001b[0;34m(\u001b[0m\u001b[0mfin\u001b[0m \u001b[0;34m-\u001b[0m \u001b[0mdebut\u001b[0m\u001b[0;34m)\u001b[0m\u001b[0;34m*\u001b[0m\u001b[0;36m1000\u001b[0m\u001b[0;34m)\u001b[0m\u001b[0;34m\u001b[0m\u001b[0;34m\u001b[0m\u001b[0m\n",
      "\u001b[0;32m<ipython-input-26-870b9de346a9>\u001b[0m in \u001b[0;36mmystere\u001b[0;34m(t, n, x)\u001b[0m\n\u001b[1;32m     34\u001b[0m     \u001b[0mcontinuer\u001b[0m \u001b[0;34m=\u001b[0m \u001b[0;32mTrue\u001b[0m\u001b[0;34m\u001b[0m\u001b[0;34m\u001b[0m\u001b[0m\n\u001b[1;32m     35\u001b[0m     \u001b[0;32mwhile\u001b[0m \u001b[0mn\u001b[0m\u001b[0;34m>\u001b[0m\u001b[0;36m0\u001b[0m \u001b[0;32mand\u001b[0m \u001b[0mcontinuer\u001b[0m\u001b[0;34m:\u001b[0m\u001b[0;34m\u001b[0m\u001b[0;34m\u001b[0m\u001b[0m\n\u001b[0;32m---> 36\u001b[0;31m         \u001b[0mnbelem\u001b[0m \u001b[0;34m=\u001b[0m \u001b[0msupprimerPremiereOccurrence\u001b[0m\u001b[0;34m(\u001b[0m\u001b[0mt\u001b[0m\u001b[0;34m,\u001b[0m\u001b[0mn\u001b[0m\u001b[0;34m,\u001b[0m\u001b[0mx\u001b[0m\u001b[0;34m)\u001b[0m\u001b[0;34m\u001b[0m\u001b[0;34m\u001b[0m\u001b[0m\n\u001b[0m\u001b[1;32m     37\u001b[0m         \u001b[0;32mif\u001b[0m \u001b[0mnbelem\u001b[0m \u001b[0;34m==\u001b[0m \u001b[0mn\u001b[0m \u001b[0;34m:\u001b[0m\u001b[0;34m\u001b[0m\u001b[0;34m\u001b[0m\u001b[0m\n\u001b[1;32m     38\u001b[0m             \u001b[0mcontinuer\u001b[0m \u001b[0;34m=\u001b[0m \u001b[0;32mFalse\u001b[0m\u001b[0;34m\u001b[0m\u001b[0;34m\u001b[0m\u001b[0m\n",
      "\u001b[0;32m<ipython-input-26-870b9de346a9>\u001b[0m in \u001b[0;36msupprimerPremiereOccurrence\u001b[0;34m(t, n, x)\u001b[0m\n\u001b[1;32m     44\u001b[0m     \u001b[0;32mfor\u001b[0m \u001b[0mi\u001b[0m \u001b[0;32min\u001b[0m \u001b[0mrange\u001b[0m\u001b[0;34m(\u001b[0m\u001b[0mn\u001b[0m\u001b[0;34m)\u001b[0m\u001b[0;34m:\u001b[0m\u001b[0;34m\u001b[0m\u001b[0;34m\u001b[0m\u001b[0m\n\u001b[1;32m     45\u001b[0m         \u001b[0;32mif\u001b[0m \u001b[0mt\u001b[0m\u001b[0;34m[\u001b[0m\u001b[0mi\u001b[0m\u001b[0;34m]\u001b[0m\u001b[0;34m==\u001b[0m\u001b[0mx\u001b[0m\u001b[0;34m:\u001b[0m\u001b[0;34m\u001b[0m\u001b[0;34m\u001b[0m\u001b[0m\n\u001b[0;32m---> 46\u001b[0;31m             \u001b[0;32mreturn\u001b[0m \u001b[0msupprimer\u001b[0m\u001b[0;34m(\u001b[0m\u001b[0mt\u001b[0m\u001b[0;34m,\u001b[0m\u001b[0mn\u001b[0m\u001b[0;34m,\u001b[0m\u001b[0mi\u001b[0m\u001b[0;34m)\u001b[0m\u001b[0;34m\u001b[0m\u001b[0;34m\u001b[0m\u001b[0m\n\u001b[0m\u001b[1;32m     47\u001b[0m     \u001b[0;32mreturn\u001b[0m \u001b[0mn\u001b[0m\u001b[0;34m\u001b[0m\u001b[0;34m\u001b[0m\u001b[0m\n\u001b[1;32m     48\u001b[0m \u001b[0;34m\u001b[0m\u001b[0m\n",
      "\u001b[0;32m<ipython-input-26-870b9de346a9>\u001b[0m in \u001b[0;36msupprimer\u001b[0;34m(t, n, k)\u001b[0m\n\u001b[1;32m     49\u001b[0m \u001b[0;32mdef\u001b[0m \u001b[0msupprimer\u001b[0m \u001b[0;34m(\u001b[0m\u001b[0mt\u001b[0m\u001b[0;34m,\u001b[0m \u001b[0mn\u001b[0m\u001b[0;34m,\u001b[0m \u001b[0mk\u001b[0m\u001b[0;34m)\u001b[0m\u001b[0;34m:\u001b[0m \u001b[0;31m# O(n - k)\u001b[0m\u001b[0;34m\u001b[0m\u001b[0;34m\u001b[0m\u001b[0m\n\u001b[1;32m     50\u001b[0m    \u001b[0;32mfor\u001b[0m \u001b[0mi\u001b[0m \u001b[0;32min\u001b[0m \u001b[0mrange\u001b[0m \u001b[0;34m(\u001b[0m\u001b[0mk\u001b[0m\u001b[0;34m,\u001b[0m \u001b[0mn\u001b[0m \u001b[0;34m-\u001b[0m \u001b[0;36m1\u001b[0m\u001b[0;34m)\u001b[0m\u001b[0;34m:\u001b[0m\u001b[0;34m\u001b[0m\u001b[0;34m\u001b[0m\u001b[0m\n\u001b[0;32m---> 51\u001b[0;31m        \u001b[0mt\u001b[0m\u001b[0;34m[\u001b[0m\u001b[0mi\u001b[0m\u001b[0;34m]\u001b[0m \u001b[0;34m=\u001b[0m \u001b[0mt\u001b[0m\u001b[0;34m[\u001b[0m\u001b[0mi\u001b[0m \u001b[0;34m+\u001b[0m \u001b[0;36m1\u001b[0m\u001b[0;34m]\u001b[0m\u001b[0;34m\u001b[0m\u001b[0;34m\u001b[0m\u001b[0m\n\u001b[0m\u001b[1;32m     52\u001b[0m    \u001b[0;32mreturn\u001b[0m \u001b[0mn\u001b[0m\u001b[0;34m-\u001b[0m\u001b[0;36m1\u001b[0m\u001b[0;34m\u001b[0m\u001b[0;34m\u001b[0m\u001b[0m\n\u001b[1;32m     53\u001b[0m \u001b[0;34m\u001b[0m\u001b[0m\n",
      "\u001b[0;31mKeyboardInterrupt\u001b[0m: "
     ]
    }
   ],
   "source": [
    "from bibTableau import *\n",
    "\n",
    "import time  \n",
    "\n",
    "##-----------------------------------------------------------\n",
    "## EXERCICE 2:\n",
    "\n",
    "\n",
    "#### Compléter ci-dessous supprimerOccurrences(t, n, elt)\n",
    "def supprimerOccurrences(t,n,x):\n",
    "    \"\"\"Exercice 2 (TP5-2.1)\"\"\"\n",
    "    i = 0\n",
    "    s = 0\n",
    "    while i<n:\n",
    "        if t[i]==x:\n",
    "            s += 1\n",
    "        else:\n",
    "            t[i-s] = t[i]\n",
    "        i += 1\n",
    "    return n-s\n",
    "\n",
    "    \n",
    "    \n",
    "    \n",
    "\n",
    "def tempsExecution (f, t, n, x): # Calcule, en millisecondes, le temps d'exécution de f(t, n, x)\n",
    "    debut =  time.time()\n",
    "    f(t, n, x)\n",
    "    fin = time.time()\n",
    "    return round((fin - debut)*1000)\n",
    "\n",
    "\n",
    "def mystere(t,n,x): \n",
    "    continuer = True\n",
    "    while n>0 and continuer:\n",
    "        nbelem = supprimerPremiereOccurrence(t,n,x)\n",
    "        if nbelem == n :\n",
    "            continuer = False\n",
    "        else:\n",
    "         n = nbelem\n",
    "    return n\n",
    "\n",
    "def supprimerPremiereOccurrence(t, n, x): # O(n)\n",
    "    for i in range(n):\n",
    "        if t[i]==x:\n",
    "            return supprimer(t,n,i)\n",
    "    return n\n",
    "\n",
    "def supprimer (t, n, k): # O(n - k)\n",
    "   for i in range (k, n - 1):\n",
    "       t[i] = t[i + 1]\n",
    "   return n-1\n",
    "\n",
    "#### Ecrire ci-dessous les instructions permettant d'appliquer\n",
    "#### les consignes du TP5-2.2\n",
    "from random import randint\n",
    "for n in (100,1000,10000):\n",
    "    a_time = 0\n",
    "    b_time = 0\n",
    "    for i in range(1000):\n",
    "        a = creerTableauAleatoire(n)\n",
    "        b = a.copy()\n",
    "        a_time += tempsExecution(mystere,a,n,0)\n",
    "        b_time += tempsExecution(supprimerOccurrences,b,n,0)\n",
    "    print(f\"nombre d'elements: {n:>5}, mystere: {a_time/1000:>5}ms, supprimerOccurrences: {b_time/1000:>5}ms\")\n",
    "\n",
    "\n",
    "\n",
    "\n",
    "#### Compléter ci-dessous la fonction tailleMini(ms)\n",
    "def tailleMini(ms):\n",
    "    \"\"\"Exercice 2 (TP5-2.3)\"\"\"\n",
    "    pass\n",
    "\n",
    "\n",
    "\n",
    "\n",
    "    \n",
    "    \n"
   ]
  },
  {
   "cell_type": "markdown",
   "id": "iraqi-carolina",
   "metadata": {},
   "source": [
    "# Exercice complémentaire 1"
   ]
  },
  {
   "cell_type": "code",
   "execution_count": 3,
   "id": "associate-minister",
   "metadata": {},
   "outputs": [],
   "source": [
    "from bibTableau import *\n",
    "\n",
    "##---------------------------------------------------------\n",
    "## EXERCICE COMPLEMENTAIRE 1:\n",
    "\n",
    "\n",
    "#### Compléter ci-dessous la fonction ligneTrianglePascal(n)\n",
    "def ligneTrianglePascal(n):\n",
    "    \"\"\"Exercice Complémentaire (TP5)\"\"\"\n",
    "\n",
    "    \n",
    "\n",
    "def afficheLigne(t):\n",
    "    for i in range (len(t)):\n",
    "        print('%5d' % (t[i]) , end='')\n",
    "    print()\n",
    "\n",
    "def testPascal (n=10):\n",
    "    print(\" triangle de Pascal pour n =\", n)\n",
    "    for n in range(n + 1):\n",
    "        afficheLigne(ligneTrianglePascal(n))\n",
    "\n",
    "#testPascal()  ### décommenter pour appeler la fonction\n",
    "\n"
   ]
  },
  {
   "cell_type": "code",
   "execution_count": null,
   "id": "unlike-miniature",
   "metadata": {},
   "outputs": [],
   "source": []
  }
 ],
 "metadata": {
  "kernelspec": {
   "display_name": "Python 3",
   "language": "python",
   "name": "python3"
  },
  "language_info": {
   "codemirror_mode": {
    "name": "ipython",
    "version": 3
   },
   "file_extension": ".py",
   "mimetype": "text/x-python",
   "name": "python",
   "nbconvert_exporter": "python",
   "pygments_lexer": "ipython3",
   "version": "3.8.5"
  }
 },
 "nbformat": 4,
 "nbformat_minor": 5
}
